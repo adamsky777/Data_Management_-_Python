{
 "cells": [
  {
   "cell_type": "markdown",
   "metadata": {},
   "source": [
    "# Problem set 1"
   ]
  },
  {
   "cell_type": "markdown",
   "metadata": {},
   "source": [
    "## Variables, strings and numbers"
   ]
  },
  {
   "cell_type": "markdown",
   "metadata": {},
   "source": [
    "### Exercise 1\n",
    "\n",
    "Write a program that asks the user to enter\n",
    "* the number of hours an employee has worked the last week,\n",
    "* the hour salary,\n",
    "\n",
    "and then computes and prints their week gross salary.\n",
    "\n",
    "Sample input and output\n",
    "\n",
    "    Enter hours: 35\n",
    "    Enter hour salary: 2.75\n",
    "    Week salary: 96.25\n"
   ]
  },
  {
   "cell_type": "code",
   "execution_count": 16,
   "metadata": {
    "ExecuteTime": {
     "end_time": "2021-09-04T15:18:08.589076Z",
     "start_time": "2021-09-04T15:18:05.988869Z"
    }
   },
   "outputs": [
    {
     "name": "stdout",
     "output_type": "stream",
     "text": [
      "Enter hours worked \n",
      "Eneter price / h \n",
      "Weekly compensation:  96.25\n"
     ]
    }
   ],
   "source": [
    "labor_h = int(input(print(\"Enter hours worked \")))\n",
    "labor_cost = float(input(print(\"Eneter price / h \")))\n",
    "\n",
    "compensation = labor_cost * labor_h\n",
    "print(\"Weekly compensation: \", compensation)"
   ]
  },
  {
   "cell_type": "markdown",
   "metadata": {},
   "source": [
    "### Exercise 2\n",
    "\n",
    "Assume that we have executed the following lines\n",
    "\n",
    "    width = 17\n",
    "    height = 12.0\n",
    "    \n",
    "What are the types of the variables `width` and `height`?\n",
    "\n",
    "For each of the following expressions, find the value of the expression and its type:\n",
    "\n",
    "1. `width // 2`\n",
    "2. `width / 2.0`\n",
    "3. `height / 3`\n",
    "4. `width * height`"
   ]
  },
  {
   "cell_type": "code",
   "execution_count": 17,
   "metadata": {
    "ExecuteTime": {
     "end_time": "2021-09-04T14:16:41.003016Z",
     "start_time": "2021-09-04T14:16:40.995322Z"
    }
   },
   "outputs": [
    {
     "name": "stdout",
     "output_type": "stream",
     "text": [
      "1 <class 'int'>\n",
      "2 <class 'float'>\n",
      "3 <class 'float'>\n",
      "4 <class 'float'>\n"
     ]
    }
   ],
   "source": [
    "\n",
    "width = int(17)\n",
    "height = float(12.0)\n",
    "\n",
    "print(\"1\", (type(width //2)))\n",
    "print(\"2\", (type(width /2.0)))\n",
    "print(\"3\", (type(height /3)))\n",
    "print(\"4\", (type(height *width)))\n",
    "\n",
    "\n",
    "\n",
    "\n",
    "\n",
    "\n",
    "\n"
   ]
  },
  {
   "cell_type": "markdown",
   "metadata": {},
   "source": [
    "### Exercise 3\n",
    "\n",
    "Look at the following assignments and determine if the variable names are valid or not. \n",
    "\n",
    "1. `6pack = \"6\"`\n",
    "2. `can volume = 50`\n",
    "3. `answer = 42`\n",
    "4. `class = \"GRA4142\"`\n",
    "5. `_ = False`\n",
    "6. `ltr/fl.oz = 2.5`"
   ]
  },
  {
   "cell_type": "code",
   "execution_count": 20,
   "metadata": {},
   "outputs": [
    {
     "name": "stdout",
     "output_type": "stream",
     "text": [
      "43\n",
      "False\n"
     ]
    }
   ],
   "source": [
    "#1 variable can't start with a number 6pack is invalid.\n",
    "#2 Python is snake typed language meaning can_volume should be correctwith the underscore but not with space.\n",
    "answer = 43\n",
    "print(answer) # 3 valid\n",
    "# 4 class is reseverd in python can't declear a variable named as \"class\"\n",
    "\n",
    "_ = False # correct\n",
    "print(_)\n",
    "# 6 ltr/fl.oz = 2.5 can't decalre a variable containing \"/\" or \".\"\n",
    "\n",
    "\n",
    "\n"
   ]
  },
  {
   "cell_type": "markdown",
   "metadata": {},
   "source": [
    "### Exercise 4\n",
    "\n",
    "Write expressions to calculate \n",
    "1. the total volume of a 6-pack of cans,\n",
    "2. the total volume of a 6-pack of cans and one 2 liter bottle.\n",
    "\n",
    "1 can = 0.33 liter."
   ]
  },
  {
   "cell_type": "code",
   "execution_count": 21,
   "metadata": {
    "ExecuteTime": {
     "end_time": "2021-09-04T14:27:17.513460Z",
     "start_time": "2021-09-04T14:27:17.508485Z"
    }
   },
   "outputs": [
    {
     "name": "stdout",
     "output_type": "stream",
     "text": [
      "1 1.98\n",
      "2 3.98\n"
     ]
    }
   ],
   "source": [
    "can = float(0.33)\n",
    "six_pack = 6*can\n",
    "print(\"1\", six_pack)\n",
    "print(\"2\", (six_pack+2))"
   ]
  },
  {
   "cell_type": "markdown",
   "metadata": {},
   "source": [
    "### Exercise 5\n",
    "\n",
    "Calculate the values of the following expressions:\n",
    "\n",
    "1. $\\frac{2.4+5.6}{2}$\n",
    "2. $\\frac{2.4\\times5.6}{2}$\n",
    "3. $2\\times\\left(1+\\frac{5}{100}\\right)^{3}$\n",
    "4. $\\sqrt{(2^{2}+3^{2})}$ "
   ]
  },
  {
   "cell_type": "code",
   "execution_count": 35,
   "metadata": {
    "ExecuteTime": {
     "end_time": "2021-09-04T14:29:47.821011Z",
     "start_time": "2021-09-04T14:29:47.814244Z"
    }
   },
   "outputs": [
    {
     "name": "stdout",
     "output_type": "stream",
     "text": [
      "5.2\n",
      "5.2\n",
      "2.3152500000000003\n",
      "5.0\n"
     ]
    }
   ],
   "source": [
    "print(round(float((2.4+5.6/2)),2))\n",
    "print(round(float((2.4+5.6/2)),2))\n",
    "print(2*(1+(5/100))**3)\n",
    "import math\n",
    "a = math.sqrt(3**2) \n",
    "\n",
    "b = math.sqrt(2**2) \n",
    "print(a+b)\n",
    "\n",
    "\n"
   ]
  },
  {
   "cell_type": "markdown",
   "metadata": {},
   "source": [
    "### Exercise 6\n",
    "The volume of a sphere is given by:\n",
    "\n",
    "$V=\\frac{4}{3}\\pi r^{3}$ \n",
    "\n",
    "Assume that the radius is given in the variable `r` (use e.g. `r = 2.0`). Write an expression to calculate the volume."
   ]
  },
  {
   "cell_type": "code",
   "execution_count": 37,
   "metadata": {
    "ExecuteTime": {
     "end_time": "2021-09-04T14:31:50.379851Z",
     "start_time": "2021-09-04T14:31:50.361393Z"
    }
   },
   "outputs": [
    {
     "name": "stdout",
     "output_type": "stream",
     "text": [
      "18.84955592153876\n"
     ]
    }
   ],
   "source": [
    "v = (3/4)*(math.pi*2**3)\n",
    "print(v)"
   ]
  },
  {
   "cell_type": "markdown",
   "metadata": {},
   "source": [
    "### Exercise 7\n",
    "\n",
    "What do the `//` and `%` operators do? Include an example in your answer."
   ]
  },
  {
   "cell_type": "code",
   "execution_count": 3,
   "metadata": {
    "ExecuteTime": {
     "end_time": "2021-09-04T14:34:27.436350Z",
     "start_time": "2021-09-04T14:34:27.431602Z"
    }
   },
   "outputs": [
    {
     "name": "stdout",
     "output_type": "stream",
     "text": [
      "2\n",
      "5\n",
      "1\n"
     ]
    }
   ],
   "source": [
    "print(5//2)\n",
    "# returns the whole number of the divison.\n",
    "\n",
    "#retunrs the remainder of the divison\n",
    "print(6%5) # leftover after division\n",
    "print(17%12) #leftover after division is 5\n",
    "\n"
   ]
  },
  {
   "cell_type": "markdown",
   "metadata": {},
   "source": [
    "### Exercise 8\n",
    "\n",
    "- Store your first and last name in separate variables.\n",
    "- Print out your first name in lower case and upper case.\n",
    "- Using both variables, create a new variable with your full name in form *last_name, first_name*.\n",
    "- Print out the length of your full name.\n",
    "- Write an expression that uses the variable with your full name to get your last name (i.e. the part of the name before a comma)."
   ]
  },
  {
   "cell_type": "code",
   "execution_count": 4,
   "metadata": {
    "ExecuteTime": {
     "end_time": "2021-09-04T14:43:27.059698Z",
     "start_time": "2021-09-04T14:43:27.053582Z"
    }
   },
   "outputs": [
    {
     "name": "stdout",
     "output_type": "stream",
     "text": [
      "adam Adam\n",
      "Adam Torkos\n"
     ]
    }
   ],
   "source": [
    "f_name = str(\"Adam\")\n",
    "l_name = str(\"Torkos\")\n",
    "\n",
    "print(f_name.lower(), f_name.capitalize())\n",
    "last_name = l_name\n",
    "first_name = f_name\n",
    "print(first_name + \" \" + last_name)\n",
    "# What's this =??? -\n",
    "#  Write an expression that uses the variable with your full name to get your last name (i.e. the part of the name before a comma).\n",
    "\n"
   ]
  },
  {
   "cell_type": "code",
   "execution_count": null,
   "metadata": {},
   "outputs": [],
   "source": []
  },
  {
   "cell_type": "markdown",
   "metadata": {},
   "source": [
    "### Exercise 9\n",
    "\n",
    "What does the following program print?\n",
    "\n",
    "    string = \"Harry\"\n",
    "    n = len(string)\n",
    "    mystery = string[0] + string[n-1] \n",
    "    print(mystery)\n",
    "\n",
    "Try to answer the question before running the program.\n",
    "\n",
    "How can we change `string[0] + string[n-1]` so that it does not need to use `n`?"
   ]
  },
  {
   "cell_type": "code",
   "execution_count": 7,
   "metadata": {
    "ExecuteTime": {
     "end_time": "2021-09-04T14:48:12.836617Z",
     "start_time": "2021-09-04T14:48:12.830970Z"
    }
   },
   "outputs": [
    {
     "name": "stdout",
     "output_type": "stream",
     "text": [
      "Hy\n"
     ]
    }
   ],
   "source": [
    "string = \"Harry\"\n",
    "n = len(string)\n",
    "mystery = string[0] + string[4] \n",
    "print(mystery)"
   ]
  },
  {
   "cell_type": "markdown",
   "metadata": {},
   "source": [
    "### Exercise 10\n",
    "\n",
    "Write a program that asks the user about their first name and the first name of the spouse, and then prints their initials with ` & ` between them.\n",
    "\n",
    "Sample input and output:\n",
    "\n",
    "    What's your first name: Home\n",
    "    What's the first name of your spouse: Marge\n",
    "    H & M"
   ]
  },
  {
   "cell_type": "code",
   "execution_count": 8,
   "metadata": {
    "ExecuteTime": {
     "end_time": "2021-09-04T14:52:10.981118Z",
     "start_time": "2021-09-04T14:52:07.669625Z"
    }
   },
   "outputs": [
    {
     "name": "stdout",
     "output_type": "stream",
     "text": [
      "What's your first name?\n",
      "What's the first name of your spouse\n",
      "A  &  E\n"
     ]
    }
   ],
   "source": [
    "f_name= input(print(\"What's your first name?\")\n",
    ")\n",
    "s_name = input(print(\"What's the first name of your spouse\")\n",
    ")\n",
    "\n",
    "print(f_name[0],\" & \", s_name[0])\n",
    "\n",
    "\n"
   ]
  },
  {
   "cell_type": "markdown",
   "metadata": {},
   "source": [
    "### Exercise 11\n",
    "\n",
    "Consider the following string\n",
    "    \n",
    "    s = 'ABCDEFGHIJ'\n",
    "\n",
    "Print out the following parts of the string:\n",
    "\n",
    "1. The whole string.\n",
    "2. The first character.\n",
    "3. A substring, starting at index 2 (i.e. starting with 'C') until the end of the string.\n",
    "4. The first four characters.\n",
    "5. The last character.\n",
    "6. The whole string but the last character.\n",
    "7. A substring obtained by taking characters at indexes 0, 2, 4, 6, 8\n",
    "8. The whole string backwards."
   ]
  },
  {
   "cell_type": "code",
   "execution_count": null,
   "metadata": {
    "ExecuteTime": {
     "end_time": "2021-09-04T15:09:41.437415Z",
     "start_time": "2021-09-04T15:09:41.429873Z"
    }
   },
   "outputs": [],
   "source": []
  },
  {
   "cell_type": "code",
   "execution_count": 57,
   "metadata": {},
   "outputs": [
    {
     "name": "stdout",
     "output_type": "stream",
     "text": [
      "1 the whole string is:  ABCDEFGHIJ\n",
      "the first char:  A\n",
      "3\n",
      "4, the frist four char:  ABCD\n",
      "5, tha last char:  J\n",
      "6 the whole sting but not the last char:  ABCDEFGHI \n",
      "7, New substring ACEGI\n",
      "Backwards:  JIHGFEDCBA\n"
     ]
    }
   ],
   "source": [
    "from email.errors import NoBoundaryInMultipartDefect\n",
    "from math import radians\n",
    "\n",
    "\n",
    "s = \"ABCDEFGHIJ\"\n",
    "print(\"1 the whole string is: \" ,s)\n",
    "print(\"the first char: \", s[0])\n",
    "print(\"3\")\n",
    "print(\"4, the frist four char: \",s[:4])\n",
    "print(\"5, tha last char: \", s[-1:])\n",
    "last_char = s[-1:]\n",
    "s_new = s.replace(last_char,\" \")\n",
    "print(\"6 the whole sting but not the last char: \", s_new)\n",
    "list_1 = [0,2,4,6,8]\n",
    "new_s =str(\"\")\n",
    "for i in list_1:\n",
    "    new_s += (s[i]\n",
    "    )\n",
    "print(\"7, New substring\", new_s\n",
    ")\n",
    "print(\"Backwards: \", s[::-1])"
   ]
  },
  {
   "cell_type": "markdown",
   "metadata": {},
   "source": [
    "## Conditional Execution"
   ]
  },
  {
   "cell_type": "markdown",
   "metadata": {},
   "source": [
    "### Exercise 12\n",
    "\n",
    "Let \n",
    "\n",
    "    x = 1\n",
    "    y = -1\n",
    "    \n",
    "Check if $x y<0$ and $x+y=0$ at the same time."
   ]
  },
  {
   "cell_type": "code",
   "execution_count": 67,
   "metadata": {
    "ExecuteTime": {
     "end_time": "2021-09-04T15:11:55.574565Z",
     "start_time": "2021-09-04T15:11:55.565869Z"
    }
   },
   "outputs": [
    {
     "data": {
      "text/plain": [
       "True"
      ]
     },
     "execution_count": 67,
     "metadata": {},
     "output_type": "execute_result"
    }
   ],
   "source": [
    "x = 1\n",
    "y = -1\n",
    "\n",
    "x * y < 0 and x + y == 0\n"
   ]
  },
  {
   "cell_type": "markdown",
   "metadata": {},
   "source": [
    "### Exercise 13\n",
    "\n",
    "Extend your solution for Exercise 1 so that employees get also 50% supplementary pay for all time exceeding 40 hours.\n",
    "\n",
    "Sample input and output:\n",
    "\n",
    "    Enter hours: 45\n",
    "    Enter hour salary: 10\n",
    "    Week salary: 475.0"
   ]
  },
  {
   "cell_type": "code",
   "execution_count": 68,
   "metadata": {
    "ExecuteTime": {
     "end_time": "2021-09-04T15:37:28.369069Z",
     "start_time": "2021-09-04T15:37:25.289548Z"
    }
   },
   "outputs": [
    {
     "name": "stdout",
     "output_type": "stream",
     "text": [
      "Enter hours worked \n",
      "Eneter price / h \n",
      "Weekly compensation:  52.5\n"
     ]
    }
   ],
   "source": [
    "labor_h = int(input(print(\"Enter hours worked \")))\n",
    "\n",
    "labor_cost = float(input(print(\"Eneter price / h \")))\n",
    "\n",
    "\n",
    "if labor_h >40:\n",
    "    bonus = (labor_h - 40)*labor_cost*1.5\n",
    "\n",
    "compensation = (labor_cost * labor_h) + bonus\n",
    "print(\"Weekly compensation: \", compensation)"
   ]
  },
  {
   "cell_type": "markdown",
   "metadata": {},
   "source": [
    "### Exercise 14\n",
    "\n",
    "Write a program to determine the exam grade based on the number of points (integer). The number of points is between 0 and 100. Assume that the user enters an integer number. Print an error message if the score entered is below 0 or above 100, otherwise print the grade based on the following criteria:\n",
    "\n",
    "    Score  Grade\n",
    "    >= 90     A\n",
    "    >= 80     B\n",
    "    >= 70     C\n",
    "    >= 60     D\n",
    "    >= 50     E\n",
    "    <  50     F\n",
    "    \n",
    "Sample input and output:\n",
    "\n",
    "    Enter score: 95\n",
    "    A\n",
    "    \n",
    "    Enter score: 101\n",
    "    Incorrect input!\n",
    "    \n",
    "    Enter score: 75\n",
    "    C\n",
    "    \n",
    "    Enter score: 49\n",
    "    F"
   ]
  },
  {
   "cell_type": "code",
   "execution_count": null,
   "metadata": {
    "ExecuteTime": {
     "end_time": "2021-09-04T15:36:14.195189Z",
     "start_time": "2021-09-04T15:36:13.169991Z"
    }
   },
   "outputs": [],
   "source": [
    "score = input(print(\"Enter Scote: \"))\n",
    "grades = [\"A\", \"B\", \"C\", \"D\", \"E\", \"F\"]\n",
    "scores_list = [90, 80, 70, 60, 50, 49]\n",
    "\n",
    "if score \n",
    "\n"
   ]
  }
 ],
 "metadata": {
  "kernelspec": {
   "display_name": "Python 3.9.12 ('BI_Python_Environment')",
   "language": "python",
   "name": "python3"
  },
  "language_info": {
   "codemirror_mode": {
    "name": "ipython",
    "version": 3
   },
   "file_extension": ".py",
   "mimetype": "text/x-python",
   "name": "python",
   "nbconvert_exporter": "python",
   "pygments_lexer": "ipython3",
   "version": "3.9.12"
  },
  "varInspector": {
   "cols": {
    "lenName": 16,
    "lenType": 16,
    "lenVar": 40
   },
   "kernels_config": {
    "python": {
     "delete_cmd_postfix": "",
     "delete_cmd_prefix": "del ",
     "library": "var_list.py",
     "varRefreshCmd": "print(var_dic_list())"
    },
    "r": {
     "delete_cmd_postfix": ") ",
     "delete_cmd_prefix": "rm(",
     "library": "var_list.r",
     "varRefreshCmd": "cat(var_dic_list()) "
    }
   },
   "types_to_exclude": [
    "module",
    "function",
    "builtin_function_or_method",
    "instance",
    "_Feature"
   ],
   "window_display": false
  },
  "vscode": {
   "interpreter": {
    "hash": "f8f6638de8c18f6c167c9a4d374d1ce1dcfbfb6438df91ff75501a6780727fd7"
   }
  }
 },
 "nbformat": 4,
 "nbformat_minor": 4
}
