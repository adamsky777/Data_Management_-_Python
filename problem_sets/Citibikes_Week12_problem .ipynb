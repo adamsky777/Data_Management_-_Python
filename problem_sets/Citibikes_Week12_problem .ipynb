{
 "cells": [
  {
   "cell_type": "markdown",
   "id": "31668e35",
   "metadata": {},
   "source": [
    "## Exercises, week 12"
   ]
  },
  {
   "cell_type": "code",
   "execution_count": 2,
   "id": "347f26d1",
   "metadata": {},
   "outputs": [],
   "source": [
    "import numpy as np\n",
    "import pandas as pd\n",
    "import matplotlib.pyplot as plt\n",
    "import seaborn as sns\n",
    "pd.set_option(\"display.max_columns\", None)  # Show all columns in data frames\n",
    "plt.rcParams[\"figure.figsize\"] = (15, 5)    # Width and height for figures\n",
    "sns.set_theme(style=\"darkgrid\")"
   ]
  },
  {
   "cell_type": "markdown",
   "id": "5403c0e8",
   "metadata": {},
   "source": [
    "Citi Bike is a bicycle sharing service operating in New York and New Jersey. In the CSV file `jc-202205-citibike.csv` you will find the following data about **all Citi Bike rides taken in May 2022 in Jersey City**:\n",
    "\n",
    "- Ride ID\n",
    "- Rideable type\n",
    "- Started at\n",
    "- Ended at\n",
    "- Duration (in seconds)\n",
    "- Start station name\n",
    "- Start station ID\n",
    "- End station name\n",
    "- End station ID\n",
    "- Member or casual ride\n",
    "\n",
    "**Each task must be solved programmatically, i.e. you need to write Python code that uses the data file and outputs an answer. Your code must work even if the order of the rows and columns in the CSV file changes. You are not allowed to modify the content of the CSV file.**\n",
    "\n",
    "Tip: First inspect the content of the file. Then read all assignments in this section, and think about what operations you should do with the data before solving the assignments (e.g. what to use as the index, you might want to add some columns to the data frame and/or sort the rows in a particular order, etc.)\n",
    "\n",
    "<small>Source of data: Lyft, Inc.</small>"
   ]
  },
  {
   "cell_type": "markdown",
   "id": "c3c1a8e6",
   "metadata": {},
   "source": [
    "You might read and pre-process the data in the following cells. Feel free to add extra cells if you need them."
   ]
  },
  {
   "cell_type": "code",
   "execution_count": 4,
   "id": "533c8b0a",
   "metadata": {},
   "outputs": [],
   "source": [
    "citibikes_df = pd.read_csv(\"jc-202205-citibike.csv\")"
   ]
  },
  {
   "cell_type": "markdown",
   "id": "d899e09b",
   "metadata": {},
   "source": [
    "### Assignment 1\n",
    "\n",
    "1. How many rows are in the data set?\n",
    "2. How many rows have missing `end_station_id`?"
   ]
  },
  {
   "cell_type": "code",
   "execution_count": 5,
   "id": "6a1b9d66",
   "metadata": {},
   "outputs": [
    {
     "name": "stdout",
     "output_type": "stream",
     "text": [
      "Amount of rows in the dataset:  80481\n",
      "Amount of rows missing in end_station_id column:  186\n"
     ]
    }
   ],
   "source": [
    "print(\"Amount of rows in the dataset: \", citibikes_df.shape[0])\n",
    "\n",
    "\n",
    "print(\"Amount of rows missing in end_station_id column: \", citibikes_df[\"end_station_id\"].isnull().sum())"
   ]
  },
  {
   "cell_type": "markdown",
   "id": "364a907a",
   "metadata": {},
   "source": [
    "### Assignment 2\n",
    "\n",
    "Where (the station name) and when did the ride C6543127E23083E9 start?"
   ]
  },
  {
   "cell_type": "code",
   "execution_count": 17,
   "id": "997a547c",
   "metadata": {},
   "outputs": [
    {
     "data": {
      "text/plain": "start_station_name           Newport Pkwy\nstarted_at            2022-05-21 22:26:24\nName: C6543127E23083E9, dtype: object"
     },
     "execution_count": 17,
     "metadata": {},
     "output_type": "execute_result"
    }
   ],
   "source": [
    "\n",
    "citibikes_df = pd.read_csv(\"jc-202205-citibike.csv\", index_col=\"ride_id\")\n",
    "#citibikes_df.loc['C6543127E23083E9']\n",
    "citibikes_df.loc['C6543127E23083E9'][['start_station_name', 'started_at']]\n",
    "\n"
   ]
  },
  {
   "cell_type": "markdown",
   "id": "ea3b3952",
   "metadata": {},
   "source": [
    "### Assignment 3\n",
    "\n",
    "What were the 5 most popular start stations (names) and how many rides started at each of them during May 2022? Sort the list in the descending order (i.e. starting with the most popular station)."
   ]
  },
  {
   "cell_type": "code",
   "execution_count": 50,
   "id": "69713da8",
   "metadata": {},
   "outputs": [
    {
     "data": {
      "text/plain": "South Waterfront Walkway - Sinatra Dr & 1 St    4241\nHoboken Terminal - Hudson St & Hudson Pl        3785\nGrove St PATH                                   3610\nSip Ave                                         2141\nCity Hall - Washington St & 1 St                2141\nName: start_station_name, dtype: int64"
     },
     "execution_count": 50,
     "metadata": {},
     "output_type": "execute_result"
    }
   ],
   "source": [
    "\n",
    "citibikes_df['Year_Month'] = pd.to_datetime(citibikes_df['started_at'], format='%Y-%m-%d %H:%M:%S')\n",
    "\n",
    "citibikes_df['Year_Month'] = citibikes_df['Year_Month'].dt.strftime('%Y-%m')\n",
    "\n",
    "citibikes_df_22_05 = citibikes_df[citibikes_df['Year_Month']=='2022-05']\n",
    "citibikes_df_22_05['start_station_name'].value_counts(sort=True)[0:5]\n",
    "\n",
    "\n",
    "#['year'] = citibikes_df['started_at'].dt.year"
   ]
  },
  {
   "cell_type": "markdown",
   "source": [
    "### Assignment 4\n",
    "\n",
    "Group the rows by the start date and show the number of rides and the median duration for each day in a table. The table must be sorted by date, starting with 1 May end ending with 31 May. You can use any format for the dates in the table (e.g. 2022-05-01, \"May 1\", \"01.05.2022\"), but you can also show only the day (e.g. 1).\n",
    "\n",
    "Visualize the number of rides in a count plot, using one color for weekdays (i.e. Mondays to Fridays) and another for weekends (i.e. Saturdays and Sundays)."
   ],
   "metadata": {
    "collapsed": false
   }
  },
  {
   "cell_type": "code",
   "execution_count": 43,
   "outputs": [
    {
     "name": "stdout",
     "output_type": "stream",
     "text": [
      "      ride_median_duration  ride_count\n",
      "Date                                  \n",
      "01                   637.0        3163\n",
      "02                   386.0        1557\n",
      "03                   390.0        2429\n",
      "04                   401.0        2161\n",
      "05                   455.0        3108\n",
      "06                   362.0         886\n",
      "07                   394.0         577\n",
      "08                   489.0        1535\n",
      "09                   427.0        2361\n",
      "10                   417.0        2624\n",
      "11                   405.0        2698\n",
      "12                   435.0        2828\n",
      "13                   419.0        2530\n",
      "14                   483.0        2214\n",
      "15                   632.0        3361\n",
      "16                   396.0        2207\n",
      "17                   447.0        3126\n",
      "18                   435.0        3190\n",
      "19                   430.0        2407\n",
      "20                   413.0        2134\n",
      "21                   599.0        3816\n",
      "22                   645.0        3735\n",
      "23                   479.0        2942\n",
      "24                   415.0        2837\n",
      "25                   430.0        2995\n",
      "26                   431.0        3029\n",
      "27                   443.0        2251\n",
      "28                   566.0        2398\n",
      "29                   656.0        3199\n",
      "30                   698.0        3348\n",
      "31                   471.0        2835\n"
     ]
    },
    {
     "data": {
      "text/plain": "<Figure size 432x288 with 1 Axes>",
      "image/png": "[encoded data removed]"
     },
     "metadata": {
      "needs_background": "light"
     },
     "output_type": "display_data"
    }
   ],
   "source": [
    "citibikes_df= pd.read_csv('jc-202205-citibike.csv')\n",
    "citibikes_df['Date'] = pd.to_datetime(citibikes_df['started_at'], format='%Y-%m-%d %H:%M:%S')\n",
    "citibikes_df['Date'] = citibikes_df['Date'].dt.strftime('%d')\n",
    "\n",
    "statics = citibikes_df.groupby('Date').agg(\n",
    "    ride_median_duration=('duration', 'median'),\n",
    "    ride_count=('ride_id', 'count'))\n",
    "\n",
    "print(statics)\n",
    "del statics['ride_median_duration']\n",
    "\n",
    "date_list =citibikes_df[\"Date\"].unique().tolist()\n",
    "date_list_int =[]\n",
    "for i in sorted(date_list):\n",
    "    date_list_int.append(int(i))\n",
    "\n",
    "\n",
    "palette=['blue' if val in range(2,7) or val in range(9,14) or val in range(16,21) or val in range(23,28) or val in range(30,32) else 'green' for val in date_list_int]\n",
    "\n",
    "plt.bar(x=date_list_int, height=statics['ride_count'], color=palette)\n",
    "plt.show()\n"
   ],
   "metadata": {
    "collapsed": false
   }
  },
  {
   "cell_type": "code",
   "execution_count": null,
   "outputs": [],
   "source": [],
   "metadata": {
    "collapsed": false
   }
  },
  {
   "cell_type": "markdown",
   "source": [
    "### Assignment 5\n",
    "\n",
    "Considering only the rides from the station with id JC063, output a table showing the median ride duration for classic bikes, docked bikes and electric bikes (i.e. for each of the possible rideable types). Sort the table by this statistic in the descending order."
   ],
   "metadata": {
    "collapsed": false
   }
  },
  {
   "cell_type": "code",
   "execution_count": 57,
   "id": "e5cbe5a1",
   "metadata": {},
   "outputs": [
    {
     "data": {
      "text/plain": "               median_ride_duration\nrideable_type                      \ndocked_bike                  2292.5\nclassic_bike                 1014.0\nelectric_bike                 960.0",
      "text/html": "<div>\n<style scoped>\n    .dataframe tbody tr th:only-of-type {\n        vertical-align: middle;\n    }\n\n    .dataframe tbody tr th {\n        vertical-align: top;\n    }\n\n    .dataframe thead th {\n        text-align: right;\n    }\n</style>\n<table border=\"1\" class=\"dataframe\">\n  <thead>\n    <tr style=\"text-align: right;\">\n      <th></th>\n      <th>median_ride_duration</th>\n    </tr>\n    <tr>\n      <th>rideable_type</th>\n      <th></th>\n    </tr>\n  </thead>\n  <tbody>\n    <tr>\n      <th>docked_bike</th>\n      <td>2292.5</td>\n    </tr>\n    <tr>\n      <th>classic_bike</th>\n      <td>1014.0</td>\n    </tr>\n    <tr>\n      <th>electric_bike</th>\n      <td>960.0</td>\n    </tr>\n  </tbody>\n</table>\n</div>"
     },
     "execution_count": 57,
     "metadata": {},
     "output_type": "execute_result"
    }
   ],
   "source": [
    "citibikes_df= pd.read_csv('jc-202205-citibike.csv')\n",
    "citibikes_df_sub = citibikes_df[citibikes_df['start_station_id'] == 'JC063']\n",
    "\n",
    "\n",
    "(citibikes_df_sub.groupby('rideable_type').agg(median_ride_duration=('duration','median'))).sort_values(by=\"median_ride_duration\", ascending=False)\n"
   ]
  },
  {
   "cell_type": "markdown",
   "id": "cf06554e",
   "metadata": {},
   "source": [
    "### Assignment 6\n",
    "\n",
    "How many rides started and ended at the same station?"
   ]
  },
  {
   "cell_type": "code",
   "execution_count": 86,
   "id": "ca89e6e3",
   "metadata": {},
   "outputs": [
    {
     "data": {
      "text/plain": "7855"
     },
     "execution_count": 86,
     "metadata": {},
     "output_type": "execute_result"
    }
   ],
   "source": [
    "same_loc = citibikes_df['start_station_id'] == citibikes_df['end_station_id']\n",
    "sum(same_loc == True)"
   ]
  },
  {
   "cell_type": "markdown",
   "id": "5da2879a",
   "metadata": {},
   "source": [
    "### Assignment 7\n",
    "\n",
    "How long was the longest ride? Where (the station name) and when did it start and where (the station name) and when did it end?"
   ]
  },
  {
   "cell_type": "code",
   "execution_count": 94,
   "id": "dac722bf",
   "metadata": {},
   "outputs": [
    {
     "name": "stdout",
     "output_type": "stream",
     "text": [
      "The longest ride lasted:  85640\n"
     ]
    },
    {
     "data": {
      "text/plain": "start_station_name         Pershing Field\nstarted_at            2022-05-30 23:09:58\nend_station_name          E 47 St & 2 Ave\nended_at              2022-05-31 22:57:18\nName: 85640, dtype: object"
     },
     "execution_count": 94,
     "metadata": {},
     "output_type": "execute_result"
    }
   ],
   "source": [
    "citibikes_df= pd.read_csv('jc-202205-citibike.csv')\n",
    "longest_ride = citibikes_df['duration'].max() # finding out the longest_ride\n",
    "citibikes_df= pd.read_csv('jc-202205-citibike.csv', index_col='duration') # indexing by duration\n",
    "\n",
    "print(\"The longest ride lasted: \", longest_ride)\n",
    "citibikes_df.loc[longest_ride][['start_station_name', 'started_at','end_station_name', 'ended_at']]"
   ]
  },
  {
   "cell_type": "markdown",
   "id": "59a23f32",
   "metadata": {},
   "source": [
    "### Assignment 8\n",
    "\n",
    "Plot two histograms showing the distribution of the ride duration, one for members and one for casual riders. (You can either use two separate plots or combine both histograms in a single plot.)\n",
    "\n",
    "Use `plt.xlim` to set the limits of the x-axis to 0 and 3600."
   ]
  },
  {
   "cell_type": "code",
   "execution_count": 110,
   "outputs": [
    {
     "ename": "ValueError",
     "evalue": "x and y must have same first dimension, but have shapes (28548,) and (1,)",
     "output_type": "error",
     "traceback": [
      "\u001B[0;31m---------------------------------------------------------------------------\u001B[0m",
      "\u001B[0;31mValueError\u001B[0m                                Traceback (most recent call last)",
      "Cell \u001B[0;32mIn [110], line 12\u001B[0m\n\u001B[1;32m      9\u001B[0m chart1 \u001B[38;5;241m=\u001B[39m fig_1\u001B[38;5;241m.\u001B[39madd_subplot(\u001B[38;5;241m121\u001B[39m)\n\u001B[1;32m     10\u001B[0m chart2 \u001B[38;5;241m=\u001B[39m fig_1\u001B[38;5;241m.\u001B[39madd_subplot(\u001B[38;5;241m122\u001B[39m)\n\u001B[0;32m---> 12\u001B[0m \u001B[43mchart1\u001B[49m\u001B[38;5;241;43m.\u001B[39;49m\u001B[43mplot\u001B[49m\u001B[43m(\u001B[49m\u001B[43mcasual_riders\u001B[49m\u001B[43m[\u001B[49m\u001B[38;5;124;43m'\u001B[39;49m\u001B[38;5;124;43mduration\u001B[39;49m\u001B[38;5;124;43m'\u001B[39;49m\u001B[43m]\u001B[49m\u001B[43m,\u001B[49m\u001B[43m \u001B[49m\u001B[38;5;28;43mlen\u001B[39;49m\u001B[43m(\u001B[49m\u001B[43mcasual_riders\u001B[49m\u001B[43m[\u001B[49m\u001B[38;5;124;43m'\u001B[39;49m\u001B[38;5;124;43mduration\u001B[39;49m\u001B[38;5;124;43m'\u001B[39;49m\u001B[43m]\u001B[49m\u001B[43m)\u001B[49m\u001B[43m)\u001B[49m\n",
      "File \u001B[0;32m~/anaconda3/envs/Pycharm_python_project/lib/python3.9/site-packages/matplotlib/axes/_axes.py:1632\u001B[0m, in \u001B[0;36mAxes.plot\u001B[0;34m(self, scalex, scaley, data, *args, **kwargs)\u001B[0m\n\u001B[1;32m   1390\u001B[0m \u001B[38;5;124;03m\"\"\"\u001B[39;00m\n\u001B[1;32m   1391\u001B[0m \u001B[38;5;124;03mPlot y versus x as lines and/or markers.\u001B[39;00m\n\u001B[1;32m   1392\u001B[0m \n\u001B[0;32m   (...)\u001B[0m\n\u001B[1;32m   1629\u001B[0m \u001B[38;5;124;03m(``'green'``) or hex strings (``'#008000'``).\u001B[39;00m\n\u001B[1;32m   1630\u001B[0m \u001B[38;5;124;03m\"\"\"\u001B[39;00m\n\u001B[1;32m   1631\u001B[0m kwargs \u001B[38;5;241m=\u001B[39m cbook\u001B[38;5;241m.\u001B[39mnormalize_kwargs(kwargs, mlines\u001B[38;5;241m.\u001B[39mLine2D)\n\u001B[0;32m-> 1632\u001B[0m lines \u001B[38;5;241m=\u001B[39m [\u001B[38;5;241m*\u001B[39m\u001B[38;5;28mself\u001B[39m\u001B[38;5;241m.\u001B[39m_get_lines(\u001B[38;5;241m*\u001B[39margs, data\u001B[38;5;241m=\u001B[39mdata, \u001B[38;5;241m*\u001B[39m\u001B[38;5;241m*\u001B[39mkwargs)]\n\u001B[1;32m   1633\u001B[0m \u001B[38;5;28;01mfor\u001B[39;00m line \u001B[38;5;129;01min\u001B[39;00m lines:\n\u001B[1;32m   1634\u001B[0m     \u001B[38;5;28mself\u001B[39m\u001B[38;5;241m.\u001B[39madd_line(line)\n",
      "File \u001B[0;32m~/anaconda3/envs/Pycharm_python_project/lib/python3.9/site-packages/matplotlib/axes/_base.py:312\u001B[0m, in \u001B[0;36m_process_plot_var_args.__call__\u001B[0;34m(self, data, *args, **kwargs)\u001B[0m\n\u001B[1;32m    310\u001B[0m     this \u001B[38;5;241m+\u001B[39m\u001B[38;5;241m=\u001B[39m args[\u001B[38;5;241m0\u001B[39m],\n\u001B[1;32m    311\u001B[0m     args \u001B[38;5;241m=\u001B[39m args[\u001B[38;5;241m1\u001B[39m:]\n\u001B[0;32m--> 312\u001B[0m \u001B[38;5;28;01myield from\u001B[39;00m \u001B[38;5;28;43mself\u001B[39;49m\u001B[38;5;241;43m.\u001B[39;49m\u001B[43m_plot_args\u001B[49m\u001B[43m(\u001B[49m\u001B[43mthis\u001B[49m\u001B[43m,\u001B[49m\u001B[43m \u001B[49m\u001B[43mkwargs\u001B[49m\u001B[43m)\u001B[49m\n",
      "File \u001B[0;32m~/anaconda3/envs/Pycharm_python_project/lib/python3.9/site-packages/matplotlib/axes/_base.py:498\u001B[0m, in \u001B[0;36m_process_plot_var_args._plot_args\u001B[0;34m(self, tup, kwargs, return_kwargs)\u001B[0m\n\u001B[1;32m    495\u001B[0m     \u001B[38;5;28mself\u001B[39m\u001B[38;5;241m.\u001B[39maxes\u001B[38;5;241m.\u001B[39myaxis\u001B[38;5;241m.\u001B[39mupdate_units(y)\n\u001B[1;32m    497\u001B[0m \u001B[38;5;28;01mif\u001B[39;00m x\u001B[38;5;241m.\u001B[39mshape[\u001B[38;5;241m0\u001B[39m] \u001B[38;5;241m!=\u001B[39m y\u001B[38;5;241m.\u001B[39mshape[\u001B[38;5;241m0\u001B[39m]:\n\u001B[0;32m--> 498\u001B[0m     \u001B[38;5;28;01mraise\u001B[39;00m \u001B[38;5;167;01mValueError\u001B[39;00m(\u001B[38;5;124mf\u001B[39m\u001B[38;5;124m\"\u001B[39m\u001B[38;5;124mx and y must have same first dimension, but \u001B[39m\u001B[38;5;124m\"\u001B[39m\n\u001B[1;32m    499\u001B[0m                      \u001B[38;5;124mf\u001B[39m\u001B[38;5;124m\"\u001B[39m\u001B[38;5;124mhave shapes \u001B[39m\u001B[38;5;132;01m{\u001B[39;00mx\u001B[38;5;241m.\u001B[39mshape\u001B[38;5;132;01m}\u001B[39;00m\u001B[38;5;124m and \u001B[39m\u001B[38;5;132;01m{\u001B[39;00my\u001B[38;5;241m.\u001B[39mshape\u001B[38;5;132;01m}\u001B[39;00m\u001B[38;5;124m\"\u001B[39m)\n\u001B[1;32m    500\u001B[0m \u001B[38;5;28;01mif\u001B[39;00m x\u001B[38;5;241m.\u001B[39mndim \u001B[38;5;241m>\u001B[39m \u001B[38;5;241m2\u001B[39m \u001B[38;5;129;01mor\u001B[39;00m y\u001B[38;5;241m.\u001B[39mndim \u001B[38;5;241m>\u001B[39m \u001B[38;5;241m2\u001B[39m:\n\u001B[1;32m    501\u001B[0m     \u001B[38;5;28;01mraise\u001B[39;00m \u001B[38;5;167;01mValueError\u001B[39;00m(\u001B[38;5;124mf\u001B[39m\u001B[38;5;124m\"\u001B[39m\u001B[38;5;124mx and y can be no greater than 2D, but have \u001B[39m\u001B[38;5;124m\"\u001B[39m\n\u001B[1;32m    502\u001B[0m                      \u001B[38;5;124mf\u001B[39m\u001B[38;5;124m\"\u001B[39m\u001B[38;5;124mshapes \u001B[39m\u001B[38;5;132;01m{\u001B[39;00mx\u001B[38;5;241m.\u001B[39mshape\u001B[38;5;132;01m}\u001B[39;00m\u001B[38;5;124m and \u001B[39m\u001B[38;5;132;01m{\u001B[39;00my\u001B[38;5;241m.\u001B[39mshape\u001B[38;5;132;01m}\u001B[39;00m\u001B[38;5;124m\"\u001B[39m)\n",
      "\u001B[0;31mValueError\u001B[0m: x and y must have same first dimension, but have shapes (28548,) and (1,)"
     ]
    },
    {
     "data": {
      "text/plain": "<Figure size 1440x345.6 with 2 Axes>",
      "image/png": "[encoded data removed]"
     },
     "metadata": {
      "needs_background": "light"
     },
     "output_type": "display_data"
    }
   ],
   "source": [
    "citibikes_df = pd.read_csv('jc-202205-citibike.csv')\n",
    "casual_riders = citibikes_df[citibikes_df['member_casual']== 'casual']\n",
    "member_riders = citibikes_df[citibikes_df['member_casual']== 'member']\n",
    "\n",
    "\n",
    "\n",
    "fig_1 = plt.figure(1, figsize=(20, 4.8))\n",
    "\n",
    "chart1 = fig_1.add_subplot(121)\n",
    "chart2 = fig_1.add_subplot(122)\n",
    "\n",
    "chart1.plot(casual_riders['duration'], )\n"
   ],
   "metadata": {
    "collapsed": false
   }
  },
  {
   "cell_type": "code",
   "execution_count": 117,
   "id": "1cd569d2",
   "metadata": {},
   "outputs": [
    {
     "data": {
      "text/plain": "<matplotlib.legend.Legend at 0x186f5db20>"
     },
     "execution_count": 117,
     "metadata": {},
     "output_type": "execute_result"
    },
    {
     "data": {
      "text/plain": "<Figure size 432x288 with 1 Axes>",
      "image/png": "[encoded data removed]"
     },
     "metadata": {
      "needs_background": "light"
     },
     "output_type": "display_data"
    }
   ],
   "source": [
    "citibikes_df = pd.read_csv('jc-202205-citibike.csv')\n",
    "\n",
    "\n",
    "\n",
    "\n",
    "\n",
    "casual_riders = citibikes_df[citibikes_df['member_casual']== 'casual']\n",
    "member_riders = citibikes_df[citibikes_df['member_casual']== 'member']\n",
    "\n",
    "\n",
    "\n",
    "\n",
    "fig, ax = plt.subplots() # use it to plot them together.\n",
    "\n",
    "#fig, ax = plt.subplots(1,2)\n",
    "\n",
    "sns.kdeplot(casual_riders['duration'], ax=ax) # one with the\n",
    "sns.kdeplot(member_riders['duration'], ax=ax)\n",
    "#sns.histplot(casual_riders, x='duration', ax=ax[0])\n",
    "plt.xlim(0,3600)\n",
    "plt.legend(labels=[\"Casual riders\", \"member_riders\"])\n",
    "\n",
    "#sns.histplot(member_riders, x='duration', ax=ax[1])\n",
    "#sns.histplot(casual_riders['Duration'], ax=ax)\n",
    "#plt.xlim(0,3600)\n",
    "#plt.legend(labels=[\"Member riders\"])\n",
    "#p1.show()#(citibikes_df.groupby('member_casual').agg(sum_ride_duration=('duration','sum'))).sort_values(by=\"sum_ride_duration\", ascending=False)\n",
    "\n",
    "\n",
    "\n"
   ]
  },
  {
   "cell_type": "markdown",
   "id": "caa97dc2",
   "metadata": {},
   "source": [
    "### Assignment 9\n",
    "\n",
    "How many rides started during each hour of 2 May 2022? (Hour 0 means 00:00:00 to 00:59:59, hour 1 means 01:00:00 to 01:59:59, etc.)\n",
    "\n",
    "Present the result both in a tabular form and as a count plot."
   ]
  },
  {
   "cell_type": "code",
   "execution_count": 73,
   "id": "cb96692d",
   "metadata": {},
   "outputs": [
    {
     "name": "stdout",
     "output_type": "stream",
     "text": [
      "Rides started on May 2nd each hour: \n",
      " 00     22\n",
      "01      6\n",
      "02      5\n",
      "03      5\n",
      "04      6\n",
      "05     12\n",
      "06     16\n",
      "07     62\n",
      "08    124\n",
      "09     78\n",
      "10     60\n",
      "11     47\n",
      "12     54\n",
      "13     48\n",
      "14     75\n",
      "15    106\n",
      "16    109\n",
      "17    169\n",
      "18    191\n",
      "19    143\n",
      "20     92\n",
      "21     68\n",
      "22     37\n",
      "23     22\n",
      "Name: Hour, dtype: int64\n"
     ]
    },
    {
     "name": "stderr",
     "output_type": "stream",
     "text": [
      "/var/folders/st/fdj1x7953hs7bks8mx4q3yn00000gn/T/ipykernel_5919/3864127443.py:7: SettingWithCopyWarning: \n",
      "A value is trying to be set on a copy of a slice from a DataFrame.\n",
      "Try using .loc[row_indexer,col_indexer] = value instead\n",
      "\n",
      "See the caveats in the documentation: https://pandas.pydata.org/pandas-docs/stable/user_guide/indexing.html#returning-a-view-versus-a-copy\n",
      "  citibikes_may02_df['Hour'] = citibikes_df['Date'].dt.strftime('%H')\n"
     ]
    },
    {
     "data": {
      "text/plain": "<AxesSubplot:>"
     },
     "execution_count": 73,
     "metadata": {},
     "output_type": "execute_result"
    },
    {
     "data": {
      "text/plain": "<Figure size 432x288 with 1 Axes>",
      "image/png": "[encoded data removed]"
     },
     "metadata": {
      "needs_background": "light"
     },
     "output_type": "display_data"
    }
   ],
   "source": [
    "citibikes_df = pd.read_csv('jc-202205-citibike.csv')\n",
    "citibikes_df['Date'] = pd.to_datetime(citibikes_df['started_at'], format='%Y-%m-%d %H:%M:%S')\n",
    "citibikes_df['Day'] = citibikes_df['Date'].dt.strftime('%d')\n",
    "citibikes_may02_df = citibikes_df[citibikes_df['Day'] == '02']\n",
    "\n",
    "\n",
    "citibikes_may02_df['Hour'] = citibikes_df['Date'].dt.strftime('%H')\n",
    "hourly_rides = (citibikes_may02_df['Hour'].value_counts().sort_index())\n",
    "\n",
    "print(\"Rides started on May 2nd each hour: \\n\",\n",
    "      hourly_rides)\n",
    "hourly_rides.plot.bar()\n",
    "\n",
    "\n",
    "\n",
    "\n"
   ]
  },
  {
   "cell_type": "markdown",
   "id": "a0b13b87",
   "metadata": {},
   "source": [
    "### Assignment 10\n",
    "\n",
    "How many rides per day in average started on weekdays (i.e. Monday to Friday) and how many on weekends (i.e. Saturday and Sunday)?"
   ]
  },
  {
   "cell_type": "code",
   "execution_count": 89,
   "id": "b11ceabc",
   "metadata": {},
   "outputs": [
    {
     "name": "stdout",
     "output_type": "stream",
     "text": [
      "23998  Rides started on the weekends\n",
      "56483  Rides started on weekdays\n"
     ]
    }
   ],
   "source": [
    "#del citibikes_df['Day'] # no need for col. Day -> we can drop it.\n",
    "citibikes_df['Date'] = pd.to_datetime(citibikes_df['started_at'], format='%Y-%m-%d %H:%M:%S')\n",
    "citibikes_df['Date'] = citibikes_df['Date'].dt.strftime('%Y-%m-%d') # we don't need the timestamps ->  reformat it to yyyy-mm-dd\n",
    "citibikes_df['Date'] = pd.to_datetime(citibikes_df['Date'])\n",
    "citibikes_df['IsWeekend'] = citibikes_df['Date'].dt.weekday >=5\n",
    "print(sum(citibikes_df['IsWeekend'] == True), \" Rides started on the weekends\")\n",
    "print(sum(citibikes_df['IsWeekend'] == False), \" Rides started on weekdays\")"
   ]
  }
 ],
 "metadata": {
  "kernelspec": {
   "display_name": "Python 3 (ipykernel)",
   "language": "python",
   "name": "python3"
  },
  "language_info": {
   "codemirror_mode": {
    "name": "ipython",
    "version": 3
   },
   "file_extension": ".py",
   "mimetype": "text/x-python",
   "name": "python",
   "nbconvert_exporter": "python",
   "pygments_lexer": "ipython3",
   "version": "3.9.12"
  }
 },
 "nbformat": 4,
 "nbformat_minor": 5
}
