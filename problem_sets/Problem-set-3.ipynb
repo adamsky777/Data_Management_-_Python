{
 "cells": [
  {
   "cell_type": "markdown",
   "metadata": {},
   "source": [
    "# Problem set 3"
   ]
  },
  {
   "cell_type": "markdown",
   "metadata": {},
   "source": [
    "### Exercise 1\n",
    "\n",
    "Use the string `format` method or an f-string to print $2/3$ using 4 decimal digits."
   ]
  },
  {
   "cell_type": "code",
   "execution_count": null,
   "metadata": {},
   "outputs": [],
   "source": []
  },
  {
   "cell_type": "markdown",
   "metadata": {},
   "source": [
    "### Exercise 2\n",
    "\n",
    "Write a Python function that accepts a list and checks if all elements are distinct.\n",
    "\n",
    "#### Sample arguments and return values:\n",
    "\n",
    "    Argument: [1, 2, 3, 4, 5]\n",
    "    Returns: True\n",
    "    \n",
    "    Argument: [1, 2, 3, 2, 5]\n",
    "    Returns: False"
   ]
  },
  {
   "cell_type": "code",
   "execution_count": null,
   "metadata": {
    "ExecuteTime": {
     "end_time": "2021-09-20T10:53:54.506307Z",
     "start_time": "2021-09-20T10:53:54.501404Z"
    }
   },
   "outputs": [],
   "source": [
    "def is_unique(alist):\n",
    "    pass\n",
    "    # Your code here\n",
    "\n",
    "print(is_unique([1, 2, 3, 4, 5]))\n",
    "print(is_unique([1, 2, 3, 2, 5]))"
   ]
  },
  {
   "cell_type": "markdown",
   "metadata": {},
   "source": [
    "### Exercise 3\n",
    "\n",
    "1. Write (and test) a function that checks if 3 (an integer) is in a given list.\n",
    "1. Write (and test) a function that returns the count of all 3s in a given list.\n",
    "1. Write (and test) a function that checks if there are at least two consecutive elements both being 3.\n",
    "1. Write (and test) a function that returns indexes of all 3s in a given list.\n",
    "1. Write (and test) a function that returns a copy of a given list with all 3s replaced with 4.\n",
    "1. Write (and test) a function that swaps the elements at indexes 3 and 4. (Assume that the list has at least 5 elements. You can choose if you want to do it in-place or return a new list.)"
   ]
  },
  {
   "cell_type": "code",
   "execution_count": null,
   "metadata": {
    "ExecuteTime": {
     "end_time": "2021-06-25T08:57:29.166579Z",
     "start_time": "2021-06-25T08:57:29.154019Z"
    },
    "hide_input": false
   },
   "outputs": [],
   "source": []
  },
  {
   "cell_type": "markdown",
   "metadata": {},
   "source": [
    "### Exercise 4\n",
    "\n",
    "Implement the game of [Rock paper scissors](https://en.wikipedia.org/wiki/Rock_paper_scissors) in Python. Ask the user for the shapes selected by both players and then print out who the winner is (or if it is a tie). You can assume that the user enters valid shapes.\n",
    "\n",
    "#### Sample executions:\n",
    "    \n",
    "    Player 1 [rock/paper/scissors]: rock\n",
    "    Player 2 [rock/paper/scissors]: paper\n",
    "    Player 2 has won.\n",
    "\n",
    "    Player 1 [rock/paper/scissors]: scissors\n",
    "    Player 2 [rock/paper/scissors]: paper\n",
    "    Player 1 has won.\n",
    "\n",
    "    Player 1 [rock/paper/scissors]: paper\n",
    "    Player 2 [rock/paper/scissors]: paper\n",
    "    It is a tie!"
   ]
  },
  {
   "cell_type": "code",
   "execution_count": null,
   "metadata": {
    "ExecuteTime": {
     "end_time": "2021-09-20T11:54:36.259522Z",
     "start_time": "2021-09-20T11:54:30.291501Z"
    }
   },
   "outputs": [],
   "source": []
  },
  {
   "cell_type": "markdown",
   "metadata": {},
   "source": [
    "### Exercise 5\n",
    "\n",
    "The file `quiz_score.txt` contains a list of scores between 0 and 10. Inspect the file and note that each score is on a separate line. Count and print the number of occurrence for each score. (Loop over all possible score values and use the `count` method to get the number of occurrences.)"
   ]
  },
  {
   "cell_type": "code",
   "execution_count": null,
   "metadata": {},
   "outputs": [],
   "source": []
  },
  {
   "cell_type": "markdown",
   "metadata": {},
   "source": [
    "### Exercise 6\n",
    "\n",
    "1. Store (using Python) the following text in a text file:\n",
    "\n",
    "   ```\n",
    "   4\n",
    "   Homer: 23\n",
    "   Marge: 86\n",
    "   Bart: 38\n",
    "   Lisa: 97\n",
    "   ```\n",
    "\n",
    "   The first line contains the number of students. All following lines contain the name and (integer) exam score for all students using the format shown above. (Assume that all names are unique.)\n",
    "\n",
    "2. Write another program that reads the file you created in the first part of the exercise, and creates a dictionary with the exam scores using the name as the key. Using the example from above, the dictionary should be:\n",
    "\n",
    "   ```python\n",
    "   {'Homer': 23, 'Marge': 86, 'Bart': 38, 'Lisa': 97}\n",
    "   ```\n",
    "   \n",
    "   (Use the `readline` method to read lines from a file.)"
   ]
  },
  {
   "cell_type": "code",
   "execution_count": null,
   "metadata": {},
   "outputs": [],
   "source": []
  },
  {
   "cell_type": "markdown",
   "metadata": {},
   "source": [
    "## Exercise 7\n",
    "\n",
    "Write a function that accepts a text and encrypts it using the [Caesar cipher](https://en.wikipedia.org/wiki/Caesar_cipher). That is, each A gets replaced by X, B by Y, C by Z, D by A, E by B, etc. Non-letter characters (such as spaces and punctuation) remain unchanged.\n",
    "\n",
    "You can assume that the given text is uppercase (or convert the case before encrypting it).\n",
    "\n",
    "For example, calling the function using the text\n",
    "```\n",
    "THE QUICK BROWN FOX JUMPS OVER THE LAZY DOG!\n",
    "```\n",
    "as the argument will return:\n",
    "```\n",
    "QEB NRFZH YOLTK CLU GRJMP LSBO QEB IXWV ALD!\n",
    "```\n",
    "\n",
    "Extra challenge: in the example above, all letters were shifted by 3 positions down the alphabet. Add a parameters to the function that allows to use different shifts (both positive and negative)."
   ]
  },
  {
   "cell_type": "code",
   "execution_count": 58,
   "metadata": {},
   "outputs": [
    {
     "name": "stdout",
     "output_type": "stream",
     "text": [
      "True\n",
      "Enter your name !\n",
      "4 first wl\n",
      "4 final\n"
     ]
    },
    {
     "data": {
      "text/plain": [
       "'XAXJ QLOHLP'"
      ]
     },
     "execution_count": 58,
     "metadata": {},
     "output_type": "execute_result"
    }
   ],
   "source": [
    "\n",
    "from operator import index\n",
    "\n",
    "\n",
    "ABC\t= [\"A\", \"B\", \"C\",\"D\", \"E\", \"F\", \"G\", \"H\", \"I\", \"J\",\t\"K\" ,\"L\", \"M\",\t\"N\",\t\"O\",\t\"P\",\t\"Q\",\t\"R\",\t\"S\",\t\"T\",\t\"U\"\t,\"V\",\t\"W\",\t\"X,\",\t\"Y\"\t,\"Z\"]\n",
    "CRYPTHO = [\"X\",\t\"Y\",\"Z\", \"A\", \"B\", \"C\", \"D\", \"E\", \"F\",\t\"G\"\t,\"H\", \"I\",\t\"J\",\t\"K\",\t\"L\"\t, \"M\",\t\"N\",\t\"O\",\t\"P\",\"Q\",\t\"R\",\t\"S\",\t\"T\",\t\"U\"\t,\"V\",\"W\"]\n",
    "\n",
    "print(len(CRYPTHO) == len(ABC))\n",
    "\n",
    "Input_Chars = []\n",
    "User_Input = str(input(print(\"Enter your name !\")))\n",
    "\n",
    "w_it = 0\n",
    "for i in User_Input:\n",
    "    if i == \" \":\n",
    "        print(w_it, \"first wl\")\n",
    "        break\n",
    "    else:\n",
    "         w_it += 1\n",
    "print(w_it, \"final\")\n",
    "\n",
    "User_Input = User_Input.replace(\" \", \"\")\n",
    "     \n",
    "\n",
    "for i in User_Input:\n",
    "    Input_Chars.append(i.upper())\n",
    "\n",
    "ABC_indexes = []\n",
    "for i in Input_Chars:\n",
    "    ABC_indexes.append(int(ABC.index(i)))  \n",
    "    \n",
    "\n",
    "encr = (''.join([CRYPTHO[i] for i in ABC_indexes]))\n",
    "\n",
    "space = \" \"\n",
    "\n",
    "def inserter(string,to_insert ,pos):\n",
    "    return(string[:pos]+to_insert+string[pos:])\n",
    "\n",
    "inserter(encr, space, (w_it))\n",
    "\n",
    "\n",
    "\n",
    "\n",
    "\n",
    "    "
   ]
  },
  {
   "cell_type": "code",
   "execution_count": null,
   "metadata": {},
   "outputs": [],
   "source": [
    " "
   ]
  },
  {
   "cell_type": "code",
   "execution_count": null,
   "metadata": {},
   "outputs": [],
   "source": []
  }
 ],
 "metadata": {
  "kernelspec": {
   "display_name": "Python 3.8.8 ('base')",
   "language": "python",
   "name": "python3"
  },
  "language_info": {
   "codemirror_mode": {
    "name": "ipython",
    "version": 3
   },
   "file_extension": ".py",
   "mimetype": "text/x-python",
   "name": "python",
   "nbconvert_exporter": "python",
   "pygments_lexer": "ipython3",
   "version": "3.8.8"
  },
  "varInspector": {
   "cols": {
    "lenName": 16,
    "lenType": 16,
    "lenVar": 40
   },
   "kernels_config": {
    "python": {
     "delete_cmd_postfix": "",
     "delete_cmd_prefix": "del ",
     "library": "var_list.py",
     "varRefreshCmd": "print(var_dic_list())"
    },
    "r": {
     "delete_cmd_postfix": ") ",
     "delete_cmd_prefix": "rm(",
     "library": "var_list.r",
     "varRefreshCmd": "cat(var_dic_list()) "
    }
   },
   "types_to_exclude": [
    "module",
    "function",
    "builtin_function_or_method",
    "instance",
    "_Feature"
   ],
   "window_display": false
  },
  "vscode": {
   "interpreter": {
    "hash": "c9f2a958f00ce78f73d9b4c5149f64cf6025760658b9d6a0551f11c420dc8290"
   }
  }
 },
 "nbformat": 4,
 "nbformat_minor": 2
}
