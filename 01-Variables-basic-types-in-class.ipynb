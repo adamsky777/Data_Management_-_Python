{
 "cells": [
  {
   "cell_type": "markdown",
   "id": "5f450bed-88ef-4a79-8705-0ddf5776e9df",
   "metadata": {
    "hide_input": true
   },
   "source": [
    "# 1. Variables and basic types"
   ]
  },
  {
   "cell_type": "markdown",
   "id": "207c92c2-4d33-4fef-85e1-f958b622da2d",
   "metadata": {},
   "source": [
    "**GRA 4142 Data Management and Python Programming, Fall 2022**  \n",
    "Jan Kudlicka (jan.kudlicka@bi.no)"
   ]
  },
  {
   "cell_type": "markdown",
   "id": "e32a45f5-30ed-4a97-b5a3-d74fb0b7f5a2",
   "metadata": {},
   "source": [
    "## Hello, world!"
   ]
  },
  {
   "cell_type": "markdown",
   "id": "4e6c0507-9052-485e-a566-0e7ba1991f4e",
   "metadata": {},
   "source": [
    "Let us start with a \"hello, world\" example, but with a more suitable message:"
   ]
  },
  {
   "cell_type": "code",
   "execution_count": null,
   "id": "d3bfb9d4-1703-4dd9-a955-7d8ca3993e01",
   "metadata": {
    "hide_input": false
   },
   "outputs": [],
   "source": [
    "print(\"Welcome to the GRA 4142 Data Management and Python Programming course!\")"
   ]
  },
  {
   "cell_type": "markdown",
   "id": "d8754b43",
   "metadata": {},
   "source": [
    "In this very first example we have called the built-in `print` function and passed the text to be printed (i.e. *Welcome to the GRA 4142 Data Management and Python Programming course!*) as its argument specified between `(` and `)`. We can also specify several arguments (separated by commas) that will be printed on a single line with spaces between them:"
   ]
  },
  {
   "cell_type": "code",
   "execution_count": null,
   "id": "78de8f7c",
   "metadata": {},
   "outputs": [],
   "source": [
    "print(\"Current year:\", 2022)"
   ]
  },
  {
   "cell_type": "markdown",
   "id": "c57c5171-7ed2-461f-b4b3-f5047321a65b",
   "metadata": {},
   "source": [
    "## Using Python as a calculator"
   ]
  },
  {
   "cell_type": "markdown",
   "id": "c03e6011-09f6-42c8-a6b8-9462c9decac0",
   "metadata": {},
   "source": [
    "We can use the Python interpreter and cells in Jupyter notebooks as a calculator, e.g.:"
   ]
  },
  {
   "cell_type": "code",
   "execution_count": null,
   "id": "c3a8e3f2-1285-4da6-8629-3d198323c9a0",
   "metadata": {
    "tags": []
   },
   "outputs": [],
   "source": [
    "(1 + 3 / 2) * 7.5"
   ]
  },
  {
   "cell_type": "markdown",
   "id": "354b7948",
   "metadata": {},
   "source": [
    "Note that we have not used `print` in this example, in Jupyter notebooks the last calculated value in the cell is shown as the cell output."
   ]
  },
  {
   "cell_type": "markdown",
   "id": "9799a37f-c7ed-4618-b2e8-e989c33dacc2",
   "metadata": {},
   "source": [
    "In Python we can add strings and multiply them by integers:"
   ]
  },
  {
   "cell_type": "code",
   "execution_count": null,
   "id": "8024ed38-33ec-4c13-82ac-acd6969d58a0",
   "metadata": {},
   "outputs": [],
   "source": [
    "3 * \"Testing, \" + \"can you hear me?\""
   ]
  },
  {
   "cell_type": "markdown",
   "id": "dceca5e4-51c8-4b38-a697-2e3da6166ec2",
   "metadata": {},
   "source": [
    "**In-class exercise.** Calculate the square root of 1524157875019052100. (You can search how to do that online!)"
   ]
  },
  {
   "cell_type": "code",
   "execution_count": null,
   "id": "34739970-085b-4665-95f9-39ceac536a0c",
   "metadata": {
    "hide_input": false,
    "jupyter": {
     "source_hidden": true
    },
    "scrolled": true,
    "tags": []
   },
   "outputs": [],
   "source": []
  },
  {
   "cell_type": "markdown",
   "id": "f46c2cd2-fc34-4c72-8ea4-8ff0d3df368e",
   "metadata": {
    "tags": []
   },
   "source": [
    "1, 3, 2, 7.5, \"Testing, \" and \"can you hear me?\" are examples of *literals*, i.e. fixed values in source code."
   ]
  },
  {
   "cell_type": "markdown",
   "id": "f2f78f58-7d58-46dc-9761-1d638b9aaf99",
   "metadata": {},
   "source": [
    "## Variables"
   ]
  },
  {
   "cell_type": "markdown",
   "id": "82cb3345-8886-496b-9d84-abdf38586745",
   "metadata": {},
   "source": [
    "Variables are essential in (almost) any programming language: they are used to label and store values in memory (in order to use these values later).\n",
    "\n",
    "In Python, a new variable is created by assignment:\n",
    "```python\n",
    "variable_name = some_value\n",
    "```\n",
    "For example (note that each statement is on a separate line):"
   ]
  },
  {
   "cell_type": "code",
   "execution_count": null,
   "id": "2a8f5bc7-eccd-48ee-b96f-fcddaa2a4225",
   "metadata": {},
   "outputs": [],
   "source": [
    "width = 3.5   # Width of a rectangle (anything after a # on the same line is a comment; unless a part of a string)\n",
    "height = 2.5  # Height of a rectangle\n",
    "area = width * height\n",
    "print(\"Area of a rectangle with width\", width, \"and height\", height, \"is\", area)"
   ]
  },
  {
   "cell_type": "markdown",
   "id": "0a1cab45-1fdb-409c-9f2e-99fb54371859",
   "metadata": {},
   "source": [
    "Using an undefined variable will lead to an error:"
   ]
  },
  {
   "cell_type": "code",
   "execution_count": null,
   "id": "1c8d76ae-c476-4f17-a3fb-c1089bd92a78",
   "metadata": {},
   "outputs": [],
   "source": [
    "width * heigth  # Note the typo in height"
   ]
  },
  {
   "cell_type": "markdown",
   "id": "602125db-28a9-4f54-bd46-faf9c9018cbb",
   "metadata": {},
   "source": [
    "Variable names (also known as identifiers) must only contain underscores, letters and digits. They cannot start with a digit and they cannot be a keyword (reserved words that have a special meaning). Variable names are case-sensitive, i.e. `area` and `Area` denote two different variables.\n",
    "\n",
    "**A common practice is to use *snake_case* for variable names, i.e. lower case, words separated by an underscore, for example `total_area`.**\n",
    "\n",
    "Tip: Always use nouns that describe the purpose of variables so that it is easy for other people (and you) to read your code."
   ]
  },
  {
   "cell_type": "code",
   "execution_count": null,
   "id": "ffee68de-56a3-4eb7-a5cb-e650ea979430",
   "metadata": {
    "scrolled": true
   },
   "outputs": [],
   "source": [
    "# None of these is a legal variable name:\n",
    "@name = 1                          # variable name contains an illegal character\n",
    "1st_participant = 'Homer Simpson'  # variable name cannot start with a digit\n",
    "from = '2021-06-21'                # \"from\" is a keyword"
   ]
  },
  {
   "cell_type": "markdown",
   "id": "08c6f42b",
   "metadata": {},
   "source": [
    "Avoid using the names of existing built-in or imported functions and types, since this will make it impossible to use them:\n",
    "```python\n",
    "print(max(4, 2, 1, 5, 3))  # Max is a built-in function returning the maximum of the passed arguments\n",
    "```\n",
    "will print 5, the maximum of the numbers passed to the `max` functions.\n",
    "\n",
    "However, if we now define our own variable and name it `max`:\n",
    "```python\n",
    "max = 10\n",
    "```\n",
    "we will no longer be able to use the built-in `max` function:\n",
    "```python\n",
    "print(max(4, 2, 1, 5, 3))\n",
    "```\n",
    "```\n",
    "TypeError: 'int' object is not callable\n",
    "```\n",
    "\n",
    "Tip: If you are not sure if some name is already taken, try to use it or print it to see if you get a `NameError`."
   ]
  },
  {
   "cell_type": "markdown",
   "id": "e341210b-6e59-4cbf-a67e-1cfe99d99c6c",
   "metadata": {},
   "source": [
    "We can change the value associated with a variable, for example (note especially the last assignment):"
   ]
  },
  {
   "cell_type": "code",
   "execution_count": null,
   "id": "0260e2d2-219d-4281-9903-b9f8b4e0e7c6",
   "metadata": {},
   "outputs": [],
   "source": [
    "x = 1\n",
    "print('Value of x:', x)\n",
    "x = 7.5\n",
    "print('Value of x:', x)\n",
    "x = x + 2\n",
    "print('Value of x:', x)"
   ]
  },
  {
   "cell_type": "markdown",
   "id": "d616917b-fbb9-4226-93d4-191d2b10019c",
   "metadata": {},
   "source": [
    "The values we have seen so far belong to different types. We can use `type()` to get the type of a given value:"
   ]
  },
  {
   "cell_type": "code",
   "execution_count": null,
   "id": "1e86ac19-9abe-4bfb-97ff-ff5d876c82c6",
   "metadata": {},
   "outputs": [],
   "source": [
    "print(\"Type of 1:\", type(1))\n",
    "print(\"Type of 'Hello, world':\", type('Hello world!'))\n",
    "print(\"Type of 1.2:\", type(1.2))\n",
    "print(\"Type of the value assigned to the variable 'area':\", type(area))"
   ]
  },
  {
   "cell_type": "markdown",
   "id": "603d3a24-6e14-45d3-bbfc-0a1629eb8230",
   "metadata": {},
   "source": [
    "## Numeric types (int and float)"
   ]
  },
  {
   "cell_type": "markdown",
   "id": "debeed1b-ef92-4cb6-b579-661c85a76de1",
   "metadata": {},
   "source": [
    "The *int* type (class) is used for integer numbers ($\\{\\dots, -2, -1, 0, 1, 2, \\dots\\}$), while the *float* type is used for real (also known as floating-point) numbers. (There is also a type for complex numbers, but that's beyond the scope of this course.)\n",
    "\n",
    "The most important mathematical operations between numbers (sorted by their precedence) are:\n",
    "<table>\n",
    "    <tr><td>Parenthesized expression: ()</td></tr>\n",
    "    <tr><td>Exponentiation: **</td></tr>\n",
    "    <tr><td>Unary plus: +, unary minus: -</td></tr>\n",
    "    <tr><td>Multiplication: *, division: /, floor division: //, remainder: %</td></tr>\n",
    "    <tr><td>Addition: +, subtraction: -</td></tr>  \n",
    "</table>"
   ]
  },
  {
   "cell_type": "code",
   "execution_count": null,
   "id": "9857b0a3-92fe-4a34-9af7-b3564e7016f6",
   "metadata": {},
   "outputs": [],
   "source": [
    "print('3 * -2 =', 3 * -2)\n",
    "print('3 / 2 =', 3 / 2)    # Note that the result will be of float type, even if both operands were int! \n",
    "print('3 // 2 =', 3 // 2)  # Floor division, the result of the division is rounded down to the nearest integer\n",
    "print('3 % 2 =', 3 % 2)    # Remainder (also known as the modulo operator)\n",
    "print('3 ** 2 =', 3 ** 2)  # The square of 3"
   ]
  },
  {
   "cell_type": "markdown",
   "id": "84361e8b-aea8-41de-9b1d-db316da3c993",
   "metadata": {},
   "source": [
    "An example of a little bit more complex *expression* (a combination of literals, variables, operators and functions, that describes how to calculate a value of interest):"
   ]
  },
  {
   "cell_type": "code",
   "execution_count": null,
   "id": "ab7368df-df1c-49c3-8b65-ddbccec127fe",
   "metadata": {},
   "outputs": [],
   "source": [
    "x = 10\n",
    "(x + 1) ** 2"
   ]
  },
  {
   "cell_type": "markdown",
   "id": "6eb5f32b-06f0-4f2a-a46e-75fb62f78293",
   "metadata": {},
   "source": [
    "Now, consider the following example:"
   ]
  },
  {
   "cell_type": "code",
   "execution_count": null,
   "id": "4e23b231-0161-4b40-b91b-772236d921d1",
   "metadata": {},
   "outputs": [],
   "source": [
    "x = 0.1\n",
    "y = 0.2\n",
    "print(\"x + y =\", x + y)\n",
    "print(\"x + y is equal to 0.3:\", x + y == 0.3)"
   ]
  },
  {
   "cell_type": "markdown",
   "id": "4df10e77-e4e2-422c-b676-a057544e0b73",
   "metadata": {},
   "source": [
    "**Never compare floats with `==`!** Test if the numbers are close enough (for example `abs(x + y - 0.3) < 1e-5`).\n",
    "\n",
    "If you wonder why 0.1 + 0.2 is 0.30000000000000004, check out [this website](https://0.30000000000000004.com/)."
   ]
  },
  {
   "cell_type": "markdown",
   "id": "4fd342a3-4391-4920-ad53-3307ecbd42bb",
   "metadata": {},
   "source": [
    "**In-class exercise.** Finish code in the following cell so that the values or variables `x` and `y` are swapped."
   ]
  },
  {
   "cell_type": "code",
   "execution_count": null,
   "id": "d5e8431c-877e-4d55-b334-dec0f9b19c00",
   "metadata": {
    "hide_input": false,
    "jupyter": {
     "source_hidden": true
    },
    "tags": []
   },
   "outputs": [],
   "source": [
    "x = 0.1\n",
    "y = 0.2\n",
    "\n",
    "# Your code here\n",
    "\n",
    "print(x, y)"
   ]
  },
  {
   "cell_type": "markdown",
   "id": "fb09564d-3e84-4c63-bce8-50ac8c5dd836",
   "metadata": {},
   "source": [
    "## Strings"
   ]
  },
  {
   "cell_type": "markdown",
   "id": "19c230e5-619e-47e9-84f1-9eec8db0cac9",
   "metadata": {},
   "source": [
    "Single-line string literals are enclosed in either single or double quotes:"
   ]
  },
  {
   "cell_type": "code",
   "execution_count": null,
   "id": "da6c4d44-0d9b-488c-8e43-0e4b5c994a7c",
   "metadata": {},
   "outputs": [],
   "source": [
    "print(\"Example of a string\")\n",
    "print('Another example of a string')"
   ]
  },
  {
   "cell_type": "markdown",
   "id": "0dd43098-91ec-4082-841b-a00e1be0df43",
   "metadata": {},
   "source": [
    "String enclosed in single quotes may contain double quotes and vice versa. Another option how to include quotes is to \"escape\" them with backslash: `\\\"` or `\\'`."
   ]
  },
  {
   "cell_type": "code",
   "execution_count": null,
   "id": "1a661636-f9b7-4657-af60-9cd2cbb1bb27",
   "metadata": {},
   "outputs": [],
   "source": [
    "#print('It's ok!') will not work, the apostrophe in the text \"ends\" the string.\n",
    "print(\"It's ok!\")\n",
    "print('\"Really?\", she asked.')\n",
    "print('Yes, it\\'s really ok...')\n",
    "print('\"No, sorry, I can\\'t do that\", she said.')"
   ]
  },
  {
   "cell_type": "markdown",
   "id": "68aa66f3-94fe-4d92-b7d4-6d3d0288d06e",
   "metadata": {},
   "source": [
    "Tabs and newlines can be inserted with `\\t` resp. `\\n`:"
   ]
  },
  {
   "cell_type": "code",
   "execution_count": null,
   "id": "a6ecaedb-6409-4960-ab9c-28218cb3213f",
   "metadata": {},
   "outputs": [],
   "source": [
    "print(\"A\\tB\\tC\\nD\\tE\\tF\")"
   ]
  },
  {
   "cell_type": "markdown",
   "id": "e1ba15bd-55a8-4139-88ca-194de855e5fb",
   "metadata": {},
   "source": [
    "There are also other special characters starting with `\\` so if you need to include a backslash (e.g. in file paths in Windows), either use `\\\\` (the first `\\` escapes the second one) or use a *raw* string literal as shown in the following example:"
   ]
  },
  {
   "cell_type": "code",
   "execution_count": null,
   "id": "29fe123c-4810-486e-8bd4-2c08f02b2798",
   "metadata": {},
   "outputs": [],
   "source": [
    "path = \"C:\\new\\text.txt\"  # Not what we want!\n",
    "print(path)\n",
    "path = \"C:\\\\new\\\\text.txt\"\n",
    "print(path)\n",
    "path = r\"C:\\new\\text.txt\"  # A \"raw\" string, \\ does not escape\n",
    "print(path)"
   ]
  },
  {
   "cell_type": "markdown",
   "id": "8cb71f44-695e-4cd0-b004-c244c5e939e7",
   "metadata": {},
   "source": [
    "Python also supports multi-lined strings, which are using \"triple quotes\":"
   ]
  },
  {
   "cell_type": "code",
   "execution_count": null,
   "id": "a664803e-8cf6-4512-8813-a99b2edb23bc",
   "metadata": {},
   "outputs": [],
   "source": [
    "print('''A\n",
    "B\n",
    "C''')\n",
    "\n",
    "print()  # Prints an empty line\n",
    "\n",
    "print(\"\"\"D\n",
    "E\n",
    "F\"\"\")"
   ]
  },
  {
   "cell_type": "code",
   "execution_count": null,
   "id": "4101e587",
   "metadata": {},
   "outputs": [],
   "source": [
    "# If the opening triple quote is followed by \\, the string starts on the next line.\n",
    "# The following example is exactly the same as the first example in the previous code cell.\n",
    "print('''\\\n",
    "A\n",
    "B\n",
    "C\n",
    "''')"
   ]
  },
  {
   "cell_type": "markdown",
   "id": "75e8dc31-5875-4d7d-a9ca-2af2bf6517c3",
   "metadata": {},
   "source": [
    "We can use the built-in function `len` to determine the length of a string:"
   ]
  },
  {
   "cell_type": "code",
   "execution_count": null,
   "id": "d001ee7d-cdb0-4199-91d2-5fbbc86dd0fd",
   "metadata": {},
   "outputs": [],
   "source": [
    "string = \"Hello, world!\"\n",
    "len(string)"
   ]
  },
  {
   "cell_type": "markdown",
   "id": "239c1c95-4ccd-4d05-85eb-27062f15fedf",
   "metadata": {},
   "source": [
    "### Indexing and slicing"
   ]
  },
  {
   "cell_type": "markdown",
   "id": "81b92d3b-d389-4749-99cc-c2e8b49ecd52",
   "metadata": {},
   "source": [
    "A string is a sequence of characters (letters, digits, punctuation marks, white spaces and control characters such as `\\n`):\n",
    "\n",
    "<table border=\"1\" >\n",
    "    <tr>\n",
    "        <td width=\"35\">0</td>\n",
    "        <td width=\"35\">1</td>\n",
    "        <td width=\"35\">2</td>\n",
    "        <td width=\"35\">3</td>\n",
    "        <td width=\"35\">4</td>\n",
    "        <td width=\"35\">5</td>\n",
    "        <td width=\"35\">6</td>\n",
    "        <td width=\"35\">7</td>\n",
    "        <td width=\"35\">8</td>\n",
    "        <td width=\"35\">9</td>\n",
    "        <td width=\"35\">10</td>\n",
    "        <td width=\"35\">11</td>\n",
    "        <td width=\"35\">12</td>\n",
    "    </tr>\n",
    "    <tr>\n",
    "        <td>H</td>\n",
    "        <td>e</td>\n",
    "        <td>l</td>\n",
    "        <td>l</td>\n",
    "        <td>o</td>\n",
    "        <td>,</td>\n",
    "        <td>&nbsp;</td>\n",
    "        <td>w</td>\n",
    "        <td>o</td>\n",
    "        <td>r</td>\n",
    "        <td>l</td>\n",
    "        <td>d</td>\n",
    "        <td>!</td>\n",
    "    </tr>\n",
    "    <tr>\n",
    "        <td>-13</td>\n",
    "        <td>-12</td>\n",
    "        <td>-11</td>\n",
    "        <td>-10</td>\n",
    "        <td>-9</td>\n",
    "        <td>-8</td>\n",
    "        <td>-7</td>\n",
    "        <td>-6</td>\n",
    "        <td>-5</td>\n",
    "        <td>-4</td>\n",
    "        <td>-3</td>\n",
    "        <td>-2</td>\n",
    "        <td>-1</td>\n",
    "    </tr>\n",
    "</table>\n",
    "\n",
    "Each character can be accessed with the index operator (`[]`):"
   ]
  },
  {
   "cell_type": "code",
   "execution_count": null,
   "id": "a8ca4be1-d3e8-4e90-b4d1-a632c23cc61f",
   "metadata": {},
   "outputs": [],
   "source": [
    "print(\"string[0] =\", string[0])    # Note that the first character has index 0!\n",
    "print(\"string[1] =\", string[1])\n",
    "print(\"string[12] =\", string[12])\n",
    "print(\"string[13] =\", string[13])  # This leads to an IndexError!"
   ]
  },
  {
   "cell_type": "markdown",
   "id": "a9d6247d-8bd3-4f03-8248-31f5e18ecc99",
   "metadata": {},
   "source": [
    "We can also use negative indexes: -1 will refer to the last character, -2 to the second-last one, etc.:"
   ]
  },
  {
   "cell_type": "code",
   "execution_count": null,
   "id": "19245b0a-1035-48a2-99b2-94710e0461f7",
   "metadata": {},
   "outputs": [],
   "source": [
    "print(\"string[-1] =\", string[-1])\n",
    "print(\"string[-5] =\", string[-5])"
   ]
  },
  {
   "cell_type": "markdown",
   "id": "a47f789d-195f-4cc9-a835-6c8dc19b1d6f",
   "metadata": {},
   "source": [
    "We can also get a slice (part, substring) of a string using the slice operator (`[:]`) and specifying the start index (inclusive) and the end index (exclusive):"
   ]
  },
  {
   "cell_type": "code",
   "execution_count": null,
   "id": "f940dc1f-b6ac-4955-98e7-10f29306257a",
   "metadata": {},
   "outputs": [],
   "source": [
    "print(\"string[1:3] =\", string[1:3])\n",
    "print(\"string[:5] =\", string[:5])    # Not specifying the start index means \"from the beginning\"\n",
    "print(\"string[7:] =\", string[7:])    # Not specifying the end index means \"until the end\"\n",
    "print(\"string[-6:] =\", string[-6:])  # We can use negative indexes too\n",
    "print(\"string[-6:-1] =\", string[-6:-1])\n",
    "# With slices, using non-existing indexes does not lead to any error (the result is an empty string \"\"):\n",
    "print(\"string[20:] =\", string[20:])  "
   ]
  },
  {
   "cell_type": "markdown",
   "id": "1c362fe9-99d2-4957-89fc-72b13e629f63",
   "metadata": {},
   "source": [
    "Strings are **immutable**: we are not able to alter an existing string (but we can create a new one and assign it to the same variable). The following code will lead to an error:"
   ]
  },
  {
   "cell_type": "code",
   "execution_count": null,
   "id": "e568a8cf-b351-44e1-ad58-b2104cfd10d7",
   "metadata": {},
   "outputs": [],
   "source": [
    "string[5] = ';'"
   ]
  },
  {
   "cell_type": "markdown",
   "id": "7032d8ca-022d-4d85-8f25-8e8e11088d97",
   "metadata": {},
   "source": [
    "### Concatenation and repetition"
   ]
  },
  {
   "cell_type": "markdown",
   "id": "67f2d22f-424f-4380-b06d-d6a8fd2f942b",
   "metadata": {},
   "source": [
    "We have already seen that we can concatenate strings by using `+` and we can repeat a string by multiplying it with an integer:"
   ]
  },
  {
   "cell_type": "code",
   "execution_count": null,
   "id": "db4e073f-207a-4a35-b879-7b15db102f83",
   "metadata": {},
   "outputs": [],
   "source": [
    "start = \"Hello\"\n",
    "end = \"world!\"\n",
    "string = start + \", \" + end\n",
    "print(string)\n",
    "print(\"=\" * 30)"
   ]
  },
  {
   "cell_type": "markdown",
   "id": "512b5309-de8e-478a-8ce8-844fb75feb11",
   "metadata": {},
   "source": [
    "## Introduction to lists"
   ]
  },
  {
   "cell_type": "markdown",
   "id": "9548661a",
   "metadata": {},
   "source": [
    "**A list is an ordered collection of values**. Lists are often called arrays in other programming languages. Note that in Python, the individual elements might be of different types.\n",
    "\n",
    "A list is created by specifying its elements, separated by commas, between square brackets (`[` and `]`):"
   ]
  },
  {
   "cell_type": "code",
   "execution_count": null,
   "id": "e7078eba",
   "metadata": {},
   "outputs": [],
   "source": [
    "lst1 = []  # Empty list\n",
    "lst2 = [1, 2, 3]\n",
    "lst3 = [1.2]\n",
    "lst4 = [[\"A\", \"B\"], True]  # Elements can be of any types, even lists (or dictionaries that we will cover later)\n",
    "lst5 = [2, False, 3.14, \"Hello\"]"
   ]
  },
  {
   "cell_type": "markdown",
   "id": "842eb010",
   "metadata": {},
   "source": [
    "We can use the `len` function to return the number of elements:"
   ]
  },
  {
   "cell_type": "code",
   "execution_count": null,
   "id": "54fba6ca",
   "metadata": {},
   "outputs": [],
   "source": [
    "lst = [2, False, 3.14, \"Hello\"]\n",
    "len(lst)"
   ]
  },
  {
   "cell_type": "markdown",
   "id": "e002298a",
   "metadata": {},
   "source": [
    "Similar to strings (which are sequences of characters), we can use the index `[]` and slice `[:]` operators to access individual elements and slices:"
   ]
  },
  {
   "cell_type": "code",
   "execution_count": null,
   "id": "0a4f83e1",
   "metadata": {},
   "outputs": [],
   "source": [
    "lst = ['A', 'B', 'C', 'D']\n",
    "# Exercise: can we name the variable `list` instead of `lst`?\n",
    "\n",
    "print(lst[0])    # First element\n",
    "print(lst[-1])   # Last element,\n",
    "print(lst[2:4])  # A slice between index 2 (inclusive) and 4 (exclusive)"
   ]
  },
  {
   "cell_type": "markdown",
   "id": "61eb2aa8",
   "metadata": {},
   "source": [
    "Unlike strings, which are immutable, **lists are mutable** so we can change the individual elements:"
   ]
  },
  {
   "cell_type": "code",
   "execution_count": null,
   "id": "d2771b90",
   "metadata": {},
   "outputs": [],
   "source": [
    "lst = ['A', 'B', 'C', 'D']\n",
    "lst[0] = 'E'  # Change the first element\n",
    "lst[-2] = 'F' # Change the next-to-last element\n",
    "print(lst)"
   ]
  },
  {
   "cell_type": "markdown",
   "id": "e75f0bbc",
   "metadata": {},
   "source": [
    "We can also update a whole slice at once:"
   ]
  },
  {
   "cell_type": "code",
   "execution_count": null,
   "id": "4f1b4c4c",
   "metadata": {},
   "outputs": [],
   "source": [
    "lst = ['A', 'B', 'C', 'D']\n",
    "lst[1:3] = ['E', 'F']  # Elements B and C will be replaced by E and F\n",
    "print(lst)"
   ]
  },
  {
   "cell_type": "markdown",
   "id": "4e5957e0",
   "metadata": {},
   "source": [
    "When updating a slice, the new value can have the size different from the size of the slice:"
   ]
  },
  {
   "cell_type": "code",
   "execution_count": null,
   "id": "00cb50ac",
   "metadata": {},
   "outputs": [],
   "source": [
    "lst = ['A', 'B', 'C', 'D']\n",
    "lst[1:3] = ['E', 'F', 'G']  # Elements B and C will be replaced by E, F and G\n",
    "print(lst)"
   ]
  },
  {
   "cell_type": "code",
   "execution_count": null,
   "id": "75de133f",
   "metadata": {},
   "outputs": [],
   "source": [
    "lst = ['A', 'B', 'C', 'D']\n",
    "lst[1:3] = []  # Elements B and C will be removed.\n",
    "print(lst)"
   ]
  },
  {
   "cell_type": "markdown",
   "id": "24087c16",
   "metadata": {},
   "source": [
    "Updating slices can be used to append new elements at the end of a list as well:"
   ]
  },
  {
   "cell_type": "code",
   "execution_count": null,
   "id": "d56f9ad3",
   "metadata": {},
   "outputs": [],
   "source": [
    "lst = ['A', 'B', 'C', 'D']\n",
    "lst[len(lst):] = ['E', 'F']\n",
    "print(lst)"
   ]
  },
  {
   "cell_type": "markdown",
   "id": "b79f947c",
   "metadata": {},
   "source": [
    "We will later return to lists and see other (and more ergonomic) ways how to insert and remove elements to and from them, but let us already now mention `append`, one of the most useful list methods that adds a (single) element to the end of a list:"
   ]
  },
  {
   "cell_type": "code",
   "execution_count": null,
   "id": "ef3f4db6",
   "metadata": {},
   "outputs": [],
   "source": [
    "lst = ['A', 'B', 'C', 'D']\n",
    "lst.append('E')\n",
    "print(lst)"
   ]
  },
  {
   "cell_type": "markdown",
   "id": "8f62acf3-8f56-4537-bed5-5e8e8c5857ce",
   "metadata": {},
   "source": [
    "## Splitting strings and joining lists of strings"
   ]
  },
  {
   "cell_type": "markdown",
   "id": "c4751128-54df-41b7-ae0b-1e2bf72a22b7",
   "metadata": {},
   "source": [
    "If a string is a list of elements separated by a separator (e.g. a comma), we can obtain the list of all elements by using a `split` method:"
   ]
  },
  {
   "cell_type": "code",
   "execution_count": null,
   "id": "f248079a-44a8-41ce-8479-33f52274b368",
   "metadata": {},
   "outputs": [],
   "source": [
    "data = \"Homer, Marge, Bart, Lisa, Maggie\"\n",
    "elements = data.split(\", \")  # Separated by a comma followed by a space\n",
    "elements"
   ]
  },
  {
   "cell_type": "markdown",
   "id": "b0a392e0",
   "metadata": {},
   "source": [
    "**In-class exercise**: Change the separator in the previous code to `,`. What happens if you re-run the cell? Try also to change the separator to a character (or a string) that does not occur in the given string at all and answer the same question."
   ]
  },
  {
   "cell_type": "markdown",
   "id": "b72ff358-b8ca-4ed9-92ae-cfca4231a31d",
   "metadata": {},
   "source": [
    "If you don't specify the separator, the words will be split by any type of space (and empty strings discarded):"
   ]
  },
  {
   "cell_type": "code",
   "execution_count": null,
   "id": "e599a7f1-36d7-4a4e-bea6-0b669e57e1b2",
   "metadata": {},
   "outputs": [],
   "source": [
    "elements = \"   Homer  Marge Bart       Lisa Maggie  \".split()\n",
    "elements"
   ]
  },
  {
   "cell_type": "markdown",
   "id": "ac2d4066-df56-4f73-9bdb-4ed219e6786a",
   "metadata": {},
   "source": [
    "The opposite is joining elements of a list with the `join` method:"
   ]
  },
  {
   "cell_type": "code",
   "execution_count": null,
   "id": "1bd45d40-478f-40f4-a0ba-26420ac35a7c",
   "metadata": {},
   "outputs": [],
   "source": [
    "', and '.join(elements)"
   ]
  },
  {
   "cell_type": "markdown",
   "id": "f2512c3f",
   "metadata": {},
   "source": [
    "**In-class exercise:** Strings are immutable, so we cannot change them. But we can always create a new string by using the above-mentioned operators, and assign it to the same variable. Write a program that \"replaces\" the first character in a given string (say \"Python\") with another string (say \"Br\")."
   ]
  },
  {
   "cell_type": "code",
   "execution_count": null,
   "id": "4c9f4fb5",
   "metadata": {},
   "outputs": [],
   "source": [
    "string = \"Python\"\n",
    "replacement = \"Br\"\n",
    "\n",
    "# Your code here (must work with any `string` and `replacement`)\n",
    "\n",
    "print(string)"
   ]
  }
 ],
 "metadata": {
  "kernelspec": {
   "display_name": "Python 3 (ipykernel)",
   "language": "python",
   "name": "python3"
  },
  "language_info": {
   "codemirror_mode": {
    "name": "ipython",
    "version": 3
   },
   "file_extension": ".py",
   "mimetype": "text/x-python",
   "name": "python",
   "nbconvert_exporter": "python",
   "pygments_lexer": "ipython3",
   "version": "3.9.12"
  }
 },
 "nbformat": 4,
 "nbformat_minor": 5
}
