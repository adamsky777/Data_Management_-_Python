{
 "cells": [
  {
   "cell_type": "markdown",
   "metadata": {},
   "source": [
    "# Problem set 1"
   ]
  },
  {
   "cell_type": "markdown",
   "metadata": {},
   "source": [
    "## Variables, strings and numbers"
   ]
  },
  {
   "cell_type": "markdown",
   "metadata": {},
   "source": [
    "### Exercise 1\n",
    "\n",
    "Write a program that asks the user to enter\n",
    "* the number of hours an employee has worked the last week,\n",
    "* the hour salary,\n",
    "\n",
    "and then computes and prints their week gross salary.\n",
    "\n",
    "Sample input and output\n",
    "\n",
    "    Enter hours: 35\n",
    "    Enter hour salary: 2.75\n",
    "    Week salary: 96.25\n"
   ]
  },
  {
   "cell_type": "code",
   "execution_count": 1,
   "metadata": {
    "ExecuteTime": {
     "end_time": "2021-09-04T15:18:08.589076Z",
     "start_time": "2021-09-04T15:18:05.988869Z"
    }
   },
   "outputs": [
    {
     "name": "stdout",
     "output_type": "stream",
     "text": [
      "Enter hours: 35\n",
      "Enter hour salary: 2.75\n",
      "Week salary: 96.25\n"
     ]
    }
   ],
   "source": [
    "hours = float(input('Enter hours: '))\n",
    "hour_salary = float(input('Enter hour salary: '))\n",
    "week_salary = hours * hour_salary\n",
    "print(\"Week salary:\", week_salary)"
   ]
  },
  {
   "cell_type": "markdown",
   "metadata": {},
   "source": [
    "### Exercise 2\n",
    "\n",
    "Assume that we have executed the following lines\n",
    "\n",
    "    width = 17\n",
    "    height = 12.0\n",
    "    \n",
    "What are the types of the variables `width` and `height`?\n",
    "\n",
    "For each of the following expressions, find the value of the expression and its type:\n",
    "\n",
    "1. `width // 2`\n",
    "2. `width / 2.0`\n",
    "3. `height / 3`\n",
    "4. `width * height`"
   ]
  },
  {
   "cell_type": "code",
   "execution_count": 2,
   "metadata": {
    "ExecuteTime": {
     "end_time": "2021-09-04T14:16:41.003016Z",
     "start_time": "2021-09-04T14:16:40.995322Z"
    }
   },
   "outputs": [
    {
     "name": "stdout",
     "output_type": "stream",
     "text": [
      "Type of width: <class 'int'>\n",
      "Type of height: <class 'float'>\n",
      "1. 8 <class 'int'>\n",
      "2. 8.5 <class 'float'>\n",
      "3. 4.0 <class 'float'>\n",
      "4. 204.0 <class 'float'>\n"
     ]
    }
   ],
   "source": [
    "width = 17\n",
    "height = 12.0\n",
    "\n",
    "print(\"Type of width:\", type(width))\n",
    "print(\"Type of height:\", type(height))\n",
    "\n",
    "print('1.', width // 2, type(width // 2))\n",
    "print('2.', width / 2.0, type(width / 2.0))\n",
    "print('3.', height / 3, type(height / 3))\n",
    "print('4.', width * height, type(width * height))"
   ]
  },
  {
   "cell_type": "markdown",
   "metadata": {},
   "source": [
    "### Exercise 3\n",
    "\n",
    "Look at the following assignments and determine if the variable names are valid or not. \n",
    "\n",
    "1. `6pack = \"6\"`\n",
    "2. `can volume = 50`\n",
    "3. `answer = 42`\n",
    "4. `class = \"GRA4142\"`\n",
    "5. `_ = False`\n",
    "6. `ltr/fl.oz = 2.5`"
   ]
  },
  {
   "cell_type": "markdown",
   "metadata": {},
   "source": [
    "#### Answer\n",
    "\n",
    "Invalid: 1 (starts with a digit), 2 (a space is not allowed), 4 (class is a keyword), 6 (a slash or a dot is not allowed)\n",
    "\n",
    "Valid: 3, 5"
   ]
  },
  {
   "cell_type": "markdown",
   "metadata": {},
   "source": [
    "### Exercise 4\n",
    "\n",
    "Write expressions to calculate \n",
    "1. the total volume of a 6-pack of cans,\n",
    "2. the total volume of a 6-pack of cans and one 2 liter bottle.\n",
    "\n",
    "1 can = 0.33 liter."
   ]
  },
  {
   "cell_type": "code",
   "execution_count": 3,
   "metadata": {
    "ExecuteTime": {
     "end_time": "2021-09-04T14:27:17.513460Z",
     "start_time": "2021-09-04T14:27:17.508485Z"
    }
   },
   "outputs": [
    {
     "name": "stdout",
     "output_type": "stream",
     "text": [
      "1. 1.98\n",
      "2. 3.98\n"
     ]
    }
   ],
   "source": [
    "can_volume = 0.33\n",
    "bottle_volume = 2\n",
    "\n",
    "print('1.', 6 * can_volume)\n",
    "print('2.', 6 * can_volume + bottle_volume)"
   ]
  },
  {
   "cell_type": "markdown",
   "metadata": {},
   "source": [
    "### Exercise 5\n",
    "\n",
    "Calculate the values of the following expressions:\n",
    "\n",
    "1. $\\frac{2.4+5.6}{2}$\n",
    "2. $\\frac{2.4\\times5.6}{2}$\n",
    "3. $2\\times\\left(1+\\frac{5}{100}\\right)^{3}$\n",
    "4. $\\sqrt{(2^{2}+3^{2})}$ "
   ]
  },
  {
   "cell_type": "code",
   "execution_count": 4,
   "metadata": {
    "ExecuteTime": {
     "end_time": "2021-09-04T14:29:47.821011Z",
     "start_time": "2021-09-04T14:29:47.814244Z"
    }
   },
   "outputs": [
    {
     "name": "stdout",
     "output_type": "stream",
     "text": [
      "1. 4.0\n",
      "2. 6.72\n",
      "3. 2.3152500000000003\n",
      "4. 3.605551275463989\n",
      "4. 3.605551275463989\n"
     ]
    }
   ],
   "source": [
    "print('1.', (2.4 + 5.6) / 2)\n",
    "print('2.', 2.4 * 5.6 / 2)\n",
    "print('3.', 2 * (1 + 5 / 100) ** 3)\n",
    "print('4.', (2**2 + 3**2) ** 0.5)\n",
    "# Or:\n",
    "import math\n",
    "print('4.', math.sqrt(2**2 + 3**2))"
   ]
  },
  {
   "cell_type": "markdown",
   "metadata": {},
   "source": [
    "### Exercise 6\n",
    "The volume of a sphere is given by:\n",
    "\n",
    "$V=\\frac{4}{3}\\pi r^{3}$ \n",
    "\n",
    "Assume that the radius is given in the variable `r` (use e.g. `r = 2.0`). Write an expression to calculate the volume."
   ]
  },
  {
   "cell_type": "code",
   "execution_count": 5,
   "metadata": {
    "ExecuteTime": {
     "end_time": "2021-09-04T14:31:50.379851Z",
     "start_time": "2021-09-04T14:31:50.361393Z"
    }
   },
   "outputs": [
    {
     "data": {
      "text/plain": [
       "33.510321638291124"
      ]
     },
     "execution_count": 5,
     "metadata": {},
     "output_type": "execute_result"
    }
   ],
   "source": [
    "import math\n",
    "r = 2.0\n",
    "V = 4/3*math.pi*r**3\n",
    "V"
   ]
  },
  {
   "cell_type": "markdown",
   "metadata": {},
   "source": [
    "### Exercise 7\n",
    "\n",
    "What do the `//` and `%` operators do? Include an example in your answer."
   ]
  },
  {
   "cell_type": "code",
   "execution_count": 6,
   "metadata": {
    "ExecuteTime": {
     "end_time": "2021-09-04T14:34:27.436350Z",
     "start_time": "2021-09-04T14:34:27.431602Z"
    }
   },
   "outputs": [
    {
     "name": "stdout",
     "output_type": "stream",
     "text": [
      "172\n",
      "9\n"
     ]
    }
   ],
   "source": [
    "print(1729 // 10)  # The // operator computes floor division in which the remainder is discarded.\n",
    "print(1729 % 10)   # The % operator computes the remainder of a floor division."
   ]
  },
  {
   "cell_type": "markdown",
   "metadata": {},
   "source": [
    "### Exercise 8\n",
    "\n",
    "- Store your first and last name in separate variables.\n",
    "- Print out your first name in lower case and upper case.\n",
    "- Using both variables, create a new variable with your full name in form *last_name, first_name*.\n",
    "- Print out the length of your full name.\n",
    "- Write an expression that uses the variable with your full name to get your last name (i.e. the part of the name before a comma)."
   ]
  },
  {
   "cell_type": "code",
   "execution_count": 7,
   "metadata": {
    "ExecuteTime": {
     "end_time": "2021-09-04T14:43:27.059698Z",
     "start_time": "2021-09-04T14:43:27.053582Z"
    }
   },
   "outputs": [
    {
     "name": "stdout",
     "output_type": "stream",
     "text": [
      "homer\n",
      "HOMER\n",
      "14\n",
      "Simpson\n"
     ]
    }
   ],
   "source": [
    "first_name = 'Homer'\n",
    "last_name = 'Simpson'\n",
    "\n",
    "print(first_name.lower())\n",
    "print(first_name.upper())\n",
    "\n",
    "full_name = last_name + ', ' + first_name\n",
    "print(len(full_name))\n",
    "\n",
    "last_name_2 = full_name.split(', ')[0]\n",
    "print(last_name_2)"
   ]
  },
  {
   "cell_type": "markdown",
   "metadata": {},
   "source": [
    "### Exercise 9\n",
    "\n",
    "What does the following program print?\n",
    "\n",
    "    string = \"Harry\"\n",
    "    n = len(string)\n",
    "    mystery = string[0] + string[n-1] \n",
    "    print(mystery)\n",
    "\n",
    "Try to answer the question before running the program.\n",
    "\n",
    "How can we change `string[0] + string[n-1]` so that it does not need to use `n`?"
   ]
  },
  {
   "cell_type": "code",
   "execution_count": 8,
   "metadata": {
    "ExecuteTime": {
     "end_time": "2021-09-04T14:48:12.836617Z",
     "start_time": "2021-09-04T14:48:12.830970Z"
    }
   },
   "outputs": [
    {
     "name": "stdout",
     "output_type": "stream",
     "text": [
      "Hy\n",
      "Hy\n"
     ]
    }
   ],
   "source": [
    "string = \"Harry\"\n",
    "n = len(string)\n",
    "mystery = string[0] + string[n-1]\n",
    "print(mystery)\n",
    "\n",
    "string = \"Harry\"\n",
    "mystery = string[0] + string[-1]\n",
    "print(mystery)"
   ]
  },
  {
   "cell_type": "markdown",
   "metadata": {},
   "source": [
    "### Exercise 10\n",
    "\n",
    "Write a program that asks the user about their first name and the first name of the spouse, and then prints their initials with ` & ` between them.\n",
    "\n",
    "Sample input and output:\n",
    "\n",
    "    What's your first name: Home\n",
    "    What's the first name of your spouse: Marge\n",
    "    H & M"
   ]
  },
  {
   "cell_type": "code",
   "execution_count": 9,
   "metadata": {
    "ExecuteTime": {
     "end_time": "2021-09-04T14:52:10.981118Z",
     "start_time": "2021-09-04T14:52:07.669625Z"
    }
   },
   "outputs": [
    {
     "name": "stdout",
     "output_type": "stream",
     "text": [
      "What's your first name: Homer\n",
      "What's the first name of your spouse: Marge\n",
      "H & M\n"
     ]
    }
   ],
   "source": [
    "name_1 = input(\"What's your first name: \")\n",
    "name_2 = input(\"What's the first name of your spouse: \")\n",
    "print(name_1[0], '&', name_2[0])"
   ]
  },
  {
   "cell_type": "markdown",
   "metadata": {},
   "source": [
    "### Exercise 11\n",
    "\n",
    "Consider the following string\n",
    "    \n",
    "    s = 'ABCDEFGHIJ'\n",
    "\n",
    "Print out the following parts of the string:\n",
    "\n",
    "1. The whole string.\n",
    "2. The first character.\n",
    "3. A substring, starting at index 2 (i.e. starting with 'C') until the end of the string.\n",
    "4. The first four characters.\n",
    "5. The last character.\n",
    "6. The whole string but the last character.\n",
    "7. A substring obtained by taking characters at indexes 0, 2, 4, 6, 8\n",
    "8. The whole string backwards."
   ]
  },
  {
   "cell_type": "code",
   "execution_count": 10,
   "metadata": {
    "ExecuteTime": {
     "end_time": "2021-09-04T15:09:41.437415Z",
     "start_time": "2021-09-04T15:09:41.429873Z"
    }
   },
   "outputs": [
    {
     "name": "stdout",
     "output_type": "stream",
     "text": [
      "1. ABCDEFGHIJ\n",
      "2. A\n",
      "3. CDEFGHIJ\n",
      "4. ABCD\n",
      "5. J\n",
      "6. ABCDEFGHI\n",
      "7. ACEGI\n",
      "8. JIHGFEDCBA\n"
     ]
    }
   ],
   "source": [
    "s = 'ABCDEFGHIJ'\n",
    "print('1.', s)\n",
    "print('2.', s[0])\n",
    "print('3.', s[2:])\n",
    "print('4.', s[:4])\n",
    "print('5.', s[-1])\n",
    "print('6.', s[:-1])\n",
    "print('7.', s[::2])\n",
    "print('8.', s[::-1])"
   ]
  },
  {
   "cell_type": "markdown",
   "metadata": {},
   "source": [
    "## Conditional Execution"
   ]
  },
  {
   "cell_type": "markdown",
   "metadata": {},
   "source": [
    "### Exercise 12\n",
    "\n",
    "Let \n",
    "\n",
    "    x = 1\n",
    "    y = -1\n",
    "    \n",
    "Check if $x y<0$ and $x+y=0$ at the same time."
   ]
  },
  {
   "cell_type": "code",
   "execution_count": 11,
   "metadata": {
    "ExecuteTime": {
     "end_time": "2021-09-04T15:11:55.574565Z",
     "start_time": "2021-09-04T15:11:55.565869Z"
    }
   },
   "outputs": [
    {
     "data": {
      "text/plain": [
       "True"
      ]
     },
     "execution_count": 11,
     "metadata": {},
     "output_type": "execute_result"
    }
   ],
   "source": [
    "x = 1\n",
    "y = -1\n",
    "x * y < 0 and x + y == 0"
   ]
  },
  {
   "cell_type": "markdown",
   "metadata": {},
   "source": [
    "### Exercise 13\n",
    "\n",
    "Extend your solution for Exercise 1 so that employees get also 50% supplementary pay for all time exceeding 40 hours.\n",
    "\n",
    "Sample input and output:\n",
    "\n",
    "    Enter hours: 45\n",
    "    Enter hour salary: 10\n",
    "    Week salary: 475.0"
   ]
  },
  {
   "cell_type": "code",
   "execution_count": 12,
   "metadata": {
    "ExecuteTime": {
     "end_time": "2021-09-04T15:37:28.369069Z",
     "start_time": "2021-09-04T15:37:25.289548Z"
    }
   },
   "outputs": [
    {
     "name": "stdout",
     "output_type": "stream",
     "text": [
      "Enter hours: 45\n",
      "Enter hour salary: 10\n",
      "Week salary: 475.0\n"
     ]
    }
   ],
   "source": [
    "hours = float(input('Enter hours: '))\n",
    "hour_salary = float(input('Enter hour salary: '))\n",
    "if hours > 40:\n",
    "    week_salary = (40 + 1.5 * (hours - 40)) * hour_salary\n",
    "else:\n",
    "    week_salary = hours * hour_salary\n",
    "print(\"Week salary:\", week_salary)"
   ]
  },
  {
   "cell_type": "markdown",
   "metadata": {},
   "source": [
    "### Exercise 14\n",
    "\n",
    "Write a program to determine the exam grade based on the number of points (integer). The number of points is between 0 and 100. Assume that the user enters an integer number. Print an error message if the score entered is below 0 or above 100, otherwise print the grade based on the following criteria:\n",
    "\n",
    "    Score  Grade\n",
    "    >= 90     A\n",
    "    >= 80     B\n",
    "    >= 70     C\n",
    "    >= 60     D\n",
    "    >= 50     E\n",
    "    <  50     F\n",
    "    \n",
    "Sample input and output:\n",
    "\n",
    "    Enter score: 95\n",
    "    A\n",
    "    \n",
    "    Enter score: 101\n",
    "    Incorrect input!\n",
    "    \n",
    "    Enter score: 75\n",
    "    C\n",
    "    \n",
    "    Enter score: 49\n",
    "    F"
   ]
  },
  {
   "cell_type": "code",
   "execution_count": 13,
   "metadata": {
    "ExecuteTime": {
     "end_time": "2021-09-04T15:36:14.195189Z",
     "start_time": "2021-09-04T15:36:13.169991Z"
    }
   },
   "outputs": [
    {
     "name": "stdout",
     "output_type": "stream",
     "text": [
      "Enter score: 95\n",
      "A\n"
     ]
    }
   ],
   "source": [
    "score = int(input(\"Enter score: \"))\n",
    "\n",
    "if 0 <= score <= 100:\n",
    "    if score >= 90:\n",
    "        print(\"A\")\n",
    "    elif score >= 80:\n",
    "        print(\"B\")\n",
    "    elif score >= 70:\n",
    "        print(\"C\")\n",
    "    elif score >= 60:\n",
    "        print(\"D\")\n",
    "    elif score >= 50:\n",
    "        print(\"E\")\n",
    "    else:\n",
    "        print(\"F\")\n",
    "else:\n",
    "    print(\"Incorrect input!\")"
   ]
  },
  {
   "cell_type": "markdown",
   "metadata": {},
   "source": [
    "# Problem set 2"
   ]
  },
  {
   "cell_type": "markdown",
   "metadata": {},
   "source": [
    "### Exercise 1\n",
    "\n",
    "Using a loop, create the following lists:\n",
    "\n",
    "1. a list containing the squares of all numbers between 5 and 25,\n",
    "2. a list with all numbers between 1 and 50 that are divisible by 3."
   ]
  },
  {
   "cell_type": "code",
   "execution_count": 1,
   "metadata": {
    "ExecuteTime": {
     "end_time": "2021-09-10T14:17:47.995726Z",
     "start_time": "2021-09-10T14:17:47.990531Z"
    }
   },
   "outputs": [
    {
     "name": "stdout",
     "output_type": "stream",
     "text": [
      "1. [25, 36, 49, 64, 81, 100, 121, 144, 169, 196, 225, 256, 289, 324, 361, 400, 441, 484, 529, 576, 625]\n",
      "2. [3, 6, 9, 12, 15, 18, 21, 24, 27, 30, 33, 36, 39, 42, 45, 48]\n"
     ]
    }
   ],
   "source": [
    "# 1.\n",
    "alist = []\n",
    "for number in range(5, 26):\n",
    "    alist.append(number**2)\n",
    "print('1.', alist)\n",
    "\n",
    "# 2.\n",
    "alist = []\n",
    "for number in range(1, 51):\n",
    "    if number % 3 == 0:\n",
    "        alist.append(number)\n",
    "print('2.', alist)"
   ]
  },
  {
   "cell_type": "markdown",
   "metadata": {},
   "source": [
    "### Exercise 2\n",
    "\n",
    "Create the lists from the previous exercise using list comprehensions."
   ]
  },
  {
   "cell_type": "code",
   "execution_count": 2,
   "metadata": {
    "ExecuteTime": {
     "end_time": "2021-09-10T14:19:13.016553Z",
     "start_time": "2021-09-10T14:19:13.012039Z"
    }
   },
   "outputs": [
    {
     "name": "stdout",
     "output_type": "stream",
     "text": [
      "1. [25, 36, 49, 64, 81, 100, 121, 144, 169, 196, 225, 256, 289, 324, 361, 400, 441, 484, 529, 576, 625]\n",
      "2. [3, 6, 9, 12, 15, 18, 21, 24, 27, 30, 33, 36, 39, 42, 45, 48]\n"
     ]
    }
   ],
   "source": [
    "# 1.\n",
    "alist = [number**2 for number in range(5, 26)]\n",
    "print('1.', alist)\n",
    "\n",
    "# 2.\n",
    "alist = [number for number in range(1, 51) if number % 3 == 0]\n",
    "print('2.', alist)"
   ]
  },
  {
   "cell_type": "markdown",
   "metadata": {},
   "source": [
    "### Exercise 3\n",
    "\n",
    "Write a function that has two parameters, `width` and `height`, and draws a rectangle by printing string(s) consisting of characters `+`, `-`, `|`, ` ` (space) and possibly `\\n` (newline), such that:\n",
    "\n",
    "- The corners of the rectangle are drawn using the `+` character.\n",
    "- Both horizontal lines are drawn using the `-` character.\n",
    "- Both vertical lines are drawn using the `|` character.\n",
    "- The output consists of `height` lines, each line has `width` characters (excluding the newline character).\n",
    "\n",
    "For example, calling the function with arguments 4 and 3 will print:\n",
    "```\n",
    "+--+\n",
    "|  |\n",
    "+--+\n",
    "```\n",
    "and with arguments 6 and 4 will print:\n",
    "```\n",
    "+----+\n",
    "|    |\n",
    "|    |\n",
    "+----+\n",
    "```\n",
    "\n",
    "You can assume that both the `width` and the `height` are integer numbers greater than or equal to 2.\n",
    "\n",
    "Hint: All strings you need to print can be written as expressions using the allowed characters, string additions, and multiplications of string by integers."
   ]
  },
  {
   "cell_type": "code",
   "execution_count": 3,
   "metadata": {},
   "outputs": [
    {
     "name": "stdout",
     "output_type": "stream",
     "text": [
      "+--+\n",
      "|  |\n",
      "+--+\n",
      "+----+\n",
      "|    |\n",
      "|    |\n",
      "+----+\n"
     ]
    }
   ],
   "source": [
    "def print_rectangle(width, height):\n",
    "    print('+' + '-' * (width - 2) + '+')\n",
    "    for i in range(height - 2):\n",
    "        print('|' + ' ' * (width - 2) + '|')\n",
    "    print('+' + '-' * (width - 2) + '+')\n",
    "\n",
    "    \n",
    "# Testing the function:\n",
    "print_rectangle(4, 3)\n",
    "print_rectangle(6, 4)"
   ]
  },
  {
   "cell_type": "markdown",
   "metadata": {},
   "source": [
    "### Exercise 4\n",
    "\n",
    "Write a function that accepts two lists and returns their intersection, i.e. elements that exist in both arrays. (You can assume that there are no duplicate elements in either of the lists.)\n",
    "\n",
    "1. Use a `for` loop.\n",
    "2. Change the function and use a list comprehension.\n",
    "\n",
    "Test your function using the following lists:\n",
    "\n",
    "    [1, 2, 3, 4, 6, 9]\n",
    "\t[2, 3, 4, 5]"
   ]
  },
  {
   "cell_type": "code",
   "execution_count": 4,
   "metadata": {
    "ExecuteTime": {
     "end_time": "2021-09-10T14:27:36.181145Z",
     "start_time": "2021-09-10T14:27:36.174671Z"
    }
   },
   "outputs": [
    {
     "name": "stdout",
     "output_type": "stream",
     "text": [
      "1. [2, 3, 4]\n",
      "2. [2, 3, 4]\n"
     ]
    }
   ],
   "source": [
    "def list_intersection(list1, list2):\n",
    "    res = []\n",
    "    for element in list1:\n",
    "        if element in list2:\n",
    "            res.append(element)\n",
    "    return res\n",
    "\n",
    "def list_intersection_2(list1, list2):\n",
    "    return [element for element in list1 if element in list2]\n",
    "\n",
    "\n",
    "a = [1, 2, 3, 4, 6, 9]\n",
    "b = [2, 3, 4, 5]\n",
    "print('1.', list_intersection(a, b))\n",
    "print('2.', list_intersection_2(a, b))"
   ]
  },
  {
   "cell_type": "markdown",
   "metadata": {},
   "source": [
    "### Exercise 5\n",
    "\n",
    "Write a function that accepts a list, and returns a its copy without duplicates.\n",
    "\n",
    "For example, if the input is `[1, 1, 2, 1, 3, 2, 4, 4, 5]`, the function returns `[1, 2, 3, 4, 5]`."
   ]
  },
  {
   "cell_type": "code",
   "execution_count": 5,
   "metadata": {
    "ExecuteTime": {
     "end_time": "2021-09-10T15:52:20.042756Z",
     "start_time": "2021-09-10T15:52:20.037566Z"
    }
   },
   "outputs": [
    {
     "name": "stdout",
     "output_type": "stream",
     "text": [
      "[1, 2, 3, 4, 5]\n"
     ]
    }
   ],
   "source": [
    "def unique(alist):\n",
    "    res = []\n",
    "    for element in alist:\n",
    "        if element not in res:\n",
    "            res.append(element)\n",
    "    return res\n",
    "\n",
    "# Alternatively\n",
    "# def unique(alist):\n",
    "#     return list(set(alist))\n",
    "\n",
    "print(unique([1, 1, 2, 1, 3, 2, 4, 4, 5]))"
   ]
  },
  {
   "cell_type": "markdown",
   "metadata": {},
   "source": [
    "### Exercise 6\n",
    "\n",
    "Write a function to multiply all (integer) numbers in a list.\n",
    "\n",
    "For example, if the input is `[1, 2, 3, -4]`, the function returns `-24`."
   ]
  },
  {
   "cell_type": "code",
   "execution_count": 6,
   "metadata": {
    "ExecuteTime": {
     "end_time": "2021-09-10T15:58:12.335936Z",
     "start_time": "2021-09-10T15:58:12.331599Z"
    },
    "scrolled": true
   },
   "outputs": [
    {
     "name": "stdout",
     "output_type": "stream",
     "text": [
      "-24\n"
     ]
    }
   ],
   "source": [
    "def product(numbers):\n",
    "    res = 1\n",
    "    for element in numbers:\n",
    "        res *= element  # equiv. to res = res * element\n",
    "    return res\n",
    "\n",
    "# Alternative solution (for more advanced programmers):\n",
    "# from functools import reduce\n",
    "# def product(numbers):\n",
    "#     return reduce(lambda a, b: a*b, numbers)\n",
    "\n",
    "print(product([1, 2, 3, -4]))"
   ]
  },
  {
   "cell_type": "markdown",
   "metadata": {},
   "source": [
    "### Exercise 7\n",
    "\n",
    "1. Create an empty tuple.\n",
    "2. Create a tuple containing values of different types.\n",
    "3. Convert this tuple to a list.\n",
    "4. Write a function that accepts a tuple and moves the first element to the end of the tuple, and returns the new tuple. Remember that tuples are immutable. For example, if the argument of the function is `(1, 2, 3)`, the function will return `(2, 3, 1)`."
   ]
  },
  {
   "cell_type": "code",
   "execution_count": 7,
   "metadata": {
    "ExecuteTime": {
     "end_time": "2021-09-10T14:37:09.830540Z",
     "start_time": "2021-09-10T14:37:09.825361Z"
    }
   },
   "outputs": [
    {
     "name": "stdout",
     "output_type": "stream",
     "text": [
      "['Homer Simpson', 240.0] <class 'list'>\n",
      "(2, 3, 1)\n"
     ]
    }
   ],
   "source": [
    "# 1.\n",
    "atuple = ()\n",
    "\n",
    "# 2. For example\n",
    "atuple = ('Homer Simpson', 240.0)  # First element is str, second is float\n",
    "\n",
    "# 3.\n",
    "alist = list(atuple)\n",
    "print(alist, type(alist))\n",
    "\n",
    "# 4.\n",
    "def rotate(atuple):\n",
    "    return atuple[1:] + (atuple[0],)\n",
    "\n",
    "atuple = (1, 2, 3)\n",
    "print(rotate(atuple))"
   ]
  },
  {
   "cell_type": "markdown",
   "metadata": {},
   "source": [
    "### Exercise 8\n",
    "\n",
    "Write a program that asks the user for floating-point numbers in a loop until the user enters \"done\", and then prints the maximum and minimum of these numbers. (Store the numbers in a list and use the `max` and `min` functions to calculate the maximum and minimum.)\n",
    "\n",
    "Sample input and output:\n",
    "\n",
    "    Enter a number: 6\n",
    "    Enter a number: 2\n",
    "    Enter a number: 9\n",
    "    Enter a number: 3\n",
    "    Enter a number: 5\n",
    "    Enter a number: done\n",
    "    Maximum: 9.0\n",
    "    Minimum: 2.0"
   ]
  },
  {
   "cell_type": "code",
   "execution_count": 8,
   "metadata": {
    "ExecuteTime": {
     "end_time": "2021-09-10T14:57:36.973042Z",
     "start_time": "2021-09-10T14:57:28.698371Z"
    }
   },
   "outputs": [
    {
     "name": "stdout",
     "output_type": "stream",
     "text": [
      "Enter a number: 6\n",
      "Enter a number: 2\n",
      "Enter a number: 9\n",
      "Enter a number: 3\n",
      "Enter a number: 5\n",
      "Enter a number: done\n",
      "Maximum: 9.0\n",
      "Minimum: 2.0\n"
     ]
    }
   ],
   "source": [
    "numbers = []\n",
    "while True:\n",
    "    number = input('Enter a number: ')\n",
    "    if number.lower() == 'done':\n",
    "        break\n",
    "    numbers.append(float(number))\n",
    "print('Maximum: {}'.format(max(numbers)))\n",
    "print('Minimum: {}'.format(min(numbers)))"
   ]
  },
  {
   "cell_type": "markdown",
   "metadata": {
    "collapsed": true
   },
   "source": [
    "### Exercise 9\n",
    "\n",
    "We know that money deposited in a bank account earns interest, and this interest accumulates as the years pass. The amount of money $V_t$ after $t$ years can be calculated iteratively using the following formula:\n",
    "\n",
    "$V_t = (1+r) V_{t-1} $\n",
    "\n",
    "where $V_0$ denote the initial investment, and $r$ denotes the annual interest rate (as a decimal number).\n",
    "\n",
    "Write a function to determine the future value of an investment, with the following three parameters: the initial investment, the annual interest rate, and the time in years. \n",
    "\n",
    "Calculate the future value of the initial investment 2000 after 7 years if the interest rate is 10%."
   ]
  },
  {
   "cell_type": "code",
   "execution_count": 9,
   "metadata": {
    "ExecuteTime": {
     "end_time": "2021-09-10T16:08:04.147692Z",
     "start_time": "2021-09-10T16:08:04.142394Z"
    },
    "scrolled": true
   },
   "outputs": [
    {
     "data": {
      "text/plain": [
       "3897.434200000001"
      ]
     },
     "execution_count": 9,
     "metadata": {},
     "output_type": "execute_result"
    }
   ],
   "source": [
    "def future_value(value, rate, years):\n",
    "    for i in range(years):\n",
    "        value *= 1 + rate\n",
    "    return value\n",
    "\n",
    "future_value(2000, 0.1, 7)"
   ]
  },
  {
   "cell_type": "markdown",
   "metadata": {},
   "source": [
    "### Exercise 10\n",
    "\n",
    "Write a function that accepts an integer number and then calculates and returns the sum of its digits.\n",
    "\n",
    "Then use this function to find out what positive integers less than 10000 have the property that they are equal to the cube of their digit sum (there are 4 such numbers)."
   ]
  },
  {
   "cell_type": "code",
   "execution_count": 10,
   "metadata": {},
   "outputs": [
    {
     "name": "stdout",
     "output_type": "stream",
     "text": [
      "1\n",
      "512\n",
      "4913\n",
      "5832\n"
     ]
    }
   ],
   "source": [
    "# def digit_sum(number):\n",
    "#     result = 0\n",
    "#     while number > 0:\n",
    "#         result += number % 10    # 1234 = 123 * 10 + 4 = (number // 10) * 10 + (number % 10)\n",
    "#         number = number // 10\n",
    "#     return result\n",
    "\n",
    "# Alternative solution:\n",
    "def digit_sum(number):\n",
    "    result = 0\n",
    "    number_str = str(number)\n",
    "    for digit in number_str:\n",
    "        result += int(digit)\n",
    "    return result\n",
    "\n",
    "# Alternative solution as one-liner:\n",
    "# def digit_sum(number):\n",
    "#     return sum([int(digit) for digit in str(number)])\n",
    "\n",
    "for number in range(1, 10000):\n",
    "    if digit_sum(number) ** 3 == number:\n",
    "        print(number)"
   ]
  },
  {
   "cell_type": "markdown",
   "metadata": {},
   "source": [
    "### Exercise 11\n",
    "\n",
    "In [Scrabble](https://en.wikipedia.org/wiki/Scrabble), the score of a word is calculated as the sum of the values of all its letters. The letter values are shown in the following table:\n",
    "\n",
    "<table>\n",
    "<tr><th>Letter</th><th>Value</th></tr>\n",
    "<tr><td>A, E, I, O, U, L, N, R, S, T</td><td>1</td></tr>\n",
    "<tr><td>D, G</td><td>2</td></tr>\n",
    "<tr><td>B, C, M, P</td><td>3</td></tr>\n",
    "<tr><td>F, H, V, W, Y</td><td>4</td></tr>\n",
    "<tr><td>K</td><td>5</td></tr>\n",
    "<tr><td>J, X</td><td>8</td></tr>\n",
    "<tr><td>Q, Z</td><td>10</td></tr>\n",
    "</table>\n",
    "\n",
    "For example, the score of \\\"PYTHON\\\" is 3 + 4 + 1 + 4 + 1 + 1 = 14.\n",
    "\n",
    "Write a function to calculate the score of a word (given as the argument). Make sure to convert the word to uppercase before you calculate its score (using the `upper` method). Use value 0 for any character that is not a letter."
   ]
  },
  {
   "cell_type": "code",
   "execution_count": 11,
   "metadata": {},
   "outputs": [
    {
     "name": "stdout",
     "output_type": "stream",
     "text": [
      "Python: 14\n",
      "banana: 8\n",
      "QUIZ: 22\n",
      "'': 0\n"
     ]
    }
   ],
   "source": [
    "def scrabble_score(word):\n",
    "    score_map = [(\"AEIOULNRST\", 1), (\"DG\", 2), (\"BCMP\", 3), (\"FHVWY\", 4), (\"K\", 5), (\"JX\", 8), (\"QZ\", 10)]\n",
    "    return sum([score for group, score in score_map for letter in word.upper() if letter in group])\n",
    "\n",
    "# Or:\n",
    "def scrabble_score(word):\n",
    "    word = word.upper()\n",
    "    score = 0\n",
    "    for letter in word:\n",
    "        if letter in {'A', 'E', 'I', 'O', 'U', 'L', 'N', 'R', 'S', 'T'}:\n",
    "            score += 1\n",
    "        elif letter in {'D', 'G'}:\n",
    "            score += 2\n",
    "        elif letter in {'B', 'C', 'M', 'P'}:\n",
    "            score += 3\n",
    "        elif letter in {'F', 'H', 'V', 'W', 'Y'}:\n",
    "            score += 4\n",
    "        elif letter in {'K'}:\n",
    "            score += 5\n",
    "        elif letter in {'J', 'X'}:\n",
    "            score += 8\n",
    "        elif letter in {'Q', 'Z'}:\n",
    "            score += 10\n",
    "    return score\n",
    "\n",
    "\n",
    "print(\"Python:\", scrabble_score(\"Python\"))\n",
    "print(\"banana:\", scrabble_score(\"banana\"))\n",
    "print(\"QUIZ:\", scrabble_score(\"QUIZ\"))\n",
    "print(\"'':\", scrabble_score(\"\"))"
   ]
  },
  {
   "cell_type": "markdown",
   "metadata": {},
   "source": [
    "# Problem set 3"
   ]
  },
  {
   "cell_type": "markdown",
   "metadata": {},
   "source": [
    "### Exercise 1\n",
    "\n",
    "Use the string `format` method or an f-string to print $2/3$ using 4 decimal digits."
   ]
  },
  {
   "cell_type": "code",
   "execution_count": 1,
   "metadata": {},
   "outputs": [
    {
     "name": "stdout",
     "output_type": "stream",
     "text": [
      "0.6667\n",
      "0.6667\n"
     ]
    }
   ],
   "source": [
    "value = 2/3\n",
    "print(\"{:.4f}\".format(value))\n",
    "print(f\"{value:.4f}\")"
   ]
  },
  {
   "cell_type": "markdown",
   "metadata": {},
   "source": [
    "### Exercise 2\n",
    "\n",
    "Write a Python function that accepts a list and checks if all elements are distinct.\n",
    "\n",
    "#### Sample arguments and return values:\n",
    "\n",
    "    Argument: [1, 2, 3, 4, 5]\n",
    "    Returns: True\n",
    "    \n",
    "    Argument: [1, 2, 3, 2, 5]\n",
    "    Returns: False"
   ]
  },
  {
   "cell_type": "code",
   "execution_count": 2,
   "metadata": {
    "ExecuteTime": {
     "end_time": "2021-09-20T10:53:54.506307Z",
     "start_time": "2021-09-20T10:53:54.501404Z"
    }
   },
   "outputs": [
    {
     "name": "stdout",
     "output_type": "stream",
     "text": [
      "True\n",
      "False\n"
     ]
    }
   ],
   "source": [
    "def is_unique(alist):\n",
    "    # Alt. 1:\n",
    "    # return len(alist) == len(set(alist))\n",
    "    # Alt. 2:\n",
    "    for index, element in enumerate(alist):\n",
    "        if element in alist[:index]:\n",
    "            return False\n",
    "    return True\n",
    "\n",
    "print(is_unique([1, 2, 3, 4, 5]))\n",
    "print(is_unique([1, 2, 3, 2, 5]))"
   ]
  },
  {
   "cell_type": "markdown",
   "metadata": {},
   "source": [
    "### Exercise 3\n",
    "\n",
    "1. Write (and test) a function that checks if 3 (an integer) is in a given list.\n",
    "1. Write (and test) a function that returns the count of all 3s in a given list.\n",
    "1. Write (and test) a function that checks if there are at least two consecutive elements both being 3.\n",
    "1. Write (and test) a function that returns indexes of all 3s in a given list.\n",
    "1. Write (and test) a function that returns a copy of a given list with all 3s replaced with 4.\n",
    "1. Write (and test) a function that swaps the elements at indexes 3 and 4. (Assume that the list has at least 5 elements. You can choose if you want to do it in-place or return a new list.)"
   ]
  },
  {
   "cell_type": "code",
   "execution_count": 3,
   "metadata": {
    "ExecuteTime": {
     "end_time": "2021-06-25T08:57:29.166579Z",
     "start_time": "2021-06-25T08:57:29.154019Z"
    },
    "hide_input": false
   },
   "outputs": [
    {
     "name": "stdout",
     "output_type": "stream",
     "text": [
      "True\n",
      "3\n",
      "True\n",
      "[4, 5, 8]\n",
      "[1, 8, 7, 2, 4, 4, 2, 1, 4]\n",
      "[1, 8, 7, 3, 2, 3, 2, 1, 3]\n",
      "[1, 8, 7, 3, 2, 3, 2, 1, 3]\n"
     ]
    }
   ],
   "source": [
    "def fn1(alist):\n",
    "    return 3 in alist\n",
    "\n",
    "def fn2(alist):\n",
    "    # Option 1:\n",
    "    count = 0\n",
    "    for element in alist:\n",
    "        if element == 3:\n",
    "            count += 1\n",
    "    return count\n",
    "    # Option 2 (advanced):\n",
    "    # return sum([1 for element in alist if element == 3])\n",
    "    # Option 3:\n",
    "    # return alist.count(3)\n",
    "\n",
    "def fn3(alist):\n",
    "    for index in range(len(alist) - 1):\n",
    "        if alist[index] == alist[index+1] == 3:  # equiv to. alist[index] == 3 and alist[index+1] == 3\n",
    "            return True\n",
    "    return False\n",
    "\n",
    "def fn4(alist):\n",
    "    # Option 1:\n",
    "    indexes = []\n",
    "    for index, element in enumerate(alist):\n",
    "        if element == 3:\n",
    "            indexes.append(index)\n",
    "    return indexes\n",
    "    # Option 2 (advanced):\n",
    "    # return [index for index, element in enumerate(alist) if element == 3]\n",
    "\n",
    "def fn5(alist):\n",
    "    # Option 1:\n",
    "    blist = []\n",
    "    for element in alist:\n",
    "        if element == 3:\n",
    "            blist.append(4)\n",
    "        else:\n",
    "            blist.append(element)\n",
    "    return blist\n",
    "    # Option 2 (very advanced):\n",
    "    # return [{3: 4}.get(element, element) for element in alist]\n",
    "\n",
    "def fn6(alist):\n",
    "    return alist[:3] + [alist[4], alist[3]] + alist[5:]\n",
    "    \n",
    "def fn6_inplace(alist):\n",
    "    # Option 1:\n",
    "    tmp = alist[3]\n",
    "    alist[3] = alist[4]\n",
    "    alist[4] = tmp\n",
    "    # Option 2:\n",
    "    # alist[3], alist[4] = alist[4], alist[3]\n",
    "\n",
    "\n",
    "alist = [1, 8, 7, 2, 3, 3, 2, 1, 3]\n",
    "\n",
    "print(fn1(alist))\n",
    "print(fn2(alist))\n",
    "print(fn3(alist))\n",
    "print(fn4(alist))\n",
    "print(fn5(alist))\n",
    "print(fn6(alist))\n",
    "fn6_inplace(alist)\n",
    "print(alist)\n"
   ]
  },
  {
   "cell_type": "markdown",
   "metadata": {},
   "source": [
    "### Exercise 4\n",
    "\n",
    "Implement the game of [Rock paper scissors](https://en.wikipedia.org/wiki/Rock_paper_scissors) in Python. Ask the user for the shapes selected by both players and then print out who the winner is (or if it is a tie). You can assume that the user enters valid shapes.\n",
    "\n",
    "#### Sample executions:\n",
    "    \n",
    "    Player 1 [rock/paper/scissors]: rock\n",
    "    Player 2 [rock/paper/scissors]: paper\n",
    "    Player 2 has won.\n",
    "\n",
    "    Player 1 [rock/paper/scissors]: scissors\n",
    "    Player 2 [rock/paper/scissors]: paper\n",
    "    Player 1 has won.\n",
    "\n",
    "    Player 1 [rock/paper/scissors]: paper\n",
    "    Player 2 [rock/paper/scissors]: paper\n",
    "    It is a tie!"
   ]
  },
  {
   "cell_type": "code",
   "execution_count": 4,
   "metadata": {
    "ExecuteTime": {
     "end_time": "2021-09-20T11:54:36.259522Z",
     "start_time": "2021-09-20T11:54:30.291501Z"
    }
   },
   "outputs": [
    {
     "name": "stdout",
     "output_type": "stream",
     "text": [
      "Player 1 [rock/paper/scissors]: rock\n",
      "Player 2 [rock/paper/scissors]: paper\n",
      "Player 2 has won.\n"
     ]
    }
   ],
   "source": [
    "# You can solve the exercises with a few if-s but I want to show you an \"optimized\" version:\n",
    "\n",
    "winning_pairs = [\n",
    "    ('rock', 'scissors'),\n",
    "    ('scissors', 'paper'),\n",
    "    ('paper', 'rock')\n",
    "]\n",
    "\n",
    "shape1 = input(\"Player 1 [rock/paper/scissors]: \").strip().lower()\n",
    "shape2 = input(\"Player 2 [rock/paper/scissors]: \").strip().lower()\n",
    "if shape1 == shape2:\n",
    "    print('It is a tie!')\n",
    "elif (shape1, shape2) in winning_pairs:\n",
    "    print('Player 1 has won.')\n",
    "else:\n",
    "    print('Player 2 has won.')"
   ]
  },
  {
   "cell_type": "markdown",
   "metadata": {},
   "source": [
    "### Exercise 5\n",
    "\n",
    "The file `quiz_score.txt` contains a list of scores between 0 and 10. Inspect the file and note that each score is on a separate line. Count and print the number of occurrence for each score. (Loop over all possible score values and use the `count` method to get the number of occurrences.)"
   ]
  },
  {
   "cell_type": "code",
   "execution_count": 5,
   "metadata": {},
   "outputs": [
    {
     "name": "stdout",
     "output_type": "stream",
     "text": [
      "Score  0 was achieved by 11 people.\n",
      "Score  1 was achieved by  5 people.\n",
      "Score  2 was achieved by  3 people.\n",
      "Score  3 was achieved by 13 people.\n",
      "Score  4 was achieved by  6 people.\n",
      "Score  5 was achieved by  5 people.\n",
      "Score  6 was achieved by  5 people.\n",
      "Score  7 was achieved by 13 people.\n",
      "Score  8 was achieved by 11 people.\n",
      "Score  9 was achieved by 14 people.\n",
      "Score 10 was achieved by 14 people.\n"
     ]
    }
   ],
   "source": [
    "with open('quiz_score.txt') as file:\n",
    "    content = file.read()\n",
    "scores = content.split()\n",
    "# Now scores are strings, let's convert them to integers:\n",
    "scores = [int(element) for element in scores]\n",
    "for score in range(0, 11):  # We want the last score to be 10\n",
    "    print('Score {:2d} was achieved by {:2d} people.'.format(score, scores.count(score)))"
   ]
  },
  {
   "cell_type": "markdown",
   "metadata": {},
   "source": [
    "### Exercise 6\n",
    "\n",
    "1. Store (using Python) the following text in a text file:\n",
    "\n",
    "   ```\n",
    "   4\n",
    "   Homer: 23\n",
    "   Marge: 86\n",
    "   Bart: 38\n",
    "   Lisa: 97\n",
    "   ```\n",
    "\n",
    "   The first line contains the number of students. All following lines contain the name and (integer) exam score for all students using the format shown above. (Assume that all names are unique.)\n",
    "\n",
    "2. Write another program that reads the file you created in the first part of the exercise, and creates a dictionary with the exam scores using the name as the key. Using the example from above, the dictionary should be:\n",
    "\n",
    "   ```python\n",
    "   {'Homer': 23, 'Marge': 86, 'Bart': 38, 'Lisa': 97}\n",
    "   ```\n",
    "   \n",
    "   (Use the `readline` method to read lines from a file.)"
   ]
  },
  {
   "cell_type": "code",
   "execution_count": 6,
   "metadata": {},
   "outputs": [
    {
     "name": "stdout",
     "output_type": "stream",
     "text": [
      "{'Homer': 23, 'Marge': 86, 'Bart': 38, 'Lisa': 97}\n"
     ]
    }
   ],
   "source": [
    "# 1.\n",
    "text = \"\"\"\\\n",
    "4\n",
    "Homer: 23\n",
    "Marge: 86\n",
    "Bart: 38\n",
    "Lisa: 97\n",
    "\"\"\"\n",
    "\n",
    "with open(\"exam_results.txt\", \"w\") as file:\n",
    "    file.write(text)\n",
    "\n",
    "# 2.\n",
    "with open(\"exam_results.txt\") as file:\n",
    "    count = int(file.readline())\n",
    "    scores = {}\n",
    "    for i in range(count):\n",
    "        name, score = file.readline().split(': ')\n",
    "        scores[name] = int(score)\n",
    "    print(scores)"
   ]
  },
  {
   "cell_type": "markdown",
   "metadata": {},
   "source": [
    "## Exercise 7\n",
    "\n",
    "Write a function that accepts a text and encrypts it using the [Caesar cipher](https://en.wikipedia.org/wiki/Caesar_cipher). That is, each A gets replaced by X, B by Y, C by Z, D by A, E by B, etc. Non-letter characters (such as spaces and punctuation) remain unchanged.\n",
    "\n",
    "You can assume that the given text is uppercase (or convert the case before encrypting it).\n",
    "\n",
    "For example, calling the function using the text\n",
    "```\n",
    "THE QUICK BROWN FOX JUMPS OVER THE LAZY DOG!\n",
    "```\n",
    "as the argument will return:\n",
    "```\n",
    "QEB NRFZH YOLTK CLU GRJMP LSBO QEB IXWV ALD!\n",
    "```\n",
    "\n",
    "Extra challenge: in the example above, all letters were shifted by 3 positions down the alphabet. Add a parameters to the function that allows to use different shifts (both positive and negative)."
   ]
  },
  {
   "cell_type": "code",
   "execution_count": 7,
   "metadata": {},
   "outputs": [
    {
     "data": {
      "text/plain": [
       "'QEB NRFZH YOLTK CLU GRJMP LSBO QEB IXWV ALD!'"
      ]
     },
     "execution_count": 7,
     "metadata": {},
     "output_type": "execute_result"
    }
   ],
   "source": [
    "def ceasar_encrypt(text, shift=3):\n",
    "    text = text.upper()\n",
    "    alphabet = \"ABCDEFGHIJKLMNOPQRSTUVWXYZ\"\n",
    "    res = \"\"\n",
    "    for character in text:\n",
    "        position = alphabet.find(character)\n",
    "        if position >= 0:\n",
    "            res += alphabet[(position - shift) % 26]\n",
    "        else:\n",
    "            res += character\n",
    "    return res\n",
    "\n",
    "ceasar_encrypt(\"THE QUICK BROWN FOX JUMPS OVER THE LAZY DOG!\")"
   ]
  },
  {
   "cell_type": "markdown",
   "metadata": {},
   "source": [
    "# Problem set 4"
   ]
  },
  {
   "cell_type": "code",
   "execution_count": 1,
   "metadata": {
    "ExecuteTime": {
     "end_time": "2021-09-20T11:15:40.291417Z",
     "start_time": "2021-09-20T11:15:40.288305Z"
    }
   },
   "outputs": [],
   "source": [
    "import numpy as np\n",
    "import numpy.random as npr\n",
    "import matplotlib.pyplot as plt\n",
    "%matplotlib inline"
   ]
  },
  {
   "cell_type": "markdown",
   "metadata": {},
   "source": [
    "### Exercise 1\n",
    "\n",
    "Define the following 2-dimensional NumPy array:\n",
    "\n",
    "$$ Y=\\left[\\begin{array}{ccc}\n",
    "1 & 2 & 3\\\\\n",
    "4 & 5 & 6\\\\\n",
    "7 & 8 & 9\n",
    "\\end{array}\\right] $$\n",
    "         \n",
    "- Print the shape and size of $Y$.\n",
    "- Compute the rank of $Y$ (use online resources to learn what the rank is and to find out which NumPy function or method to use).\n",
    "- Compute the transpose of $Y$.\n",
    "- Select the following sub-matrices of $Y$:\n",
    "\n",
    "  $$ Y_1 = \\left[\\begin{array}{cc}\n",
    "  1 & 2\\\\\n",
    "  4 & 5\n",
    "  \\end{array}\\right] $$\n",
    "          \n",
    "  $$ Y_2 =\\left[\\begin{array}{cc}\n",
    "  5 & 6\\\\\n",
    "  8 & 9\n",
    "  \\end{array}\\right] $$\n",
    "\n",
    "- Compute $Y_1 + Y_2$.\n",
    "- Compute the matrix product $Y_1 Y_2$ and element-wise product $Y_1 \\circ Y_2$ (also known as Hadamard product)."
   ]
  },
  {
   "cell_type": "code",
   "execution_count": 2,
   "metadata": {
    "ExecuteTime": {
     "end_time": "2021-09-20T11:12:44.018111Z",
     "start_time": "2021-09-20T11:12:44.008492Z"
    }
   },
   "outputs": [
    {
     "name": "stdout",
     "output_type": "stream",
     "text": [
      "Shape: (3, 3)\n",
      "Size: 9\n",
      "Rank: 2\n",
      "Transpose:\n",
      "[[1 4 7]\n",
      " [2 5 8]\n",
      " [3 6 9]]\n",
      "Y_1 + Y_2\n",
      "[[ 6  8]\n",
      " [12 14]]\n",
      "Matrix product:\n",
      "[[21 24]\n",
      " [60 69]]\n",
      "Element-wise product:\n",
      "[[ 5 12]\n",
      " [32 45]]\n"
     ]
    }
   ],
   "source": [
    "Y = np.array([[1, 2, 3], [4, 5, 6], [7, 8, 9]])\n",
    "\n",
    "print('Shape:', Y.shape)\n",
    "print('Size:', Y.size)\n",
    "\n",
    "print('Rank:', np.linalg.matrix_rank(Y))\n",
    "\n",
    "print('Transpose:')\n",
    "print(Y.T)\n",
    "\n",
    "Y_1 = Y[0:2, 0:2]\n",
    "Y_2 = Y[1:3, 1:3]\n",
    "\n",
    "print('Y_1 + Y_2')\n",
    "print(Y_1 + Y_2)\n",
    "\n",
    "print('Matrix product:')\n",
    "print(Y_1 @ Y_2)\n",
    "print('Element-wise product:')\n",
    "print(Y_1 * Y_2)"
   ]
  },
  {
   "cell_type": "markdown",
   "metadata": {},
   "source": [
    "### Exercise 2\n",
    "\n",
    "Recall the following exercise from an earlier problem set:\n",
    "\n",
    "*Write a program that asks the user for floating-point numbers in a loop until the user enters \"done\", and then prints the maximum and minimum of these numbers.*\n",
    "\n",
    "Update the program and store the numbers in a NumPy array. Instead of maximum and minimum, calculate the mean, the standard deviation, the 1st quartile, the median, and the 3rd quartile (hint: use `quantile` or `percentile` method).\n",
    "\n",
    "Sample input and output:\n",
    "\n",
    "    Enter a number: 6.1\n",
    "    Enter a number: 2.7\n",
    "    Enter a number: -9.5\n",
    "    Enter a number: 3.4\n",
    "    Enter a number: 5.8\n",
    "    Enter a number: done\n",
    "    Mean: 1.70\n",
    "    Std. deviation: 5.75\n",
    "    1st quartile: 2.70\n",
    "    Median: 3.40\n",
    "    3rd quartile: 5.80"
   ]
  },
  {
   "cell_type": "code",
   "execution_count": 3,
   "metadata": {
    "ExecuteTime": {
     "end_time": "2021-09-20T10:22:53.873052Z",
     "start_time": "2021-09-20T10:22:45.128045Z"
    },
    "scrolled": true
   },
   "outputs": [
    {
     "name": "stdout",
     "output_type": "stream",
     "text": [
      "Enter a number: 6.1\n",
      "Enter a number: 2.7\n",
      "Enter a number: -9.5\n",
      "Enter a number: 3.4\n",
      "Enter a number: 5.8\n",
      "Enter a number: done\n",
      "Mean: 1.70\n",
      "Std. deviation: 5.75\n",
      "1st quartile: 2.70\n",
      "Median: 3.40\n",
      "3rd quartile: 5.80\n"
     ]
    }
   ],
   "source": [
    "numbers = []\n",
    "while True:\n",
    "    number = input('Enter a number: ')\n",
    "    if number.lower() == 'done':\n",
    "        break\n",
    "    try:\n",
    "        numbers.append(float(number))\n",
    "    except ValueError:\n",
    "        pass\n",
    "\n",
    "numbers = np.array(numbers)\n",
    "q1, median, q3 = np.quantile(numbers, [0.25, 0.5, 0.75])\n",
    "\n",
    "print('Mean: {:.2f}'.format(numbers.mean()))\n",
    "print('Std. deviation: {:.2f}'.format(numbers.std()))\n",
    "print('1st quartile: {:.2f}'.format(q1))\n",
    "print('Median: {:.2f}'.format(median))\n",
    "print('3rd quartile: {:.2f}'.format(q3))"
   ]
  },
  {
   "cell_type": "markdown",
   "metadata": {},
   "source": [
    "### Exercise 3\n",
    "\n",
    "Generate an array with 1 000 000 random samples from a standard Gaussian distribution (i.e. a Gaussian distribution with mean 0 and std. deviation 1).\n",
    "\n",
    "Calculate the mean, the median and the variance of the absolute value of these random samples."
   ]
  },
  {
   "cell_type": "code",
   "execution_count": 4,
   "metadata": {},
   "outputs": [
    {
     "name": "stdout",
     "output_type": "stream",
     "text": [
      "Mean: 0.7973193780048888\n",
      "Median: 0.6735891766448348\n",
      "Variance: 0.36323261270566043\n"
     ]
    }
   ],
   "source": [
    "x = npr.normal(size=1_000_000)\n",
    "y = np.abs(x)\n",
    "\n",
    "print(\"Mean:\", y.mean())\n",
    "print(\"Median:\", np.median(y))\n",
    "print(\"Variance:\", y.var())"
   ]
  },
  {
   "cell_type": "markdown",
   "metadata": {},
   "source": [
    "### Exercise 4\n",
    "\n",
    "Write a function that will check if a 9 x 9 grid with numbers (given as a NumPy array of integers) is a valid solution of classic [Sudoku](https://en.wikipedia.org/wiki/Sudoku), in other words, a function that checks if:\n",
    "\n",
    "- each row contains all digits from 1 to 9,\n",
    "- each column contains all digits from 1 to 9,\n",
    "- each of the nine 3 x 3 blocks that compose the grid contains all digits from 1 to 9.\n",
    "\n",
    "Hint:\n",
    "- To check if all digits from 1 to 9 are in a NumPy sub-array `x`, you can use `sorted(x.flatten()) == [1, 2, 3, 4, 5, 6, 7, 8, 9]`.\n",
    "\n",
    "Example of a valid Sudoku solution:\n",
    "```\n",
    "grid = np.array([[6, 5, 1, 2, 3, 8, 4, 9, 7],\n",
    "                 [7, 9, 2, 1, 4, 5, 8, 6, 3],\n",
    "                 [4, 3, 8, 6, 7, 9, 5, 2, 1],\n",
    "                 [3, 8, 6, 5, 2, 7, 9, 1, 4],\n",
    "                 [2, 1, 7, 4, 9, 3, 6, 8, 5],\n",
    "                 [5, 4, 9, 8, 6, 1, 7, 3, 2],\n",
    "                 [1, 7, 3, 9, 8, 4, 2, 5, 6],\n",
    "                 [9, 2, 4, 3, 5, 6, 1, 7, 8],\n",
    "                 [8, 6, 5, 7, 1, 2, 3, 4, 9]])\n",
    "```\n",
    "Find also examples that are not valid Sudoku solutions and check that your function returns `False`."
   ]
  },
  {
   "cell_type": "code",
   "execution_count": 5,
   "metadata": {},
   "outputs": [
    {
     "name": "stdout",
     "output_type": "stream",
     "text": [
      "True\n"
     ]
    }
   ],
   "source": [
    "def all_digits(x):\n",
    "    return sorted(x.flatten()) == [1, 2, 3, 4, 5, 6, 7, 8, 9]\n",
    "\n",
    "\n",
    "def valid_sudoku(grid):\n",
    "    for r in range(9):\n",
    "        if not all_digits(grid[r]):\n",
    "            return False\n",
    "    for c in range(9):\n",
    "        if not all_digits(grid[:, c]):\n",
    "            return False\n",
    "    for r in range(3):\n",
    "        for c in range(3):\n",
    "            subgrid = grid[r*3:r*3+3, c*3:c*3+3]\n",
    "            if not all_digits(subgrid):\n",
    "                return False\n",
    "    return True\n",
    "\n",
    "\n",
    "grid = np.array([[6, 5, 1, 2, 3, 8, 4, 9, 7],\n",
    "                 [7, 9, 2, 1, 4, 5, 8, 6, 3],\n",
    "                 [4, 3, 8, 6, 7, 9, 5, 2, 1],\n",
    "                 [3, 8, 6, 5, 2, 7, 9, 1, 4],\n",
    "                 [2, 1, 7, 4, 9, 3, 6, 8, 5],\n",
    "                 [5, 4, 9, 8, 6, 1, 7, 3, 2],\n",
    "                 [1, 7, 3, 9, 8, 4, 2, 5, 6],\n",
    "                 [9, 2, 4, 3, 5, 6, 1, 7, 8],\n",
    "                 [8, 6, 5, 7, 1, 2, 3, 4, 9]])\n",
    "print(valid_sudoku(grid))"
   ]
  },
  {
   "cell_type": "markdown",
   "metadata": {},
   "source": [
    "### Exercise 5\n",
    "\n",
    "1. Prepare a data set which we will use for a linear regression analysis in step 2.\n",
    "\n",
    "   - Generate a column vector $\\mathbf{x} = \\{x_i\\}$ consisting of 8 samples $x_i$ drawn randomly from a uniform distribution between 0 and 10.\n",
    "   - Generate a column vector $\\mathbf{y} = \\{y_i\\}$, where $y_i = 20 + 2 x_i + \\epsilon_i$, where $\\epsilon_i$ denotes random noise drawn from a Gaussian distribution with zero mean and standard deviation 1.5.\n",
    "\n",
    "\n",
    "2. Use the normal equation\n",
    "   $$ \\hat{\\boldsymbol{\\beta}} = \\left(\\mathrm{X}^{\\mathsf{T}}\\mathrm{X}\\right)^{-1}\\mathrm{X}^{\\mathsf{T}}\\mathbf{y} $$\n",
    "   to estimate the coefficient vector $\\boldsymbol{\\beta}$ (with the intercept and the slope) of the least-squares line. In the equation, $\\mathrm{X}$ denotes a matrix that consists of two columns: the elements in the first column are all ones, the second column is the vector $\\mathbf{x}$."
   ]
  },
  {
   "cell_type": "code",
   "execution_count": 6,
   "metadata": {},
   "outputs": [
    {
     "name": "stdout",
     "output_type": "stream",
     "text": [
      "Intercept:  21.15\n",
      "Slope:       1.84\n"
     ]
    },
    {
     "data": {
      "text/plain": [
       "[<matplotlib.lines.Line2D at 0x7fbab8c744f0>]"
      ]
     },
     "execution_count": 6,
     "metadata": {},
     "output_type": "execute_result"
    },
    {
     "data": {
      "image/png": "[encoded data removed]",
      "text/plain": [
       "<Figure size 432x288 with 1 Axes>"
      ]
     },
     "metadata": {
      "needs_background": "light"
     },
     "output_type": "display_data"
    }
   ],
   "source": [
    "n = 8\n",
    "\n",
    "x = npr.uniform(0, 10, n)\n",
    "y = 20 + 2*x + npr.normal(0, 1.5, n)\n",
    "\n",
    "plt.scatter(x, y)\n",
    "\n",
    "X = np.ones((n, 2))\n",
    "X[:, 1] = x\n",
    "\n",
    "beta_hat = np.linalg.inv(X.T @ X) @ X.T @ y\n",
    "\n",
    "beta_hat\n",
    "\n",
    "print(\"Intercept: {:6.2f}\".format(beta_hat[0]))\n",
    "print(\"Slope:     {:6.2f}\".format(beta_hat[1]))\n",
    "\n",
    "# Plots (not requested by the assignment)\n",
    "\n",
    "xs = np.array([0, 10])\n",
    "ys = beta_hat[0] + beta_hat[1] * xs\n",
    "yst = 20 + 2 * xs\n",
    "plt.plot(xs, ys)\n",
    "plt.plot(xs, yst)"
   ]
  },
  {
   "cell_type": "markdown",
   "metadata": {},
   "source": [
    "# Problem set 5"
   ]
  },
  {
   "cell_type": "code",
   "execution_count": 1,
   "metadata": {
    "ExecuteTime": {
     "end_time": "2021-10-04T14:40:26.279369Z",
     "start_time": "2021-10-04T14:40:23.413764Z"
    }
   },
   "outputs": [],
   "source": [
    "import numpy as np\n",
    "import pandas as pd\n",
    "import seaborn as sns\n",
    "sns.set_theme(style=\"darkgrid\")\n",
    "import matplotlib.pyplot as plt\n",
    "%matplotlib inline"
   ]
  },
  {
   "cell_type": "markdown",
   "metadata": {},
   "source": [
    "### Exercise 1. Penn world table\n",
    "\n",
    "[*Penn World Table*](https://www.rug.nl/ggdc/productivity/pwt/?lang=en) is a data set containing income levels, output, input and productivity for 183 countries between 1950 and 2019. The variables included in the data set are described in the *Legend* sheet in *pwt100.xlsx*."
   ]
  },
  {
   "cell_type": "markdown",
   "metadata": {},
   "source": [
    "- Read the sheet *Data* in *pwt100.xlsx* as a Pandas data frame using the `read_excel` function. (Note: This will take a bit more time.)"
   ]
  },
  {
   "cell_type": "code",
   "execution_count": 2,
   "metadata": {
    "ExecuteTime": {
     "end_time": "2021-10-04T14:40:40.984402Z",
     "start_time": "2021-10-04T14:40:26.281725Z"
    }
   },
   "outputs": [
    {
     "data": {
      "text/html": [
       "<div>\n",
       "<style scoped>\n",
       "    .dataframe tbody tr th:only-of-type {\n",
       "        vertical-align: middle;\n",
       "    }\n",
       "\n",
       "    .dataframe tbody tr th {\n",
       "        vertical-align: top;\n",
       "    }\n",
       "\n",
       "    .dataframe thead th {\n",
       "        text-align: right;\n",
       "    }\n",
       "</style>\n",
       "<table border=\"1\" class=\"dataframe\">\n",
       "  <thead>\n",
       "    <tr style=\"text-align: right;\">\n",
       "      <th></th>\n",
       "      <th>countrycode</th>\n",
       "      <th>country</th>\n",
       "      <th>currency_unit</th>\n",
       "      <th>year</th>\n",
       "      <th>rgdpe</th>\n",
       "      <th>rgdpo</th>\n",
       "      <th>pop</th>\n",
       "      <th>emp</th>\n",
       "      <th>avh</th>\n",
       "      <th>hc</th>\n",
       "      <th>...</th>\n",
       "      <th>csh_x</th>\n",
       "      <th>csh_m</th>\n",
       "      <th>csh_r</th>\n",
       "      <th>pl_c</th>\n",
       "      <th>pl_i</th>\n",
       "      <th>pl_g</th>\n",
       "      <th>pl_x</th>\n",
       "      <th>pl_m</th>\n",
       "      <th>pl_n</th>\n",
       "      <th>pl_k</th>\n",
       "    </tr>\n",
       "  </thead>\n",
       "  <tbody>\n",
       "    <tr>\n",
       "      <th>0</th>\n",
       "      <td>ABW</td>\n",
       "      <td>Aruba</td>\n",
       "      <td>Aruban Guilder</td>\n",
       "      <td>1950</td>\n",
       "      <td>NaN</td>\n",
       "      <td>NaN</td>\n",
       "      <td>NaN</td>\n",
       "      <td>NaN</td>\n",
       "      <td>NaN</td>\n",
       "      <td>NaN</td>\n",
       "      <td>...</td>\n",
       "      <td>NaN</td>\n",
       "      <td>NaN</td>\n",
       "      <td>NaN</td>\n",
       "      <td>NaN</td>\n",
       "      <td>NaN</td>\n",
       "      <td>NaN</td>\n",
       "      <td>NaN</td>\n",
       "      <td>NaN</td>\n",
       "      <td>NaN</td>\n",
       "      <td>NaN</td>\n",
       "    </tr>\n",
       "    <tr>\n",
       "      <th>1</th>\n",
       "      <td>ABW</td>\n",
       "      <td>Aruba</td>\n",
       "      <td>Aruban Guilder</td>\n",
       "      <td>1951</td>\n",
       "      <td>NaN</td>\n",
       "      <td>NaN</td>\n",
       "      <td>NaN</td>\n",
       "      <td>NaN</td>\n",
       "      <td>NaN</td>\n",
       "      <td>NaN</td>\n",
       "      <td>...</td>\n",
       "      <td>NaN</td>\n",
       "      <td>NaN</td>\n",
       "      <td>NaN</td>\n",
       "      <td>NaN</td>\n",
       "      <td>NaN</td>\n",
       "      <td>NaN</td>\n",
       "      <td>NaN</td>\n",
       "      <td>NaN</td>\n",
       "      <td>NaN</td>\n",
       "      <td>NaN</td>\n",
       "    </tr>\n",
       "    <tr>\n",
       "      <th>2</th>\n",
       "      <td>ABW</td>\n",
       "      <td>Aruba</td>\n",
       "      <td>Aruban Guilder</td>\n",
       "      <td>1952</td>\n",
       "      <td>NaN</td>\n",
       "      <td>NaN</td>\n",
       "      <td>NaN</td>\n",
       "      <td>NaN</td>\n",
       "      <td>NaN</td>\n",
       "      <td>NaN</td>\n",
       "      <td>...</td>\n",
       "      <td>NaN</td>\n",
       "      <td>NaN</td>\n",
       "      <td>NaN</td>\n",
       "      <td>NaN</td>\n",
       "      <td>NaN</td>\n",
       "      <td>NaN</td>\n",
       "      <td>NaN</td>\n",
       "      <td>NaN</td>\n",
       "      <td>NaN</td>\n",
       "      <td>NaN</td>\n",
       "    </tr>\n",
       "    <tr>\n",
       "      <th>3</th>\n",
       "      <td>ABW</td>\n",
       "      <td>Aruba</td>\n",
       "      <td>Aruban Guilder</td>\n",
       "      <td>1953</td>\n",
       "      <td>NaN</td>\n",
       "      <td>NaN</td>\n",
       "      <td>NaN</td>\n",
       "      <td>NaN</td>\n",
       "      <td>NaN</td>\n",
       "      <td>NaN</td>\n",
       "      <td>...</td>\n",
       "      <td>NaN</td>\n",
       "      <td>NaN</td>\n",
       "      <td>NaN</td>\n",
       "      <td>NaN</td>\n",
       "      <td>NaN</td>\n",
       "      <td>NaN</td>\n",
       "      <td>NaN</td>\n",
       "      <td>NaN</td>\n",
       "      <td>NaN</td>\n",
       "      <td>NaN</td>\n",
       "    </tr>\n",
       "    <tr>\n",
       "      <th>4</th>\n",
       "      <td>ABW</td>\n",
       "      <td>Aruba</td>\n",
       "      <td>Aruban Guilder</td>\n",
       "      <td>1954</td>\n",
       "      <td>NaN</td>\n",
       "      <td>NaN</td>\n",
       "      <td>NaN</td>\n",
       "      <td>NaN</td>\n",
       "      <td>NaN</td>\n",
       "      <td>NaN</td>\n",
       "      <td>...</td>\n",
       "      <td>NaN</td>\n",
       "      <td>NaN</td>\n",
       "      <td>NaN</td>\n",
       "      <td>NaN</td>\n",
       "      <td>NaN</td>\n",
       "      <td>NaN</td>\n",
       "      <td>NaN</td>\n",
       "      <td>NaN</td>\n",
       "      <td>NaN</td>\n",
       "      <td>NaN</td>\n",
       "    </tr>\n",
       "  </tbody>\n",
       "</table>\n",
       "<p>5 rows × 52 columns</p>\n",
       "</div>"
      ],
      "text/plain": [
       "  countrycode country   currency_unit  year  rgdpe  rgdpo  pop  emp  avh  hc  \\\n",
       "0         ABW   Aruba  Aruban Guilder  1950    NaN    NaN  NaN  NaN  NaN NaN   \n",
       "1         ABW   Aruba  Aruban Guilder  1951    NaN    NaN  NaN  NaN  NaN NaN   \n",
       "2         ABW   Aruba  Aruban Guilder  1952    NaN    NaN  NaN  NaN  NaN NaN   \n",
       "3         ABW   Aruba  Aruban Guilder  1953    NaN    NaN  NaN  NaN  NaN NaN   \n",
       "4         ABW   Aruba  Aruban Guilder  1954    NaN    NaN  NaN  NaN  NaN NaN   \n",
       "\n",
       "   ...  csh_x  csh_m  csh_r  pl_c  pl_i  pl_g  pl_x  pl_m  pl_n  pl_k  \n",
       "0  ...    NaN    NaN    NaN   NaN   NaN   NaN   NaN   NaN   NaN   NaN  \n",
       "1  ...    NaN    NaN    NaN   NaN   NaN   NaN   NaN   NaN   NaN   NaN  \n",
       "2  ...    NaN    NaN    NaN   NaN   NaN   NaN   NaN   NaN   NaN   NaN  \n",
       "3  ...    NaN    NaN    NaN   NaN   NaN   NaN   NaN   NaN   NaN   NaN  \n",
       "4  ...    NaN    NaN    NaN   NaN   NaN   NaN   NaN   NaN   NaN   NaN  \n",
       "\n",
       "[5 rows x 52 columns]"
      ]
     },
     "execution_count": 2,
     "metadata": {},
     "output_type": "execute_result"
    }
   ],
   "source": [
    "pwt = pd.read_excel(\"pwt100.xlsx\", \"Data\")\n",
    "pwt.head()"
   ]
  },
  {
   "cell_type": "markdown",
   "metadata": {},
   "source": [
    "- Use the `info` method to print the summary of the columns."
   ]
  },
  {
   "cell_type": "code",
   "execution_count": 3,
   "metadata": {
    "ExecuteTime": {
     "end_time": "2021-10-04T14:40:41.016652Z",
     "start_time": "2021-10-04T14:40:40.988122Z"
    }
   },
   "outputs": [
    {
     "name": "stdout",
     "output_type": "stream",
     "text": [
      "<class 'pandas.core.frame.DataFrame'>\n",
      "RangeIndex: 12810 entries, 0 to 12809\n",
      "Data columns (total 52 columns):\n",
      " #   Column         Non-Null Count  Dtype  \n",
      "---  ------         --------------  -----  \n",
      " 0   countrycode    12810 non-null  object \n",
      " 1   country        12810 non-null  object \n",
      " 2   currency_unit  12810 non-null  object \n",
      " 3   year           12810 non-null  int64  \n",
      " 4   rgdpe          10399 non-null  float64\n",
      " 5   rgdpo          10399 non-null  float64\n",
      " 6   pop            10399 non-null  float64\n",
      " 7   emp            9529 non-null   float64\n",
      " 8   avh            3492 non-null   float64\n",
      " 9   hc             8637 non-null   float64\n",
      " 10  ccon           10399 non-null  float64\n",
      " 11  cda            10399 non-null  float64\n",
      " 12  cgdpe          10399 non-null  float64\n",
      " 13  cgdpo          10395 non-null  float64\n",
      " 14  cn             10314 non-null  float64\n",
      " 15  ck             7095 non-null   float64\n",
      " 16  ctfp           6412 non-null   float64\n",
      " 17  cwtfp          6412 non-null   float64\n",
      " 18  rgdpna         10399 non-null  float64\n",
      " 19  rconna         10399 non-null  float64\n",
      " 20  rdana          10399 non-null  float64\n",
      " 21  rnna           10314 non-null  float64\n",
      " 22  rkna           7095 non-null   float64\n",
      " 23  rtfpna         6412 non-null   float64\n",
      " 24  rwtfpna        6412 non-null   float64\n",
      " 25  labsh          7970 non-null   float64\n",
      " 26  irr            7540 non-null   float64\n",
      " 27  delta          10314 non-null  float64\n",
      " 28  xr             10399 non-null  float64\n",
      " 29  pl_con         10399 non-null  float64\n",
      " 30  pl_da          10399 non-null  float64\n",
      " 31  pl_gdpo        10399 non-null  float64\n",
      " 32  i_cig          10399 non-null  object \n",
      " 33  i_xm           10399 non-null  object \n",
      " 34  i_xr           10399 non-null  object \n",
      " 35  i_outlier      10399 non-null  object \n",
      " 36  i_irr          7540 non-null   object \n",
      " 37  cor_exp        1653 non-null   float64\n",
      " 38  statcap        2117 non-null   float64\n",
      " 39  csh_c          10399 non-null  float64\n",
      " 40  csh_i          10399 non-null  float64\n",
      " 41  csh_g          10399 non-null  float64\n",
      " 42  csh_x          10399 non-null  float64\n",
      " 43  csh_m          10399 non-null  float64\n",
      " 44  csh_r          10399 non-null  float64\n",
      " 45  pl_c           10399 non-null  float64\n",
      " 46  pl_i           10399 non-null  float64\n",
      " 47  pl_g           10399 non-null  float64\n",
      " 48  pl_x           10399 non-null  float64\n",
      " 49  pl_m           10399 non-null  float64\n",
      " 50  pl_n           10314 non-null  float64\n",
      " 51  pl_k           7095 non-null   float64\n",
      "dtypes: float64(43), int64(1), object(8)\n",
      "memory usage: 5.1+ MB\n"
     ]
    }
   ],
   "source": [
    "pwt.info()"
   ]
  },
  {
   "cell_type": "markdown",
   "metadata": {},
   "source": [
    "- Change the name of the *rgdpe* column to *gdp* (in place)."
   ]
  },
  {
   "cell_type": "code",
   "execution_count": 4,
   "metadata": {
    "ExecuteTime": {
     "end_time": "2021-10-04T14:40:41.022697Z",
     "start_time": "2021-10-04T14:40:41.019148Z"
    }
   },
   "outputs": [],
   "source": [
    "pwt.rename(columns={'rgdpe':'gdp'}, inplace=True)"
   ]
  },
  {
   "cell_type": "markdown",
   "metadata": {},
   "source": [
    "- Create a subset of data for year 2019 with the following columns: countrycode, country, currency_unit, gdp, pop, emp. Use this subset in all remaining tasks."
   ]
  },
  {
   "cell_type": "code",
   "execution_count": 5,
   "metadata": {
    "ExecuteTime": {
     "end_time": "2021-10-04T14:40:41.079440Z",
     "start_time": "2021-10-04T14:40:41.024767Z"
    }
   },
   "outputs": [
    {
     "data": {
      "text/html": [
       "<div>\n",
       "<style scoped>\n",
       "    .dataframe tbody tr th:only-of-type {\n",
       "        vertical-align: middle;\n",
       "    }\n",
       "\n",
       "    .dataframe tbody tr th {\n",
       "        vertical-align: top;\n",
       "    }\n",
       "\n",
       "    .dataframe thead th {\n",
       "        text-align: right;\n",
       "    }\n",
       "</style>\n",
       "<table border=\"1\" class=\"dataframe\">\n",
       "  <thead>\n",
       "    <tr style=\"text-align: right;\">\n",
       "      <th></th>\n",
       "      <th>countrycode</th>\n",
       "      <th>country</th>\n",
       "      <th>currency_unit</th>\n",
       "      <th>gdp</th>\n",
       "      <th>pop</th>\n",
       "      <th>emp</th>\n",
       "    </tr>\n",
       "  </thead>\n",
       "  <tbody>\n",
       "    <tr>\n",
       "      <th>69</th>\n",
       "      <td>ABW</td>\n",
       "      <td>Aruba</td>\n",
       "      <td>Aruban Guilder</td>\n",
       "      <td>3921.261230</td>\n",
       "      <td>0.106314</td>\n",
       "      <td>0.047601</td>\n",
       "    </tr>\n",
       "    <tr>\n",
       "      <th>139</th>\n",
       "      <td>AGO</td>\n",
       "      <td>Angola</td>\n",
       "      <td>Kwanza</td>\n",
       "      <td>228151.015625</td>\n",
       "      <td>31.825295</td>\n",
       "      <td>16.644962</td>\n",
       "    </tr>\n",
       "    <tr>\n",
       "      <th>209</th>\n",
       "      <td>AIA</td>\n",
       "      <td>Anguilla</td>\n",
       "      <td>East Caribbean Dollar</td>\n",
       "      <td>376.634979</td>\n",
       "      <td>0.014869</td>\n",
       "      <td>NaN</td>\n",
       "    </tr>\n",
       "    <tr>\n",
       "      <th>279</th>\n",
       "      <td>ALB</td>\n",
       "      <td>Albania</td>\n",
       "      <td>Lek</td>\n",
       "      <td>35890.019531</td>\n",
       "      <td>2.880917</td>\n",
       "      <td>1.075898</td>\n",
       "    </tr>\n",
       "    <tr>\n",
       "      <th>349</th>\n",
       "      <td>ARE</td>\n",
       "      <td>United Arab Emirates</td>\n",
       "      <td>UAE Dirham</td>\n",
       "      <td>681525.812500</td>\n",
       "      <td>9.770529</td>\n",
       "      <td>5.808834</td>\n",
       "    </tr>\n",
       "  </tbody>\n",
       "</table>\n",
       "</div>"
      ],
      "text/plain": [
       "    countrycode               country          currency_unit            gdp  \\\n",
       "69          ABW                 Aruba         Aruban Guilder    3921.261230   \n",
       "139         AGO                Angola                 Kwanza  228151.015625   \n",
       "209         AIA              Anguilla  East Caribbean Dollar     376.634979   \n",
       "279         ALB               Albania                    Lek   35890.019531   \n",
       "349         ARE  United Arab Emirates             UAE Dirham  681525.812500   \n",
       "\n",
       "           pop        emp  \n",
       "69    0.106314   0.047601  \n",
       "139  31.825295  16.644962  \n",
       "209   0.014869        NaN  \n",
       "279   2.880917   1.075898  \n",
       "349   9.770529   5.808834  "
      ]
     },
     "execution_count": 5,
     "metadata": {},
     "output_type": "execute_result"
    }
   ],
   "source": [
    "pwt2019 = pwt.query(\"year==2019\")[[\"countrycode\", \"country\", \"currency_unit\", \"gdp\", \"pop\", \"emp\"]]\n",
    "pwt2019.head()"
   ]
  },
  {
   "cell_type": "markdown",
   "metadata": {},
   "source": [
    "- How many countries are included in the subset?"
   ]
  },
  {
   "cell_type": "code",
   "execution_count": 6,
   "metadata": {
    "ExecuteTime": {
     "end_time": "2021-10-04T14:40:41.086707Z",
     "start_time": "2021-10-04T14:40:41.081513Z"
    }
   },
   "outputs": [
    {
     "data": {
      "text/plain": [
       "183"
      ]
     },
     "execution_count": 6,
     "metadata": {},
     "output_type": "execute_result"
    }
   ],
   "source": [
    "len(pwt2019)"
   ]
  },
  {
   "cell_type": "markdown",
   "metadata": {},
   "source": [
    "- Set the countrycode column as the index (in place)."
   ]
  },
  {
   "cell_type": "code",
   "execution_count": 7,
   "metadata": {
    "ExecuteTime": {
     "end_time": "2021-10-04T14:40:41.105849Z",
     "start_time": "2021-10-04T14:40:41.089252Z"
    }
   },
   "outputs": [
    {
     "data": {
      "text/html": [
       "<div>\n",
       "<style scoped>\n",
       "    .dataframe tbody tr th:only-of-type {\n",
       "        vertical-align: middle;\n",
       "    }\n",
       "\n",
       "    .dataframe tbody tr th {\n",
       "        vertical-align: top;\n",
       "    }\n",
       "\n",
       "    .dataframe thead th {\n",
       "        text-align: right;\n",
       "    }\n",
       "</style>\n",
       "<table border=\"1\" class=\"dataframe\">\n",
       "  <thead>\n",
       "    <tr style=\"text-align: right;\">\n",
       "      <th></th>\n",
       "      <th>country</th>\n",
       "      <th>currency_unit</th>\n",
       "      <th>gdp</th>\n",
       "      <th>pop</th>\n",
       "      <th>emp</th>\n",
       "    </tr>\n",
       "    <tr>\n",
       "      <th>countrycode</th>\n",
       "      <th></th>\n",
       "      <th></th>\n",
       "      <th></th>\n",
       "      <th></th>\n",
       "      <th></th>\n",
       "    </tr>\n",
       "  </thead>\n",
       "  <tbody>\n",
       "    <tr>\n",
       "      <th>ABW</th>\n",
       "      <td>Aruba</td>\n",
       "      <td>Aruban Guilder</td>\n",
       "      <td>3921.261230</td>\n",
       "      <td>0.106314</td>\n",
       "      <td>0.047601</td>\n",
       "    </tr>\n",
       "    <tr>\n",
       "      <th>AGO</th>\n",
       "      <td>Angola</td>\n",
       "      <td>Kwanza</td>\n",
       "      <td>228151.015625</td>\n",
       "      <td>31.825295</td>\n",
       "      <td>16.644962</td>\n",
       "    </tr>\n",
       "    <tr>\n",
       "      <th>AIA</th>\n",
       "      <td>Anguilla</td>\n",
       "      <td>East Caribbean Dollar</td>\n",
       "      <td>376.634979</td>\n",
       "      <td>0.014869</td>\n",
       "      <td>NaN</td>\n",
       "    </tr>\n",
       "    <tr>\n",
       "      <th>ALB</th>\n",
       "      <td>Albania</td>\n",
       "      <td>Lek</td>\n",
       "      <td>35890.019531</td>\n",
       "      <td>2.880917</td>\n",
       "      <td>1.075898</td>\n",
       "    </tr>\n",
       "    <tr>\n",
       "      <th>ARE</th>\n",
       "      <td>United Arab Emirates</td>\n",
       "      <td>UAE Dirham</td>\n",
       "      <td>681525.812500</td>\n",
       "      <td>9.770529</td>\n",
       "      <td>5.808834</td>\n",
       "    </tr>\n",
       "  </tbody>\n",
       "</table>\n",
       "</div>"
      ],
      "text/plain": [
       "                          country          currency_unit            gdp  \\\n",
       "countrycode                                                               \n",
       "ABW                         Aruba         Aruban Guilder    3921.261230   \n",
       "AGO                        Angola                 Kwanza  228151.015625   \n",
       "AIA                      Anguilla  East Caribbean Dollar     376.634979   \n",
       "ALB                       Albania                    Lek   35890.019531   \n",
       "ARE          United Arab Emirates             UAE Dirham  681525.812500   \n",
       "\n",
       "                   pop        emp  \n",
       "countrycode                        \n",
       "ABW           0.106314   0.047601  \n",
       "AGO          31.825295  16.644962  \n",
       "AIA           0.014869        NaN  \n",
       "ALB           2.880917   1.075898  \n",
       "ARE           9.770529   5.808834  "
      ]
     },
     "execution_count": 7,
     "metadata": {},
     "output_type": "execute_result"
    }
   ],
   "source": [
    "pwt2019.set_index('countrycode', inplace=True)\n",
    "pwt2019.head()"
   ]
  },
  {
   "cell_type": "markdown",
   "metadata": {},
   "source": [
    "- Show the data for Norway."
   ]
  },
  {
   "cell_type": "code",
   "execution_count": 8,
   "metadata": {
    "ExecuteTime": {
     "end_time": "2021-10-04T14:40:41.116387Z",
     "start_time": "2021-10-04T14:40:41.110368Z"
    }
   },
   "outputs": [
    {
     "data": {
      "text/plain": [
       "country                   Norway\n",
       "currency_unit    Norwegian Krone\n",
       "gdp                 336415.40625\n",
       "pop                     5.378857\n",
       "emp                     2.853662\n",
       "Name: NOR, dtype: object"
      ]
     },
     "execution_count": 8,
     "metadata": {},
     "output_type": "execute_result"
    }
   ],
   "source": [
    "pwt2019.loc['NOR']"
   ]
  },
  {
   "cell_type": "markdown",
   "metadata": {},
   "source": [
    "- Show the summary statistics for all numeric columns (using the `describe` method)."
   ]
  },
  {
   "cell_type": "code",
   "execution_count": 9,
   "metadata": {
    "ExecuteTime": {
     "end_time": "2021-10-04T14:40:41.145266Z",
     "start_time": "2021-10-04T14:40:41.121655Z"
    }
   },
   "outputs": [
    {
     "data": {
      "text/html": [
       "<div>\n",
       "<style scoped>\n",
       "    .dataframe tbody tr th:only-of-type {\n",
       "        vertical-align: middle;\n",
       "    }\n",
       "\n",
       "    .dataframe tbody tr th {\n",
       "        vertical-align: top;\n",
       "    }\n",
       "\n",
       "    .dataframe thead th {\n",
       "        text-align: right;\n",
       "    }\n",
       "</style>\n",
       "<table border=\"1\" class=\"dataframe\">\n",
       "  <thead>\n",
       "    <tr style=\"text-align: right;\">\n",
       "      <th></th>\n",
       "      <th>gdp</th>\n",
       "      <th>pop</th>\n",
       "      <th>emp</th>\n",
       "    </tr>\n",
       "  </thead>\n",
       "  <tbody>\n",
       "    <tr>\n",
       "      <th>count</th>\n",
       "      <td>183.00</td>\n",
       "      <td>183.00</td>\n",
       "      <td>177.00</td>\n",
       "    </tr>\n",
       "    <tr>\n",
       "      <th>mean</th>\n",
       "      <td>685677.10</td>\n",
       "      <td>41.43</td>\n",
       "      <td>18.74</td>\n",
       "    </tr>\n",
       "    <tr>\n",
       "      <th>std</th>\n",
       "      <td>2326856.69</td>\n",
       "      <td>150.99</td>\n",
       "      <td>72.60</td>\n",
       "    </tr>\n",
       "    <tr>\n",
       "      <th>min</th>\n",
       "      <td>99.19</td>\n",
       "      <td>0.00</td>\n",
       "      <td>0.00</td>\n",
       "    </tr>\n",
       "    <tr>\n",
       "      <th>25%</th>\n",
       "      <td>25422.29</td>\n",
       "      <td>2.15</td>\n",
       "      <td>0.97</td>\n",
       "    </tr>\n",
       "    <tr>\n",
       "      <th>50%</th>\n",
       "      <td>89061.67</td>\n",
       "      <td>8.96</td>\n",
       "      <td>4.24</td>\n",
       "    </tr>\n",
       "    <tr>\n",
       "      <th>75%</th>\n",
       "      <td>443870.45</td>\n",
       "      <td>29.76</td>\n",
       "      <td>11.69</td>\n",
       "    </tr>\n",
       "    <tr>\n",
       "      <th>max</th>\n",
       "      <td>20860506.00</td>\n",
       "      <td>1433.78</td>\n",
       "      <td>798.81</td>\n",
       "    </tr>\n",
       "  </tbody>\n",
       "</table>\n",
       "</div>"
      ],
      "text/plain": [
       "               gdp      pop     emp\n",
       "count       183.00   183.00  177.00\n",
       "mean     685677.10    41.43   18.74\n",
       "std     2326856.69   150.99   72.60\n",
       "min          99.19     0.00    0.00\n",
       "25%       25422.29     2.15    0.97\n",
       "50%       89061.67     8.96    4.24\n",
       "75%      443870.45    29.76   11.69\n",
       "max    20860506.00  1433.78  798.81"
      ]
     },
     "execution_count": 9,
     "metadata": {},
     "output_type": "execute_result"
    }
   ],
   "source": [
    "pwt2019.describe().round(2)"
   ]
  },
  {
   "cell_type": "markdown",
   "metadata": {},
   "source": [
    "- Sort the data set by the population size, starting with the biggest countries, and print rows for the 10 most populated countries."
   ]
  },
  {
   "cell_type": "code",
   "execution_count": 10,
   "metadata": {
    "ExecuteTime": {
     "end_time": "2021-10-04T14:40:41.161942Z",
     "start_time": "2021-10-04T14:40:41.147364Z"
    }
   },
   "outputs": [
    {
     "data": {
      "text/html": [
       "<div>\n",
       "<style scoped>\n",
       "    .dataframe tbody tr th:only-of-type {\n",
       "        vertical-align: middle;\n",
       "    }\n",
       "\n",
       "    .dataframe tbody tr th {\n",
       "        vertical-align: top;\n",
       "    }\n",
       "\n",
       "    .dataframe thead th {\n",
       "        text-align: right;\n",
       "    }\n",
       "</style>\n",
       "<table border=\"1\" class=\"dataframe\">\n",
       "  <thead>\n",
       "    <tr style=\"text-align: right;\">\n",
       "      <th></th>\n",
       "      <th>country</th>\n",
       "      <th>currency_unit</th>\n",
       "      <th>gdp</th>\n",
       "      <th>pop</th>\n",
       "      <th>emp</th>\n",
       "    </tr>\n",
       "    <tr>\n",
       "      <th>countrycode</th>\n",
       "      <th></th>\n",
       "      <th></th>\n",
       "      <th></th>\n",
       "      <th></th>\n",
       "      <th></th>\n",
       "    </tr>\n",
       "  </thead>\n",
       "  <tbody>\n",
       "    <tr>\n",
       "      <th>CHN</th>\n",
       "      <td>China</td>\n",
       "      <td>Yuan Renminbi</td>\n",
       "      <td>2.005607e+07</td>\n",
       "      <td>1433.783686</td>\n",
       "      <td>798.807739</td>\n",
       "    </tr>\n",
       "    <tr>\n",
       "      <th>IND</th>\n",
       "      <td>India</td>\n",
       "      <td>Indian Rupee</td>\n",
       "      <td>8.945547e+06</td>\n",
       "      <td>1366.417754</td>\n",
       "      <td>497.615723</td>\n",
       "    </tr>\n",
       "    <tr>\n",
       "      <th>USA</th>\n",
       "      <td>United States</td>\n",
       "      <td>US Dollar</td>\n",
       "      <td>2.086051e+07</td>\n",
       "      <td>329.064917</td>\n",
       "      <td>158.299591</td>\n",
       "    </tr>\n",
       "    <tr>\n",
       "      <th>IDN</th>\n",
       "      <td>Indonesia</td>\n",
       "      <td>Rupiah</td>\n",
       "      <td>3.104439e+06</td>\n",
       "      <td>270.625568</td>\n",
       "      <td>131.170685</td>\n",
       "    </tr>\n",
       "    <tr>\n",
       "      <th>PAK</th>\n",
       "      <td>Pakistan</td>\n",
       "      <td>Pakistan Rupee</td>\n",
       "      <td>1.036800e+06</td>\n",
       "      <td>216.565318</td>\n",
       "      <td>63.085052</td>\n",
       "    </tr>\n",
       "    <tr>\n",
       "      <th>BRA</th>\n",
       "      <td>Brazil</td>\n",
       "      <td>Brazilian Real</td>\n",
       "      <td>3.089274e+06</td>\n",
       "      <td>211.049527</td>\n",
       "      <td>93.956825</td>\n",
       "    </tr>\n",
       "    <tr>\n",
       "      <th>NGA</th>\n",
       "      <td>Nigeria</td>\n",
       "      <td>Naira</td>\n",
       "      <td>9.834982e+05</td>\n",
       "      <td>200.963599</td>\n",
       "      <td>73.020554</td>\n",
       "    </tr>\n",
       "    <tr>\n",
       "      <th>BGD</th>\n",
       "      <td>Bangladesh</td>\n",
       "      <td>Taka</td>\n",
       "      <td>7.563556e+05</td>\n",
       "      <td>163.046161</td>\n",
       "      <td>65.534065</td>\n",
       "    </tr>\n",
       "    <tr>\n",
       "      <th>RUS</th>\n",
       "      <td>Russian Federation</td>\n",
       "      <td>Russian Ruble</td>\n",
       "      <td>4.197222e+06</td>\n",
       "      <td>145.872256</td>\n",
       "      <td>71.670639</td>\n",
       "    </tr>\n",
       "    <tr>\n",
       "      <th>MEX</th>\n",
       "      <td>Mexico</td>\n",
       "      <td>Mexican Peso</td>\n",
       "      <td>2.463238e+06</td>\n",
       "      <td>127.575529</td>\n",
       "      <td>54.993595</td>\n",
       "    </tr>\n",
       "  </tbody>\n",
       "</table>\n",
       "</div>"
      ],
      "text/plain": [
       "                        country   currency_unit           gdp          pop  \\\n",
       "countrycode                                                                  \n",
       "CHN                       China   Yuan Renminbi  2.005607e+07  1433.783686   \n",
       "IND                       India    Indian Rupee  8.945547e+06  1366.417754   \n",
       "USA               United States       US Dollar  2.086051e+07   329.064917   \n",
       "IDN                   Indonesia          Rupiah  3.104439e+06   270.625568   \n",
       "PAK                    Pakistan  Pakistan Rupee  1.036800e+06   216.565318   \n",
       "BRA                      Brazil  Brazilian Real  3.089274e+06   211.049527   \n",
       "NGA                     Nigeria           Naira  9.834982e+05   200.963599   \n",
       "BGD                  Bangladesh            Taka  7.563556e+05   163.046161   \n",
       "RUS          Russian Federation   Russian Ruble  4.197222e+06   145.872256   \n",
       "MEX                      Mexico    Mexican Peso  2.463238e+06   127.575529   \n",
       "\n",
       "                    emp  \n",
       "countrycode              \n",
       "CHN          798.807739  \n",
       "IND          497.615723  \n",
       "USA          158.299591  \n",
       "IDN          131.170685  \n",
       "PAK           63.085052  \n",
       "BRA           93.956825  \n",
       "NGA           73.020554  \n",
       "BGD           65.534065  \n",
       "RUS           71.670639  \n",
       "MEX           54.993595  "
      ]
     },
     "execution_count": 10,
     "metadata": {},
     "output_type": "execute_result"
    }
   ],
   "source": [
    "pwt2019.sort_values('pop', ascending=False)[:10]"
   ]
  },
  {
   "cell_type": "markdown",
   "metadata": {},
   "source": [
    "- Drop (in place) rows with missing values. (Hint: Use the `dropna` method.)"
   ]
  },
  {
   "cell_type": "code",
   "execution_count": 11,
   "metadata": {
    "ExecuteTime": {
     "end_time": "2021-10-04T14:40:41.174874Z",
     "start_time": "2021-10-04T14:40:41.164328Z"
    }
   },
   "outputs": [
    {
     "data": {
      "text/plain": [
       "177"
      ]
     },
     "execution_count": 11,
     "metadata": {},
     "output_type": "execute_result"
    }
   ],
   "source": [
    "pwt2019.dropna(inplace=True)\n",
    "len(pwt2019)"
   ]
  },
  {
   "cell_type": "markdown",
   "metadata": {},
   "source": [
    "- Calculate GDP per capita and add it as a column to the subset."
   ]
  },
  {
   "cell_type": "code",
   "execution_count": 12,
   "metadata": {
    "ExecuteTime": {
     "end_time": "2021-10-04T14:40:41.191304Z",
     "start_time": "2021-10-04T14:40:41.177344Z"
    }
   },
   "outputs": [
    {
     "data": {
      "text/html": [
       "<div>\n",
       "<style scoped>\n",
       "    .dataframe tbody tr th:only-of-type {\n",
       "        vertical-align: middle;\n",
       "    }\n",
       "\n",
       "    .dataframe tbody tr th {\n",
       "        vertical-align: top;\n",
       "    }\n",
       "\n",
       "    .dataframe thead th {\n",
       "        text-align: right;\n",
       "    }\n",
       "</style>\n",
       "<table border=\"1\" class=\"dataframe\">\n",
       "  <thead>\n",
       "    <tr style=\"text-align: right;\">\n",
       "      <th></th>\n",
       "      <th>country</th>\n",
       "      <th>currency_unit</th>\n",
       "      <th>gdp</th>\n",
       "      <th>pop</th>\n",
       "      <th>emp</th>\n",
       "      <th>gdppercapita</th>\n",
       "    </tr>\n",
       "    <tr>\n",
       "      <th>countrycode</th>\n",
       "      <th></th>\n",
       "      <th></th>\n",
       "      <th></th>\n",
       "      <th></th>\n",
       "      <th></th>\n",
       "      <th></th>\n",
       "    </tr>\n",
       "  </thead>\n",
       "  <tbody>\n",
       "    <tr>\n",
       "      <th>ABW</th>\n",
       "      <td>Aruba</td>\n",
       "      <td>Aruban Guilder</td>\n",
       "      <td>3921.261230</td>\n",
       "      <td>0.106314</td>\n",
       "      <td>0.047601</td>\n",
       "      <td>36883.771004</td>\n",
       "    </tr>\n",
       "    <tr>\n",
       "      <th>AGO</th>\n",
       "      <td>Angola</td>\n",
       "      <td>Kwanza</td>\n",
       "      <td>228151.015625</td>\n",
       "      <td>31.825295</td>\n",
       "      <td>16.644962</td>\n",
       "      <td>7168.857842</td>\n",
       "    </tr>\n",
       "    <tr>\n",
       "      <th>ALB</th>\n",
       "      <td>Albania</td>\n",
       "      <td>Lek</td>\n",
       "      <td>35890.019531</td>\n",
       "      <td>2.880917</td>\n",
       "      <td>1.075898</td>\n",
       "      <td>12457.845725</td>\n",
       "    </tr>\n",
       "    <tr>\n",
       "      <th>ARE</th>\n",
       "      <td>United Arab Emirates</td>\n",
       "      <td>UAE Dirham</td>\n",
       "      <td>681525.812500</td>\n",
       "      <td>9.770529</td>\n",
       "      <td>5.808834</td>\n",
       "      <td>69753.215256</td>\n",
       "    </tr>\n",
       "    <tr>\n",
       "      <th>ARG</th>\n",
       "      <td>Argentina</td>\n",
       "      <td>Argentine Peso</td>\n",
       "      <td>991646.312500</td>\n",
       "      <td>44.780677</td>\n",
       "      <td>20.643215</td>\n",
       "      <td>22144.513637</td>\n",
       "    </tr>\n",
       "  </tbody>\n",
       "</table>\n",
       "</div>"
      ],
      "text/plain": [
       "                          country   currency_unit            gdp        pop  \\\n",
       "countrycode                                                                   \n",
       "ABW                         Aruba  Aruban Guilder    3921.261230   0.106314   \n",
       "AGO                        Angola          Kwanza  228151.015625  31.825295   \n",
       "ALB                       Albania             Lek   35890.019531   2.880917   \n",
       "ARE          United Arab Emirates      UAE Dirham  681525.812500   9.770529   \n",
       "ARG                     Argentina  Argentine Peso  991646.312500  44.780677   \n",
       "\n",
       "                   emp  gdppercapita  \n",
       "countrycode                           \n",
       "ABW           0.047601  36883.771004  \n",
       "AGO          16.644962   7168.857842  \n",
       "ALB           1.075898  12457.845725  \n",
       "ARE           5.808834  69753.215256  \n",
       "ARG          20.643215  22144.513637  "
      ]
     },
     "execution_count": 12,
     "metadata": {},
     "output_type": "execute_result"
    }
   ],
   "source": [
    "pwt2019['gdppercapita'] = pwt2019['gdp'] / pwt2019['pop']\n",
    "pwt2019.head()"
   ]
  },
  {
   "cell_type": "markdown",
   "metadata": {},
   "source": [
    "- Show the first 15 countries with the highest GDP per capita."
   ]
  },
  {
   "cell_type": "code",
   "execution_count": 13,
   "metadata": {
    "ExecuteTime": {
     "end_time": "2021-10-04T14:40:41.212723Z",
     "start_time": "2021-10-04T14:40:41.193764Z"
    }
   },
   "outputs": [
    {
     "data": {
      "text/html": [
       "<div>\n",
       "<style scoped>\n",
       "    .dataframe tbody tr th:only-of-type {\n",
       "        vertical-align: middle;\n",
       "    }\n",
       "\n",
       "    .dataframe tbody tr th {\n",
       "        vertical-align: top;\n",
       "    }\n",
       "\n",
       "    .dataframe thead th {\n",
       "        text-align: right;\n",
       "    }\n",
       "</style>\n",
       "<table border=\"1\" class=\"dataframe\">\n",
       "  <thead>\n",
       "    <tr style=\"text-align: right;\">\n",
       "      <th></th>\n",
       "      <th>country</th>\n",
       "      <th>currency_unit</th>\n",
       "      <th>gdp</th>\n",
       "      <th>pop</th>\n",
       "      <th>emp</th>\n",
       "      <th>gdppercapita</th>\n",
       "    </tr>\n",
       "    <tr>\n",
       "      <th>countrycode</th>\n",
       "      <th></th>\n",
       "      <th></th>\n",
       "      <th></th>\n",
       "      <th></th>\n",
       "      <th></th>\n",
       "      <th></th>\n",
       "    </tr>\n",
       "  </thead>\n",
       "  <tbody>\n",
       "    <tr>\n",
       "      <th>LUX</th>\n",
       "      <td>Luxembourg</td>\n",
       "      <td>Euro</td>\n",
       "      <td>6.954133e+04</td>\n",
       "      <td>0.615729</td>\n",
       "      <td>0.460663</td>\n",
       "      <td>112941.453342</td>\n",
       "    </tr>\n",
       "    <tr>\n",
       "      <th>MAC</th>\n",
       "      <td>China, Macao SAR</td>\n",
       "      <td>Pataca</td>\n",
       "      <td>6.746312e+04</td>\n",
       "      <td>0.640445</td>\n",
       "      <td>0.387800</td>\n",
       "      <td>105337.890061</td>\n",
       "    </tr>\n",
       "    <tr>\n",
       "      <th>QAT</th>\n",
       "      <td>Qatar</td>\n",
       "      <td>Qatari Rial</td>\n",
       "      <td>2.929635e+05</td>\n",
       "      <td>2.832067</td>\n",
       "      <td>2.083951</td>\n",
       "      <td>103445.127269</td>\n",
       "    </tr>\n",
       "    <tr>\n",
       "      <th>IRL</th>\n",
       "      <td>Ireland</td>\n",
       "      <td>Euro</td>\n",
       "      <td>4.997411e+05</td>\n",
       "      <td>4.882495</td>\n",
       "      <td>2.260448</td>\n",
       "      <td>102353.631443</td>\n",
       "    </tr>\n",
       "    <tr>\n",
       "      <th>SGP</th>\n",
       "      <td>Singapore</td>\n",
       "      <td>Singapore Dollar</td>\n",
       "      <td>5.143763e+05</td>\n",
       "      <td>5.804337</td>\n",
       "      <td>3.759604</td>\n",
       "      <td>88619.305271</td>\n",
       "    </tr>\n",
       "    <tr>\n",
       "      <th>BMU</th>\n",
       "      <td>Bermuda</td>\n",
       "      <td>Bermudian Dollar</td>\n",
       "      <td>4.998454e+03</td>\n",
       "      <td>0.062506</td>\n",
       "      <td>0.034207</td>\n",
       "      <td>79967.588736</td>\n",
       "    </tr>\n",
       "    <tr>\n",
       "      <th>CHE</th>\n",
       "      <td>Switzerland</td>\n",
       "      <td>Swiss Franc</td>\n",
       "      <td>6.171318e+05</td>\n",
       "      <td>8.591365</td>\n",
       "      <td>5.011205</td>\n",
       "      <td>71831.637057</td>\n",
       "    </tr>\n",
       "    <tr>\n",
       "      <th>CYM</th>\n",
       "      <td>Cayman Islands</td>\n",
       "      <td>Cayman Islands Dollar</td>\n",
       "      <td>4.559892e+03</td>\n",
       "      <td>0.064948</td>\n",
       "      <td>0.045087</td>\n",
       "      <td>70208.345162</td>\n",
       "    </tr>\n",
       "    <tr>\n",
       "      <th>ARE</th>\n",
       "      <td>United Arab Emirates</td>\n",
       "      <td>UAE Dirham</td>\n",
       "      <td>6.815258e+05</td>\n",
       "      <td>9.770529</td>\n",
       "      <td>5.808834</td>\n",
       "      <td>69753.215256</td>\n",
       "    </tr>\n",
       "    <tr>\n",
       "      <th>BRN</th>\n",
       "      <td>Brunei Darussalam</td>\n",
       "      <td>Brunei Dollar</td>\n",
       "      <td>2.927074e+04</td>\n",
       "      <td>0.433285</td>\n",
       "      <td>0.222358</td>\n",
       "      <td>67555.392597</td>\n",
       "    </tr>\n",
       "    <tr>\n",
       "      <th>USA</th>\n",
       "      <td>United States</td>\n",
       "      <td>US Dollar</td>\n",
       "      <td>2.086051e+07</td>\n",
       "      <td>329.064917</td>\n",
       "      <td>158.299591</td>\n",
       "      <td>63393.284797</td>\n",
       "    </tr>\n",
       "    <tr>\n",
       "      <th>NOR</th>\n",
       "      <td>Norway</td>\n",
       "      <td>Norwegian Krone</td>\n",
       "      <td>3.364154e+05</td>\n",
       "      <td>5.378857</td>\n",
       "      <td>2.853662</td>\n",
       "      <td>62544.032357</td>\n",
       "    </tr>\n",
       "    <tr>\n",
       "      <th>HKG</th>\n",
       "      <td>China, Hong Kong SAR</td>\n",
       "      <td>Hong Kong Dollar</td>\n",
       "      <td>4.405543e+05</td>\n",
       "      <td>7.436154</td>\n",
       "      <td>3.863810</td>\n",
       "      <td>59244.910911</td>\n",
       "    </tr>\n",
       "    <tr>\n",
       "      <th>ISL</th>\n",
       "      <td>Iceland</td>\n",
       "      <td>Iceland Krona</td>\n",
       "      <td>1.988688e+04</td>\n",
       "      <td>0.339031</td>\n",
       "      <td>0.192338</td>\n",
       "      <td>58658.001361</td>\n",
       "    </tr>\n",
       "    <tr>\n",
       "      <th>NLD</th>\n",
       "      <td>Netherlands</td>\n",
       "      <td>Euro</td>\n",
       "      <td>9.583146e+05</td>\n",
       "      <td>17.097130</td>\n",
       "      <td>9.456908</td>\n",
       "      <td>56051.198359</td>\n",
       "    </tr>\n",
       "  </tbody>\n",
       "</table>\n",
       "</div>"
      ],
      "text/plain": [
       "                          country          currency_unit           gdp  \\\n",
       "countrycode                                                              \n",
       "LUX                    Luxembourg                   Euro  6.954133e+04   \n",
       "MAC              China, Macao SAR                 Pataca  6.746312e+04   \n",
       "QAT                         Qatar            Qatari Rial  2.929635e+05   \n",
       "IRL                       Ireland                   Euro  4.997411e+05   \n",
       "SGP                     Singapore       Singapore Dollar  5.143763e+05   \n",
       "BMU                       Bermuda       Bermudian Dollar  4.998454e+03   \n",
       "CHE                   Switzerland            Swiss Franc  6.171318e+05   \n",
       "CYM                Cayman Islands  Cayman Islands Dollar  4.559892e+03   \n",
       "ARE          United Arab Emirates             UAE Dirham  6.815258e+05   \n",
       "BRN             Brunei Darussalam          Brunei Dollar  2.927074e+04   \n",
       "USA                 United States              US Dollar  2.086051e+07   \n",
       "NOR                        Norway        Norwegian Krone  3.364154e+05   \n",
       "HKG          China, Hong Kong SAR       Hong Kong Dollar  4.405543e+05   \n",
       "ISL                       Iceland          Iceland Krona  1.988688e+04   \n",
       "NLD                   Netherlands                   Euro  9.583146e+05   \n",
       "\n",
       "                    pop         emp   gdppercapita  \n",
       "countrycode                                         \n",
       "LUX            0.615729    0.460663  112941.453342  \n",
       "MAC            0.640445    0.387800  105337.890061  \n",
       "QAT            2.832067    2.083951  103445.127269  \n",
       "IRL            4.882495    2.260448  102353.631443  \n",
       "SGP            5.804337    3.759604   88619.305271  \n",
       "BMU            0.062506    0.034207   79967.588736  \n",
       "CHE            8.591365    5.011205   71831.637057  \n",
       "CYM            0.064948    0.045087   70208.345162  \n",
       "ARE            9.770529    5.808834   69753.215256  \n",
       "BRN            0.433285    0.222358   67555.392597  \n",
       "USA          329.064917  158.299591   63393.284797  \n",
       "NOR            5.378857    2.853662   62544.032357  \n",
       "HKG            7.436154    3.863810   59244.910911  \n",
       "ISL            0.339031    0.192338   58658.001361  \n",
       "NLD           17.097130    9.456908   56051.198359  "
      ]
     },
     "execution_count": 13,
     "metadata": {},
     "output_type": "execute_result"
    }
   ],
   "source": [
    "pwt2019top = pwt2019.sort_values('gdppercapita', ascending=False)[:15]\n",
    "pwt2019top"
   ]
  },
  {
   "cell_type": "markdown",
   "metadata": {},
   "source": [
    "- Plot a bar chart showing GDP per capita for these countries."
   ]
  },
  {
   "cell_type": "code",
   "execution_count": 14,
   "metadata": {
    "ExecuteTime": {
     "end_time": "2021-10-04T14:40:41.622431Z",
     "start_time": "2021-10-04T14:40:41.214825Z"
    }
   },
   "outputs": [
    {
     "data": {
      "text/plain": [
       "(array([ 0,  1,  2,  3,  4,  5,  6,  7,  8,  9, 10, 11, 12, 13, 14]),\n",
       " [Text(0, 0, 'LUX'),\n",
       "  Text(1, 0, 'MAC'),\n",
       "  Text(2, 0, 'QAT'),\n",
       "  Text(3, 0, 'IRL'),\n",
       "  Text(4, 0, 'SGP'),\n",
       "  Text(5, 0, 'BMU'),\n",
       "  Text(6, 0, 'CHE'),\n",
       "  Text(7, 0, 'CYM'),\n",
       "  Text(8, 0, 'ARE'),\n",
       "  Text(9, 0, 'BRN'),\n",
       "  Text(10, 0, 'USA'),\n",
       "  Text(11, 0, 'NOR'),\n",
       "  Text(12, 0, 'HKG'),\n",
       "  Text(13, 0, 'ISL'),\n",
       "  Text(14, 0, 'NLD')])"
      ]
     },
     "execution_count": 14,
     "metadata": {},
     "output_type": "execute_result"
    },
    {
     "data": {
      "image/png": "[encoded data removed]",
      "text/plain": [
       "<Figure size 432x288 with 1 Axes>"
      ]
     },
     "metadata": {
      "needs_background": "light"
     },
     "output_type": "display_data"
    }
   ],
   "source": [
    "# pwt2019top['gdppercapita'].plot.bar()\n",
    "\n",
    "# Or:\n",
    "sns.barplot(data=pwt2019top, y='gdppercapita', x=pwt2019top.index)\n",
    "plt.xticks(rotation=90)"
   ]
  },
  {
   "cell_type": "markdown",
   "metadata": {},
   "source": [
    "- Calculate the employment rate (i.e. 100 * emp / pop) and add it as a column to the subset."
   ]
  },
  {
   "cell_type": "code",
   "execution_count": 15,
   "metadata": {
    "ExecuteTime": {
     "end_time": "2021-10-04T14:40:41.638401Z",
     "start_time": "2021-10-04T14:40:41.624486Z"
    }
   },
   "outputs": [
    {
     "data": {
      "text/html": [
       "<div>\n",
       "<style scoped>\n",
       "    .dataframe tbody tr th:only-of-type {\n",
       "        vertical-align: middle;\n",
       "    }\n",
       "\n",
       "    .dataframe tbody tr th {\n",
       "        vertical-align: top;\n",
       "    }\n",
       "\n",
       "    .dataframe thead th {\n",
       "        text-align: right;\n",
       "    }\n",
       "</style>\n",
       "<table border=\"1\" class=\"dataframe\">\n",
       "  <thead>\n",
       "    <tr style=\"text-align: right;\">\n",
       "      <th></th>\n",
       "      <th>country</th>\n",
       "      <th>currency_unit</th>\n",
       "      <th>gdp</th>\n",
       "      <th>pop</th>\n",
       "      <th>emp</th>\n",
       "      <th>gdppercapita</th>\n",
       "      <th>emprate</th>\n",
       "    </tr>\n",
       "    <tr>\n",
       "      <th>countrycode</th>\n",
       "      <th></th>\n",
       "      <th></th>\n",
       "      <th></th>\n",
       "      <th></th>\n",
       "      <th></th>\n",
       "      <th></th>\n",
       "      <th></th>\n",
       "    </tr>\n",
       "  </thead>\n",
       "  <tbody>\n",
       "    <tr>\n",
       "      <th>ABW</th>\n",
       "      <td>Aruba</td>\n",
       "      <td>Aruban Guilder</td>\n",
       "      <td>3921.261230</td>\n",
       "      <td>0.106314</td>\n",
       "      <td>0.047601</td>\n",
       "      <td>36883.771004</td>\n",
       "      <td>44.773866</td>\n",
       "    </tr>\n",
       "    <tr>\n",
       "      <th>AGO</th>\n",
       "      <td>Angola</td>\n",
       "      <td>Kwanza</td>\n",
       "      <td>228151.015625</td>\n",
       "      <td>31.825295</td>\n",
       "      <td>16.644962</td>\n",
       "      <td>7168.857842</td>\n",
       "      <td>52.301046</td>\n",
       "    </tr>\n",
       "    <tr>\n",
       "      <th>ALB</th>\n",
       "      <td>Albania</td>\n",
       "      <td>Lek</td>\n",
       "      <td>35890.019531</td>\n",
       "      <td>2.880917</td>\n",
       "      <td>1.075898</td>\n",
       "      <td>12457.845725</td>\n",
       "      <td>37.345668</td>\n",
       "    </tr>\n",
       "    <tr>\n",
       "      <th>ARE</th>\n",
       "      <td>United Arab Emirates</td>\n",
       "      <td>UAE Dirham</td>\n",
       "      <td>681525.812500</td>\n",
       "      <td>9.770529</td>\n",
       "      <td>5.808834</td>\n",
       "      <td>69753.215256</td>\n",
       "      <td>59.452606</td>\n",
       "    </tr>\n",
       "    <tr>\n",
       "      <th>ARG</th>\n",
       "      <td>Argentina</td>\n",
       "      <td>Argentine Peso</td>\n",
       "      <td>991646.312500</td>\n",
       "      <td>44.780677</td>\n",
       "      <td>20.643215</td>\n",
       "      <td>22144.513637</td>\n",
       "      <td>46.098488</td>\n",
       "    </tr>\n",
       "  </tbody>\n",
       "</table>\n",
       "</div>"
      ],
      "text/plain": [
       "                          country   currency_unit            gdp        pop  \\\n",
       "countrycode                                                                   \n",
       "ABW                         Aruba  Aruban Guilder    3921.261230   0.106314   \n",
       "AGO                        Angola          Kwanza  228151.015625  31.825295   \n",
       "ALB                       Albania             Lek   35890.019531   2.880917   \n",
       "ARE          United Arab Emirates      UAE Dirham  681525.812500   9.770529   \n",
       "ARG                     Argentina  Argentine Peso  991646.312500  44.780677   \n",
       "\n",
       "                   emp  gdppercapita    emprate  \n",
       "countrycode                                      \n",
       "ABW           0.047601  36883.771004  44.773866  \n",
       "AGO          16.644962   7168.857842  52.301046  \n",
       "ALB           1.075898  12457.845725  37.345668  \n",
       "ARE           5.808834  69753.215256  59.452606  \n",
       "ARG          20.643215  22144.513637  46.098488  "
      ]
     },
     "execution_count": 15,
     "metadata": {},
     "output_type": "execute_result"
    }
   ],
   "source": [
    "pwt2019['emprate'] = 100 * pwt2019['emp'] / pwt2019['pop']\n",
    "pwt2019.head()"
   ]
  },
  {
   "cell_type": "markdown",
   "metadata": {},
   "source": [
    "- Make a scatter plot showing the GDP per capita on the x-axis and the employment rate on the y-axis for the 15 countries with the highest GDP per capita. \n",
    "\n",
    "  Use suitable descriptions of both axes (instead of the column names).\n",
    "\n",
    "  Extra challenge: Annotate each point with the country code. Use a loop and iterate over the index of the data frame (with those 15 countries). For each label use the `plt.text` function to add it to the plot at the coordinates given by the GDP per capita and employment rate for that label."
   ]
  },
  {
   "cell_type": "code",
   "execution_count": 16,
   "metadata": {
    "ExecuteTime": {
     "end_time": "2021-10-04T14:40:41.973557Z",
     "start_time": "2021-10-04T14:40:41.640327Z"
    }
   },
   "outputs": [
    {
     "data": {
      "text/plain": [
       "Text(0, 0.5, 'Employment rate')"
      ]
     },
     "execution_count": 16,
     "metadata": {},
     "output_type": "execute_result"
    },
    {
     "data": {
      "image/png": "[encoded data removed]",
      "text/plain": [
       "<Figure size 432x288 with 1 Axes>"
      ]
     },
     "metadata": {
      "needs_background": "light"
     },
     "output_type": "display_data"
    }
   ],
   "source": [
    "pwt2019top = pwt2019.sort_values('gdppercapita', ascending=False)[:15]\n",
    "sns.scatterplot(data=pwt2019top, x='gdppercapita', y='emprate')\n",
    "\n",
    "for label in pwt2019top.index:\n",
    "    plt.text(pwt2019top.loc[label, 'gdppercapita'] + 1000, pwt2019top.loc[label, 'emprate'] - 0.5, label)\n",
    "\n",
    "plt.xlabel('GDP per capita')\n",
    "plt.ylabel('Employment rate')"
   ]
  },
  {
   "cell_type": "markdown",
   "metadata": {},
   "source": [
    "### Exercise 2. Credit risk\n",
    "\n",
    "The data set stored in *credit_risk.xlsx* contains the following information on 700 customers who have been given a loan in an undisclosed bank:\n",
    "\n",
    "- default: 1 if the customer has previously defaulted on their debt, 0 otherwise\n",
    "- age: customer's age\n",
    "- employ: years with the current employer\n",
    "- address: years at the current address\n",
    "- income: household income in thousands\n",
    "- creddebt: the credit card debt in thousands\n",
    "- othdebt: other debt in thousands\n",
    "\n",
    "Solve the tasks described below."
   ]
  },
  {
   "cell_type": "markdown",
   "metadata": {},
   "source": [
    "- Read the file to a Pandas data frame."
   ]
  },
  {
   "cell_type": "code",
   "execution_count": 17,
   "metadata": {
    "ExecuteTime": {
     "end_time": "2021-10-04T14:40:42.164437Z",
     "start_time": "2021-10-04T14:40:41.975606Z"
    }
   },
   "outputs": [
    {
     "data": {
      "text/html": [
       "<div>\n",
       "<style scoped>\n",
       "    .dataframe tbody tr th:only-of-type {\n",
       "        vertical-align: middle;\n",
       "    }\n",
       "\n",
       "    .dataframe tbody tr th {\n",
       "        vertical-align: top;\n",
       "    }\n",
       "\n",
       "    .dataframe thead th {\n",
       "        text-align: right;\n",
       "    }\n",
       "</style>\n",
       "<table border=\"1\" class=\"dataframe\">\n",
       "  <thead>\n",
       "    <tr style=\"text-align: right;\">\n",
       "      <th></th>\n",
       "      <th>default</th>\n",
       "      <th>age</th>\n",
       "      <th>employ</th>\n",
       "      <th>address</th>\n",
       "      <th>income</th>\n",
       "      <th>creddebt</th>\n",
       "      <th>othdebt</th>\n",
       "    </tr>\n",
       "  </thead>\n",
       "  <tbody>\n",
       "    <tr>\n",
       "      <th>0</th>\n",
       "      <td>1</td>\n",
       "      <td>41</td>\n",
       "      <td>17</td>\n",
       "      <td>12</td>\n",
       "      <td>176</td>\n",
       "      <td>11.359392</td>\n",
       "      <td>5.008608</td>\n",
       "    </tr>\n",
       "    <tr>\n",
       "      <th>1</th>\n",
       "      <td>0</td>\n",
       "      <td>27</td>\n",
       "      <td>10</td>\n",
       "      <td>6</td>\n",
       "      <td>31</td>\n",
       "      <td>1.362202</td>\n",
       "      <td>4.000798</td>\n",
       "    </tr>\n",
       "    <tr>\n",
       "      <th>2</th>\n",
       "      <td>0</td>\n",
       "      <td>40</td>\n",
       "      <td>15</td>\n",
       "      <td>14</td>\n",
       "      <td>55</td>\n",
       "      <td>0.856075</td>\n",
       "      <td>2.168925</td>\n",
       "    </tr>\n",
       "    <tr>\n",
       "      <th>3</th>\n",
       "      <td>0</td>\n",
       "      <td>41</td>\n",
       "      <td>15</td>\n",
       "      <td>14</td>\n",
       "      <td>120</td>\n",
       "      <td>2.658720</td>\n",
       "      <td>0.821280</td>\n",
       "    </tr>\n",
       "    <tr>\n",
       "      <th>4</th>\n",
       "      <td>1</td>\n",
       "      <td>24</td>\n",
       "      <td>2</td>\n",
       "      <td>0</td>\n",
       "      <td>28</td>\n",
       "      <td>1.787436</td>\n",
       "      <td>3.056564</td>\n",
       "    </tr>\n",
       "    <tr>\n",
       "      <th>...</th>\n",
       "      <td>...</td>\n",
       "      <td>...</td>\n",
       "      <td>...</td>\n",
       "      <td>...</td>\n",
       "      <td>...</td>\n",
       "      <td>...</td>\n",
       "      <td>...</td>\n",
       "    </tr>\n",
       "    <tr>\n",
       "      <th>695</th>\n",
       "      <td>1</td>\n",
       "      <td>36</td>\n",
       "      <td>6</td>\n",
       "      <td>15</td>\n",
       "      <td>27</td>\n",
       "      <td>0.262062</td>\n",
       "      <td>0.979938</td>\n",
       "    </tr>\n",
       "    <tr>\n",
       "      <th>696</th>\n",
       "      <td>0</td>\n",
       "      <td>29</td>\n",
       "      <td>6</td>\n",
       "      <td>4</td>\n",
       "      <td>21</td>\n",
       "      <td>0.369495</td>\n",
       "      <td>2.045505</td>\n",
       "    </tr>\n",
       "    <tr>\n",
       "      <th>697</th>\n",
       "      <td>0</td>\n",
       "      <td>33</td>\n",
       "      <td>15</td>\n",
       "      <td>3</td>\n",
       "      <td>32</td>\n",
       "      <td>0.491264</td>\n",
       "      <td>1.940736</td>\n",
       "    </tr>\n",
       "    <tr>\n",
       "      <th>698</th>\n",
       "      <td>0</td>\n",
       "      <td>45</td>\n",
       "      <td>19</td>\n",
       "      <td>22</td>\n",
       "      <td>77</td>\n",
       "      <td>2.302608</td>\n",
       "      <td>4.165392</td>\n",
       "    </tr>\n",
       "    <tr>\n",
       "      <th>699</th>\n",
       "      <td>0</td>\n",
       "      <td>37</td>\n",
       "      <td>12</td>\n",
       "      <td>14</td>\n",
       "      <td>44</td>\n",
       "      <td>2.994684</td>\n",
       "      <td>3.473316</td>\n",
       "    </tr>\n",
       "  </tbody>\n",
       "</table>\n",
       "<p>700 rows × 7 columns</p>\n",
       "</div>"
      ],
      "text/plain": [
       "     default  age  employ  address  income   creddebt   othdebt\n",
       "0          1   41      17       12     176  11.359392  5.008608\n",
       "1          0   27      10        6      31   1.362202  4.000798\n",
       "2          0   40      15       14      55   0.856075  2.168925\n",
       "3          0   41      15       14     120   2.658720  0.821280\n",
       "4          1   24       2        0      28   1.787436  3.056564\n",
       "..       ...  ...     ...      ...     ...        ...       ...\n",
       "695        1   36       6       15      27   0.262062  0.979938\n",
       "696        0   29       6        4      21   0.369495  2.045505\n",
       "697        0   33      15        3      32   0.491264  1.940736\n",
       "698        0   45      19       22      77   2.302608  4.165392\n",
       "699        0   37      12       14      44   2.994684  3.473316\n",
       "\n",
       "[700 rows x 7 columns]"
      ]
     },
     "execution_count": 17,
     "metadata": {},
     "output_type": "execute_result"
    }
   ],
   "source": [
    "cr_df = pd.read_excel('credit_risk.xlsx')\n",
    "cr_df"
   ]
  },
  {
   "cell_type": "markdown",
   "metadata": {},
   "source": [
    "- Compute debt-to-income ratio and add it as a new column to the data frame. "
   ]
  },
  {
   "cell_type": "code",
   "execution_count": 18,
   "metadata": {
    "ExecuteTime": {
     "end_time": "2021-10-04T14:40:42.181303Z",
     "start_time": "2021-10-04T14:40:42.166410Z"
    }
   },
   "outputs": [
    {
     "data": {
      "text/html": [
       "<div>\n",
       "<style scoped>\n",
       "    .dataframe tbody tr th:only-of-type {\n",
       "        vertical-align: middle;\n",
       "    }\n",
       "\n",
       "    .dataframe tbody tr th {\n",
       "        vertical-align: top;\n",
       "    }\n",
       "\n",
       "    .dataframe thead th {\n",
       "        text-align: right;\n",
       "    }\n",
       "</style>\n",
       "<table border=\"1\" class=\"dataframe\">\n",
       "  <thead>\n",
       "    <tr style=\"text-align: right;\">\n",
       "      <th></th>\n",
       "      <th>default</th>\n",
       "      <th>age</th>\n",
       "      <th>employ</th>\n",
       "      <th>address</th>\n",
       "      <th>income</th>\n",
       "      <th>creddebt</th>\n",
       "      <th>othdebt</th>\n",
       "      <th>debt2income</th>\n",
       "    </tr>\n",
       "  </thead>\n",
       "  <tbody>\n",
       "    <tr>\n",
       "      <th>0</th>\n",
       "      <td>1</td>\n",
       "      <td>41</td>\n",
       "      <td>17</td>\n",
       "      <td>12</td>\n",
       "      <td>176</td>\n",
       "      <td>11.359392</td>\n",
       "      <td>5.008608</td>\n",
       "      <td>0.093</td>\n",
       "    </tr>\n",
       "    <tr>\n",
       "      <th>1</th>\n",
       "      <td>0</td>\n",
       "      <td>27</td>\n",
       "      <td>10</td>\n",
       "      <td>6</td>\n",
       "      <td>31</td>\n",
       "      <td>1.362202</td>\n",
       "      <td>4.000798</td>\n",
       "      <td>0.173</td>\n",
       "    </tr>\n",
       "    <tr>\n",
       "      <th>2</th>\n",
       "      <td>0</td>\n",
       "      <td>40</td>\n",
       "      <td>15</td>\n",
       "      <td>14</td>\n",
       "      <td>55</td>\n",
       "      <td>0.856075</td>\n",
       "      <td>2.168925</td>\n",
       "      <td>0.055</td>\n",
       "    </tr>\n",
       "    <tr>\n",
       "      <th>3</th>\n",
       "      <td>0</td>\n",
       "      <td>41</td>\n",
       "      <td>15</td>\n",
       "      <td>14</td>\n",
       "      <td>120</td>\n",
       "      <td>2.658720</td>\n",
       "      <td>0.821280</td>\n",
       "      <td>0.029</td>\n",
       "    </tr>\n",
       "    <tr>\n",
       "      <th>4</th>\n",
       "      <td>1</td>\n",
       "      <td>24</td>\n",
       "      <td>2</td>\n",
       "      <td>0</td>\n",
       "      <td>28</td>\n",
       "      <td>1.787436</td>\n",
       "      <td>3.056564</td>\n",
       "      <td>0.173</td>\n",
       "    </tr>\n",
       "  </tbody>\n",
       "</table>\n",
       "</div>"
      ],
      "text/plain": [
       "   default  age  employ  address  income   creddebt   othdebt  debt2income\n",
       "0        1   41      17       12     176  11.359392  5.008608        0.093\n",
       "1        0   27      10        6      31   1.362202  4.000798        0.173\n",
       "2        0   40      15       14      55   0.856075  2.168925        0.055\n",
       "3        0   41      15       14     120   2.658720  0.821280        0.029\n",
       "4        1   24       2        0      28   1.787436  3.056564        0.173"
      ]
     },
     "execution_count": 18,
     "metadata": {},
     "output_type": "execute_result"
    }
   ],
   "source": [
    "cr_df['debt2income'] = (cr_df['creddebt'] + cr_df['othdebt']) / cr_df['income']\n",
    "cr_df.head()"
   ]
  },
  {
   "cell_type": "markdown",
   "metadata": {},
   "source": [
    "- Use the `describe` method to show the summary statistics for all columns."
   ]
  },
  {
   "cell_type": "code",
   "execution_count": 19,
   "metadata": {
    "ExecuteTime": {
     "end_time": "2021-10-04T14:40:42.225768Z",
     "start_time": "2021-10-04T14:40:42.183689Z"
    }
   },
   "outputs": [
    {
     "data": {
      "text/html": [
       "<div>\n",
       "<style scoped>\n",
       "    .dataframe tbody tr th:only-of-type {\n",
       "        vertical-align: middle;\n",
       "    }\n",
       "\n",
       "    .dataframe tbody tr th {\n",
       "        vertical-align: top;\n",
       "    }\n",
       "\n",
       "    .dataframe thead th {\n",
       "        text-align: right;\n",
       "    }\n",
       "</style>\n",
       "<table border=\"1\" class=\"dataframe\">\n",
       "  <thead>\n",
       "    <tr style=\"text-align: right;\">\n",
       "      <th></th>\n",
       "      <th>default</th>\n",
       "      <th>age</th>\n",
       "      <th>employ</th>\n",
       "      <th>address</th>\n",
       "      <th>income</th>\n",
       "      <th>creddebt</th>\n",
       "      <th>othdebt</th>\n",
       "      <th>debt2income</th>\n",
       "    </tr>\n",
       "  </thead>\n",
       "  <tbody>\n",
       "    <tr>\n",
       "      <th>count</th>\n",
       "      <td>700.000000</td>\n",
       "      <td>700.000000</td>\n",
       "      <td>700.000000</td>\n",
       "      <td>700.000000</td>\n",
       "      <td>700.000000</td>\n",
       "      <td>700.000000</td>\n",
       "      <td>700.000000</td>\n",
       "      <td>700.000000</td>\n",
       "    </tr>\n",
       "    <tr>\n",
       "      <th>mean</th>\n",
       "      <td>0.261429</td>\n",
       "      <td>34.860000</td>\n",
       "      <td>8.388571</td>\n",
       "      <td>8.278571</td>\n",
       "      <td>45.601429</td>\n",
       "      <td>1.553553</td>\n",
       "      <td>3.058209</td>\n",
       "      <td>0.102606</td>\n",
       "    </tr>\n",
       "    <tr>\n",
       "      <th>std</th>\n",
       "      <td>0.439727</td>\n",
       "      <td>7.997342</td>\n",
       "      <td>6.658039</td>\n",
       "      <td>6.824877</td>\n",
       "      <td>36.814226</td>\n",
       "      <td>2.117197</td>\n",
       "      <td>3.287555</td>\n",
       "      <td>0.068272</td>\n",
       "    </tr>\n",
       "    <tr>\n",
       "      <th>min</th>\n",
       "      <td>0.000000</td>\n",
       "      <td>20.000000</td>\n",
       "      <td>0.000000</td>\n",
       "      <td>0.000000</td>\n",
       "      <td>14.000000</td>\n",
       "      <td>0.011696</td>\n",
       "      <td>0.045584</td>\n",
       "      <td>0.004000</td>\n",
       "    </tr>\n",
       "    <tr>\n",
       "      <th>25%</th>\n",
       "      <td>0.000000</td>\n",
       "      <td>29.000000</td>\n",
       "      <td>3.000000</td>\n",
       "      <td>3.000000</td>\n",
       "      <td>24.000000</td>\n",
       "      <td>0.369059</td>\n",
       "      <td>1.044178</td>\n",
       "      <td>0.050000</td>\n",
       "    </tr>\n",
       "    <tr>\n",
       "      <th>50%</th>\n",
       "      <td>0.000000</td>\n",
       "      <td>34.000000</td>\n",
       "      <td>7.000000</td>\n",
       "      <td>7.000000</td>\n",
       "      <td>34.000000</td>\n",
       "      <td>0.854869</td>\n",
       "      <td>1.987567</td>\n",
       "      <td>0.086000</td>\n",
       "    </tr>\n",
       "    <tr>\n",
       "      <th>75%</th>\n",
       "      <td>1.000000</td>\n",
       "      <td>40.000000</td>\n",
       "      <td>12.000000</td>\n",
       "      <td>12.000000</td>\n",
       "      <td>55.000000</td>\n",
       "      <td>1.901955</td>\n",
       "      <td>3.923065</td>\n",
       "      <td>0.141250</td>\n",
       "    </tr>\n",
       "    <tr>\n",
       "      <th>max</th>\n",
       "      <td>1.000000</td>\n",
       "      <td>56.000000</td>\n",
       "      <td>31.000000</td>\n",
       "      <td>34.000000</td>\n",
       "      <td>446.000000</td>\n",
       "      <td>20.561310</td>\n",
       "      <td>27.033600</td>\n",
       "      <td>0.413000</td>\n",
       "    </tr>\n",
       "  </tbody>\n",
       "</table>\n",
       "</div>"
      ],
      "text/plain": [
       "          default         age      employ     address      income    creddebt  \\\n",
       "count  700.000000  700.000000  700.000000  700.000000  700.000000  700.000000   \n",
       "mean     0.261429   34.860000    8.388571    8.278571   45.601429    1.553553   \n",
       "std      0.439727    7.997342    6.658039    6.824877   36.814226    2.117197   \n",
       "min      0.000000   20.000000    0.000000    0.000000   14.000000    0.011696   \n",
       "25%      0.000000   29.000000    3.000000    3.000000   24.000000    0.369059   \n",
       "50%      0.000000   34.000000    7.000000    7.000000   34.000000    0.854869   \n",
       "75%      1.000000   40.000000   12.000000   12.000000   55.000000    1.901955   \n",
       "max      1.000000   56.000000   31.000000   34.000000  446.000000   20.561310   \n",
       "\n",
       "          othdebt  debt2income  \n",
       "count  700.000000   700.000000  \n",
       "mean     3.058209     0.102606  \n",
       "std      3.287555     0.068272  \n",
       "min      0.045584     0.004000  \n",
       "25%      1.044178     0.050000  \n",
       "50%      1.987567     0.086000  \n",
       "75%      3.923065     0.141250  \n",
       "max     27.033600     0.413000  "
      ]
     },
     "execution_count": 19,
     "metadata": {},
     "output_type": "execute_result"
    }
   ],
   "source": [
    "cr_df.describe()"
   ]
  },
  {
   "cell_type": "markdown",
   "metadata": {},
   "source": [
    "- Show the same summary for the customers who have previously defaulted on their debt."
   ]
  },
  {
   "cell_type": "code",
   "execution_count": 20,
   "metadata": {
    "ExecuteTime": {
     "end_time": "2021-10-04T14:40:42.275283Z",
     "start_time": "2021-10-04T14:40:42.227975Z"
    }
   },
   "outputs": [
    {
     "data": {
      "text/html": [
       "<div>\n",
       "<style scoped>\n",
       "    .dataframe tbody tr th:only-of-type {\n",
       "        vertical-align: middle;\n",
       "    }\n",
       "\n",
       "    .dataframe tbody tr th {\n",
       "        vertical-align: top;\n",
       "    }\n",
       "\n",
       "    .dataframe thead th {\n",
       "        text-align: right;\n",
       "    }\n",
       "</style>\n",
       "<table border=\"1\" class=\"dataframe\">\n",
       "  <thead>\n",
       "    <tr style=\"text-align: right;\">\n",
       "      <th></th>\n",
       "      <th>default</th>\n",
       "      <th>age</th>\n",
       "      <th>employ</th>\n",
       "      <th>address</th>\n",
       "      <th>income</th>\n",
       "      <th>creddebt</th>\n",
       "      <th>othdebt</th>\n",
       "      <th>debt2income</th>\n",
       "    </tr>\n",
       "  </thead>\n",
       "  <tbody>\n",
       "    <tr>\n",
       "      <th>count</th>\n",
       "      <td>183.0</td>\n",
       "      <td>183.000000</td>\n",
       "      <td>183.000000</td>\n",
       "      <td>183.000000</td>\n",
       "      <td>183.000000</td>\n",
       "      <td>183.000000</td>\n",
       "      <td>183.000000</td>\n",
       "      <td>183.000000</td>\n",
       "    </tr>\n",
       "    <tr>\n",
       "      <th>mean</th>\n",
       "      <td>1.0</td>\n",
       "      <td>33.010929</td>\n",
       "      <td>5.224044</td>\n",
       "      <td>6.393443</td>\n",
       "      <td>41.213115</td>\n",
       "      <td>2.423865</td>\n",
       "      <td>3.862807</td>\n",
       "      <td>0.147279</td>\n",
       "    </tr>\n",
       "    <tr>\n",
       "      <th>std</th>\n",
       "      <td>0.0</td>\n",
       "      <td>8.517589</td>\n",
       "      <td>5.542946</td>\n",
       "      <td>5.925208</td>\n",
       "      <td>43.115529</td>\n",
       "      <td>3.232522</td>\n",
       "      <td>4.263684</td>\n",
       "      <td>0.079028</td>\n",
       "    </tr>\n",
       "    <tr>\n",
       "      <th>min</th>\n",
       "      <td>1.0</td>\n",
       "      <td>20.000000</td>\n",
       "      <td>0.000000</td>\n",
       "      <td>0.000000</td>\n",
       "      <td>14.000000</td>\n",
       "      <td>0.072885</td>\n",
       "      <td>0.160983</td>\n",
       "      <td>0.009000</td>\n",
       "    </tr>\n",
       "    <tr>\n",
       "      <th>25%</th>\n",
       "      <td>1.0</td>\n",
       "      <td>27.000000</td>\n",
       "      <td>1.000000</td>\n",
       "      <td>2.000000</td>\n",
       "      <td>21.000000</td>\n",
       "      <td>0.543552</td>\n",
       "      <td>1.317870</td>\n",
       "      <td>0.085500</td>\n",
       "    </tr>\n",
       "    <tr>\n",
       "      <th>50%</th>\n",
       "      <td>1.0</td>\n",
       "      <td>31.000000</td>\n",
       "      <td>3.000000</td>\n",
       "      <td>5.000000</td>\n",
       "      <td>29.000000</td>\n",
       "      <td>1.376844</td>\n",
       "      <td>2.529508</td>\n",
       "      <td>0.138000</td>\n",
       "    </tr>\n",
       "    <tr>\n",
       "      <th>75%</th>\n",
       "      <td>1.0</td>\n",
       "      <td>39.000000</td>\n",
       "      <td>8.000000</td>\n",
       "      <td>10.000000</td>\n",
       "      <td>45.500000</td>\n",
       "      <td>2.710806</td>\n",
       "      <td>4.650975</td>\n",
       "      <td>0.193500</td>\n",
       "    </tr>\n",
       "    <tr>\n",
       "      <th>max</th>\n",
       "      <td>1.0</td>\n",
       "      <td>55.000000</td>\n",
       "      <td>31.000000</td>\n",
       "      <td>29.000000</td>\n",
       "      <td>446.000000</td>\n",
       "      <td>20.561310</td>\n",
       "      <td>27.033600</td>\n",
       "      <td>0.413000</td>\n",
       "    </tr>\n",
       "  </tbody>\n",
       "</table>\n",
       "</div>"
      ],
      "text/plain": [
       "       default         age      employ     address      income    creddebt  \\\n",
       "count    183.0  183.000000  183.000000  183.000000  183.000000  183.000000   \n",
       "mean       1.0   33.010929    5.224044    6.393443   41.213115    2.423865   \n",
       "std        0.0    8.517589    5.542946    5.925208   43.115529    3.232522   \n",
       "min        1.0   20.000000    0.000000    0.000000   14.000000    0.072885   \n",
       "25%        1.0   27.000000    1.000000    2.000000   21.000000    0.543552   \n",
       "50%        1.0   31.000000    3.000000    5.000000   29.000000    1.376844   \n",
       "75%        1.0   39.000000    8.000000   10.000000   45.500000    2.710806   \n",
       "max        1.0   55.000000   31.000000   29.000000  446.000000   20.561310   \n",
       "\n",
       "          othdebt  debt2income  \n",
       "count  183.000000   183.000000  \n",
       "mean     3.862807     0.147279  \n",
       "std      4.263684     0.079028  \n",
       "min      0.160983     0.009000  \n",
       "25%      1.317870     0.085500  \n",
       "50%      2.529508     0.138000  \n",
       "75%      4.650975     0.193500  \n",
       "max     27.033600     0.413000  "
      ]
     },
     "execution_count": 20,
     "metadata": {},
     "output_type": "execute_result"
    }
   ],
   "source": [
    "cr_df.query('default==1').describe()"
   ]
  },
  {
   "cell_type": "markdown",
   "metadata": {},
   "source": [
    "- Draw scatter plots showing the income on the x-axis and the credit card debt on the y-axis. Then modify the plot and use a different color for points representing customers who previously defaulted on their debt."
   ]
  },
  {
   "cell_type": "code",
   "execution_count": 21,
   "metadata": {
    "ExecuteTime": {
     "end_time": "2021-10-04T14:40:42.573038Z",
     "start_time": "2021-10-04T14:40:42.277127Z"
    }
   },
   "outputs": [
    {
     "data": {
      "text/plain": [
       "<AxesSubplot:xlabel='income', ylabel='creddebt'>"
      ]
     },
     "execution_count": 21,
     "metadata": {},
     "output_type": "execute_result"
    },
    {
     "data": {
      "image/png": "[encoded data removed]",
      "text/plain": [
       "<Figure size 432x288 with 1 Axes>"
      ]
     },
     "metadata": {
      "needs_background": "light"
     },
     "output_type": "display_data"
    }
   ],
   "source": [
    "sns.scatterplot(data=cr_df.query('default==0'), x='income', y='creddebt', alpha=0.5)\n",
    "sns.scatterplot(data=cr_df.query('default==1'), x='income', y='creddebt', alpha=0.5)"
   ]
  },
  {
   "cell_type": "code",
   "execution_count": 22,
   "metadata": {
    "ExecuteTime": {
     "end_time": "2021-10-04T14:40:42.939720Z",
     "start_time": "2021-10-04T14:40:42.575353Z"
    }
   },
   "outputs": [
    {
     "data": {
      "text/plain": [
       "<AxesSubplot:xlabel='income', ylabel='creddebt'>"
      ]
     },
     "execution_count": 22,
     "metadata": {},
     "output_type": "execute_result"
    },
    {
     "data": {
      "image/png": "[encoded data removed]",
      "text/plain": [
       "<Figure size 432x288 with 1 Axes>"
      ]
     },
     "metadata": {
      "needs_background": "light"
     },
     "output_type": "display_data"
    }
   ],
   "source": [
    "# We can also use the `hue` parameter\n",
    "sns.scatterplot(data=cr_df, x='income', y='creddebt', hue='default', alpha=0.5)"
   ]
  },
  {
   "cell_type": "markdown",
   "metadata": {},
   "source": [
    "- Plot a histogram of the debt-to-income ratio. Add a density estimate."
   ]
  },
  {
   "cell_type": "code",
   "execution_count": 23,
   "metadata": {
    "ExecuteTime": {
     "end_time": "2021-10-04T14:40:43.295775Z",
     "start_time": "2021-10-04T14:40:42.946754Z"
    },
    "scrolled": true
   },
   "outputs": [
    {
     "data": {
      "text/plain": [
       "<AxesSubplot:xlabel='debt2income', ylabel='Count'>"
      ]
     },
     "execution_count": 23,
     "metadata": {},
     "output_type": "execute_result"
    },
    {
     "data": {
      "image/png": "[encoded data removed]",
      "text/plain": [
       "<Figure size 432x288 with 1 Axes>"
      ]
     },
     "metadata": {
      "needs_background": "light"
     },
     "output_type": "display_data"
    }
   ],
   "source": [
    "sns.histplot(data=cr_df, x='debt2income', kde=True)"
   ]
  },
  {
   "cell_type": "markdown",
   "metadata": {},
   "source": [
    "- Make a [box plot](https://en.wikipedia.org/wiki/Box_plot) showing the household income in the following age groups: (20, 30], (30, 40], (40, 50] and (50, 60].\n",
    "\n",
    "  Hint: Use the `pd.cut` function to assign customers to the age groups."
   ]
  },
  {
   "cell_type": "code",
   "execution_count": 24,
   "metadata": {
    "ExecuteTime": {
     "end_time": "2021-10-04T14:40:43.600972Z",
     "start_time": "2021-10-04T14:40:43.298405Z"
    }
   },
   "outputs": [
    {
     "data": {
      "text/plain": [
       "<AxesSubplot:xlabel='age', ylabel='income'>"
      ]
     },
     "execution_count": 24,
     "metadata": {},
     "output_type": "execute_result"
    },
    {
     "data": {
      "image/png": "[encoded data removed]",
      "text/plain": [
       "<Figure size 432x288 with 1 Axes>"
      ]
     },
     "metadata": {
      "needs_background": "light"
     },
     "output_type": "display_data"
    }
   ],
   "source": [
    "age_groups = pd.cut(cr_df['age'], bins=[20, 30, 40, 50, 60])\n",
    "sns.boxplot(data=cr_df, x=age_groups, y='income')"
   ]
  },
  {
   "cell_type": "markdown",
   "metadata": {},
   "source": [
    "- Make a [violin plot](https://en.wikipedia.org/wiki/Violin_plot) showing the debt-to-income ratio in the same age groups."
   ]
  },
  {
   "cell_type": "code",
   "execution_count": 25,
   "metadata": {
    "ExecuteTime": {
     "end_time": "2021-10-04T14:40:43.893221Z",
     "start_time": "2021-10-04T14:40:43.604138Z"
    }
   },
   "outputs": [
    {
     "data": {
      "text/plain": [
       "<AxesSubplot:xlabel='age', ylabel='debt2income'>"
      ]
     },
     "execution_count": 25,
     "metadata": {},
     "output_type": "execute_result"
    },
    {
     "data": {
      "image/png": "[encoded data removed]",
      "text/plain": [
       "<Figure size 432x288 with 1 Axes>"
      ]
     },
     "metadata": {
      "needs_background": "light"
     },
     "output_type": "display_data"
    }
   ],
   "source": [
    "sns.violinplot(data=cr_df, x=age_groups, y='debt2income') # Try to add hue='default', split=True and check the plot"
   ]
  },
  {
   "cell_type": "markdown",
   "metadata": {},
   "source": [
    "### Exercise 3. Tesla stock prices"
   ]
  },
  {
   "cell_type": "markdown",
   "metadata": {},
   "source": [
    "The dataset *TSLA.csv* contains historical open, high, low, close and adj. close prices as well as the trading volume for the TSLA stock on each trading day in 2020.\n",
    "\n",
    "Solve the tasks described below."
   ]
  },
  {
   "cell_type": "markdown",
   "metadata": {},
   "source": [
    "- Import the dataset. Use the date as the index (do not forget to import it as a date column)."
   ]
  },
  {
   "cell_type": "code",
   "execution_count": 26,
   "metadata": {
    "ExecuteTime": {
     "end_time": "2021-10-04T14:40:43.914120Z",
     "start_time": "2021-10-04T14:40:43.895125Z"
    }
   },
   "outputs": [
    {
     "data": {
      "text/html": [
       "<div>\n",
       "<style scoped>\n",
       "    .dataframe tbody tr th:only-of-type {\n",
       "        vertical-align: middle;\n",
       "    }\n",
       "\n",
       "    .dataframe tbody tr th {\n",
       "        vertical-align: top;\n",
       "    }\n",
       "\n",
       "    .dataframe thead th {\n",
       "        text-align: right;\n",
       "    }\n",
       "</style>\n",
       "<table border=\"1\" class=\"dataframe\">\n",
       "  <thead>\n",
       "    <tr style=\"text-align: right;\">\n",
       "      <th></th>\n",
       "      <th>Open</th>\n",
       "      <th>High</th>\n",
       "      <th>Low</th>\n",
       "      <th>Close</th>\n",
       "      <th>Adj Close</th>\n",
       "      <th>Volume</th>\n",
       "    </tr>\n",
       "    <tr>\n",
       "      <th>Date</th>\n",
       "      <th></th>\n",
       "      <th></th>\n",
       "      <th></th>\n",
       "      <th></th>\n",
       "      <th></th>\n",
       "      <th></th>\n",
       "    </tr>\n",
       "  </thead>\n",
       "  <tbody>\n",
       "    <tr>\n",
       "      <th>2020-01-02</th>\n",
       "      <td>84.900002</td>\n",
       "      <td>86.139999</td>\n",
       "      <td>84.342003</td>\n",
       "      <td>86.052002</td>\n",
       "      <td>86.052002</td>\n",
       "      <td>47660500</td>\n",
       "    </tr>\n",
       "    <tr>\n",
       "      <th>2020-01-03</th>\n",
       "      <td>88.099998</td>\n",
       "      <td>90.800003</td>\n",
       "      <td>87.384003</td>\n",
       "      <td>88.601997</td>\n",
       "      <td>88.601997</td>\n",
       "      <td>88892500</td>\n",
       "    </tr>\n",
       "    <tr>\n",
       "      <th>2020-01-06</th>\n",
       "      <td>88.094002</td>\n",
       "      <td>90.311996</td>\n",
       "      <td>88.000000</td>\n",
       "      <td>90.307999</td>\n",
       "      <td>90.307999</td>\n",
       "      <td>50665000</td>\n",
       "    </tr>\n",
       "    <tr>\n",
       "      <th>2020-01-07</th>\n",
       "      <td>92.279999</td>\n",
       "      <td>94.325996</td>\n",
       "      <td>90.671997</td>\n",
       "      <td>93.811996</td>\n",
       "      <td>93.811996</td>\n",
       "      <td>89410500</td>\n",
       "    </tr>\n",
       "    <tr>\n",
       "      <th>2020-01-08</th>\n",
       "      <td>94.739998</td>\n",
       "      <td>99.697998</td>\n",
       "      <td>93.646004</td>\n",
       "      <td>98.428001</td>\n",
       "      <td>98.428001</td>\n",
       "      <td>155721500</td>\n",
       "    </tr>\n",
       "  </tbody>\n",
       "</table>\n",
       "</div>"
      ],
      "text/plain": [
       "                 Open       High        Low      Close  Adj Close     Volume\n",
       "Date                                                                        \n",
       "2020-01-02  84.900002  86.139999  84.342003  86.052002  86.052002   47660500\n",
       "2020-01-03  88.099998  90.800003  87.384003  88.601997  88.601997   88892500\n",
       "2020-01-06  88.094002  90.311996  88.000000  90.307999  90.307999   50665000\n",
       "2020-01-07  92.279999  94.325996  90.671997  93.811996  93.811996   89410500\n",
       "2020-01-08  94.739998  99.697998  93.646004  98.428001  98.428001  155721500"
      ]
     },
     "execution_count": 26,
     "metadata": {},
     "output_type": "execute_result"
    }
   ],
   "source": [
    "tsla = pd.read_csv(\"TSLA.csv\", parse_dates=[\"Date\"], index_col=\"Date\")\n",
    "tsla.head()"
   ]
  },
  {
   "cell_type": "markdown",
   "metadata": {},
   "source": [
    "- Select the data for March 2020."
   ]
  },
  {
   "cell_type": "code",
   "execution_count": 27,
   "metadata": {
    "ExecuteTime": {
     "end_time": "2021-10-04T14:40:43.940182Z",
     "start_time": "2021-10-04T14:40:43.917021Z"
    }
   },
   "outputs": [
    {
     "data": {
      "text/html": [
       "<div>\n",
       "<style scoped>\n",
       "    .dataframe tbody tr th:only-of-type {\n",
       "        vertical-align: middle;\n",
       "    }\n",
       "\n",
       "    .dataframe tbody tr th {\n",
       "        vertical-align: top;\n",
       "    }\n",
       "\n",
       "    .dataframe thead th {\n",
       "        text-align: right;\n",
       "    }\n",
       "</style>\n",
       "<table border=\"1\" class=\"dataframe\">\n",
       "  <thead>\n",
       "    <tr style=\"text-align: right;\">\n",
       "      <th></th>\n",
       "      <th>Open</th>\n",
       "      <th>High</th>\n",
       "      <th>Low</th>\n",
       "      <th>Close</th>\n",
       "      <th>Adj Close</th>\n",
       "      <th>Volume</th>\n",
       "    </tr>\n",
       "    <tr>\n",
       "      <th>Date</th>\n",
       "      <th></th>\n",
       "      <th></th>\n",
       "      <th></th>\n",
       "      <th></th>\n",
       "      <th></th>\n",
       "      <th></th>\n",
       "    </tr>\n",
       "  </thead>\n",
       "  <tbody>\n",
       "    <tr>\n",
       "      <th>2020-03-02</th>\n",
       "      <td>142.251999</td>\n",
       "      <td>148.738007</td>\n",
       "      <td>137.334000</td>\n",
       "      <td>148.723999</td>\n",
       "      <td>148.723999</td>\n",
       "      <td>100975000</td>\n",
       "    </tr>\n",
       "    <tr>\n",
       "      <th>2020-03-03</th>\n",
       "      <td>161.000000</td>\n",
       "      <td>161.395996</td>\n",
       "      <td>143.222000</td>\n",
       "      <td>149.102005</td>\n",
       "      <td>149.102005</td>\n",
       "      <td>128920000</td>\n",
       "    </tr>\n",
       "    <tr>\n",
       "      <th>2020-03-04</th>\n",
       "      <td>152.792007</td>\n",
       "      <td>153.304001</td>\n",
       "      <td>144.945999</td>\n",
       "      <td>149.899994</td>\n",
       "      <td>149.899994</td>\n",
       "      <td>75245000</td>\n",
       "    </tr>\n",
       "    <tr>\n",
       "      <th>2020-03-05</th>\n",
       "      <td>144.753998</td>\n",
       "      <td>149.149994</td>\n",
       "      <td>143.613998</td>\n",
       "      <td>144.908005</td>\n",
       "      <td>144.908005</td>\n",
       "      <td>54263500</td>\n",
       "    </tr>\n",
       "    <tr>\n",
       "      <th>2020-03-06</th>\n",
       "      <td>138.000000</td>\n",
       "      <td>141.399994</td>\n",
       "      <td>136.854004</td>\n",
       "      <td>140.695999</td>\n",
       "      <td>140.695999</td>\n",
       "      <td>63314500</td>\n",
       "    </tr>\n",
       "    <tr>\n",
       "      <th>2020-03-09</th>\n",
       "      <td>121.078003</td>\n",
       "      <td>132.600006</td>\n",
       "      <td>121.000000</td>\n",
       "      <td>121.599998</td>\n",
       "      <td>121.599998</td>\n",
       "      <td>85368500</td>\n",
       "    </tr>\n",
       "    <tr>\n",
       "      <th>2020-03-10</th>\n",
       "      <td>131.886002</td>\n",
       "      <td>133.600006</td>\n",
       "      <td>121.599998</td>\n",
       "      <td>129.065994</td>\n",
       "      <td>129.065994</td>\n",
       "      <td>77972000</td>\n",
       "    </tr>\n",
       "    <tr>\n",
       "      <th>2020-03-11</th>\n",
       "      <td>128.039993</td>\n",
       "      <td>130.716003</td>\n",
       "      <td>122.599998</td>\n",
       "      <td>126.846001</td>\n",
       "      <td>126.846001</td>\n",
       "      <td>66612500</td>\n",
       "    </tr>\n",
       "    <tr>\n",
       "      <th>2020-03-12</th>\n",
       "      <td>116.178001</td>\n",
       "      <td>118.900002</td>\n",
       "      <td>109.250000</td>\n",
       "      <td>112.110001</td>\n",
       "      <td>112.110001</td>\n",
       "      <td>94545500</td>\n",
       "    </tr>\n",
       "    <tr>\n",
       "      <th>2020-03-13</th>\n",
       "      <td>119.000000</td>\n",
       "      <td>121.514000</td>\n",
       "      <td>100.400002</td>\n",
       "      <td>109.323997</td>\n",
       "      <td>109.323997</td>\n",
       "      <td>113201500</td>\n",
       "    </tr>\n",
       "    <tr>\n",
       "      <th>2020-03-16</th>\n",
       "      <td>93.900002</td>\n",
       "      <td>98.973999</td>\n",
       "      <td>88.433998</td>\n",
       "      <td>89.014000</td>\n",
       "      <td>89.014000</td>\n",
       "      <td>102447500</td>\n",
       "    </tr>\n",
       "    <tr>\n",
       "      <th>2020-03-17</th>\n",
       "      <td>88.001999</td>\n",
       "      <td>94.370003</td>\n",
       "      <td>79.199997</td>\n",
       "      <td>86.040001</td>\n",
       "      <td>86.040001</td>\n",
       "      <td>119973000</td>\n",
       "    </tr>\n",
       "    <tr>\n",
       "      <th>2020-03-18</th>\n",
       "      <td>77.800003</td>\n",
       "      <td>80.972000</td>\n",
       "      <td>70.101997</td>\n",
       "      <td>72.244003</td>\n",
       "      <td>72.244003</td>\n",
       "      <td>118931000</td>\n",
       "    </tr>\n",
       "    <tr>\n",
       "      <th>2020-03-19</th>\n",
       "      <td>74.940002</td>\n",
       "      <td>90.400002</td>\n",
       "      <td>71.692001</td>\n",
       "      <td>85.528000</td>\n",
       "      <td>85.528000</td>\n",
       "      <td>150977500</td>\n",
       "    </tr>\n",
       "    <tr>\n",
       "      <th>2020-03-20</th>\n",
       "      <td>87.639999</td>\n",
       "      <td>95.400002</td>\n",
       "      <td>85.157997</td>\n",
       "      <td>85.505997</td>\n",
       "      <td>85.505997</td>\n",
       "      <td>141427500</td>\n",
       "    </tr>\n",
       "    <tr>\n",
       "      <th>2020-03-23</th>\n",
       "      <td>86.720001</td>\n",
       "      <td>88.400002</td>\n",
       "      <td>82.099998</td>\n",
       "      <td>86.858002</td>\n",
       "      <td>86.858002</td>\n",
       "      <td>82272500</td>\n",
       "    </tr>\n",
       "    <tr>\n",
       "      <th>2020-03-24</th>\n",
       "      <td>95.459999</td>\n",
       "      <td>102.737999</td>\n",
       "      <td>94.800003</td>\n",
       "      <td>101.000000</td>\n",
       "      <td>101.000000</td>\n",
       "      <td>114476000</td>\n",
       "    </tr>\n",
       "    <tr>\n",
       "      <th>2020-03-25</th>\n",
       "      <td>109.050003</td>\n",
       "      <td>111.400002</td>\n",
       "      <td>102.222000</td>\n",
       "      <td>107.849998</td>\n",
       "      <td>107.849998</td>\n",
       "      <td>106113500</td>\n",
       "    </tr>\n",
       "    <tr>\n",
       "      <th>2020-03-26</th>\n",
       "      <td>109.477997</td>\n",
       "      <td>112.000000</td>\n",
       "      <td>102.449997</td>\n",
       "      <td>105.632004</td>\n",
       "      <td>105.632004</td>\n",
       "      <td>86903500</td>\n",
       "    </tr>\n",
       "    <tr>\n",
       "      <th>2020-03-27</th>\n",
       "      <td>101.000000</td>\n",
       "      <td>105.160004</td>\n",
       "      <td>98.806000</td>\n",
       "      <td>102.872002</td>\n",
       "      <td>102.872002</td>\n",
       "      <td>71887000</td>\n",
       "    </tr>\n",
       "    <tr>\n",
       "      <th>2020-03-30</th>\n",
       "      <td>102.052002</td>\n",
       "      <td>103.330002</td>\n",
       "      <td>98.246002</td>\n",
       "      <td>100.426003</td>\n",
       "      <td>100.426003</td>\n",
       "      <td>59990500</td>\n",
       "    </tr>\n",
       "    <tr>\n",
       "      <th>2020-03-31</th>\n",
       "      <td>100.250000</td>\n",
       "      <td>108.592003</td>\n",
       "      <td>99.400002</td>\n",
       "      <td>104.800003</td>\n",
       "      <td>104.800003</td>\n",
       "      <td>88857500</td>\n",
       "    </tr>\n",
       "  </tbody>\n",
       "</table>\n",
       "</div>"
      ],
      "text/plain": [
       "                  Open        High         Low       Close   Adj Close  \\\n",
       "Date                                                                     \n",
       "2020-03-02  142.251999  148.738007  137.334000  148.723999  148.723999   \n",
       "2020-03-03  161.000000  161.395996  143.222000  149.102005  149.102005   \n",
       "2020-03-04  152.792007  153.304001  144.945999  149.899994  149.899994   \n",
       "2020-03-05  144.753998  149.149994  143.613998  144.908005  144.908005   \n",
       "2020-03-06  138.000000  141.399994  136.854004  140.695999  140.695999   \n",
       "2020-03-09  121.078003  132.600006  121.000000  121.599998  121.599998   \n",
       "2020-03-10  131.886002  133.600006  121.599998  129.065994  129.065994   \n",
       "2020-03-11  128.039993  130.716003  122.599998  126.846001  126.846001   \n",
       "2020-03-12  116.178001  118.900002  109.250000  112.110001  112.110001   \n",
       "2020-03-13  119.000000  121.514000  100.400002  109.323997  109.323997   \n",
       "2020-03-16   93.900002   98.973999   88.433998   89.014000   89.014000   \n",
       "2020-03-17   88.001999   94.370003   79.199997   86.040001   86.040001   \n",
       "2020-03-18   77.800003   80.972000   70.101997   72.244003   72.244003   \n",
       "2020-03-19   74.940002   90.400002   71.692001   85.528000   85.528000   \n",
       "2020-03-20   87.639999   95.400002   85.157997   85.505997   85.505997   \n",
       "2020-03-23   86.720001   88.400002   82.099998   86.858002   86.858002   \n",
       "2020-03-24   95.459999  102.737999   94.800003  101.000000  101.000000   \n",
       "2020-03-25  109.050003  111.400002  102.222000  107.849998  107.849998   \n",
       "2020-03-26  109.477997  112.000000  102.449997  105.632004  105.632004   \n",
       "2020-03-27  101.000000  105.160004   98.806000  102.872002  102.872002   \n",
       "2020-03-30  102.052002  103.330002   98.246002  100.426003  100.426003   \n",
       "2020-03-31  100.250000  108.592003   99.400002  104.800003  104.800003   \n",
       "\n",
       "               Volume  \n",
       "Date                   \n",
       "2020-03-02  100975000  \n",
       "2020-03-03  128920000  \n",
       "2020-03-04   75245000  \n",
       "2020-03-05   54263500  \n",
       "2020-03-06   63314500  \n",
       "2020-03-09   85368500  \n",
       "2020-03-10   77972000  \n",
       "2020-03-11   66612500  \n",
       "2020-03-12   94545500  \n",
       "2020-03-13  113201500  \n",
       "2020-03-16  102447500  \n",
       "2020-03-17  119973000  \n",
       "2020-03-18  118931000  \n",
       "2020-03-19  150977500  \n",
       "2020-03-20  141427500  \n",
       "2020-03-23   82272500  \n",
       "2020-03-24  114476000  \n",
       "2020-03-25  106113500  \n",
       "2020-03-26   86903500  \n",
       "2020-03-27   71887000  \n",
       "2020-03-30   59990500  \n",
       "2020-03-31   88857500  "
      ]
     },
     "execution_count": 27,
     "metadata": {},
     "output_type": "execute_result"
    }
   ],
   "source": [
    "tsla.loc[\"2020-03\"]"
   ]
  },
  {
   "cell_type": "markdown",
   "metadata": {},
   "source": [
    "- Create a line plot of the close price (as a function of time)."
   ]
  },
  {
   "cell_type": "code",
   "execution_count": 28,
   "metadata": {
    "ExecuteTime": {
     "end_time": "2021-10-04T14:40:44.684442Z",
     "start_time": "2021-10-04T14:40:43.942173Z"
    }
   },
   "outputs": [
    {
     "data": {
      "text/plain": [
       "<AxesSubplot:xlabel='Date'>"
      ]
     },
     "execution_count": 28,
     "metadata": {},
     "output_type": "execute_result"
    },
    {
     "data": {
      "image/png": "[encoded data removed]",
      "text/plain": [
       "<Figure size 432x288 with 1 Axes>"
      ]
     },
     "metadata": {
      "needs_background": "light"
     },
     "output_type": "display_data"
    }
   ],
   "source": [
    "tsla['Close'].plot()"
   ]
  },
  {
   "cell_type": "markdown",
   "metadata": {},
   "source": [
    "- Calculate and plot the daily returns (in percents). (Hint: look up the `shift` method in the documentation.)"
   ]
  },
  {
   "cell_type": "code",
   "execution_count": 29,
   "metadata": {
    "ExecuteTime": {
     "end_time": "2021-10-04T14:40:45.100583Z",
     "start_time": "2021-10-04T14:40:44.686520Z"
    },
    "scrolled": true
   },
   "outputs": [
    {
     "data": {
      "text/plain": [
       "<AxesSubplot:xlabel='Date'>"
      ]
     },
     "execution_count": 29,
     "metadata": {},
     "output_type": "execute_result"
    },
    {
     "data": {
      "image/png": "[encoded data removed]",
      "text/plain": [
       "<Figure size 432x288 with 1 Axes>"
      ]
     },
     "metadata": {
      "needs_background": "light"
     },
     "output_type": "display_data"
    }
   ],
   "source": [
    "daily_return = 100 * (tsla.Close / tsla.Close.shift(1) - 1)\n",
    "daily_return.plot()"
   ]
  },
  {
   "cell_type": "markdown",
   "metadata": {},
   "source": [
    "#### References\n",
    "\n",
    "Feenstra, Robert C., Robert Inklaar and Marcel P. Timmer (2015), \"The Next Generation of the Penn World Table\" American Economic Review, 105(10), 3150-3182, available for download at www.ggdc.net/pwt"
   ]
  },
  {
   "cell_type": "markdown",
   "metadata": {},
   "source": [
    "# Problem set 6"
   ]
  },
  {
   "cell_type": "code",
   "execution_count": 29,
   "metadata": {
    "ExecuteTime": {
     "end_time": "2021-10-04T20:19:24.181063Z",
     "start_time": "2021-10-04T20:19:22.841992Z"
    }
   },
   "outputs": [],
   "source": [
    "import numpy as np\n",
    "import pandas as pd\n",
    "import seaborn as sns\n",
    "sns.set_theme(style=\"darkgrid\")\n",
    "import matplotlib.pyplot as plt\n",
    "%matplotlib inline"
   ]
  },
  {
   "cell_type": "markdown",
   "metadata": {},
   "source": [
    "### Exercise 1\n",
    "\n",
    "Recall the in-class exercise with the housing market in Melbourne. In this exercise, for pedagogical reasons, we will work with a very small subset of data that needs to be cleaned."
   ]
  },
  {
   "cell_type": "markdown",
   "metadata": {},
   "source": [
    "- Read the melbourne_unclean.csv file and look at its content."
   ]
  },
  {
   "cell_type": "code",
   "execution_count": 2,
   "metadata": {
    "ExecuteTime": {
     "end_time": "2021-10-04T20:19:24.211043Z",
     "start_time": "2021-10-04T20:19:24.183982Z"
    }
   },
   "outputs": [
    {
     "data": {
      "text/html": [
       "<div>\n",
       "<style scoped>\n",
       "    .dataframe tbody tr th:only-of-type {\n",
       "        vertical-align: middle;\n",
       "    }\n",
       "\n",
       "    .dataframe tbody tr th {\n",
       "        vertical-align: top;\n",
       "    }\n",
       "\n",
       "    .dataframe thead th {\n",
       "        text-align: right;\n",
       "    }\n",
       "</style>\n",
       "<table border=\"1\" class=\"dataframe\">\n",
       "  <thead>\n",
       "    <tr style=\"text-align: right;\">\n",
       "      <th></th>\n",
       "      <th>Suburb</th>\n",
       "      <th>Address</th>\n",
       "      <th>Rooms</th>\n",
       "      <th>Type</th>\n",
       "      <th>Price</th>\n",
       "    </tr>\n",
       "  </thead>\n",
       "  <tbody>\n",
       "    <tr>\n",
       "      <th>0</th>\n",
       "      <td>Richmond</td>\n",
       "      <td>5/10 Elaine Ct</td>\n",
       "      <td>NaN</td>\n",
       "      <td>u</td>\n",
       "      <td>807000.0</td>\n",
       "    </tr>\n",
       "    <tr>\n",
       "      <th>1</th>\n",
       "      <td>Elwood</td>\n",
       "      <td>3/99 Tennyson St</td>\n",
       "      <td>2</td>\n",
       "      <td>T</td>\n",
       "      <td>1200000.0</td>\n",
       "    </tr>\n",
       "    <tr>\n",
       "      <th>2</th>\n",
       "      <td>Elwood</td>\n",
       "      <td>34 Foam St</td>\n",
       "      <td>4</td>\n",
       "      <td>h</td>\n",
       "      <td>3040000.0</td>\n",
       "    </tr>\n",
       "    <tr>\n",
       "      <th>3</th>\n",
       "      <td>Richmond</td>\n",
       "      <td>247 Church St</td>\n",
       "      <td>3</td>\n",
       "      <td>h</td>\n",
       "      <td>1010000.0</td>\n",
       "    </tr>\n",
       "    <tr>\n",
       "      <th>4</th>\n",
       "      <td>Doncaster</td>\n",
       "      <td>19 Gilmore Rd</td>\n",
       "      <td>3</td>\n",
       "      <td>H</td>\n",
       "      <td>1485000.0</td>\n",
       "    </tr>\n",
       "    <tr>\n",
       "      <th>5</th>\n",
       "      <td>Richmond</td>\n",
       "      <td>4/5 Leslie St</td>\n",
       "      <td>Two</td>\n",
       "      <td>U</td>\n",
       "      <td>630000.0</td>\n",
       "    </tr>\n",
       "    <tr>\n",
       "      <th>6</th>\n",
       "      <td>Elwood</td>\n",
       "      <td>1/13 Beach Av</td>\n",
       "      <td>3</td>\n",
       "      <td>h</td>\n",
       "      <td>1753000.0</td>\n",
       "    </tr>\n",
       "    <tr>\n",
       "      <th>7</th>\n",
       "      <td>Richmond</td>\n",
       "      <td>23/5 Stillman St</td>\n",
       "      <td>1</td>\n",
       "      <td>u</td>\n",
       "      <td>500000.0</td>\n",
       "    </tr>\n",
       "    <tr>\n",
       "      <th>8</th>\n",
       "      <td>Doncaster</td>\n",
       "      <td>19 Gilmore Rd</td>\n",
       "      <td>3</td>\n",
       "      <td>H</td>\n",
       "      <td>1485000.0</td>\n",
       "    </tr>\n",
       "    <tr>\n",
       "      <th>9</th>\n",
       "      <td>Richmond</td>\n",
       "      <td>5 Birch Sq</td>\n",
       "      <td>3</td>\n",
       "      <td>h</td>\n",
       "      <td>1350000.0</td>\n",
       "    </tr>\n",
       "    <tr>\n",
       "      <th>10</th>\n",
       "      <td>Doncaster</td>\n",
       "      <td>6/14 Firth St</td>\n",
       "      <td>2</td>\n",
       "      <td>u</td>\n",
       "      <td>400000.0</td>\n",
       "    </tr>\n",
       "    <tr>\n",
       "      <th>11</th>\n",
       "      <td>Richmond</td>\n",
       "      <td>33/24 Tanner St</td>\n",
       "      <td>Yes</td>\n",
       "      <td>t</td>\n",
       "      <td>1200000.0</td>\n",
       "    </tr>\n",
       "    <tr>\n",
       "      <th>12</th>\n",
       "      <td>Fawkner</td>\n",
       "      <td>13 Denys St</td>\n",
       "      <td>3</td>\n",
       "      <td>h</td>\n",
       "      <td>730.0</td>\n",
       "    </tr>\n",
       "    <tr>\n",
       "      <th>13</th>\n",
       "      <td>Richmond</td>\n",
       "      <td>92 Madden Gr</td>\n",
       "      <td>2</td>\n",
       "      <td>H</td>\n",
       "      <td>NaN</td>\n",
       "    </tr>\n",
       "    <tr>\n",
       "      <th>14</th>\n",
       "      <td>Elwood</td>\n",
       "      <td>90 Tennyson St</td>\n",
       "      <td>2</td>\n",
       "      <td>h</td>\n",
       "      <td>1400000.0</td>\n",
       "    </tr>\n",
       "    <tr>\n",
       "      <th>15</th>\n",
       "      <td>Elwood</td>\n",
       "      <td>10/229 Brighton Rd</td>\n",
       "      <td>2</td>\n",
       "      <td>u</td>\n",
       "      <td>526000.0</td>\n",
       "    </tr>\n",
       "    <tr>\n",
       "      <th>16</th>\n",
       "      <td>Elwood</td>\n",
       "      <td>7/282 Barkly St</td>\n",
       "      <td>1</td>\n",
       "      <td>u</td>\n",
       "      <td>360000.0</td>\n",
       "    </tr>\n",
       "    <tr>\n",
       "      <th>17</th>\n",
       "      <td>Doncaster</td>\n",
       "      <td>21 Hampshire Rd</td>\n",
       "      <td>NaN</td>\n",
       "      <td>h</td>\n",
       "      <td>1360000.0</td>\n",
       "    </tr>\n",
       "    <tr>\n",
       "      <th>18</th>\n",
       "      <td>Fawkner</td>\n",
       "      <td>46 Percy St</td>\n",
       "      <td>Three</td>\n",
       "      <td>h</td>\n",
       "      <td>615000.0</td>\n",
       "    </tr>\n",
       "    <tr>\n",
       "      <th>19</th>\n",
       "      <td>Elwood</td>\n",
       "      <td>20 Addison St</td>\n",
       "      <td>3</td>\n",
       "      <td>h</td>\n",
       "      <td>NaN</td>\n",
       "    </tr>\n",
       "    <tr>\n",
       "      <th>20</th>\n",
       "      <td>Richmond</td>\n",
       "      <td>48 Docker St</td>\n",
       "      <td>3</td>\n",
       "      <td>h</td>\n",
       "      <td>2000000.0</td>\n",
       "    </tr>\n",
       "    <tr>\n",
       "      <th>21</th>\n",
       "      <td>Richmond</td>\n",
       "      <td>48 Docker St</td>\n",
       "      <td>3</td>\n",
       "      <td>h</td>\n",
       "      <td>2000000.0</td>\n",
       "    </tr>\n",
       "  </tbody>\n",
       "</table>\n",
       "</div>"
      ],
      "text/plain": [
       "       Suburb             Address  Rooms Type      Price\n",
       "0    Richmond      5/10 Elaine Ct    NaN    u   807000.0\n",
       "1      Elwood    3/99 Tennyson St      2    T  1200000.0\n",
       "2      Elwood          34 Foam St      4    h  3040000.0\n",
       "3    Richmond       247 Church St      3    h  1010000.0\n",
       "4   Doncaster       19 Gilmore Rd      3    H  1485000.0\n",
       "5    Richmond       4/5 Leslie St    Two    U   630000.0\n",
       "6      Elwood       1/13 Beach Av      3    h  1753000.0\n",
       "7    Richmond    23/5 Stillman St      1    u   500000.0\n",
       "8   Doncaster       19 Gilmore Rd      3    H  1485000.0\n",
       "9    Richmond          5 Birch Sq      3    h  1350000.0\n",
       "10  Doncaster       6/14 Firth St      2    u   400000.0\n",
       "11   Richmond     33/24 Tanner St    Yes    t  1200000.0\n",
       "12    Fawkner         13 Denys St      3    h      730.0\n",
       "13   Richmond        92 Madden Gr      2    H        NaN\n",
       "14     Elwood      90 Tennyson St      2    h  1400000.0\n",
       "15     Elwood  10/229 Brighton Rd      2    u   526000.0\n",
       "16     Elwood     7/282 Barkly St      1    u   360000.0\n",
       "17  Doncaster     21 Hampshire Rd    NaN    h  1360000.0\n",
       "18    Fawkner         46 Percy St  Three    h   615000.0\n",
       "19     Elwood       20 Addison St      3    h        NaN\n",
       "20   Richmond        48 Docker St      3    h  2000000.0\n",
       "21   Richmond        48 Docker St      3    h  2000000.0"
      ]
     },
     "execution_count": 2,
     "metadata": {},
     "output_type": "execute_result"
    }
   ],
   "source": [
    "housing_df = pd.read_csv('melbourne_unclean.csv')\n",
    "housing_df"
   ]
  },
  {
   "cell_type": "markdown",
   "metadata": {},
   "source": [
    "- Let's first concentrate on the *Rooms* column. Some of the values are written in words instead of numbers. First, look at all unique values to determine which values needs to be replaced. You will notice that there is also a word \"Yes\", replace it with a missing value. (Do all operations in place.)"
   ]
  },
  {
   "cell_type": "code",
   "execution_count": 3,
   "metadata": {
    "ExecuteTime": {
     "end_time": "2021-10-04T20:19:24.236261Z",
     "start_time": "2021-10-04T20:19:24.214309Z"
    }
   },
   "outputs": [
    {
     "data": {
      "text/plain": [
       "3        9\n",
       "2        5\n",
       "1        2\n",
       "4        1\n",
       "Two      1\n",
       "Yes      1\n",
       "Three    1\n",
       "Name: Rooms, dtype: int64"
      ]
     },
     "metadata": {},
     "output_type": "display_data"
    },
    {
     "data": {
      "text/html": [
       "<div>\n",
       "<style scoped>\n",
       "    .dataframe tbody tr th:only-of-type {\n",
       "        vertical-align: middle;\n",
       "    }\n",
       "\n",
       "    .dataframe tbody tr th {\n",
       "        vertical-align: top;\n",
       "    }\n",
       "\n",
       "    .dataframe thead th {\n",
       "        text-align: right;\n",
       "    }\n",
       "</style>\n",
       "<table border=\"1\" class=\"dataframe\">\n",
       "  <thead>\n",
       "    <tr style=\"text-align: right;\">\n",
       "      <th></th>\n",
       "      <th>Suburb</th>\n",
       "      <th>Address</th>\n",
       "      <th>Rooms</th>\n",
       "      <th>Type</th>\n",
       "      <th>Price</th>\n",
       "    </tr>\n",
       "  </thead>\n",
       "  <tbody>\n",
       "    <tr>\n",
       "      <th>0</th>\n",
       "      <td>Richmond</td>\n",
       "      <td>5/10 Elaine Ct</td>\n",
       "      <td>NaN</td>\n",
       "      <td>u</td>\n",
       "      <td>807000.0</td>\n",
       "    </tr>\n",
       "    <tr>\n",
       "      <th>1</th>\n",
       "      <td>Elwood</td>\n",
       "      <td>3/99 Tennyson St</td>\n",
       "      <td>2</td>\n",
       "      <td>T</td>\n",
       "      <td>1200000.0</td>\n",
       "    </tr>\n",
       "    <tr>\n",
       "      <th>2</th>\n",
       "      <td>Elwood</td>\n",
       "      <td>34 Foam St</td>\n",
       "      <td>4</td>\n",
       "      <td>h</td>\n",
       "      <td>3040000.0</td>\n",
       "    </tr>\n",
       "    <tr>\n",
       "      <th>3</th>\n",
       "      <td>Richmond</td>\n",
       "      <td>247 Church St</td>\n",
       "      <td>3</td>\n",
       "      <td>h</td>\n",
       "      <td>1010000.0</td>\n",
       "    </tr>\n",
       "    <tr>\n",
       "      <th>4</th>\n",
       "      <td>Doncaster</td>\n",
       "      <td>19 Gilmore Rd</td>\n",
       "      <td>3</td>\n",
       "      <td>H</td>\n",
       "      <td>1485000.0</td>\n",
       "    </tr>\n",
       "    <tr>\n",
       "      <th>5</th>\n",
       "      <td>Richmond</td>\n",
       "      <td>4/5 Leslie St</td>\n",
       "      <td>2</td>\n",
       "      <td>U</td>\n",
       "      <td>630000.0</td>\n",
       "    </tr>\n",
       "    <tr>\n",
       "      <th>6</th>\n",
       "      <td>Elwood</td>\n",
       "      <td>1/13 Beach Av</td>\n",
       "      <td>3</td>\n",
       "      <td>h</td>\n",
       "      <td>1753000.0</td>\n",
       "    </tr>\n",
       "    <tr>\n",
       "      <th>7</th>\n",
       "      <td>Richmond</td>\n",
       "      <td>23/5 Stillman St</td>\n",
       "      <td>1</td>\n",
       "      <td>u</td>\n",
       "      <td>500000.0</td>\n",
       "    </tr>\n",
       "    <tr>\n",
       "      <th>8</th>\n",
       "      <td>Doncaster</td>\n",
       "      <td>19 Gilmore Rd</td>\n",
       "      <td>3</td>\n",
       "      <td>H</td>\n",
       "      <td>1485000.0</td>\n",
       "    </tr>\n",
       "    <tr>\n",
       "      <th>9</th>\n",
       "      <td>Richmond</td>\n",
       "      <td>5 Birch Sq</td>\n",
       "      <td>3</td>\n",
       "      <td>h</td>\n",
       "      <td>1350000.0</td>\n",
       "    </tr>\n",
       "    <tr>\n",
       "      <th>10</th>\n",
       "      <td>Doncaster</td>\n",
       "      <td>6/14 Firth St</td>\n",
       "      <td>2</td>\n",
       "      <td>u</td>\n",
       "      <td>400000.0</td>\n",
       "    </tr>\n",
       "    <tr>\n",
       "      <th>11</th>\n",
       "      <td>Richmond</td>\n",
       "      <td>33/24 Tanner St</td>\n",
       "      <td>NaN</td>\n",
       "      <td>t</td>\n",
       "      <td>1200000.0</td>\n",
       "    </tr>\n",
       "    <tr>\n",
       "      <th>12</th>\n",
       "      <td>Fawkner</td>\n",
       "      <td>13 Denys St</td>\n",
       "      <td>3</td>\n",
       "      <td>h</td>\n",
       "      <td>730.0</td>\n",
       "    </tr>\n",
       "    <tr>\n",
       "      <th>13</th>\n",
       "      <td>Richmond</td>\n",
       "      <td>92 Madden Gr</td>\n",
       "      <td>2</td>\n",
       "      <td>H</td>\n",
       "      <td>NaN</td>\n",
       "    </tr>\n",
       "    <tr>\n",
       "      <th>14</th>\n",
       "      <td>Elwood</td>\n",
       "      <td>90 Tennyson St</td>\n",
       "      <td>2</td>\n",
       "      <td>h</td>\n",
       "      <td>1400000.0</td>\n",
       "    </tr>\n",
       "    <tr>\n",
       "      <th>15</th>\n",
       "      <td>Elwood</td>\n",
       "      <td>10/229 Brighton Rd</td>\n",
       "      <td>2</td>\n",
       "      <td>u</td>\n",
       "      <td>526000.0</td>\n",
       "    </tr>\n",
       "    <tr>\n",
       "      <th>16</th>\n",
       "      <td>Elwood</td>\n",
       "      <td>7/282 Barkly St</td>\n",
       "      <td>1</td>\n",
       "      <td>u</td>\n",
       "      <td>360000.0</td>\n",
       "    </tr>\n",
       "    <tr>\n",
       "      <th>17</th>\n",
       "      <td>Doncaster</td>\n",
       "      <td>21 Hampshire Rd</td>\n",
       "      <td>NaN</td>\n",
       "      <td>h</td>\n",
       "      <td>1360000.0</td>\n",
       "    </tr>\n",
       "    <tr>\n",
       "      <th>18</th>\n",
       "      <td>Fawkner</td>\n",
       "      <td>46 Percy St</td>\n",
       "      <td>3</td>\n",
       "      <td>h</td>\n",
       "      <td>615000.0</td>\n",
       "    </tr>\n",
       "    <tr>\n",
       "      <th>19</th>\n",
       "      <td>Elwood</td>\n",
       "      <td>20 Addison St</td>\n",
       "      <td>3</td>\n",
       "      <td>h</td>\n",
       "      <td>NaN</td>\n",
       "    </tr>\n",
       "    <tr>\n",
       "      <th>20</th>\n",
       "      <td>Richmond</td>\n",
       "      <td>48 Docker St</td>\n",
       "      <td>3</td>\n",
       "      <td>h</td>\n",
       "      <td>2000000.0</td>\n",
       "    </tr>\n",
       "    <tr>\n",
       "      <th>21</th>\n",
       "      <td>Richmond</td>\n",
       "      <td>48 Docker St</td>\n",
       "      <td>3</td>\n",
       "      <td>h</td>\n",
       "      <td>2000000.0</td>\n",
       "    </tr>\n",
       "  </tbody>\n",
       "</table>\n",
       "</div>"
      ],
      "text/plain": [
       "       Suburb             Address Rooms Type      Price\n",
       "0    Richmond      5/10 Elaine Ct   NaN    u   807000.0\n",
       "1      Elwood    3/99 Tennyson St     2    T  1200000.0\n",
       "2      Elwood          34 Foam St     4    h  3040000.0\n",
       "3    Richmond       247 Church St     3    h  1010000.0\n",
       "4   Doncaster       19 Gilmore Rd     3    H  1485000.0\n",
       "5    Richmond       4/5 Leslie St     2    U   630000.0\n",
       "6      Elwood       1/13 Beach Av     3    h  1753000.0\n",
       "7    Richmond    23/5 Stillman St     1    u   500000.0\n",
       "8   Doncaster       19 Gilmore Rd     3    H  1485000.0\n",
       "9    Richmond          5 Birch Sq     3    h  1350000.0\n",
       "10  Doncaster       6/14 Firth St     2    u   400000.0\n",
       "11   Richmond     33/24 Tanner St   NaN    t  1200000.0\n",
       "12    Fawkner         13 Denys St     3    h      730.0\n",
       "13   Richmond        92 Madden Gr     2    H        NaN\n",
       "14     Elwood      90 Tennyson St     2    h  1400000.0\n",
       "15     Elwood  10/229 Brighton Rd     2    u   526000.0\n",
       "16     Elwood     7/282 Barkly St     1    u   360000.0\n",
       "17  Doncaster     21 Hampshire Rd   NaN    h  1360000.0\n",
       "18    Fawkner         46 Percy St     3    h   615000.0\n",
       "19     Elwood       20 Addison St     3    h        NaN\n",
       "20   Richmond        48 Docker St     3    h  2000000.0\n",
       "21   Richmond        48 Docker St     3    h  2000000.0"
      ]
     },
     "execution_count": 3,
     "metadata": {},
     "output_type": "execute_result"
    }
   ],
   "source": [
    "display(housing_df['Rooms'].value_counts())\n",
    "housing_df['Rooms'].replace({'Two': 2, 'Three': 3, 'Yes': np.nan}, inplace=True)\n",
    "housing_df"
   ]
  },
  {
   "cell_type": "markdown",
   "metadata": {},
   "source": [
    "- The *Type* column uses both small and capital letters, change all values to lowercase. Instead of using the `replace` method to replace each of the strings with capital letters (which would be unrealistic in big data sets), try to call the string's `lower` method on all values in this column.\n",
    "\n",
    "  Hint: One possible way how to solve this task is to use the `apply` method (look it up in the documentation)."
   ]
  },
  {
   "cell_type": "code",
   "execution_count": 4,
   "metadata": {
    "ExecuteTime": {
     "end_time": "2021-10-04T20:19:24.259401Z",
     "start_time": "2021-10-04T20:19:24.239087Z"
    }
   },
   "outputs": [
    {
     "data": {
      "text/html": [
       "<div>\n",
       "<style scoped>\n",
       "    .dataframe tbody tr th:only-of-type {\n",
       "        vertical-align: middle;\n",
       "    }\n",
       "\n",
       "    .dataframe tbody tr th {\n",
       "        vertical-align: top;\n",
       "    }\n",
       "\n",
       "    .dataframe thead th {\n",
       "        text-align: right;\n",
       "    }\n",
       "</style>\n",
       "<table border=\"1\" class=\"dataframe\">\n",
       "  <thead>\n",
       "    <tr style=\"text-align: right;\">\n",
       "      <th></th>\n",
       "      <th>Suburb</th>\n",
       "      <th>Address</th>\n",
       "      <th>Rooms</th>\n",
       "      <th>Type</th>\n",
       "      <th>Price</th>\n",
       "    </tr>\n",
       "  </thead>\n",
       "  <tbody>\n",
       "    <tr>\n",
       "      <th>0</th>\n",
       "      <td>Richmond</td>\n",
       "      <td>5/10 Elaine Ct</td>\n",
       "      <td>NaN</td>\n",
       "      <td>u</td>\n",
       "      <td>807000.0</td>\n",
       "    </tr>\n",
       "    <tr>\n",
       "      <th>1</th>\n",
       "      <td>Elwood</td>\n",
       "      <td>3/99 Tennyson St</td>\n",
       "      <td>2</td>\n",
       "      <td>t</td>\n",
       "      <td>1200000.0</td>\n",
       "    </tr>\n",
       "    <tr>\n",
       "      <th>2</th>\n",
       "      <td>Elwood</td>\n",
       "      <td>34 Foam St</td>\n",
       "      <td>4</td>\n",
       "      <td>h</td>\n",
       "      <td>3040000.0</td>\n",
       "    </tr>\n",
       "    <tr>\n",
       "      <th>3</th>\n",
       "      <td>Richmond</td>\n",
       "      <td>247 Church St</td>\n",
       "      <td>3</td>\n",
       "      <td>h</td>\n",
       "      <td>1010000.0</td>\n",
       "    </tr>\n",
       "    <tr>\n",
       "      <th>4</th>\n",
       "      <td>Doncaster</td>\n",
       "      <td>19 Gilmore Rd</td>\n",
       "      <td>3</td>\n",
       "      <td>h</td>\n",
       "      <td>1485000.0</td>\n",
       "    </tr>\n",
       "    <tr>\n",
       "      <th>5</th>\n",
       "      <td>Richmond</td>\n",
       "      <td>4/5 Leslie St</td>\n",
       "      <td>2</td>\n",
       "      <td>u</td>\n",
       "      <td>630000.0</td>\n",
       "    </tr>\n",
       "    <tr>\n",
       "      <th>6</th>\n",
       "      <td>Elwood</td>\n",
       "      <td>1/13 Beach Av</td>\n",
       "      <td>3</td>\n",
       "      <td>h</td>\n",
       "      <td>1753000.0</td>\n",
       "    </tr>\n",
       "    <tr>\n",
       "      <th>7</th>\n",
       "      <td>Richmond</td>\n",
       "      <td>23/5 Stillman St</td>\n",
       "      <td>1</td>\n",
       "      <td>u</td>\n",
       "      <td>500000.0</td>\n",
       "    </tr>\n",
       "    <tr>\n",
       "      <th>8</th>\n",
       "      <td>Doncaster</td>\n",
       "      <td>19 Gilmore Rd</td>\n",
       "      <td>3</td>\n",
       "      <td>h</td>\n",
       "      <td>1485000.0</td>\n",
       "    </tr>\n",
       "    <tr>\n",
       "      <th>9</th>\n",
       "      <td>Richmond</td>\n",
       "      <td>5 Birch Sq</td>\n",
       "      <td>3</td>\n",
       "      <td>h</td>\n",
       "      <td>1350000.0</td>\n",
       "    </tr>\n",
       "    <tr>\n",
       "      <th>10</th>\n",
       "      <td>Doncaster</td>\n",
       "      <td>6/14 Firth St</td>\n",
       "      <td>2</td>\n",
       "      <td>u</td>\n",
       "      <td>400000.0</td>\n",
       "    </tr>\n",
       "    <tr>\n",
       "      <th>11</th>\n",
       "      <td>Richmond</td>\n",
       "      <td>33/24 Tanner St</td>\n",
       "      <td>NaN</td>\n",
       "      <td>t</td>\n",
       "      <td>1200000.0</td>\n",
       "    </tr>\n",
       "    <tr>\n",
       "      <th>12</th>\n",
       "      <td>Fawkner</td>\n",
       "      <td>13 Denys St</td>\n",
       "      <td>3</td>\n",
       "      <td>h</td>\n",
       "      <td>730.0</td>\n",
       "    </tr>\n",
       "    <tr>\n",
       "      <th>13</th>\n",
       "      <td>Richmond</td>\n",
       "      <td>92 Madden Gr</td>\n",
       "      <td>2</td>\n",
       "      <td>h</td>\n",
       "      <td>NaN</td>\n",
       "    </tr>\n",
       "    <tr>\n",
       "      <th>14</th>\n",
       "      <td>Elwood</td>\n",
       "      <td>90 Tennyson St</td>\n",
       "      <td>2</td>\n",
       "      <td>h</td>\n",
       "      <td>1400000.0</td>\n",
       "    </tr>\n",
       "    <tr>\n",
       "      <th>15</th>\n",
       "      <td>Elwood</td>\n",
       "      <td>10/229 Brighton Rd</td>\n",
       "      <td>2</td>\n",
       "      <td>u</td>\n",
       "      <td>526000.0</td>\n",
       "    </tr>\n",
       "    <tr>\n",
       "      <th>16</th>\n",
       "      <td>Elwood</td>\n",
       "      <td>7/282 Barkly St</td>\n",
       "      <td>1</td>\n",
       "      <td>u</td>\n",
       "      <td>360000.0</td>\n",
       "    </tr>\n",
       "    <tr>\n",
       "      <th>17</th>\n",
       "      <td>Doncaster</td>\n",
       "      <td>21 Hampshire Rd</td>\n",
       "      <td>NaN</td>\n",
       "      <td>h</td>\n",
       "      <td>1360000.0</td>\n",
       "    </tr>\n",
       "    <tr>\n",
       "      <th>18</th>\n",
       "      <td>Fawkner</td>\n",
       "      <td>46 Percy St</td>\n",
       "      <td>3</td>\n",
       "      <td>h</td>\n",
       "      <td>615000.0</td>\n",
       "    </tr>\n",
       "    <tr>\n",
       "      <th>19</th>\n",
       "      <td>Elwood</td>\n",
       "      <td>20 Addison St</td>\n",
       "      <td>3</td>\n",
       "      <td>h</td>\n",
       "      <td>NaN</td>\n",
       "    </tr>\n",
       "    <tr>\n",
       "      <th>20</th>\n",
       "      <td>Richmond</td>\n",
       "      <td>48 Docker St</td>\n",
       "      <td>3</td>\n",
       "      <td>h</td>\n",
       "      <td>2000000.0</td>\n",
       "    </tr>\n",
       "    <tr>\n",
       "      <th>21</th>\n",
       "      <td>Richmond</td>\n",
       "      <td>48 Docker St</td>\n",
       "      <td>3</td>\n",
       "      <td>h</td>\n",
       "      <td>2000000.0</td>\n",
       "    </tr>\n",
       "  </tbody>\n",
       "</table>\n",
       "</div>"
      ],
      "text/plain": [
       "       Suburb             Address Rooms Type      Price\n",
       "0    Richmond      5/10 Elaine Ct   NaN    u   807000.0\n",
       "1      Elwood    3/99 Tennyson St     2    t  1200000.0\n",
       "2      Elwood          34 Foam St     4    h  3040000.0\n",
       "3    Richmond       247 Church St     3    h  1010000.0\n",
       "4   Doncaster       19 Gilmore Rd     3    h  1485000.0\n",
       "5    Richmond       4/5 Leslie St     2    u   630000.0\n",
       "6      Elwood       1/13 Beach Av     3    h  1753000.0\n",
       "7    Richmond    23/5 Stillman St     1    u   500000.0\n",
       "8   Doncaster       19 Gilmore Rd     3    h  1485000.0\n",
       "9    Richmond          5 Birch Sq     3    h  1350000.0\n",
       "10  Doncaster       6/14 Firth St     2    u   400000.0\n",
       "11   Richmond     33/24 Tanner St   NaN    t  1200000.0\n",
       "12    Fawkner         13 Denys St     3    h      730.0\n",
       "13   Richmond        92 Madden Gr     2    h        NaN\n",
       "14     Elwood      90 Tennyson St     2    h  1400000.0\n",
       "15     Elwood  10/229 Brighton Rd     2    u   526000.0\n",
       "16     Elwood     7/282 Barkly St     1    u   360000.0\n",
       "17  Doncaster     21 Hampshire Rd   NaN    h  1360000.0\n",
       "18    Fawkner         46 Percy St     3    h   615000.0\n",
       "19     Elwood       20 Addison St     3    h        NaN\n",
       "20   Richmond        48 Docker St     3    h  2000000.0\n",
       "21   Richmond        48 Docker St     3    h  2000000.0"
      ]
     },
     "execution_count": 4,
     "metadata": {},
     "output_type": "execute_result"
    }
   ],
   "source": [
    "# def lower(text):\n",
    "#    return text.lower()\n",
    "# housing_df['Type'] = housing_df['Type'].apply(lower)\n",
    "\n",
    "# This is equivalent to:\n",
    "# housing_df['Type'] = housing_df['Type'].apply(lambda text: text.lower())\n",
    "\n",
    "# This is equivalent to:\n",
    "# housing_df['Type'] = housing_df['Type'].apply(str.lower)\n",
    "\n",
    "# We could also use the following: \n",
    "housing_df['Type'] = housing_df['Type'].str.lower()\n",
    "\n",
    "housing_df"
   ]
  },
  {
   "cell_type": "markdown",
   "metadata": {},
   "source": [
    "- How many missing values are there in each column? What is the percentage of missing values in each column?\n",
    "\n",
    "  Hint: use the data frame's `isna` method first, check out the result, and think about which summary functions we can use to answer these two questions."
   ]
  },
  {
   "cell_type": "code",
   "execution_count": 5,
   "metadata": {
    "ExecuteTime": {
     "end_time": "2021-10-04T20:19:24.281573Z",
     "start_time": "2021-10-04T20:19:24.261773Z"
    }
   },
   "outputs": [
    {
     "data": {
      "text/plain": [
       "Suburb     0\n",
       "Address    0\n",
       "Rooms      3\n",
       "Type       0\n",
       "Price      2\n",
       "dtype: int64"
      ]
     },
     "metadata": {},
     "output_type": "display_data"
    },
    {
     "data": {
      "text/plain": [
       "Suburb      0.00\n",
       "Address     0.00\n",
       "Rooms      13.64\n",
       "Type        0.00\n",
       "Price       9.09\n",
       "dtype: float64"
      ]
     },
     "metadata": {},
     "output_type": "display_data"
    }
   ],
   "source": [
    "# Look first at the output of housing_df.isna()\n",
    "# Then append .sum() and check the output (when aggregating boolean values, False means 0 and True means 1)\n",
    "display(housing_df.isna().sum())\n",
    "\n",
    "# We could divide the sums with the number of rows.\n",
    "# But we can also do the following:\n",
    "display((100 * housing_df.isna().mean()).round(2))"
   ]
  },
  {
   "cell_type": "markdown",
   "metadata": {},
   "source": [
    "- Drop all rows containing missing values (in place)."
   ]
  },
  {
   "cell_type": "code",
   "execution_count": 6,
   "metadata": {
    "ExecuteTime": {
     "end_time": "2021-10-04T20:19:24.303577Z",
     "start_time": "2021-10-04T20:19:24.284417Z"
    }
   },
   "outputs": [
    {
     "data": {
      "text/html": [
       "<div>\n",
       "<style scoped>\n",
       "    .dataframe tbody tr th:only-of-type {\n",
       "        vertical-align: middle;\n",
       "    }\n",
       "\n",
       "    .dataframe tbody tr th {\n",
       "        vertical-align: top;\n",
       "    }\n",
       "\n",
       "    .dataframe thead th {\n",
       "        text-align: right;\n",
       "    }\n",
       "</style>\n",
       "<table border=\"1\" class=\"dataframe\">\n",
       "  <thead>\n",
       "    <tr style=\"text-align: right;\">\n",
       "      <th></th>\n",
       "      <th>Suburb</th>\n",
       "      <th>Address</th>\n",
       "      <th>Rooms</th>\n",
       "      <th>Type</th>\n",
       "      <th>Price</th>\n",
       "    </tr>\n",
       "  </thead>\n",
       "  <tbody>\n",
       "    <tr>\n",
       "      <th>1</th>\n",
       "      <td>Elwood</td>\n",
       "      <td>3/99 Tennyson St</td>\n",
       "      <td>2</td>\n",
       "      <td>t</td>\n",
       "      <td>1200000.0</td>\n",
       "    </tr>\n",
       "    <tr>\n",
       "      <th>2</th>\n",
       "      <td>Elwood</td>\n",
       "      <td>34 Foam St</td>\n",
       "      <td>4</td>\n",
       "      <td>h</td>\n",
       "      <td>3040000.0</td>\n",
       "    </tr>\n",
       "    <tr>\n",
       "      <th>3</th>\n",
       "      <td>Richmond</td>\n",
       "      <td>247 Church St</td>\n",
       "      <td>3</td>\n",
       "      <td>h</td>\n",
       "      <td>1010000.0</td>\n",
       "    </tr>\n",
       "    <tr>\n",
       "      <th>4</th>\n",
       "      <td>Doncaster</td>\n",
       "      <td>19 Gilmore Rd</td>\n",
       "      <td>3</td>\n",
       "      <td>h</td>\n",
       "      <td>1485000.0</td>\n",
       "    </tr>\n",
       "    <tr>\n",
       "      <th>5</th>\n",
       "      <td>Richmond</td>\n",
       "      <td>4/5 Leslie St</td>\n",
       "      <td>2</td>\n",
       "      <td>u</td>\n",
       "      <td>630000.0</td>\n",
       "    </tr>\n",
       "    <tr>\n",
       "      <th>6</th>\n",
       "      <td>Elwood</td>\n",
       "      <td>1/13 Beach Av</td>\n",
       "      <td>3</td>\n",
       "      <td>h</td>\n",
       "      <td>1753000.0</td>\n",
       "    </tr>\n",
       "    <tr>\n",
       "      <th>7</th>\n",
       "      <td>Richmond</td>\n",
       "      <td>23/5 Stillman St</td>\n",
       "      <td>1</td>\n",
       "      <td>u</td>\n",
       "      <td>500000.0</td>\n",
       "    </tr>\n",
       "    <tr>\n",
       "      <th>8</th>\n",
       "      <td>Doncaster</td>\n",
       "      <td>19 Gilmore Rd</td>\n",
       "      <td>3</td>\n",
       "      <td>h</td>\n",
       "      <td>1485000.0</td>\n",
       "    </tr>\n",
       "    <tr>\n",
       "      <th>9</th>\n",
       "      <td>Richmond</td>\n",
       "      <td>5 Birch Sq</td>\n",
       "      <td>3</td>\n",
       "      <td>h</td>\n",
       "      <td>1350000.0</td>\n",
       "    </tr>\n",
       "    <tr>\n",
       "      <th>10</th>\n",
       "      <td>Doncaster</td>\n",
       "      <td>6/14 Firth St</td>\n",
       "      <td>2</td>\n",
       "      <td>u</td>\n",
       "      <td>400000.0</td>\n",
       "    </tr>\n",
       "    <tr>\n",
       "      <th>12</th>\n",
       "      <td>Fawkner</td>\n",
       "      <td>13 Denys St</td>\n",
       "      <td>3</td>\n",
       "      <td>h</td>\n",
       "      <td>730.0</td>\n",
       "    </tr>\n",
       "    <tr>\n",
       "      <th>14</th>\n",
       "      <td>Elwood</td>\n",
       "      <td>90 Tennyson St</td>\n",
       "      <td>2</td>\n",
       "      <td>h</td>\n",
       "      <td>1400000.0</td>\n",
       "    </tr>\n",
       "    <tr>\n",
       "      <th>15</th>\n",
       "      <td>Elwood</td>\n",
       "      <td>10/229 Brighton Rd</td>\n",
       "      <td>2</td>\n",
       "      <td>u</td>\n",
       "      <td>526000.0</td>\n",
       "    </tr>\n",
       "    <tr>\n",
       "      <th>16</th>\n",
       "      <td>Elwood</td>\n",
       "      <td>7/282 Barkly St</td>\n",
       "      <td>1</td>\n",
       "      <td>u</td>\n",
       "      <td>360000.0</td>\n",
       "    </tr>\n",
       "    <tr>\n",
       "      <th>18</th>\n",
       "      <td>Fawkner</td>\n",
       "      <td>46 Percy St</td>\n",
       "      <td>3</td>\n",
       "      <td>h</td>\n",
       "      <td>615000.0</td>\n",
       "    </tr>\n",
       "    <tr>\n",
       "      <th>20</th>\n",
       "      <td>Richmond</td>\n",
       "      <td>48 Docker St</td>\n",
       "      <td>3</td>\n",
       "      <td>h</td>\n",
       "      <td>2000000.0</td>\n",
       "    </tr>\n",
       "    <tr>\n",
       "      <th>21</th>\n",
       "      <td>Richmond</td>\n",
       "      <td>48 Docker St</td>\n",
       "      <td>3</td>\n",
       "      <td>h</td>\n",
       "      <td>2000000.0</td>\n",
       "    </tr>\n",
       "  </tbody>\n",
       "</table>\n",
       "</div>"
      ],
      "text/plain": [
       "       Suburb             Address Rooms Type      Price\n",
       "1      Elwood    3/99 Tennyson St     2    t  1200000.0\n",
       "2      Elwood          34 Foam St     4    h  3040000.0\n",
       "3    Richmond       247 Church St     3    h  1010000.0\n",
       "4   Doncaster       19 Gilmore Rd     3    h  1485000.0\n",
       "5    Richmond       4/5 Leslie St     2    u   630000.0\n",
       "6      Elwood       1/13 Beach Av     3    h  1753000.0\n",
       "7    Richmond    23/5 Stillman St     1    u   500000.0\n",
       "8   Doncaster       19 Gilmore Rd     3    h  1485000.0\n",
       "9    Richmond          5 Birch Sq     3    h  1350000.0\n",
       "10  Doncaster       6/14 Firth St     2    u   400000.0\n",
       "12    Fawkner         13 Denys St     3    h      730.0\n",
       "14     Elwood      90 Tennyson St     2    h  1400000.0\n",
       "15     Elwood  10/229 Brighton Rd     2    u   526000.0\n",
       "16     Elwood     7/282 Barkly St     1    u   360000.0\n",
       "18    Fawkner         46 Percy St     3    h   615000.0\n",
       "20   Richmond        48 Docker St     3    h  2000000.0\n",
       "21   Richmond        48 Docker St     3    h  2000000.0"
      ]
     },
     "execution_count": 6,
     "metadata": {},
     "output_type": "execute_result"
    }
   ],
   "source": [
    "housing_df.dropna(inplace=True)\n",
    "housing_df"
   ]
  },
  {
   "cell_type": "markdown",
   "metadata": {},
   "source": [
    "- Are there any duplicated rows in the data set?"
   ]
  },
  {
   "cell_type": "code",
   "execution_count": 7,
   "metadata": {
    "ExecuteTime": {
     "end_time": "2021-10-04T20:19:24.312254Z",
     "start_time": "2021-10-04T20:19:24.305547Z"
    }
   },
   "outputs": [
    {
     "data": {
      "text/plain": [
       "True"
      ]
     },
     "execution_count": 7,
     "metadata": {},
     "output_type": "execute_result"
    }
   ],
   "source": [
    "housing_df.duplicated().any()"
   ]
  },
  {
   "cell_type": "markdown",
   "metadata": {},
   "source": [
    "- If yes, drop them (in place)."
   ]
  },
  {
   "cell_type": "code",
   "execution_count": 8,
   "metadata": {
    "ExecuteTime": {
     "end_time": "2021-10-04T20:19:24.336928Z",
     "start_time": "2021-10-04T20:19:24.316527Z"
    }
   },
   "outputs": [
    {
     "data": {
      "text/html": [
       "<div>\n",
       "<style scoped>\n",
       "    .dataframe tbody tr th:only-of-type {\n",
       "        vertical-align: middle;\n",
       "    }\n",
       "\n",
       "    .dataframe tbody tr th {\n",
       "        vertical-align: top;\n",
       "    }\n",
       "\n",
       "    .dataframe thead th {\n",
       "        text-align: right;\n",
       "    }\n",
       "</style>\n",
       "<table border=\"1\" class=\"dataframe\">\n",
       "  <thead>\n",
       "    <tr style=\"text-align: right;\">\n",
       "      <th></th>\n",
       "      <th>Suburb</th>\n",
       "      <th>Address</th>\n",
       "      <th>Rooms</th>\n",
       "      <th>Type</th>\n",
       "      <th>Price</th>\n",
       "    </tr>\n",
       "  </thead>\n",
       "  <tbody>\n",
       "    <tr>\n",
       "      <th>1</th>\n",
       "      <td>Elwood</td>\n",
       "      <td>3/99 Tennyson St</td>\n",
       "      <td>2</td>\n",
       "      <td>t</td>\n",
       "      <td>1200000.0</td>\n",
       "    </tr>\n",
       "    <tr>\n",
       "      <th>2</th>\n",
       "      <td>Elwood</td>\n",
       "      <td>34 Foam St</td>\n",
       "      <td>4</td>\n",
       "      <td>h</td>\n",
       "      <td>3040000.0</td>\n",
       "    </tr>\n",
       "    <tr>\n",
       "      <th>3</th>\n",
       "      <td>Richmond</td>\n",
       "      <td>247 Church St</td>\n",
       "      <td>3</td>\n",
       "      <td>h</td>\n",
       "      <td>1010000.0</td>\n",
       "    </tr>\n",
       "    <tr>\n",
       "      <th>4</th>\n",
       "      <td>Doncaster</td>\n",
       "      <td>19 Gilmore Rd</td>\n",
       "      <td>3</td>\n",
       "      <td>h</td>\n",
       "      <td>1485000.0</td>\n",
       "    </tr>\n",
       "    <tr>\n",
       "      <th>5</th>\n",
       "      <td>Richmond</td>\n",
       "      <td>4/5 Leslie St</td>\n",
       "      <td>2</td>\n",
       "      <td>u</td>\n",
       "      <td>630000.0</td>\n",
       "    </tr>\n",
       "    <tr>\n",
       "      <th>6</th>\n",
       "      <td>Elwood</td>\n",
       "      <td>1/13 Beach Av</td>\n",
       "      <td>3</td>\n",
       "      <td>h</td>\n",
       "      <td>1753000.0</td>\n",
       "    </tr>\n",
       "    <tr>\n",
       "      <th>7</th>\n",
       "      <td>Richmond</td>\n",
       "      <td>23/5 Stillman St</td>\n",
       "      <td>1</td>\n",
       "      <td>u</td>\n",
       "      <td>500000.0</td>\n",
       "    </tr>\n",
       "    <tr>\n",
       "      <th>9</th>\n",
       "      <td>Richmond</td>\n",
       "      <td>5 Birch Sq</td>\n",
       "      <td>3</td>\n",
       "      <td>h</td>\n",
       "      <td>1350000.0</td>\n",
       "    </tr>\n",
       "    <tr>\n",
       "      <th>10</th>\n",
       "      <td>Doncaster</td>\n",
       "      <td>6/14 Firth St</td>\n",
       "      <td>2</td>\n",
       "      <td>u</td>\n",
       "      <td>400000.0</td>\n",
       "    </tr>\n",
       "    <tr>\n",
       "      <th>12</th>\n",
       "      <td>Fawkner</td>\n",
       "      <td>13 Denys St</td>\n",
       "      <td>3</td>\n",
       "      <td>h</td>\n",
       "      <td>730.0</td>\n",
       "    </tr>\n",
       "    <tr>\n",
       "      <th>14</th>\n",
       "      <td>Elwood</td>\n",
       "      <td>90 Tennyson St</td>\n",
       "      <td>2</td>\n",
       "      <td>h</td>\n",
       "      <td>1400000.0</td>\n",
       "    </tr>\n",
       "    <tr>\n",
       "      <th>15</th>\n",
       "      <td>Elwood</td>\n",
       "      <td>10/229 Brighton Rd</td>\n",
       "      <td>2</td>\n",
       "      <td>u</td>\n",
       "      <td>526000.0</td>\n",
       "    </tr>\n",
       "    <tr>\n",
       "      <th>16</th>\n",
       "      <td>Elwood</td>\n",
       "      <td>7/282 Barkly St</td>\n",
       "      <td>1</td>\n",
       "      <td>u</td>\n",
       "      <td>360000.0</td>\n",
       "    </tr>\n",
       "    <tr>\n",
       "      <th>18</th>\n",
       "      <td>Fawkner</td>\n",
       "      <td>46 Percy St</td>\n",
       "      <td>3</td>\n",
       "      <td>h</td>\n",
       "      <td>615000.0</td>\n",
       "    </tr>\n",
       "    <tr>\n",
       "      <th>20</th>\n",
       "      <td>Richmond</td>\n",
       "      <td>48 Docker St</td>\n",
       "      <td>3</td>\n",
       "      <td>h</td>\n",
       "      <td>2000000.0</td>\n",
       "    </tr>\n",
       "  </tbody>\n",
       "</table>\n",
       "</div>"
      ],
      "text/plain": [
       "       Suburb             Address Rooms Type      Price\n",
       "1      Elwood    3/99 Tennyson St     2    t  1200000.0\n",
       "2      Elwood          34 Foam St     4    h  3040000.0\n",
       "3    Richmond       247 Church St     3    h  1010000.0\n",
       "4   Doncaster       19 Gilmore Rd     3    h  1485000.0\n",
       "5    Richmond       4/5 Leslie St     2    u   630000.0\n",
       "6      Elwood       1/13 Beach Av     3    h  1753000.0\n",
       "7    Richmond    23/5 Stillman St     1    u   500000.0\n",
       "9    Richmond          5 Birch Sq     3    h  1350000.0\n",
       "10  Doncaster       6/14 Firth St     2    u   400000.0\n",
       "12    Fawkner         13 Denys St     3    h      730.0\n",
       "14     Elwood      90 Tennyson St     2    h  1400000.0\n",
       "15     Elwood  10/229 Brighton Rd     2    u   526000.0\n",
       "16     Elwood     7/282 Barkly St     1    u   360000.0\n",
       "18    Fawkner         46 Percy St     3    h   615000.0\n",
       "20   Richmond        48 Docker St     3    h  2000000.0"
      ]
     },
     "execution_count": 8,
     "metadata": {},
     "output_type": "execute_result"
    }
   ],
   "source": [
    "housing_df.drop_duplicates(inplace=True)\n",
    "housing_df"
   ]
  },
  {
   "cell_type": "markdown",
   "metadata": {},
   "source": [
    "- Check the data types of all columns, and, if needed, fix them."
   ]
  },
  {
   "cell_type": "code",
   "execution_count": 9,
   "metadata": {
    "ExecuteTime": {
     "end_time": "2021-10-04T20:19:24.370617Z",
     "start_time": "2021-10-04T20:19:24.340586Z"
    }
   },
   "outputs": [
    {
     "name": "stdout",
     "output_type": "stream",
     "text": [
      "<class 'pandas.core.frame.DataFrame'>\n",
      "Int64Index: 15 entries, 1 to 20\n",
      "Data columns (total 5 columns):\n",
      " #   Column   Non-Null Count  Dtype  \n",
      "---  ------   --------------  -----  \n",
      " 0   Suburb   15 non-null     object \n",
      " 1   Address  15 non-null     object \n",
      " 2   Rooms    15 non-null     object \n",
      " 3   Type     15 non-null     object \n",
      " 4   Price    15 non-null     float64\n",
      "dtypes: float64(1), object(4)\n",
      "memory usage: 720.0+ bytes\n",
      "<class 'pandas.core.frame.DataFrame'>\n",
      "Int64Index: 15 entries, 1 to 20\n",
      "Data columns (total 5 columns):\n",
      " #   Column   Non-Null Count  Dtype   \n",
      "---  ------   --------------  -----   \n",
      " 0   Suburb   15 non-null     object  \n",
      " 1   Address  15 non-null     object  \n",
      " 2   Rooms    15 non-null     int64   \n",
      " 3   Type     15 non-null     category\n",
      " 4   Price    15 non-null     float64 \n",
      "dtypes: category(1), float64(1), int64(1), object(2)\n",
      "memory usage: 747.0+ bytes\n"
     ]
    }
   ],
   "source": [
    "housing_df.info()\n",
    "housing_df['Rooms'] = housing_df['Rooms'].astype('int')\n",
    "housing_df['Type'] = housing_df['Type'].astype('category')\n",
    "housing_df.info()"
   ]
  },
  {
   "cell_type": "markdown",
   "metadata": {},
   "source": [
    "- Use the `describe` method and inspect the output. Can you see some problems with the values in the *Price* column?"
   ]
  },
  {
   "cell_type": "code",
   "execution_count": 10,
   "metadata": {
    "ExecuteTime": {
     "end_time": "2021-10-04T20:19:24.395136Z",
     "start_time": "2021-10-04T20:19:24.373484Z"
    }
   },
   "outputs": [
    {
     "data": {
      "text/html": [
       "<div>\n",
       "<style scoped>\n",
       "    .dataframe tbody tr th:only-of-type {\n",
       "        vertical-align: middle;\n",
       "    }\n",
       "\n",
       "    .dataframe tbody tr th {\n",
       "        vertical-align: top;\n",
       "    }\n",
       "\n",
       "    .dataframe thead th {\n",
       "        text-align: right;\n",
       "    }\n",
       "</style>\n",
       "<table border=\"1\" class=\"dataframe\">\n",
       "  <thead>\n",
       "    <tr style=\"text-align: right;\">\n",
       "      <th></th>\n",
       "      <th>Rooms</th>\n",
       "      <th>Price</th>\n",
       "    </tr>\n",
       "  </thead>\n",
       "  <tbody>\n",
       "    <tr>\n",
       "      <th>count</th>\n",
       "      <td>15.000000</td>\n",
       "      <td>1.500000e+01</td>\n",
       "    </tr>\n",
       "    <tr>\n",
       "      <th>mean</th>\n",
       "      <td>2.466667</td>\n",
       "      <td>1.084649e+06</td>\n",
       "    </tr>\n",
       "    <tr>\n",
       "      <th>std</th>\n",
       "      <td>0.833809</td>\n",
       "      <td>7.886197e+05</td>\n",
       "    </tr>\n",
       "    <tr>\n",
       "      <th>min</th>\n",
       "      <td>1.000000</td>\n",
       "      <td>7.300000e+02</td>\n",
       "    </tr>\n",
       "    <tr>\n",
       "      <th>25%</th>\n",
       "      <td>2.000000</td>\n",
       "      <td>5.130000e+05</td>\n",
       "    </tr>\n",
       "    <tr>\n",
       "      <th>50%</th>\n",
       "      <td>3.000000</td>\n",
       "      <td>1.010000e+06</td>\n",
       "    </tr>\n",
       "    <tr>\n",
       "      <th>75%</th>\n",
       "      <td>3.000000</td>\n",
       "      <td>1.442500e+06</td>\n",
       "    </tr>\n",
       "    <tr>\n",
       "      <th>max</th>\n",
       "      <td>4.000000</td>\n",
       "      <td>3.040000e+06</td>\n",
       "    </tr>\n",
       "  </tbody>\n",
       "</table>\n",
       "</div>"
      ],
      "text/plain": [
       "           Rooms         Price\n",
       "count  15.000000  1.500000e+01\n",
       "mean    2.466667  1.084649e+06\n",
       "std     0.833809  7.886197e+05\n",
       "min     1.000000  7.300000e+02\n",
       "25%     2.000000  5.130000e+05\n",
       "50%     3.000000  1.010000e+06\n",
       "75%     3.000000  1.442500e+06\n",
       "max     4.000000  3.040000e+06"
      ]
     },
     "execution_count": 10,
     "metadata": {},
     "output_type": "execute_result"
    }
   ],
   "source": [
    "housing_df.describe()\n",
    "# The minimum, 730, is unrealistically low."
   ]
  },
  {
   "cell_type": "markdown",
   "metadata": {
    "ExecuteTime": {
     "end_time": "2021-10-04T17:51:56.295222Z",
     "start_time": "2021-10-04T17:51:56.281001Z"
    }
   },
   "source": [
    "- Drop all rows where the price is lower than 100,000.00 (in place)."
   ]
  },
  {
   "cell_type": "code",
   "execution_count": 11,
   "metadata": {
    "ExecuteTime": {
     "end_time": "2021-10-04T20:19:24.417875Z",
     "start_time": "2021-10-04T20:19:24.398135Z"
    }
   },
   "outputs": [
    {
     "data": {
      "text/html": [
       "<div>\n",
       "<style scoped>\n",
       "    .dataframe tbody tr th:only-of-type {\n",
       "        vertical-align: middle;\n",
       "    }\n",
       "\n",
       "    .dataframe tbody tr th {\n",
       "        vertical-align: top;\n",
       "    }\n",
       "\n",
       "    .dataframe thead th {\n",
       "        text-align: right;\n",
       "    }\n",
       "</style>\n",
       "<table border=\"1\" class=\"dataframe\">\n",
       "  <thead>\n",
       "    <tr style=\"text-align: right;\">\n",
       "      <th></th>\n",
       "      <th>Suburb</th>\n",
       "      <th>Address</th>\n",
       "      <th>Rooms</th>\n",
       "      <th>Type</th>\n",
       "      <th>Price</th>\n",
       "    </tr>\n",
       "  </thead>\n",
       "  <tbody>\n",
       "    <tr>\n",
       "      <th>1</th>\n",
       "      <td>Elwood</td>\n",
       "      <td>3/99 Tennyson St</td>\n",
       "      <td>2</td>\n",
       "      <td>t</td>\n",
       "      <td>1200000.0</td>\n",
       "    </tr>\n",
       "    <tr>\n",
       "      <th>2</th>\n",
       "      <td>Elwood</td>\n",
       "      <td>34 Foam St</td>\n",
       "      <td>4</td>\n",
       "      <td>h</td>\n",
       "      <td>3040000.0</td>\n",
       "    </tr>\n",
       "    <tr>\n",
       "      <th>3</th>\n",
       "      <td>Richmond</td>\n",
       "      <td>247 Church St</td>\n",
       "      <td>3</td>\n",
       "      <td>h</td>\n",
       "      <td>1010000.0</td>\n",
       "    </tr>\n",
       "    <tr>\n",
       "      <th>4</th>\n",
       "      <td>Doncaster</td>\n",
       "      <td>19 Gilmore Rd</td>\n",
       "      <td>3</td>\n",
       "      <td>h</td>\n",
       "      <td>1485000.0</td>\n",
       "    </tr>\n",
       "    <tr>\n",
       "      <th>5</th>\n",
       "      <td>Richmond</td>\n",
       "      <td>4/5 Leslie St</td>\n",
       "      <td>2</td>\n",
       "      <td>u</td>\n",
       "      <td>630000.0</td>\n",
       "    </tr>\n",
       "    <tr>\n",
       "      <th>6</th>\n",
       "      <td>Elwood</td>\n",
       "      <td>1/13 Beach Av</td>\n",
       "      <td>3</td>\n",
       "      <td>h</td>\n",
       "      <td>1753000.0</td>\n",
       "    </tr>\n",
       "    <tr>\n",
       "      <th>7</th>\n",
       "      <td>Richmond</td>\n",
       "      <td>23/5 Stillman St</td>\n",
       "      <td>1</td>\n",
       "      <td>u</td>\n",
       "      <td>500000.0</td>\n",
       "    </tr>\n",
       "    <tr>\n",
       "      <th>9</th>\n",
       "      <td>Richmond</td>\n",
       "      <td>5 Birch Sq</td>\n",
       "      <td>3</td>\n",
       "      <td>h</td>\n",
       "      <td>1350000.0</td>\n",
       "    </tr>\n",
       "    <tr>\n",
       "      <th>10</th>\n",
       "      <td>Doncaster</td>\n",
       "      <td>6/14 Firth St</td>\n",
       "      <td>2</td>\n",
       "      <td>u</td>\n",
       "      <td>400000.0</td>\n",
       "    </tr>\n",
       "    <tr>\n",
       "      <th>14</th>\n",
       "      <td>Elwood</td>\n",
       "      <td>90 Tennyson St</td>\n",
       "      <td>2</td>\n",
       "      <td>h</td>\n",
       "      <td>1400000.0</td>\n",
       "    </tr>\n",
       "    <tr>\n",
       "      <th>15</th>\n",
       "      <td>Elwood</td>\n",
       "      <td>10/229 Brighton Rd</td>\n",
       "      <td>2</td>\n",
       "      <td>u</td>\n",
       "      <td>526000.0</td>\n",
       "    </tr>\n",
       "    <tr>\n",
       "      <th>16</th>\n",
       "      <td>Elwood</td>\n",
       "      <td>7/282 Barkly St</td>\n",
       "      <td>1</td>\n",
       "      <td>u</td>\n",
       "      <td>360000.0</td>\n",
       "    </tr>\n",
       "    <tr>\n",
       "      <th>18</th>\n",
       "      <td>Fawkner</td>\n",
       "      <td>46 Percy St</td>\n",
       "      <td>3</td>\n",
       "      <td>h</td>\n",
       "      <td>615000.0</td>\n",
       "    </tr>\n",
       "    <tr>\n",
       "      <th>20</th>\n",
       "      <td>Richmond</td>\n",
       "      <td>48 Docker St</td>\n",
       "      <td>3</td>\n",
       "      <td>h</td>\n",
       "      <td>2000000.0</td>\n",
       "    </tr>\n",
       "  </tbody>\n",
       "</table>\n",
       "</div>"
      ],
      "text/plain": [
       "       Suburb             Address  Rooms Type      Price\n",
       "1      Elwood    3/99 Tennyson St      2    t  1200000.0\n",
       "2      Elwood          34 Foam St      4    h  3040000.0\n",
       "3    Richmond       247 Church St      3    h  1010000.0\n",
       "4   Doncaster       19 Gilmore Rd      3    h  1485000.0\n",
       "5    Richmond       4/5 Leslie St      2    u   630000.0\n",
       "6      Elwood       1/13 Beach Av      3    h  1753000.0\n",
       "7    Richmond    23/5 Stillman St      1    u   500000.0\n",
       "9    Richmond          5 Birch Sq      3    h  1350000.0\n",
       "10  Doncaster       6/14 Firth St      2    u   400000.0\n",
       "14     Elwood      90 Tennyson St      2    h  1400000.0\n",
       "15     Elwood  10/229 Brighton Rd      2    u   526000.0\n",
       "16     Elwood     7/282 Barkly St      1    u   360000.0\n",
       "18    Fawkner         46 Percy St      3    h   615000.0\n",
       "20   Richmond        48 Docker St      3    h  2000000.0"
      ]
     },
     "execution_count": 11,
     "metadata": {},
     "output_type": "execute_result"
    }
   ],
   "source": [
    "labels_to_drop = housing_df[housing_df['Price'] < 100000].index\n",
    "housing_df.drop(labels_to_drop, inplace=True)\n",
    "housing_df"
   ]
  },
  {
   "cell_type": "markdown",
   "metadata": {
    "ExecuteTime": {
     "end_time": "2021-10-04T17:59:28.625250Z",
     "start_time": "2021-10-04T17:59:28.620980Z"
    }
   },
   "source": [
    "- Reset the index (in place)."
   ]
  },
  {
   "cell_type": "code",
   "execution_count": 12,
   "metadata": {
    "ExecuteTime": {
     "end_time": "2021-10-04T20:19:24.436988Z",
     "start_time": "2021-10-04T20:19:24.419988Z"
    }
   },
   "outputs": [
    {
     "data": {
      "text/html": [
       "<div>\n",
       "<style scoped>\n",
       "    .dataframe tbody tr th:only-of-type {\n",
       "        vertical-align: middle;\n",
       "    }\n",
       "\n",
       "    .dataframe tbody tr th {\n",
       "        vertical-align: top;\n",
       "    }\n",
       "\n",
       "    .dataframe thead th {\n",
       "        text-align: right;\n",
       "    }\n",
       "</style>\n",
       "<table border=\"1\" class=\"dataframe\">\n",
       "  <thead>\n",
       "    <tr style=\"text-align: right;\">\n",
       "      <th></th>\n",
       "      <th>index</th>\n",
       "      <th>Suburb</th>\n",
       "      <th>Address</th>\n",
       "      <th>Rooms</th>\n",
       "      <th>Type</th>\n",
       "      <th>Price</th>\n",
       "    </tr>\n",
       "  </thead>\n",
       "  <tbody>\n",
       "    <tr>\n",
       "      <th>0</th>\n",
       "      <td>1</td>\n",
       "      <td>Elwood</td>\n",
       "      <td>3/99 Tennyson St</td>\n",
       "      <td>2</td>\n",
       "      <td>t</td>\n",
       "      <td>1200000.0</td>\n",
       "    </tr>\n",
       "    <tr>\n",
       "      <th>1</th>\n",
       "      <td>2</td>\n",
       "      <td>Elwood</td>\n",
       "      <td>34 Foam St</td>\n",
       "      <td>4</td>\n",
       "      <td>h</td>\n",
       "      <td>3040000.0</td>\n",
       "    </tr>\n",
       "    <tr>\n",
       "      <th>2</th>\n",
       "      <td>3</td>\n",
       "      <td>Richmond</td>\n",
       "      <td>247 Church St</td>\n",
       "      <td>3</td>\n",
       "      <td>h</td>\n",
       "      <td>1010000.0</td>\n",
       "    </tr>\n",
       "    <tr>\n",
       "      <th>3</th>\n",
       "      <td>4</td>\n",
       "      <td>Doncaster</td>\n",
       "      <td>19 Gilmore Rd</td>\n",
       "      <td>3</td>\n",
       "      <td>h</td>\n",
       "      <td>1485000.0</td>\n",
       "    </tr>\n",
       "    <tr>\n",
       "      <th>4</th>\n",
       "      <td>5</td>\n",
       "      <td>Richmond</td>\n",
       "      <td>4/5 Leslie St</td>\n",
       "      <td>2</td>\n",
       "      <td>u</td>\n",
       "      <td>630000.0</td>\n",
       "    </tr>\n",
       "    <tr>\n",
       "      <th>5</th>\n",
       "      <td>6</td>\n",
       "      <td>Elwood</td>\n",
       "      <td>1/13 Beach Av</td>\n",
       "      <td>3</td>\n",
       "      <td>h</td>\n",
       "      <td>1753000.0</td>\n",
       "    </tr>\n",
       "    <tr>\n",
       "      <th>6</th>\n",
       "      <td>7</td>\n",
       "      <td>Richmond</td>\n",
       "      <td>23/5 Stillman St</td>\n",
       "      <td>1</td>\n",
       "      <td>u</td>\n",
       "      <td>500000.0</td>\n",
       "    </tr>\n",
       "    <tr>\n",
       "      <th>7</th>\n",
       "      <td>9</td>\n",
       "      <td>Richmond</td>\n",
       "      <td>5 Birch Sq</td>\n",
       "      <td>3</td>\n",
       "      <td>h</td>\n",
       "      <td>1350000.0</td>\n",
       "    </tr>\n",
       "    <tr>\n",
       "      <th>8</th>\n",
       "      <td>10</td>\n",
       "      <td>Doncaster</td>\n",
       "      <td>6/14 Firth St</td>\n",
       "      <td>2</td>\n",
       "      <td>u</td>\n",
       "      <td>400000.0</td>\n",
       "    </tr>\n",
       "    <tr>\n",
       "      <th>9</th>\n",
       "      <td>14</td>\n",
       "      <td>Elwood</td>\n",
       "      <td>90 Tennyson St</td>\n",
       "      <td>2</td>\n",
       "      <td>h</td>\n",
       "      <td>1400000.0</td>\n",
       "    </tr>\n",
       "    <tr>\n",
       "      <th>10</th>\n",
       "      <td>15</td>\n",
       "      <td>Elwood</td>\n",
       "      <td>10/229 Brighton Rd</td>\n",
       "      <td>2</td>\n",
       "      <td>u</td>\n",
       "      <td>526000.0</td>\n",
       "    </tr>\n",
       "    <tr>\n",
       "      <th>11</th>\n",
       "      <td>16</td>\n",
       "      <td>Elwood</td>\n",
       "      <td>7/282 Barkly St</td>\n",
       "      <td>1</td>\n",
       "      <td>u</td>\n",
       "      <td>360000.0</td>\n",
       "    </tr>\n",
       "    <tr>\n",
       "      <th>12</th>\n",
       "      <td>18</td>\n",
       "      <td>Fawkner</td>\n",
       "      <td>46 Percy St</td>\n",
       "      <td>3</td>\n",
       "      <td>h</td>\n",
       "      <td>615000.0</td>\n",
       "    </tr>\n",
       "    <tr>\n",
       "      <th>13</th>\n",
       "      <td>20</td>\n",
       "      <td>Richmond</td>\n",
       "      <td>48 Docker St</td>\n",
       "      <td>3</td>\n",
       "      <td>h</td>\n",
       "      <td>2000000.0</td>\n",
       "    </tr>\n",
       "  </tbody>\n",
       "</table>\n",
       "</div>"
      ],
      "text/plain": [
       "    index     Suburb             Address  Rooms Type      Price\n",
       "0       1     Elwood    3/99 Tennyson St      2    t  1200000.0\n",
       "1       2     Elwood          34 Foam St      4    h  3040000.0\n",
       "2       3   Richmond       247 Church St      3    h  1010000.0\n",
       "3       4  Doncaster       19 Gilmore Rd      3    h  1485000.0\n",
       "4       5   Richmond       4/5 Leslie St      2    u   630000.0\n",
       "5       6     Elwood       1/13 Beach Av      3    h  1753000.0\n",
       "6       7   Richmond    23/5 Stillman St      1    u   500000.0\n",
       "7       9   Richmond          5 Birch Sq      3    h  1350000.0\n",
       "8      10  Doncaster       6/14 Firth St      2    u   400000.0\n",
       "9      14     Elwood      90 Tennyson St      2    h  1400000.0\n",
       "10     15     Elwood  10/229 Brighton Rd      2    u   526000.0\n",
       "11     16     Elwood     7/282 Barkly St      1    u   360000.0\n",
       "12     18    Fawkner         46 Percy St      3    h   615000.0\n",
       "13     20   Richmond        48 Docker St      3    h  2000000.0"
      ]
     },
     "execution_count": 12,
     "metadata": {},
     "output_type": "execute_result"
    }
   ],
   "source": [
    "housing_df.reset_index(inplace=True)\n",
    "housing_df"
   ]
  },
  {
   "cell_type": "markdown",
   "metadata": {},
   "source": [
    "### Exercise 2"
   ]
  },
  {
   "cell_type": "markdown",
   "metadata": {},
   "source": [
    "In this exercise you are going to work with data related to the Covid 19 pandemic in EU/EEA (source of the data: ECDC).\n",
    "\n",
    "Files:\n",
    "\n",
    "- `covid_data.csv`\n",
    "\n",
    "  The file contains the number of confirmed cases and deaths registered each day since 1 March 2021 until (and including) 4 July 2021 in each country in EU/EEA.\n",
    "\n",
    "  Countries are identified by their two-letter codes.\n",
    "  \n",
    "  The data is sorted by country first, and then by the date in descending order.\n",
    "  \n",
    "  **The last row for each country (corresponding to 28 February 2021 for Spain and to 1 March 2021 for all other countries) are not the number of confirmed cases and deaths on that day but rather the number of confirmed cases and deaths registered since the beginning of the pandemic until (and including) that day.**\n",
    "\n",
    "  **Note also that the date format of the *dateRep* column is *dd/mm/yyyy* rather than *mm/dd/yyyy*, so you need to specify `dayfirst=True` when reading the file.**\n",
    "\n",
    "\n",
    "- `covid_countries.csv`\n",
    "\n",
    "  The file contains the complete name, the two- and three-letter codes, the population and the continent for each country in EU/EEA.\n",
    "\n",
    "Inspect the content of both files first. Then read all tasks, and think about what operations you should do with the data before solving them (e.g. how to merge the data, what to use as the index, you might want to add some columns and/or sort the data in a particular order, etc.)"
   ]
  },
  {
   "cell_type": "markdown",
   "metadata": {},
   "source": [
    "- You might read and pre-process the data frames in the following cells. Feel free to add extra cells if you need more of them."
   ]
  },
  {
   "cell_type": "code",
   "execution_count": 13,
   "metadata": {
    "ExecuteTime": {
     "end_time": "2021-10-04T20:19:24.474435Z",
     "start_time": "2021-10-04T20:19:24.440471Z"
    }
   },
   "outputs": [
    {
     "data": {
      "text/html": [
       "<div>\n",
       "<style scoped>\n",
       "    .dataframe tbody tr th:only-of-type {\n",
       "        vertical-align: middle;\n",
       "    }\n",
       "\n",
       "    .dataframe tbody tr th {\n",
       "        vertical-align: top;\n",
       "    }\n",
       "\n",
       "    .dataframe thead th {\n",
       "        text-align: right;\n",
       "    }\n",
       "</style>\n",
       "<table border=\"1\" class=\"dataframe\">\n",
       "  <thead>\n",
       "    <tr style=\"text-align: right;\">\n",
       "      <th></th>\n",
       "      <th>dateRep</th>\n",
       "      <th>day</th>\n",
       "      <th>month</th>\n",
       "      <th>year</th>\n",
       "      <th>cases</th>\n",
       "      <th>deaths</th>\n",
       "      <th>countryId</th>\n",
       "      <th>week</th>\n",
       "    </tr>\n",
       "  </thead>\n",
       "  <tbody>\n",
       "    <tr>\n",
       "      <th>125</th>\n",
       "      <td>2021-03-01</td>\n",
       "      <td>1</td>\n",
       "      <td>3</td>\n",
       "      <td>2021</td>\n",
       "      <td>456112</td>\n",
       "      <td>8414</td>\n",
       "      <td>AT</td>\n",
       "      <td>9</td>\n",
       "    </tr>\n",
       "    <tr>\n",
       "      <th>124</th>\n",
       "      <td>2021-03-02</td>\n",
       "      <td>2</td>\n",
       "      <td>3</td>\n",
       "      <td>2021</td>\n",
       "      <td>1148</td>\n",
       "      <td>25</td>\n",
       "      <td>AT</td>\n",
       "      <td>9</td>\n",
       "    </tr>\n",
       "    <tr>\n",
       "      <th>123</th>\n",
       "      <td>2021-03-03</td>\n",
       "      <td>3</td>\n",
       "      <td>3</td>\n",
       "      <td>2021</td>\n",
       "      <td>1926</td>\n",
       "      <td>17</td>\n",
       "      <td>AT</td>\n",
       "      <td>9</td>\n",
       "    </tr>\n",
       "    <tr>\n",
       "      <th>122</th>\n",
       "      <td>2021-03-04</td>\n",
       "      <td>4</td>\n",
       "      <td>3</td>\n",
       "      <td>2021</td>\n",
       "      <td>2497</td>\n",
       "      <td>14</td>\n",
       "      <td>AT</td>\n",
       "      <td>9</td>\n",
       "    </tr>\n",
       "    <tr>\n",
       "      <th>121</th>\n",
       "      <td>2021-03-05</td>\n",
       "      <td>5</td>\n",
       "      <td>3</td>\n",
       "      <td>2021</td>\n",
       "      <td>2691</td>\n",
       "      <td>19</td>\n",
       "      <td>AT</td>\n",
       "      <td>9</td>\n",
       "    </tr>\n",
       "    <tr>\n",
       "      <th>...</th>\n",
       "      <td>...</td>\n",
       "      <td>...</td>\n",
       "      <td>...</td>\n",
       "      <td>...</td>\n",
       "      <td>...</td>\n",
       "      <td>...</td>\n",
       "      <td>...</td>\n",
       "      <td>...</td>\n",
       "    </tr>\n",
       "    <tr>\n",
       "      <th>3280</th>\n",
       "      <td>2021-06-30</td>\n",
       "      <td>30</td>\n",
       "      <td>6</td>\n",
       "      <td>2021</td>\n",
       "      <td>157</td>\n",
       "      <td>1</td>\n",
       "      <td>SK</td>\n",
       "      <td>26</td>\n",
       "    </tr>\n",
       "    <tr>\n",
       "      <th>3279</th>\n",
       "      <td>2021-07-01</td>\n",
       "      <td>1</td>\n",
       "      <td>7</td>\n",
       "      <td>2021</td>\n",
       "      <td>35</td>\n",
       "      <td>1</td>\n",
       "      <td>SK</td>\n",
       "      <td>26</td>\n",
       "    </tr>\n",
       "    <tr>\n",
       "      <th>3278</th>\n",
       "      <td>2021-07-02</td>\n",
       "      <td>2</td>\n",
       "      <td>7</td>\n",
       "      <td>2021</td>\n",
       "      <td>0</td>\n",
       "      <td>0</td>\n",
       "      <td>SK</td>\n",
       "      <td>26</td>\n",
       "    </tr>\n",
       "    <tr>\n",
       "      <th>3277</th>\n",
       "      <td>2021-07-03</td>\n",
       "      <td>3</td>\n",
       "      <td>7</td>\n",
       "      <td>2021</td>\n",
       "      <td>27</td>\n",
       "      <td>0</td>\n",
       "      <td>SK</td>\n",
       "      <td>26</td>\n",
       "    </tr>\n",
       "    <tr>\n",
       "      <th>3276</th>\n",
       "      <td>2021-07-04</td>\n",
       "      <td>4</td>\n",
       "      <td>7</td>\n",
       "      <td>2021</td>\n",
       "      <td>31</td>\n",
       "      <td>2</td>\n",
       "      <td>SK</td>\n",
       "      <td>26</td>\n",
       "    </tr>\n",
       "  </tbody>\n",
       "</table>\n",
       "<p>3781 rows × 8 columns</p>\n",
       "</div>"
      ],
      "text/plain": [
       "        dateRep  day  month  year   cases  deaths countryId  week\n",
       "125  2021-03-01    1      3  2021  456112    8414        AT     9\n",
       "124  2021-03-02    2      3  2021    1148      25        AT     9\n",
       "123  2021-03-03    3      3  2021    1926      17        AT     9\n",
       "122  2021-03-04    4      3  2021    2497      14        AT     9\n",
       "121  2021-03-05    5      3  2021    2691      19        AT     9\n",
       "...         ...  ...    ...   ...     ...     ...       ...   ...\n",
       "3280 2021-06-30   30      6  2021     157       1        SK    26\n",
       "3279 2021-07-01    1      7  2021      35       1        SK    26\n",
       "3278 2021-07-02    2      7  2021       0       0        SK    26\n",
       "3277 2021-07-03    3      7  2021      27       0        SK    26\n",
       "3276 2021-07-04    4      7  2021      31       2        SK    26\n",
       "\n",
       "[3781 rows x 8 columns]"
      ]
     },
     "execution_count": 13,
     "metadata": {},
     "output_type": "execute_result"
    }
   ],
   "source": [
    "# Note: this is a part of the sample solution.\n",
    "\n",
    "data_df = pd.read_csv('covid_data.csv', parse_dates=['dateRep'], dayfirst=True)\n",
    "# Or:\n",
    "# data_df = pd.read_csv('covid_data.csv')\n",
    "# data_df['dateRep'] = pd.to_datetime(data_df['dateRep'], format='%d/%m/%Y')\n",
    "\n",
    "data_df['week'] = data_df['dateRep'].dt.isocalendar().week.astype('int')\n",
    "data_df.sort_values(['countryId', 'dateRep'], inplace=True)\n",
    "data_df"
   ]
  },
  {
   "cell_type": "code",
   "execution_count": 14,
   "metadata": {
    "ExecuteTime": {
     "end_time": "2021-10-04T20:19:24.497994Z",
     "start_time": "2021-10-04T20:19:24.476216Z"
    }
   },
   "outputs": [
    {
     "data": {
      "text/html": [
       "<div>\n",
       "<style scoped>\n",
       "    .dataframe tbody tr th:only-of-type {\n",
       "        vertical-align: middle;\n",
       "    }\n",
       "\n",
       "    .dataframe tbody tr th {\n",
       "        vertical-align: top;\n",
       "    }\n",
       "\n",
       "    .dataframe thead th {\n",
       "        text-align: right;\n",
       "    }\n",
       "</style>\n",
       "<table border=\"1\" class=\"dataframe\">\n",
       "  <thead>\n",
       "    <tr style=\"text-align: right;\">\n",
       "      <th></th>\n",
       "      <th>country</th>\n",
       "      <th>countryId</th>\n",
       "      <th>countryCode</th>\n",
       "      <th>popData2020</th>\n",
       "      <th>continent</th>\n",
       "    </tr>\n",
       "  </thead>\n",
       "  <tbody>\n",
       "    <tr>\n",
       "      <th>0</th>\n",
       "      <td>Austria</td>\n",
       "      <td>AT</td>\n",
       "      <td>AUT</td>\n",
       "      <td>8901064</td>\n",
       "      <td>Europe</td>\n",
       "    </tr>\n",
       "    <tr>\n",
       "      <th>1</th>\n",
       "      <td>Belgium</td>\n",
       "      <td>BE</td>\n",
       "      <td>BEL</td>\n",
       "      <td>11522440</td>\n",
       "      <td>Europe</td>\n",
       "    </tr>\n",
       "    <tr>\n",
       "      <th>2</th>\n",
       "      <td>Bulgaria</td>\n",
       "      <td>BG</td>\n",
       "      <td>BGR</td>\n",
       "      <td>6951482</td>\n",
       "      <td>Europe</td>\n",
       "    </tr>\n",
       "    <tr>\n",
       "      <th>3</th>\n",
       "      <td>Croatia</td>\n",
       "      <td>HR</td>\n",
       "      <td>HRV</td>\n",
       "      <td>4058165</td>\n",
       "      <td>Europe</td>\n",
       "    </tr>\n",
       "    <tr>\n",
       "      <th>4</th>\n",
       "      <td>Cyprus</td>\n",
       "      <td>CY</td>\n",
       "      <td>CYP</td>\n",
       "      <td>888005</td>\n",
       "      <td>Europe</td>\n",
       "    </tr>\n",
       "    <tr>\n",
       "      <th>5</th>\n",
       "      <td>Czechia</td>\n",
       "      <td>CZ</td>\n",
       "      <td>CZE</td>\n",
       "      <td>10693939</td>\n",
       "      <td>Europe</td>\n",
       "    </tr>\n",
       "    <tr>\n",
       "      <th>6</th>\n",
       "      <td>Denmark</td>\n",
       "      <td>DK</td>\n",
       "      <td>DNK</td>\n",
       "      <td>5822763</td>\n",
       "      <td>Europe</td>\n",
       "    </tr>\n",
       "    <tr>\n",
       "      <th>7</th>\n",
       "      <td>Estonia</td>\n",
       "      <td>EE</td>\n",
       "      <td>EST</td>\n",
       "      <td>1328976</td>\n",
       "      <td>Europe</td>\n",
       "    </tr>\n",
       "    <tr>\n",
       "      <th>8</th>\n",
       "      <td>Finland</td>\n",
       "      <td>FI</td>\n",
       "      <td>FIN</td>\n",
       "      <td>5525292</td>\n",
       "      <td>Europe</td>\n",
       "    </tr>\n",
       "    <tr>\n",
       "      <th>9</th>\n",
       "      <td>France</td>\n",
       "      <td>FR</td>\n",
       "      <td>FRA</td>\n",
       "      <td>67320216</td>\n",
       "      <td>Europe</td>\n",
       "    </tr>\n",
       "    <tr>\n",
       "      <th>10</th>\n",
       "      <td>Germany</td>\n",
       "      <td>DE</td>\n",
       "      <td>DEU</td>\n",
       "      <td>83166711</td>\n",
       "      <td>Europe</td>\n",
       "    </tr>\n",
       "    <tr>\n",
       "      <th>11</th>\n",
       "      <td>Greece</td>\n",
       "      <td>EL</td>\n",
       "      <td>GRC</td>\n",
       "      <td>10718565</td>\n",
       "      <td>Europe</td>\n",
       "    </tr>\n",
       "    <tr>\n",
       "      <th>12</th>\n",
       "      <td>Hungary</td>\n",
       "      <td>HU</td>\n",
       "      <td>HUN</td>\n",
       "      <td>9769526</td>\n",
       "      <td>Europe</td>\n",
       "    </tr>\n",
       "    <tr>\n",
       "      <th>13</th>\n",
       "      <td>Iceland</td>\n",
       "      <td>IS</td>\n",
       "      <td>ISL</td>\n",
       "      <td>364134</td>\n",
       "      <td>Europe</td>\n",
       "    </tr>\n",
       "    <tr>\n",
       "      <th>14</th>\n",
       "      <td>Ireland</td>\n",
       "      <td>IE</td>\n",
       "      <td>IRL</td>\n",
       "      <td>4964440</td>\n",
       "      <td>Europe</td>\n",
       "    </tr>\n",
       "    <tr>\n",
       "      <th>15</th>\n",
       "      <td>Italy</td>\n",
       "      <td>IT</td>\n",
       "      <td>ITA</td>\n",
       "      <td>59641488</td>\n",
       "      <td>Europe</td>\n",
       "    </tr>\n",
       "    <tr>\n",
       "      <th>16</th>\n",
       "      <td>Latvia</td>\n",
       "      <td>LV</td>\n",
       "      <td>LVA</td>\n",
       "      <td>1907675</td>\n",
       "      <td>Europe</td>\n",
       "    </tr>\n",
       "    <tr>\n",
       "      <th>17</th>\n",
       "      <td>Liechtenstein</td>\n",
       "      <td>LI</td>\n",
       "      <td>LIE</td>\n",
       "      <td>38747</td>\n",
       "      <td>Europe</td>\n",
       "    </tr>\n",
       "    <tr>\n",
       "      <th>18</th>\n",
       "      <td>Lithuania</td>\n",
       "      <td>LT</td>\n",
       "      <td>LTU</td>\n",
       "      <td>2794090</td>\n",
       "      <td>Europe</td>\n",
       "    </tr>\n",
       "    <tr>\n",
       "      <th>19</th>\n",
       "      <td>Luxembourg</td>\n",
       "      <td>LU</td>\n",
       "      <td>LUX</td>\n",
       "      <td>626108</td>\n",
       "      <td>Europe</td>\n",
       "    </tr>\n",
       "    <tr>\n",
       "      <th>20</th>\n",
       "      <td>Malta</td>\n",
       "      <td>MT</td>\n",
       "      <td>MLT</td>\n",
       "      <td>514564</td>\n",
       "      <td>Europe</td>\n",
       "    </tr>\n",
       "    <tr>\n",
       "      <th>21</th>\n",
       "      <td>Netherlands</td>\n",
       "      <td>NL</td>\n",
       "      <td>NLD</td>\n",
       "      <td>17407585</td>\n",
       "      <td>Europe</td>\n",
       "    </tr>\n",
       "    <tr>\n",
       "      <th>22</th>\n",
       "      <td>Norway</td>\n",
       "      <td>NO</td>\n",
       "      <td>NOR</td>\n",
       "      <td>5367580</td>\n",
       "      <td>Europe</td>\n",
       "    </tr>\n",
       "    <tr>\n",
       "      <th>23</th>\n",
       "      <td>Poland</td>\n",
       "      <td>PL</td>\n",
       "      <td>POL</td>\n",
       "      <td>37958138</td>\n",
       "      <td>Europe</td>\n",
       "    </tr>\n",
       "    <tr>\n",
       "      <th>24</th>\n",
       "      <td>Portugal</td>\n",
       "      <td>PT</td>\n",
       "      <td>PRT</td>\n",
       "      <td>10295909</td>\n",
       "      <td>Europe</td>\n",
       "    </tr>\n",
       "    <tr>\n",
       "      <th>25</th>\n",
       "      <td>Romania</td>\n",
       "      <td>RO</td>\n",
       "      <td>ROU</td>\n",
       "      <td>19328838</td>\n",
       "      <td>Europe</td>\n",
       "    </tr>\n",
       "    <tr>\n",
       "      <th>26</th>\n",
       "      <td>Slovakia</td>\n",
       "      <td>SK</td>\n",
       "      <td>SVK</td>\n",
       "      <td>5457873</td>\n",
       "      <td>Europe</td>\n",
       "    </tr>\n",
       "    <tr>\n",
       "      <th>27</th>\n",
       "      <td>Slovenia</td>\n",
       "      <td>SI</td>\n",
       "      <td>SVN</td>\n",
       "      <td>2095861</td>\n",
       "      <td>Europe</td>\n",
       "    </tr>\n",
       "    <tr>\n",
       "      <th>28</th>\n",
       "      <td>Spain</td>\n",
       "      <td>ES</td>\n",
       "      <td>ESP</td>\n",
       "      <td>47332614</td>\n",
       "      <td>Europe</td>\n",
       "    </tr>\n",
       "    <tr>\n",
       "      <th>29</th>\n",
       "      <td>Sweden</td>\n",
       "      <td>SE</td>\n",
       "      <td>SWE</td>\n",
       "      <td>10327589</td>\n",
       "      <td>Europe</td>\n",
       "    </tr>\n",
       "  </tbody>\n",
       "</table>\n",
       "</div>"
      ],
      "text/plain": [
       "          country countryId countryCode  popData2020 continent\n",
       "0         Austria        AT         AUT      8901064    Europe\n",
       "1         Belgium        BE         BEL     11522440    Europe\n",
       "2        Bulgaria        BG         BGR      6951482    Europe\n",
       "3         Croatia        HR         HRV      4058165    Europe\n",
       "4          Cyprus        CY         CYP       888005    Europe\n",
       "5         Czechia        CZ         CZE     10693939    Europe\n",
       "6         Denmark        DK         DNK      5822763    Europe\n",
       "7         Estonia        EE         EST      1328976    Europe\n",
       "8         Finland        FI         FIN      5525292    Europe\n",
       "9          France        FR         FRA     67320216    Europe\n",
       "10        Germany        DE         DEU     83166711    Europe\n",
       "11         Greece        EL         GRC     10718565    Europe\n",
       "12        Hungary        HU         HUN      9769526    Europe\n",
       "13        Iceland        IS         ISL       364134    Europe\n",
       "14        Ireland        IE         IRL      4964440    Europe\n",
       "15          Italy        IT         ITA     59641488    Europe\n",
       "16         Latvia        LV         LVA      1907675    Europe\n",
       "17  Liechtenstein        LI         LIE        38747    Europe\n",
       "18      Lithuania        LT         LTU      2794090    Europe\n",
       "19     Luxembourg        LU         LUX       626108    Europe\n",
       "20          Malta        MT         MLT       514564    Europe\n",
       "21    Netherlands        NL         NLD     17407585    Europe\n",
       "22         Norway        NO         NOR      5367580    Europe\n",
       "23         Poland        PL         POL     37958138    Europe\n",
       "24       Portugal        PT         PRT     10295909    Europe\n",
       "25        Romania        RO         ROU     19328838    Europe\n",
       "26       Slovakia        SK         SVK      5457873    Europe\n",
       "27       Slovenia        SI         SVN      2095861    Europe\n",
       "28          Spain        ES         ESP     47332614    Europe\n",
       "29         Sweden        SE         SWE     10327589    Europe"
      ]
     },
     "execution_count": 14,
     "metadata": {},
     "output_type": "execute_result"
    }
   ],
   "source": [
    "countries_df = pd.read_csv('covid_countries.csv')\n",
    "countries_df"
   ]
  },
  {
   "cell_type": "code",
   "execution_count": 15,
   "metadata": {
    "ExecuteTime": {
     "end_time": "2021-10-04T20:19:24.529215Z",
     "start_time": "2021-10-04T20:19:24.499814Z"
    }
   },
   "outputs": [
    {
     "data": {
      "text/html": [
       "<div>\n",
       "<style scoped>\n",
       "    .dataframe tbody tr th:only-of-type {\n",
       "        vertical-align: middle;\n",
       "    }\n",
       "\n",
       "    .dataframe tbody tr th {\n",
       "        vertical-align: top;\n",
       "    }\n",
       "\n",
       "    .dataframe thead th {\n",
       "        text-align: right;\n",
       "    }\n",
       "</style>\n",
       "<table border=\"1\" class=\"dataframe\">\n",
       "  <thead>\n",
       "    <tr style=\"text-align: right;\">\n",
       "      <th></th>\n",
       "      <th></th>\n",
       "      <th>day</th>\n",
       "      <th>month</th>\n",
       "      <th>year</th>\n",
       "      <th>cases</th>\n",
       "      <th>deaths</th>\n",
       "      <th>countryId</th>\n",
       "      <th>week</th>\n",
       "      <th>countryCode</th>\n",
       "      <th>popData2020</th>\n",
       "      <th>continent</th>\n",
       "      <th>cases_per_100000</th>\n",
       "      <th>deaths_per_100000</th>\n",
       "    </tr>\n",
       "    <tr>\n",
       "      <th>country</th>\n",
       "      <th>dateRep</th>\n",
       "      <th></th>\n",
       "      <th></th>\n",
       "      <th></th>\n",
       "      <th></th>\n",
       "      <th></th>\n",
       "      <th></th>\n",
       "      <th></th>\n",
       "      <th></th>\n",
       "      <th></th>\n",
       "      <th></th>\n",
       "      <th></th>\n",
       "      <th></th>\n",
       "    </tr>\n",
       "  </thead>\n",
       "  <tbody>\n",
       "    <tr>\n",
       "      <th rowspan=\"5\" valign=\"top\">Austria</th>\n",
       "      <th>2021-03-01</th>\n",
       "      <td>1</td>\n",
       "      <td>3</td>\n",
       "      <td>2021</td>\n",
       "      <td>456112</td>\n",
       "      <td>8414</td>\n",
       "      <td>AT</td>\n",
       "      <td>9</td>\n",
       "      <td>AUT</td>\n",
       "      <td>8901064</td>\n",
       "      <td>Europe</td>\n",
       "      <td>5124.241327</td>\n",
       "      <td>94.528025</td>\n",
       "    </tr>\n",
       "    <tr>\n",
       "      <th>2021-03-02</th>\n",
       "      <td>2</td>\n",
       "      <td>3</td>\n",
       "      <td>2021</td>\n",
       "      <td>1148</td>\n",
       "      <td>25</td>\n",
       "      <td>AT</td>\n",
       "      <td>9</td>\n",
       "      <td>AUT</td>\n",
       "      <td>8901064</td>\n",
       "      <td>Europe</td>\n",
       "      <td>12.897335</td>\n",
       "      <td>0.280865</td>\n",
       "    </tr>\n",
       "    <tr>\n",
       "      <th>2021-03-03</th>\n",
       "      <td>3</td>\n",
       "      <td>3</td>\n",
       "      <td>2021</td>\n",
       "      <td>1926</td>\n",
       "      <td>17</td>\n",
       "      <td>AT</td>\n",
       "      <td>9</td>\n",
       "      <td>AUT</td>\n",
       "      <td>8901064</td>\n",
       "      <td>Europe</td>\n",
       "      <td>21.637863</td>\n",
       "      <td>0.190988</td>\n",
       "    </tr>\n",
       "    <tr>\n",
       "      <th>2021-03-04</th>\n",
       "      <td>4</td>\n",
       "      <td>3</td>\n",
       "      <td>2021</td>\n",
       "      <td>2497</td>\n",
       "      <td>14</td>\n",
       "      <td>AT</td>\n",
       "      <td>9</td>\n",
       "      <td>AUT</td>\n",
       "      <td>8901064</td>\n",
       "      <td>Europe</td>\n",
       "      <td>28.052826</td>\n",
       "      <td>0.157285</td>\n",
       "    </tr>\n",
       "    <tr>\n",
       "      <th>2021-03-05</th>\n",
       "      <td>5</td>\n",
       "      <td>3</td>\n",
       "      <td>2021</td>\n",
       "      <td>2691</td>\n",
       "      <td>19</td>\n",
       "      <td>AT</td>\n",
       "      <td>9</td>\n",
       "      <td>AUT</td>\n",
       "      <td>8901064</td>\n",
       "      <td>Europe</td>\n",
       "      <td>30.232341</td>\n",
       "      <td>0.213458</td>\n",
       "    </tr>\n",
       "  </tbody>\n",
       "</table>\n",
       "</div>"
      ],
      "text/plain": [
       "                    day  month  year   cases  deaths countryId  week  \\\n",
       "country dateRep                                                        \n",
       "Austria 2021-03-01    1      3  2021  456112    8414        AT     9   \n",
       "        2021-03-02    2      3  2021    1148      25        AT     9   \n",
       "        2021-03-03    3      3  2021    1926      17        AT     9   \n",
       "        2021-03-04    4      3  2021    2497      14        AT     9   \n",
       "        2021-03-05    5      3  2021    2691      19        AT     9   \n",
       "\n",
       "                   countryCode  popData2020 continent  cases_per_100000  \\\n",
       "country dateRep                                                           \n",
       "Austria 2021-03-01         AUT      8901064    Europe       5124.241327   \n",
       "        2021-03-02         AUT      8901064    Europe         12.897335   \n",
       "        2021-03-03         AUT      8901064    Europe         21.637863   \n",
       "        2021-03-04         AUT      8901064    Europe         28.052826   \n",
       "        2021-03-05         AUT      8901064    Europe         30.232341   \n",
       "\n",
       "                    deaths_per_100000  \n",
       "country dateRep                        \n",
       "Austria 2021-03-01          94.528025  \n",
       "        2021-03-02           0.280865  \n",
       "        2021-03-03           0.190988  \n",
       "        2021-03-04           0.157285  \n",
       "        2021-03-05           0.213458  "
      ]
     },
     "execution_count": 15,
     "metadata": {},
     "output_type": "execute_result"
    }
   ],
   "source": [
    "covid_df = pd.merge(data_df, countries_df, on=\"countryId\").set_index(['country', 'dateRep'])\n",
    "covid_df['cases_per_100000'] = covid_df['cases'] / covid_df['popData2020'] * 100000\n",
    "covid_df['deaths_per_100000'] = covid_df['deaths'] / covid_df['popData2020'] * 100000\n",
    "covid_df.head()"
   ]
  },
  {
   "cell_type": "markdown",
   "metadata": {},
   "source": [
    "- Output the number of confirmed cases and deaths for Norway on 1 July 2021."
   ]
  },
  {
   "cell_type": "code",
   "execution_count": 16,
   "metadata": {
    "ExecuteTime": {
     "end_time": "2021-10-04T20:19:24.545376Z",
     "start_time": "2021-10-04T20:19:24.532145Z"
    }
   },
   "outputs": [
    {
     "data": {
      "text/plain": [
       "cases     224\n",
       "deaths      2\n",
       "Name: (Norway, 2021-07-01 00:00:00), dtype: int64"
      ]
     },
     "execution_count": 16,
     "metadata": {},
     "output_type": "execute_result"
    }
   ],
   "source": [
    "covid_df.loc[(\"Norway\", \"2021-07-01\"), ['cases', 'deaths']]"
   ]
  },
  {
   "cell_type": "markdown",
   "metadata": {},
   "source": [
    "- Output the total number of confirmed cases and deaths in whole EU/EEA (since the beginning of the pandemic)."
   ]
  },
  {
   "cell_type": "code",
   "execution_count": 17,
   "metadata": {
    "ExecuteTime": {
     "end_time": "2021-10-04T20:19:24.551907Z",
     "start_time": "2021-10-04T20:19:24.547123Z"
    }
   },
   "outputs": [
    {
     "data": {
      "text/plain": [
       "(33223215, 740713)"
      ]
     },
     "execution_count": 17,
     "metadata": {},
     "output_type": "execute_result"
    }
   ],
   "source": [
    "covid_df['cases'].sum(), covid_df['deaths'].sum()"
   ]
  },
  {
   "cell_type": "markdown",
   "metadata": {},
   "source": [
    "- Output a table showing the total number of confirmed cases and deaths for each country. Use the country names (not codes) as row labels. Sort the table by the number of deaths, from the highest to the lowest. Show the first 10 countries."
   ]
  },
  {
   "cell_type": "code",
   "execution_count": 18,
   "metadata": {
    "ExecuteTime": {
     "end_time": "2021-10-04T20:19:24.574798Z",
     "start_time": "2021-10-04T20:19:24.553743Z"
    }
   },
   "outputs": [
    {
     "data": {
      "text/html": [
       "<div>\n",
       "<style scoped>\n",
       "    .dataframe tbody tr th:only-of-type {\n",
       "        vertical-align: middle;\n",
       "    }\n",
       "\n",
       "    .dataframe tbody tr th {\n",
       "        vertical-align: top;\n",
       "    }\n",
       "\n",
       "    .dataframe thead th {\n",
       "        text-align: right;\n",
       "    }\n",
       "</style>\n",
       "<table border=\"1\" class=\"dataframe\">\n",
       "  <thead>\n",
       "    <tr style=\"text-align: right;\">\n",
       "      <th></th>\n",
       "      <th>cases</th>\n",
       "      <th>deaths</th>\n",
       "    </tr>\n",
       "    <tr>\n",
       "      <th>country</th>\n",
       "      <th></th>\n",
       "      <th></th>\n",
       "    </tr>\n",
       "  </thead>\n",
       "  <tbody>\n",
       "    <tr>\n",
       "      <th>Italy</th>\n",
       "      <td>4262511</td>\n",
       "      <td>127637</td>\n",
       "    </tr>\n",
       "    <tr>\n",
       "      <th>France</th>\n",
       "      <td>5783654</td>\n",
       "      <td>111181</td>\n",
       "    </tr>\n",
       "    <tr>\n",
       "      <th>Germany</th>\n",
       "      <td>3730912</td>\n",
       "      <td>91030</td>\n",
       "    </tr>\n",
       "    <tr>\n",
       "      <th>Spain</th>\n",
       "      <td>3833868</td>\n",
       "      <td>80911</td>\n",
       "    </tr>\n",
       "    <tr>\n",
       "      <th>Poland</th>\n",
       "      <td>2880215</td>\n",
       "      <td>75083</td>\n",
       "    </tr>\n",
       "    <tr>\n",
       "      <th>Romania</th>\n",
       "      <td>1080918</td>\n",
       "      <td>33925</td>\n",
       "    </tr>\n",
       "    <tr>\n",
       "      <th>Czechia</th>\n",
       "      <td>1667935</td>\n",
       "      <td>30310</td>\n",
       "    </tr>\n",
       "    <tr>\n",
       "      <th>Hungary</th>\n",
       "      <td>808197</td>\n",
       "      <td>29992</td>\n",
       "    </tr>\n",
       "    <tr>\n",
       "      <th>Belgium</th>\n",
       "      <td>1088268</td>\n",
       "      <td>25190</td>\n",
       "    </tr>\n",
       "    <tr>\n",
       "      <th>Bulgaria</th>\n",
       "      <td>422034</td>\n",
       "      <td>18084</td>\n",
       "    </tr>\n",
       "  </tbody>\n",
       "</table>\n",
       "</div>"
      ],
      "text/plain": [
       "            cases  deaths\n",
       "country                  \n",
       "Italy     4262511  127637\n",
       "France    5783654  111181\n",
       "Germany   3730912   91030\n",
       "Spain     3833868   80911\n",
       "Poland    2880215   75083\n",
       "Romania   1080918   33925\n",
       "Czechia   1667935   30310\n",
       "Hungary    808197   29992\n",
       "Belgium   1088268   25190\n",
       "Bulgaria   422034   18084"
      ]
     },
     "execution_count": 18,
     "metadata": {},
     "output_type": "execute_result"
    }
   ],
   "source": [
    "covid_df.groupby('country') \\\n",
    "        .agg(cases=('cases', 'sum'), deaths=('deaths', 'sum')) \\\n",
    "        .sort_values('deaths', ascending=False) \\\n",
    "        .head(10)"
   ]
  },
  {
   "cell_type": "markdown",
   "metadata": {},
   "source": [
    "- Output a table showing the number of confirmed cases and deaths per 100 000 population in weeks 25 and 26 for each country. Again, use the country name as row labels. Sort the table by the number of cases per 100 000, from the lowest to the highest. Show the first 10 rows."
   ]
  },
  {
   "cell_type": "code",
   "execution_count": 19,
   "metadata": {
    "ExecuteTime": {
     "end_time": "2021-10-04T20:19:24.609486Z",
     "start_time": "2021-10-04T20:19:24.577190Z"
    }
   },
   "outputs": [
    {
     "data": {
      "text/html": [
       "<div>\n",
       "<style scoped>\n",
       "    .dataframe tbody tr th:only-of-type {\n",
       "        vertical-align: middle;\n",
       "    }\n",
       "\n",
       "    .dataframe tbody tr th {\n",
       "        vertical-align: top;\n",
       "    }\n",
       "\n",
       "    .dataframe thead th {\n",
       "        text-align: right;\n",
       "    }\n",
       "</style>\n",
       "<table border=\"1\" class=\"dataframe\">\n",
       "  <thead>\n",
       "    <tr style=\"text-align: right;\">\n",
       "      <th></th>\n",
       "      <th>cases_per_100000</th>\n",
       "      <th>deaths_per_100000</th>\n",
       "    </tr>\n",
       "    <tr>\n",
       "      <th>country</th>\n",
       "      <th></th>\n",
       "      <th></th>\n",
       "    </tr>\n",
       "  </thead>\n",
       "  <tbody>\n",
       "    <tr>\n",
       "      <th>Romania</th>\n",
       "      <td>3.70</td>\n",
       "      <td>8.37</td>\n",
       "    </tr>\n",
       "    <tr>\n",
       "      <th>Poland</th>\n",
       "      <td>4.17</td>\n",
       "      <td>0.68</td>\n",
       "    </tr>\n",
       "    <tr>\n",
       "      <th>Iceland</th>\n",
       "      <td>7.41</td>\n",
       "      <td>0.00</td>\n",
       "    </tr>\n",
       "    <tr>\n",
       "      <th>Hungary</th>\n",
       "      <td>7.87</td>\n",
       "      <td>0.43</td>\n",
       "    </tr>\n",
       "    <tr>\n",
       "      <th>Malta</th>\n",
       "      <td>10.11</td>\n",
       "      <td>0.00</td>\n",
       "    </tr>\n",
       "    <tr>\n",
       "      <th>Germany</th>\n",
       "      <td>10.74</td>\n",
       "      <td>0.78</td>\n",
       "    </tr>\n",
       "    <tr>\n",
       "      <th>Slovakia</th>\n",
       "      <td>14.13</td>\n",
       "      <td>0.49</td>\n",
       "    </tr>\n",
       "    <tr>\n",
       "      <th>Bulgaria</th>\n",
       "      <td>14.80</td>\n",
       "      <td>1.37</td>\n",
       "    </tr>\n",
       "    <tr>\n",
       "      <th>Austria</th>\n",
       "      <td>16.20</td>\n",
       "      <td>0.84</td>\n",
       "    </tr>\n",
       "    <tr>\n",
       "      <th>Italy</th>\n",
       "      <td>17.46</td>\n",
       "      <td>0.64</td>\n",
       "    </tr>\n",
       "  </tbody>\n",
       "</table>\n",
       "</div>"
      ],
      "text/plain": [
       "          cases_per_100000  deaths_per_100000\n",
       "country                                      \n",
       "Romania               3.70               8.37\n",
       "Poland                4.17               0.68\n",
       "Iceland               7.41               0.00\n",
       "Hungary               7.87               0.43\n",
       "Malta                10.11               0.00\n",
       "Germany              10.74               0.78\n",
       "Slovakia             14.13               0.49\n",
       "Bulgaria             14.80               1.37\n",
       "Austria              16.20               0.84\n",
       "Italy                17.46               0.64"
      ]
     },
     "execution_count": 19,
     "metadata": {},
     "output_type": "execute_result"
    }
   ],
   "source": [
    "covid_df.query('week in [25, 26]') \\\n",
    "        .groupby('country') \\\n",
    "        .agg(cases_per_100000=('cases_per_100000', 'sum'),\n",
    "             deaths_per_100000=('deaths_per_100000', 'sum')) \\\n",
    "        .sort_values('cases_per_100000') \\\n",
    "        .head(10) \\\n",
    "        .round(2)\n",
    "\n",
    "# Alternatives for the first part:\n",
    "# covid_df.loc[(covid_df.week == 25) | (covid_df.week == 26)]\n",
    "# covid_df.query(\"week == 25 or week == 26\")"
   ]
  },
  {
   "cell_type": "markdown",
   "metadata": {},
   "source": [
    "- Output a plot of confirmed cases in Sweden by date. Include 7 day rolling averages (for each day the average is based on the number of confirmed cases in the last 7 days).\n",
    "\n",
    "  Hint: You can use the [`rolling`](https://pandas.pydata.org/docs/reference/api/pandas.DataFrame.rolling.html) method.\n",
    "\n",
    "  To check if you have solved the assignment correctly, compare your graph with [this graph](https://en.wikipedia.org/wiki/COVID-19_pandemic_in_Sweden#Cases_per_day) for the relevant date span."
   ]
  },
  {
   "cell_type": "code",
   "execution_count": 20,
   "metadata": {
    "ExecuteTime": {
     "end_time": "2021-10-04T20:19:25.107382Z",
     "start_time": "2021-10-04T20:19:24.611812Z"
    },
    "scrolled": true
   },
   "outputs": [
    {
     "data": {
      "text/plain": [
       "<AxesSubplot:xlabel='dateRep'>"
      ]
     },
     "execution_count": 20,
     "metadata": {},
     "output_type": "execute_result"
    },
    {
     "data": {
      "image/png": "[encoded data removed]",
      "text/plain": [
       "<Figure size 432x288 with 1 Axes>"
      ]
     },
     "metadata": {
      "needs_background": "light"
     },
     "output_type": "display_data"
    }
   ],
   "source": [
    "cases_series = covid_df.loc['Sweden'].loc[\"2021-03-02\":]['cases']\n",
    "cases_series.plot()\n",
    "cases_series.rolling(7).mean().plot()"
   ]
  },
  {
   "cell_type": "markdown",
   "metadata": {},
   "source": [
    "- Output a plot of total confirmed cases in Norway and Sweden (both in the same graph) by date. Include the legend and make sure that the dates on the x-axis are readable (e.g. rotate the labels by 45 or 90 degrees).\n",
    "\n",
    "  Hint: Look at the [`cumsum`](https://pandas.pydata.org/docs/reference/api/pandas.DataFrame.cumsum.html) method.\n",
    "\n",
    "  To check if you solved the assignment correctly, compare your graph with [this graph](https://en.wikipedia.org/wiki/COVID-19_pandemic_in_Sweden#Total_cases) for Sweden and the first graph on [this page](https://www.worldometers.info/coronavirus/country/norway/) for Norway for the relevant date span."
   ]
  },
  {
   "cell_type": "code",
   "execution_count": 21,
   "metadata": {
    "ExecuteTime": {
     "end_time": "2021-10-04T20:19:25.613525Z",
     "start_time": "2021-10-04T20:19:25.109768Z"
    }
   },
   "outputs": [
    {
     "data": {
      "text/plain": [
       "(array([18687., 18701., 18718., 18732., 18748., 18762., 18779., 18793.,\n",
       "        18809.]),\n",
       " [Text(0, 0, ''),\n",
       "  Text(0, 0, ''),\n",
       "  Text(0, 0, ''),\n",
       "  Text(0, 0, ''),\n",
       "  Text(0, 0, ''),\n",
       "  Text(0, 0, ''),\n",
       "  Text(0, 0, ''),\n",
       "  Text(0, 0, ''),\n",
       "  Text(0, 0, '')])"
      ]
     },
     "execution_count": 21,
     "metadata": {},
     "output_type": "execute_result"
    },
    {
     "data": {
      "image/png": "[encoded data removed]",
      "text/plain": [
       "<Figure size 432x288 with 1 Axes>"
      ]
     },
     "metadata": {
      "needs_background": "light"
     },
     "output_type": "display_data"
    }
   ],
   "source": [
    "cases_cum = covid_df.loc[['Norway', 'Sweden']].groupby('country')['cases'].cumsum()\n",
    "plt.plot(cases_cum.loc['Norway'])\n",
    "plt.plot(cases_cum.loc['Sweden'])\n",
    "plt.legend(['Norway', 'Sweden'])\n",
    "plt.xticks(rotation=45)"
   ]
  },
  {
   "cell_type": "markdown",
   "metadata": {},
   "source": [
    "### Exercise 3\n",
    "\n",
    "Generate a Pandas series indexed by date from January 1, 2022 to December 31, 2022, such that the value for January 1 is 0.0, and value for any other day is the value for the previous day plus a noise term sampled from the standard normal distribution. (Noise terms for all days are independent.)\n",
    "\n",
    "Hints: look up `randn`, `insert` and `cumsum` in the documentation for NumPy, and `date_range` in the documentation for Pandas."
   ]
  },
  {
   "cell_type": "code",
   "execution_count": 53,
   "metadata": {},
   "outputs": [
    {
     "data": {
      "text/plain": [
       "<AxesSubplot:>"
      ]
     },
     "execution_count": 53,
     "metadata": {},
     "output_type": "execute_result"
    },
    {
     "data": {
      "image/png": "[encoded data removed]",
      "text/plain": [
       "<Figure size 432x288 with 1 Axes>"
      ]
     },
     "metadata": {
      "needs_background": "light"
     },
     "output_type": "display_data"
    }
   ],
   "source": [
    "errors = np.random.randn(364)\n",
    "data = np.cumsum(np.insert(errors, 0, 0.0))\n",
    "series = pd.Series(data, index=pd.date_range('2022-01-01', '2022-12-31'))\n",
    "series.plot()\n"
   ]
  },
  {
   "cell_type": "markdown",
   "metadata": {},
   "source": [
    "What is the series' value on October 11?"
   ]
  },
  {
   "cell_type": "code",
   "execution_count": 55,
   "metadata": {},
   "outputs": [
    {
     "data": {
      "text/plain": [
       "13.32661341866635"
      ]
     },
     "execution_count": 55,
     "metadata": {},
     "output_type": "execute_result"
    }
   ],
   "source": [
    "series.loc['2022-10-11']"
   ]
  },
  {
   "cell_type": "markdown",
   "metadata": {},
   "source": [
    "Find the min. and max. value for each month."
   ]
  },
  {
   "cell_type": "code",
   "execution_count": 56,
   "metadata": {},
   "outputs": [
    {
     "data": {
      "text/html": [
       "<div>\n",
       "<style scoped>\n",
       "    .dataframe tbody tr th:only-of-type {\n",
       "        vertical-align: middle;\n",
       "    }\n",
       "\n",
       "    .dataframe tbody tr th {\n",
       "        vertical-align: top;\n",
       "    }\n",
       "\n",
       "    .dataframe thead th {\n",
       "        text-align: right;\n",
       "    }\n",
       "</style>\n",
       "<table border=\"1\" class=\"dataframe\">\n",
       "  <thead>\n",
       "    <tr style=\"text-align: right;\">\n",
       "      <th></th>\n",
       "      <th>min</th>\n",
       "      <th>max</th>\n",
       "    </tr>\n",
       "  </thead>\n",
       "  <tbody>\n",
       "    <tr>\n",
       "      <th>1</th>\n",
       "      <td>-10.018638</td>\n",
       "      <td>0.000000</td>\n",
       "    </tr>\n",
       "    <tr>\n",
       "      <th>2</th>\n",
       "      <td>-9.207285</td>\n",
       "      <td>-3.691070</td>\n",
       "    </tr>\n",
       "    <tr>\n",
       "      <th>3</th>\n",
       "      <td>-5.350552</td>\n",
       "      <td>0.020949</td>\n",
       "    </tr>\n",
       "    <tr>\n",
       "      <th>4</th>\n",
       "      <td>-5.772062</td>\n",
       "      <td>-0.286487</td>\n",
       "    </tr>\n",
       "    <tr>\n",
       "      <th>5</th>\n",
       "      <td>-5.727158</td>\n",
       "      <td>2.984607</td>\n",
       "    </tr>\n",
       "    <tr>\n",
       "      <th>6</th>\n",
       "      <td>-6.515270</td>\n",
       "      <td>2.267873</td>\n",
       "    </tr>\n",
       "    <tr>\n",
       "      <th>7</th>\n",
       "      <td>-7.205694</td>\n",
       "      <td>0.358171</td>\n",
       "    </tr>\n",
       "    <tr>\n",
       "      <th>8</th>\n",
       "      <td>0.238303</td>\n",
       "      <td>14.899575</td>\n",
       "    </tr>\n",
       "    <tr>\n",
       "      <th>9</th>\n",
       "      <td>8.417352</td>\n",
       "      <td>16.623491</td>\n",
       "    </tr>\n",
       "    <tr>\n",
       "      <th>10</th>\n",
       "      <td>3.804443</td>\n",
       "      <td>16.613383</td>\n",
       "    </tr>\n",
       "    <tr>\n",
       "      <th>11</th>\n",
       "      <td>-0.514807</td>\n",
       "      <td>5.611560</td>\n",
       "    </tr>\n",
       "    <tr>\n",
       "      <th>12</th>\n",
       "      <td>-10.898390</td>\n",
       "      <td>1.264580</td>\n",
       "    </tr>\n",
       "  </tbody>\n",
       "</table>\n",
       "</div>"
      ],
      "text/plain": [
       "          min        max\n",
       "1  -10.018638   0.000000\n",
       "2   -9.207285  -3.691070\n",
       "3   -5.350552   0.020949\n",
       "4   -5.772062  -0.286487\n",
       "5   -5.727158   2.984607\n",
       "6   -6.515270   2.267873\n",
       "7   -7.205694   0.358171\n",
       "8    0.238303  14.899575\n",
       "9    8.417352  16.623491\n",
       "10   3.804443  16.613383\n",
       "11  -0.514807   5.611560\n",
       "12 -10.898390   1.264580"
      ]
     },
     "execution_count": 56,
     "metadata": {},
     "output_type": "execute_result"
    }
   ],
   "source": [
    "series.groupby(series.index.month).agg(['min', 'max'])"
   ]
  },
  {
   "cell_type": "markdown",
   "metadata": {},
   "source": [
    "Replace all values between May 1 and May 15 as well as between September 1 and September 15 with the *missing value*. Plot the series again (using the series' `plot` method).\n",
    "\n",
    "(Note: do not use Seaborn's lineplot function, as it will interpolate the missing values.)"
   ]
  },
  {
   "cell_type": "code",
   "execution_count": 57,
   "metadata": {},
   "outputs": [
    {
     "data": {
      "text/plain": [
       "<AxesSubplot:>"
      ]
     },
     "execution_count": 57,
     "metadata": {},
     "output_type": "execute_result"
    },
    {
     "data": {
      "image/png": "[encoded data removed]",
      "text/plain": [
       "<Figure size 432x288 with 1 Axes>"
      ]
     },
     "metadata": {
      "needs_background": "light"
     },
     "output_type": "display_data"
    }
   ],
   "source": [
    "series.loc['2022-05-01':'2022-05-15'] = np.nan\n",
    "series.loc['2022-09-01':'2022-09-15'] = np.nan\n",
    "series.plot()"
   ]
  },
  {
   "cell_type": "markdown",
   "metadata": {},
   "source": [
    "Use the `interpolate` method to fill the missing values and plot the series again. (Try to use different interpolation methods, for example, `pad` and `nearest` as well.)"
   ]
  },
  {
   "cell_type": "code",
   "execution_count": 61,
   "metadata": {},
   "outputs": [
    {
     "data": {
      "text/plain": [
       "<AxesSubplot:>"
      ]
     },
     "execution_count": 61,
     "metadata": {},
     "output_type": "execute_result"
    },
    {
     "data": {
      "image/png": "[encoded data removed]",
      "text/plain": [
       "<Figure size 432x288 with 1 Axes>"
      ]
     },
     "metadata": {
      "needs_background": "light"
     },
     "output_type": "display_data"
    }
   ],
   "source": [
    "series.interpolate().plot()\n",
    "series.interpolate('pad').plot()\n",
    "series.interpolate('nearest').plot()"
   ]
  },
  {
   "cell_type": "markdown",
   "metadata": {},
   "source": [
    "### Exercise 4\n",
    "\n",
    "A *perfect number* is a positive integer that is equal to the sum of all its divisors (except the number itself). For example, 6 is a perfect numbers as $1 + 2 + 3 = 6$. On the other hand, 10 is not a perfect number as $1 + 2 + 5 = 8 \\neq 10$.\n",
    "\n",
    "Write a Python function that accepts a positive integer as a parameter and returns `True` if the number is perfect and `False` otherwise.\n",
    "\n",
    "Then use the function to find all perfect numbers less than 10000 (there are 4 such numbers)."
   ]
  },
  {
   "cell_type": "code",
   "execution_count": 27,
   "metadata": {},
   "outputs": [
    {
     "name": "stdout",
     "output_type": "stream",
     "text": [
      "6\n",
      "28\n",
      "496\n",
      "8128\n"
     ]
    }
   ],
   "source": [
    "def is_perfect(n):\n",
    "    s = 0\n",
    "    for i in range(1, n):\n",
    "        if n % i == 0:\n",
    "            s += i\n",
    "    return s == n\n",
    "\n",
    "for n in range(1, 10000):\n",
    "    if is_perfect(n):\n",
    "        print(n)"
   ]
  },
  {
   "cell_type": "markdown",
   "metadata": {},
   "source": [
    "### Exercise 5\n",
    "\n",
    "Function `number_list` defined below accepts a string that contains integer numbers separated by single spaces, and should return a list of these numbers. For example, `number_list('72 2 13 -5 23 -46')` should return `[72, 2, 13, -5, 23, -46]`.\n",
    "\n",
    "```python\n",
    "def number_list(string):\n",
    "    result = []\n",
    "    string += ' '\n",
    "    while string == '':\n",
    "        i = result.find(' ')\n",
    "        result.append(int(string[i]))\n",
    "        string = string[:i]\n",
    "    return result\n",
    "```\n",
    "\n",
    "This function however contains a few errors and does not work at the moment. These errors are related to relational operators and indexes/slices. Find and fix them. (Do not add additional statements to the function.)"
   ]
  },
  {
   "cell_type": "code",
   "execution_count": 28,
   "metadata": {},
   "outputs": [
    {
     "data": {
      "text/plain": [
       "[72, 2, 13, -5, 23, -46]"
      ]
     },
     "execution_count": 28,
     "metadata": {},
     "output_type": "execute_result"
    }
   ],
   "source": [
    "def number_list(string):\n",
    "    result = []\n",
    "    string += ' '\n",
    "    while string != '':  # != instead of ==\n",
    "        i = string.find(' ')\n",
    "        result.append(int(string[:i]))  # string[:i] instead of string[i]\n",
    "        string = string[i+1:]  # string[i+1:] instead of string[:i]\n",
    "    return result\n",
    "\n",
    "number_list('72 2 13 -5 23 -46')\n",
    "\n",
    "# (Other solutions are possible, the most important thing is that you have managed to get the function working.)"
   ]
  }
 ],
 "metadata": {
  "kernelspec": {
   "display_name": "Python 3 (ipykernel)",
   "language": "python",
   "name": "python3"
  },
  "language_info": {
   "codemirror_mode": {
    "name": "ipython",
    "version": 3
   },
   "file_extension": ".py",
   "mimetype": "text/x-python",
   "name": "python",
   "nbconvert_exporter": "python",
   "pygments_lexer": "ipython3",
   "version": "3.9.12"
  },
  "varInspector": {
   "cols": {
    "lenName": 16,
    "lenType": 16,
    "lenVar": 40
   },
   "kernels_config": {
    "python": {
     "delete_cmd_postfix": "",
     "delete_cmd_prefix": "del ",
     "library": "var_list.py",
     "varRefreshCmd": "print(var_dic_list())"
    },
    "r": {
     "delete_cmd_postfix": ") ",
     "delete_cmd_prefix": "rm(",
     "library": "var_list.r",
     "varRefreshCmd": "cat(var_dic_list()) "
    }
   },
   "types_to_exclude": [
    "module",
    "function",
    "builtin_function_or_method",
    "instance",
    "_Feature"
   ],
   "window_display": false
  }
 },
 "nbformat": 4,
 "nbformat_minor": 4
}
