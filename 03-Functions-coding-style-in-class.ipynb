{
 "cells": [
  {
   "cell_type": "markdown",
   "id": "27faee9a",
   "metadata": {},
   "source": [
    "# 3. Functions and coding style"
   ]
  },
  {
   "cell_type": "markdown",
   "id": "a42b7c1b",
   "metadata": {},
   "source": [
    "**GRA 4142 Data Management and Python Programming, Fall 2022**  \n",
    "Jan Kudlicka (jan.kudlicka@bi.no)"
   ]
  },
  {
   "cell_type": "markdown",
   "id": "a0131657-5554-44f1-8212-a2539da816a2",
   "metadata": {},
   "source": [
    "## Functions"
   ]
  },
  {
   "cell_type": "markdown",
   "id": "d4e1be35-ba94-42df-9d54-07adca1e01df",
   "metadata": {},
   "source": [
    "We have already seen and used some built-in functions (for example `print` and `len`). We can also define and use our own functions.\n",
    "\n",
    "Why do we actually want to do that? If we need to carry out some task many times in a program, instead of copying the same code again and again (which is a really bad practice), we can define our own function, write the code only once, and then just use the function every time we need to perform this task. We also do not want our programs to be extremely long blocks of statements, but we want to split the code into smaller parts (using functions) that are easier to develop, understand, change, test and debug.\n",
    "\n",
    "Let us look at how we can define a function:\n",
    "\n",
    "```python\n",
    "def function_name(parameters):\n",
    "    # ...\n",
    "    # Indented block of statements performing some task\n",
    "    # and possibly returning some result (see below)\n",
    "    # ...\n",
    "```\n",
    "\n",
    "The *function_name* must follow the same rules as the variable names. (Good practice is to use a verb as a function name.)\n",
    "\n",
    "To return a value from a function (and leave it), use:\n",
    "```python\n",
    "    return value\n",
    "```\n",
    "If the function does not include any `return`, the value returned from the function is `None` (the only possible value of the `NoneType`, used to denote null or no value). (In some programming languages such a function is called a *procedure*.)\n",
    "\n",
    "Parameters are a comma separated list of the names of variables storing the passed values (arguments) during the execution of the function. These variables as well as any variables you introduce during the execution of the function are local&mdash;these variables cease to exist upon completion of the execution of the function.\n",
    "\n",
    "**Examples.** Let's start with a really simple example, a function that does not return anything explicitly and does not have any parameters:"
   ]
  },
  {
   "cell_type": "code",
   "execution_count": null,
   "id": "72517595-6675-439c-a32e-35786b57432c",
   "metadata": {},
   "outputs": [],
   "source": [
    "def print_separator():\n",
    "    print(50 * \"-\")\n",
    "\n",
    "print(\"Line 1\")\n",
    "print_separator()\n",
    "print(\"Line 2\")\n",
    "print_separator()\n",
    "print(\"Line 3\")"
   ]
  },
  {
   "cell_type": "markdown",
   "id": "62093c2e-1c60-4206-8f77-7e974c00615b",
   "metadata": {
    "tags": []
   },
   "source": [
    "Let's now define a function that will add two numbers together and return the result:"
   ]
  },
  {
   "cell_type": "code",
   "execution_count": null,
   "id": "f5cdd675-1548-480e-8796-44249a1a375d",
   "metadata": {},
   "outputs": [],
   "source": [
    "def add(a, b):\n",
    "    return a + b\n",
    "\n",
    "x = add(2.7, 3.5)\n",
    "print(x)\n",
    "\n",
    "y = add(-1.5, 5.8)\n",
    "print(y)\n",
    "\n",
    "print(add(\"Hello, \", \"world\"))"
   ]
  },
  {
   "cell_type": "markdown",
   "id": "8e6d5c6c",
   "metadata": {},
   "source": [
    "There might be multiple `return`s in a function:"
   ]
  },
  {
   "cell_type": "code",
   "execution_count": null,
   "id": "c7b76d30",
   "metadata": {},
   "outputs": [],
   "source": [
    "def myabs(x):  # Absolute value. There is a built-in function `abs`, so we use `myabs`\n",
    "    if x < 0:\n",
    "        return -x\n",
    "    return x\n",
    "\n",
    "print(myabs(-5))"
   ]
  },
  {
   "cell_type": "markdown",
   "id": "b33e056d-4835-4c42-8b39-68cb8c4d0f6c",
   "metadata": {},
   "source": [
    "We can specify the default values for parameters, which will be used if the value is not given when calling the function. When defining a function, all *non-default* parameters (i.e. those without a default value) must be listed before *default* parameters (those with a default value)."
   ]
  },
  {
   "cell_type": "code",
   "execution_count": null,
   "id": "3744f701-b989-4e12-a488-d3021dfe6892",
   "metadata": {
    "tags": []
   },
   "outputs": [],
   "source": [
    "def hello(message, rep=1, bye=False):\n",
    "    print(\"Testing, \" + \"1, 2, \" * rep + message)\n",
    "    if bye:\n",
    "        print('... Good bye!')\n",
    "\n",
    "hello(\"welcome!\", 3, True)\n",
    "hello(\"welcome!\", 3)              # Uses the default value for bye (False)\n",
    "hello(\"welcome!\")                 # Uses the default values for rep (1) and bye (False)\n",
    "hello(\"welcome!\", bye=True)       # If we want to specify `bye` but not `rep`\n",
    "hello(rep=2, message=\"welcome!\")  # We can change the order of arguments"
   ]
  },
  {
   "cell_type": "markdown",
   "id": "e126ade7-acca-4dbc-9c4e-4e6fe88a7607",
   "metadata": {},
   "source": [
    "**Exercise.** Look at the cell below (without running the code). What do you expect the following program to print? Once answered, run the cell and check if you were correct."
   ]
  },
  {
   "cell_type": "code",
   "execution_count": null,
   "id": "d3b2ed05-f27f-4e9d-9ca9-b7c79a83be90",
   "metadata": {
    "hide_input": false,
    "jupyter": {
     "outputs_hidden": true
    },
    "tags": []
   },
   "outputs": [],
   "source": [
    "def f():\n",
    "    x = 2\n",
    "    return x\n",
    "\n",
    "x = 1\n",
    "f()\n",
    "print(x)"
   ]
  },
  {
   "cell_type": "markdown",
   "id": "61043a34",
   "metadata": {},
   "source": [
    "**Exercise**. Go to https://pythontutor.com/visualize.html, copy the code from the previous cell and click on the *Visualize Execution* button. Check what is happening during the execution (using the *Next* and *Prev* buttons)."
   ]
  },
  {
   "cell_type": "markdown",
   "id": "12c1228e",
   "metadata": {},
   "source": [
    "**Exercise**. Write and test a function to count the number of positive numbers in an array (you can assume that the array contains only numbers):"
   ]
  },
  {
   "cell_type": "code",
   "execution_count": null,
   "id": "3af62df4",
   "metadata": {
    "hide_input": false
   },
   "outputs": [],
   "source": [
    "def count_positive_elements(lst):\n",
    "    pass\n",
    "    # Your code here\n",
    "\n",
    "\n",
    "lst1 = [-1, 2, -6, -4, 3, 7]\n",
    "# Your code here\n",
    "print(count_positive_elements(lst1))\n",
    "\n",
    "lst2 = []\n",
    "# Your code here\n",
    "print(count_positive_elements(lst2))\n",
    "\n",
    "lst3 = [-5.7, -8.9]\n",
    "# Your code here\n",
    "print(count_positive_elements(lst3))"
   ]
  },
  {
   "cell_type": "markdown",
   "id": "98a38482-b406-413c-90c8-089cb8c5cc0f",
   "metadata": {},
   "source": [
    "## Lambda functions (mainly for information)"
   ]
  },
  {
   "cell_type": "markdown",
   "id": "a2b5b335-b5ec-424d-869c-f95ae85568d1",
   "metadata": {},
   "source": [
    "Python supports defining anonymous functions (i.e. functions without the name) that can only contain a single expression, which is evaluated and its value is returned:\n",
    "\n",
    "```python\n",
    "lambda parameters: expression\n",
    "```\n",
    "\n",
    "For example, the following anonymous function accepts two numbers, $a$ and $b$, and returns its product $a * b$:"
   ]
  },
  {
   "cell_type": "code",
   "execution_count": null,
   "id": "30c20676-afb9-436d-bad0-9d78f3a59d00",
   "metadata": {},
   "outputs": [],
   "source": [
    "lambda a, b: a * b"
   ]
  },
  {
   "cell_type": "markdown",
   "id": "85d68573-adc0-4775-af82-81c6b94a52ef",
   "metadata": {},
   "source": [
    "Note that we do not use the `return` keyword.\n",
    "\n",
    "Following examples show how we can call a lambda function:"
   ]
  },
  {
   "cell_type": "code",
   "execution_count": null,
   "id": "f60e4027-328c-44fe-9241-439f5529595e",
   "metadata": {},
   "outputs": [],
   "source": [
    "res = (lambda a, b: a * b)(2, 3)\n",
    "print(res)\n",
    "\n",
    "# We can assign a lambda function to a variable and use the variable name to call the function:\n",
    "fn = lambda a, b: a * b\n",
    "res = fn(2, 3)\n",
    "print(res)"
   ]
  },
  {
   "cell_type": "markdown",
   "id": "eef02ddb",
   "metadata": {},
   "source": [
    "Lambda functions are often used when we need to pass a function as an argument. Following example shows how to calculate the square all integers in $[0, 10)$ with one line of code:"
   ]
  },
  {
   "cell_type": "code",
   "execution_count": null,
   "id": "248fd245",
   "metadata": {},
   "outputs": [],
   "source": [
    "list(map(lambda a: a * a, range(10)))"
   ]
  },
  {
   "cell_type": "markdown",
   "id": "fcb606d7",
   "metadata": {},
   "source": [
    "## Coding style"
   ]
  },
  {
   "cell_type": "markdown",
   "id": "cb6ff517",
   "metadata": {},
   "source": [
    "It is important to make your programs easy to read and understand, both for you (especially if you are returning to your program after a while) and for others.\n",
    "\n",
    "Here are some advices to keep in mind:\n",
    "\n",
    "- Organize your code into reusable blocks (such as functions).\n",
    "\n",
    "- Give functions, parameters and variables short but descriptive names, and use the [snake_case](https://en.wikipedia.org/wiki/Snake_case) style.\n",
    "\n",
    "- Use two empty lines to separate functions.\n",
    "\n",
    "- If you want to do so, you can use a single empty line to separate larger parts of the code.\n",
    "\n",
    "- Document your code with comments and [docstrings](https://peps.python.org/pep-0257/).\n",
    "\n",
    "- Use 4 spaces per indentation level (if you press the *Tab* key in a Jupyter notebook, it will use 4 spaces automatically. In IDEs you can set up what to use for indentation, and pressing the *Tab* key will respect this setting.)\n",
    "\n",
    "- Avoid long lines. Python's [style guide (PEP 8)](https://peps.python.org/pep-0008/) recommends max. 79 characters per line).\n",
    "\n",
    "- Spaces: skim through [Whitespace in Expressions and Statements](https://peps.python.org/pep-0008/#whitespace-in-expressions-and-statements) in PEP 8."
   ]
  }
 ],
 "metadata": {
  "kernelspec": {
   "display_name": "Python 3 (ipykernel)",
   "language": "python",
   "name": "python3"
  },
  "language_info": {
   "codemirror_mode": {
    "name": "ipython",
    "version": 3
   },
   "file_extension": ".py",
   "mimetype": "text/x-python",
   "name": "python",
   "nbconvert_exporter": "python",
   "pygments_lexer": "ipython3",
   "version": "3.9.12"
  }
 },
 "nbformat": 4,
 "nbformat_minor": 5
}
