{
 "cells": [
  {
   "cell_type": "markdown",
   "id": "5f450bed-88ef-4a79-8705-0ddf5776e9df",
   "metadata": {
    "hide_input": true
   },
   "source": [
    "# 2. User input, conditional execution and loops"
   ]
  },
  {
   "cell_type": "markdown",
   "id": "207c92c2-4d33-4fef-85e1-f958b622da2d",
   "metadata": {},
   "source": [
    "**GRA 4142 Data Management and Python Programming, Fall 2022**  \n",
    "Jan Kudlicka (jan.kudlicka@bi.no)"
   ]
  },
  {
   "cell_type": "markdown",
   "id": "b3322565",
   "metadata": {},
   "source": [
    "## Asking user for input"
   ]
  },
  {
   "cell_type": "markdown",
   "id": "7b222c34",
   "metadata": {},
   "source": [
    "To ask the user for input we can use the built-in `input` function:"
   ]
  },
  {
   "cell_type": "code",
   "execution_count": null,
   "id": "6b5d7192",
   "metadata": {},
   "outputs": [],
   "source": [
    "name = input(\"What's your name? \")  # The parameter is the text to be shown to the user\n",
    "print(\"Hello, \" + name + \", how are you doing?\")"
   ]
  },
  {
   "cell_type": "markdown",
   "id": "092ca2a9",
   "metadata": {},
   "source": [
    "Try to run the code in the cell above several times and enter different names.\n",
    "\n",
    "Note that the type of the input value is always *str*. If you need to convert it to a number, you can use the `int()` resp. `float()`:"
   ]
  },
  {
   "cell_type": "code",
   "execution_count": null,
   "id": "fe95584a",
   "metadata": {},
   "outputs": [],
   "source": [
    "birth_year = int(input(\"What year were you born in? \"))\n",
    "age_max = 2022 - birth_year\n",
    "age_min = age_max - 1\n",
    "print(\"That means that you are\", age_min, \"or\", age_max, \"years old, right?\")"
   ]
  },
  {
   "cell_type": "markdown",
   "id": "2480db12",
   "metadata": {},
   "source": [
    "Note, that if you enter a string that does not contain an integer or float, the conversion will fail with a `ValueError`. Try it!"
   ]
  },
  {
   "cell_type": "markdown",
   "id": "1a87ccc8-8276-4549-914a-75bc74f78cc6",
   "metadata": {},
   "source": [
    "## Comparison operators"
   ]
  },
  {
   "cell_type": "markdown",
   "id": "5aa4711e-d84b-4925-a3fa-bdec710e5bd6",
   "metadata": {},
   "source": [
    "To check if two values are equal resp. not equal we can use the `==` resp. `!=` operators:"
   ]
  },
  {
   "cell_type": "code",
   "execution_count": null,
   "id": "203cdeec-eaae-40e1-8b1b-c199adaf7781",
   "metadata": {},
   "outputs": [],
   "source": [
    "print(\"1 == 1:\", 1 == 1)\n",
    "print(\"1 == 2:\", 1 == 2)\n",
    "print(\"1 != 2:\", 1 != 2)\n",
    "\n",
    "print(\"'Hello' == 'Hello':\", 'Hello' == 'Hello')\n",
    "print(\"'Hello' == 'Hei':\", 'Hello' == 'Hei')\n",
    "print(\"'Hello' == 'hello':\", 'Hello' == 'hello')\n",
    "\n",
    "print(\"[1, 2, 3] == [1, 2, 3]:\", [1, 2, 3] == [1, 2, 3])\n",
    "print(\"[1, 2, 3] == [1, 7, 2]:\", [1, 2, 3] == [1, 7, 2])\n",
    "print(\"[1, 2, 3] == [3, 2, 1]:\", [1, 2, 3] == [3, 2, 1])"
   ]
  },
  {
   "cell_type": "markdown",
   "id": "451b7aa8-6e30-4b6e-a179-9ba11c63b7a7",
   "metadata": {},
   "source": [
    "The operands (values we are comparing) don't need to be of the same type:"
   ]
  },
  {
   "cell_type": "code",
   "execution_count": null,
   "id": "b5e73aa9-e5a0-4aa9-9b77-48809202e1f7",
   "metadata": {},
   "outputs": [],
   "source": [
    "print(\"1 == 1.0:\", 1 == 1.0)\n",
    "print(\"1 == '1':\", 1 == '1')"
   ]
  },
  {
   "cell_type": "markdown",
   "id": "79125e78-a700-4151-84ec-21453877125e",
   "metadata": {},
   "source": [
    "Note that while 1 (as integer) is equal to 1.0, it is not equal to the string \"1\"!"
   ]
  },
  {
   "cell_type": "markdown",
   "id": "a944fcd2-2134-43a6-8d87-4626c48b78f9",
   "metadata": {},
   "source": [
    "To test for inequalities we can use the operators: `<`, `<=`, `>`, `>=`:"
   ]
  },
  {
   "cell_type": "code",
   "execution_count": null,
   "id": "fdf70b6c-9cb6-4ede-a501-1f50e6f77578",
   "metadata": {},
   "outputs": [],
   "source": [
    "print('1 < 2:', 1 < 2)\n",
    "print('1 <= 2:', 1 <= 2)\n",
    "print('1 > 2:', 1 > 2)\n",
    "print('1 >= 2:', 1 >= 2)\n",
    "print('1 <= 1:', 1 <= 1)\n",
    "print('1 < 1.1:', 1 < 1.1)\n",
    "print('\"Adam\" < \"Beth\":', \"Adam\" < \"Beth\")  # Is Adam before Beth in the alphabetical order?"
   ]
  },
  {
   "cell_type": "markdown",
   "id": "c574aa53",
   "metadata": {},
   "source": [
    "Comparing lists is similar to strings and uses the [lexicographical order](https://en.wikipedia.org/wiki/Lexicographic_order):"
   ]
  },
  {
   "cell_type": "code",
   "execution_count": null,
   "id": "ff70a116",
   "metadata": {},
   "outputs": [],
   "source": [
    "print('[1, 2, 3] < [3, 5]:', [1, 2, 3] < [3, 5])\n",
    "print('[1, 2, 3] < [1, 7, 2]:', [1, 2, 3] < [1, 7, 2])\n",
    "print('[1, 2, 3] < [1, 2]:', [1, 2, 3] < [1, 2])"
   ]
  },
  {
   "cell_type": "markdown",
   "id": "3e374039-2789-4484-a781-335ccc9cd770",
   "metadata": {},
   "source": [
    "Any expression that returns `False` or `True` (the only values of the `bool` type) is called a boolean expression. Note that unlike in other languages, `False` and `True` are capitalized."
   ]
  },
  {
   "cell_type": "markdown",
   "id": "b7a3d6ba-d7a2-4214-abad-4be4ea01c0d5",
   "metadata": {},
   "source": [
    "Boolean expressions might be combined using logical operators `and`, `or` and `not`:"
   ]
  },
  {
   "cell_type": "code",
   "execution_count": null,
   "id": "5308d877-9e9f-4e83-8483-ef928f4a485f",
   "metadata": {},
   "outputs": [],
   "source": [
    "x = 'K'\n",
    "# Is x a letter? (a bit contrived test)\n",
    "('A' <= x and not x > 'Z') or ('a' <= x and not x > 'z')"
   ]
  },
  {
   "cell_type": "markdown",
   "id": "931967d4-3a20-4f16-9f30-8b49afd4b5dd",
   "metadata": {},
   "source": [
    "## Conditional execution"
   ]
  },
  {
   "cell_type": "markdown",
   "id": "53843f43-6b72-4ee0-95fc-b07759ae13d4",
   "metadata": {},
   "source": [
    "So far we have seen examples of Python code where all lines (each containing one statement) were executed sequentially. What if we need to execute a block of statements only when some given condition is true? We can use an `if` statement:\n",
    "\n",
    "```python\n",
    "if condition:\n",
    "    # ...\n",
    "    # indented block of code that will be executed only if the condition is true\n",
    "    # ...\n",
    "```\n",
    "\n",
    "Python does not use special characters to denote the beginning and the end of a block (like `{` and `}` in C/C++/Java) but uses *indentation*, i.e. the amount of white spaces at the beginning of each line.\n",
    "\n",
    "All lines in the same block must have the same indentation. The indentation of a block that is going to be executed when an `if` condition is true must be larger than the indentation of the `if` line. The Python style guide recommends to increase the indentation by 4 spaces (and not use use tabs).\n",
    "\n",
    "Note that there must be at least one statement in the block. If you don't want to execute any code if the condition is met (e.g. the real code will be added later), use `pass` (a statement that does not do anything):\n",
    "\n",
    "```python\n",
    "if condition:\n",
    "    pass  # We will add the code later.\n",
    "```"
   ]
  },
  {
   "cell_type": "markdown",
   "id": "8536fcc3",
   "metadata": {},
   "source": [
    "Following example asks the user for an integer number and then checks if it is less than 0. If so, it will print that it is a negative number. Try running the cell multiple times and try to enter both negative and non-negative values."
   ]
  },
  {
   "cell_type": "code",
   "execution_count": null,
   "id": "949794a1-c2cd-44ca-b1f0-3f2026ecefe8",
   "metadata": {},
   "outputs": [],
   "source": [
    "x = int(input(\"Enter an integer number:\"))\n",
    "if x < 0:\n",
    "    print(\"That's a negative number.\")\n",
    "    print(\"Yes, it is not positive, and not a zero either!\")\n",
    "print(\"Done!\")  # This will run either x < 0 or not."
   ]
  },
  {
   "cell_type": "markdown",
   "id": "b9dea74b-3119-44da-910b-163532f37fc7",
   "metadata": {},
   "source": [
    "We can also specify a block of statements to be executed if the condition is not true (using `else`):\n",
    "\n",
    "```python\n",
    "if condition:\n",
    "    # executed if the condition is true\n",
    "else:\n",
    "    # executed if the condition is false\n",
    "```\n",
    "\n",
    "Conditionals can be chained (using `elif` and `else`):\n",
    "```python\n",
    "if condition_1:\n",
    "    # executed if condition_1 is true\n",
    "elif condition_2:\n",
    "    # executed if condition_1 is false, but condition_2 is true\n",
    "elif condition_3:\n",
    "    # executed if condition_1 and condition_2 are both false, but condition_3 is true\n",
    "else:\n",
    "    # executed if all of the conditions are false\n",
    "```\n",
    "\n",
    "It is also possible to nest conditionals:\n",
    "```python\n",
    "if condition_1:\n",
    "    # ...\n",
    "    if condition_2:\n",
    "        # executed if both condition_1 and condition_2 are true\n",
    "    else:\n",
    "        # executed if condition_1 is true but condition_2 is false\n",
    "    # executed if condition 1 is true\n",
    "else:\n",
    "    # ...\n",
    "```"
   ]
  },
  {
   "cell_type": "markdown",
   "id": "797a7d7b",
   "metadata": {},
   "source": [
    "**Examples.** First, a small program that will ask the user for an integer number and then tell them if the entered number is negative, positive or zero. (Again, try to run the cell multiple times.)"
   ]
  },
  {
   "cell_type": "code",
   "execution_count": null,
   "id": "03feb838-3ff6-4736-a66d-bd0e86658ba7",
   "metadata": {},
   "outputs": [],
   "source": [
    "x = int(input(\"Enter an integer number: \"))\n",
    "if x < 0:\n",
    "    print(\"Negative\")\n",
    "elif x > 0:\n",
    "    print(\"Positive\")\n",
    "else:\n",
    "    print(\"Zero\")"
   ]
  },
  {
   "cell_type": "markdown",
   "id": "79f2134b-510e-4b41-9fb9-2b5ef9b74ca6",
   "metadata": {},
   "source": [
    "Second example is a bit contrived example of a nested conditional checking if an entered number is between 1 and 10. Run the following cell several times and enter e.g. -10, 4, 6, 25 and 'Python'."
   ]
  },
  {
   "cell_type": "code",
   "execution_count": null,
   "id": "3084b81e-55a5-429f-8338-398915ae0dc2",
   "metadata": {},
   "outputs": [],
   "source": [
    "x = int(input(\"Enter an integer number: \"))\n",
    "if x >= 1:\n",
    "    if x <= 10:\n",
    "        print(\"You entered a number between 1 and 10.\")"
   ]
  },
  {
   "cell_type": "markdown",
   "id": "630387e5",
   "metadata": {},
   "source": [
    "**In-class exercise**. Rewrite this example to use only one conditional statement. "
   ]
  },
  {
   "cell_type": "code",
   "execution_count": null,
   "id": "87e6bee4",
   "metadata": {
    "hide_input": false
   },
   "outputs": [],
   "source": []
  },
  {
   "cell_type": "markdown",
   "id": "dda04d6b-4ab6-4bb4-a429-44f2d0a0a413",
   "metadata": {
    "hide_input": true
   },
   "source": [
    "## Loops"
   ]
  },
  {
   "cell_type": "markdown",
   "id": "22d3203a",
   "metadata": {},
   "source": [
    "Loops are used to repeat a block of statements multiple times."
   ]
  },
  {
   "cell_type": "markdown",
   "id": "abe53fff-4f60-4e9b-83df-636540cd4d51",
   "metadata": {},
   "source": [
    "### While loops"
   ]
  },
  {
   "cell_type": "markdown",
   "id": "373a5431-51b0-453d-a836-d460c04efad4",
   "metadata": {},
   "source": [
    "We will first look at `while` loops, where statements are repeated as long as a given condition is true:\n",
    "\n",
    "```python\n",
    "while condition:\n",
    "    # ...\n",
    "    # indented block of statements\n",
    "    # ...\n",
    "```\n",
    "\n",
    "**Example.** To print all numbers from 1 to 10, we can use the following code:"
   ]
  },
  {
   "cell_type": "code",
   "execution_count": null,
   "id": "aa392dea-d476-46b7-8946-fe4678d73fe4",
   "metadata": {},
   "outputs": [],
   "source": [
    "i = 1\n",
    "while i <= 10:\n",
    "    print(i)\n",
    "    i = i + 1\n",
    "print(\"Done\")"
   ]
  },
  {
   "cell_type": "markdown",
   "id": "31339cfa-d220-4d9b-8891-e8c5fef82810",
   "metadata": {},
   "source": [
    "**Question.** What would happen if we did not include `i = i + 1`?"
   ]
  },
  {
   "cell_type": "markdown",
   "id": "b5799dbb",
   "metadata": {},
   "source": [
    "**Demo:** Using https://pythontutor.com/visualize.html to visualize what is happening during the execution."
   ]
  },
  {
   "cell_type": "markdown",
   "id": "3e707772-7b25-49a6-8d74-dc604f782d92",
   "metadata": {},
   "source": [
    "**In-class exercise.** Finish the following program to print each letter of a given string on a separate line (using a while loop and the indexing operator `[]`). (A solution is included in a hidden cell below.)"
   ]
  },
  {
   "cell_type": "code",
   "execution_count": null,
   "id": "494d0c69",
   "metadata": {},
   "outputs": [],
   "source": [
    "string = 'Hello!'\n",
    "\n",
    "# Your code here."
   ]
  },
  {
   "cell_type": "markdown",
   "id": "51b61628-1403-43db-8121-5f83752d4261",
   "metadata": {},
   "source": [
    "### For loops"
   ]
  },
  {
   "cell_type": "markdown",
   "id": "f9e34c2f-f70d-4b0e-acd1-617a6cd05f7e",
   "metadata": {},
   "source": [
    "`For` loops iterate over (i.e. go through) all elements of a list, a range of numbers, or, in general, a value of a type that is capable of returning its elements one by one (such types are called *iterables*), and execute a given block of statements for each element. In this block, the value of the current element is stored in the provided variable name:\n",
    "\n",
    "```python\n",
    "for variable in iterable:\n",
    "    # ...\n",
    "    # indented block of statements\n",
    "    # (usually doing something with `variable` which stores the value of the current element)\n",
    "    # ...\n",
    "```\n",
    "\n",
    "For example:"
   ]
  },
  {
   "cell_type": "code",
   "execution_count": null,
   "id": "566f2b1e-fb9c-47b3-b4d4-257f1d0b6cb6",
   "metadata": {},
   "outputs": [],
   "source": [
    "for person in ['Homer', 'Marge', 'Bart', 'Lisa', 'Maggie']:\n",
    "    print(person)\n",
    "print('Done')"
   ]
  },
  {
   "cell_type": "markdown",
   "id": "9b92fe2a-5ed5-4246-b8b5-17ec84f80e35",
   "metadata": {},
   "source": [
    "Above we have seen an example how to use a `while` loop to iterate over integer numbers in a given interval. More common way how to achieve this is to use a `for` loop iterating over a `range`:"
   ]
  },
  {
   "cell_type": "code",
   "execution_count": null,
   "id": "ba135d99-4cf3-4f80-9408-734de302fd83",
   "metadata": {},
   "outputs": [],
   "source": [
    "for i in range(10):\n",
    "    print(i)"
   ]
  },
  {
   "cell_type": "markdown",
   "id": "4e13fce1-76be-4c0e-9e04-87b55e6a297c",
   "metadata": {},
   "source": [
    "The `range(stop)` function returns a range of numbers from 0 (inclusive) to *stop* (exclusive!). If we want to start from a different *start* value, we can use `range(start, stop)`. (There is also a parameter to specify the step increment, look it up in the documentation when/if you need it.)"
   ]
  },
  {
   "cell_type": "code",
   "execution_count": null,
   "id": "f1ad0aaf-746f-4772-9a1c-7ce31ed0c371",
   "metadata": {},
   "outputs": [],
   "source": [
    "for i in range(3, 10):  # In Matlab `for i = 3:9`, in R `for (i in 3:9)`\n",
    "    print(i)"
   ]
  },
  {
   "cell_type": "markdown",
   "id": "e7feeb58-f1ae-49cd-af6b-270e5bcf4a2e",
   "metadata": {},
   "source": [
    "Strings are iterable, so you can iterate over their characters in a loop:"
   ]
  },
  {
   "cell_type": "code",
   "execution_count": null,
   "id": "ea8b7cfc-853a-46c0-ae1b-1306d8ce33a6",
   "metadata": {},
   "outputs": [],
   "source": [
    "for character in \"Hello, world!\":\n",
    "    print(character)"
   ]
  },
  {
   "cell_type": "markdown",
   "id": "8eefb99c-9862-4302-9242-054fbb7675c0",
   "metadata": {},
   "source": [
    "**NEVER** change the list (iterable) you are iterating over inside of the loop! For example, never do the following:"
   ]
  },
  {
   "cell_type": "code",
   "execution_count": null,
   "id": "088975f4-323e-406f-9f56-f9fa7118d529",
   "metadata": {},
   "outputs": [],
   "source": [
    "alist = [1, 2, 3, 4]\n",
    "for element in alist:\n",
    "    print(element)\n",
    "    alist.remove(element)  # NEVER DO THIS!!!\n",
    "print('Done, the list is', alist)"
   ]
  },
  {
   "cell_type": "markdown",
   "id": "457815d9-3a9e-446b-88f4-c0ffc53e6c29",
   "metadata": {},
   "source": [
    "### Continue and break"
   ]
  },
  {
   "cell_type": "markdown",
   "id": "e072cfde-3220-4e18-855b-66ac76534877",
   "metadata": {},
   "source": [
    "We can use `continue` to interrupt the current iteration and continue with the next one. The following example prints number from 1 to 10 that are not divisible by 2 or 3:"
   ]
  },
  {
   "cell_type": "code",
   "execution_count": null,
   "id": "abef5682-cbd7-4d25-bc40-ef4d7bc7ee66",
   "metadata": {},
   "outputs": [],
   "source": [
    "i = 0\n",
    "while i < 10:\n",
    "    i += 1\n",
    "    if i % 2 == 0 or i % 3 == 0:\n",
    "        continue\n",
    "    print(i)\n",
    "print(\"Done\")"
   ]
  },
  {
   "cell_type": "markdown",
   "id": "a3e3b328",
   "metadata": {},
   "source": [
    "**In-class exercise.** What would happen if we moved `i += 1` after the `if` statement?"
   ]
  },
  {
   "cell_type": "markdown",
   "id": "020918a4",
   "metadata": {},
   "source": [
    "We can also interrupt the whole loop with `break`. The following example keeps printing each character of a given string on a separate line until the first occurrence of `!`."
   ]
  },
  {
   "cell_type": "code",
   "execution_count": null,
   "id": "a48399fd-9fe8-4fe8-9a2a-c04bb08c3044",
   "metadata": {
    "scrolled": true
   },
   "outputs": [],
   "source": [
    "text = \"Hello, dude! How are you doing?\"\n",
    "\n",
    "for character in text:\n",
    "    if character == '!':\n",
    "        break\n",
    "    print(character)\n",
    "print(\"Done\")"
   ]
  }
 ],
 "metadata": {
  "kernelspec": {
   "display_name": "Python 3 (ipykernel)",
   "language": "python",
   "name": "python3"
  },
  "language_info": {
   "codemirror_mode": {
    "name": "ipython",
    "version": 3
   },
   "file_extension": ".py",
   "mimetype": "text/x-python",
   "name": "python",
   "nbconvert_exporter": "python",
   "pygments_lexer": "ipython3",
   "version": "3.9.12"
  }
 },
 "nbformat": 4,
 "nbformat_minor": 5
}
