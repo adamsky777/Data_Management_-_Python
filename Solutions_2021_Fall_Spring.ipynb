{
 "cells": [
  {
   "cell_type": "markdown",
   "id": "d9e4d8b7",
   "metadata": {},
   "source": [
    "# Exam in GRA 4142 Data Management and Python Programming\n",
    "\n",
    "#### Thu 15 July 2021, 10:00 am CEST &ndash; Fri 16 July 2021, 10:00 am CEST \n",
    "\n",
    "### Instructions\n",
    "\n",
    "Download all files attached to this exam and place them in the same directory.\n",
    "\n",
    "**Your solutions must be given in the notebook's answer cells marked with \"ANSWER CELL\" on the first line. Do not remove these markings. If you are asked to implement a Python function, do not change the function name or its parameters that are already filled out in the cell.** You are allowed to add additional cells if you have need for them but you are not allowed to remove any cells you have not added yourself.\n",
    "\n",
    "The assignments are divided into three sections:\n",
    "1. Python programming (4 assignments, 8 points + possibility for 1 bonus point)\n",
    "2. Pandas (6 assignments, 12 points)\n",
    "3. Data management (10 assignments, 20 points)\n",
    "\n",
    "There are additional instructions for *Pandas* and *Data management* at the beginning of these sections.\n",
    "\n",
    "If you believe that assignments tasks need further clarification, send an email to Jan Kudlicka (jan.kudlicka@bi.no).\n",
    "\n",
    "Remember to save and take backups of the notebook periodically.\n",
    "\n",
    "### Allowed aids\n",
    "\n",
    "- You are allowed to use all course material and your notes.\n",
    "- You are allowed to use resources on Internet. If you do, you need to **include the URLs** of all used resources **in the corresponding cell with resources** (there is one at the end of each section).\n",
    "- You are **NOT** allowed to get help from other people to solve the assignments.\n",
    "\n",
    "### Submission\n",
    "\n",
    "Submit the Python notebook (the ipynb file) with your solutions filled in to WISEflow before the deadline. Remember that the deadline is sharp, so do not wait until the very last minute to do so.\n",
    "\n",
    "**Make sure that your student ID in a part of the name of the file being submitted and also filled out below!**\n",
    "\n",
    "**Deadline: Friday 16 July, 10:00 am CEST.**\n",
    "\n",
    "### Preliminary grading criteria\n",
    "\n",
    "To pass the exam you need to gain at least:\n",
    "- 4 points in the Python programming section, and\n",
    "- 6 points in the Pandas section, and\n",
    "- 10 points in the Data management section, and\n",
    "- 25 points in total.\n",
    "\n",
    "Failing to meet either of these criteria means failing the exam (i.e. grade F).\n",
    "\n",
    "If you fulfill all criteria, your grade will be determined by the total number of points:\n",
    "\n",
    "| Points   | Grade |\n",
    "|----------|-------|\n",
    "| >= 25    |     E |\n",
    "| >= 28    |     D |\n",
    "| >= 31    |     C |\n",
    "| >= 34    |     B |\n",
    "| >= 37    |     A |\n",
    "\n",
    "### Your student ID"
   ]
  },
  {
   "cell_type": "raw",
   "id": "fc1a6069",
   "metadata": {},
   "source": []
  },
  {
   "cell_type": "markdown",
   "id": "dd41ff7d",
   "metadata": {},
   "source": [
    "## 1. Python programming"
   ]
  },
  {
   "cell_type": "markdown",
   "id": "95b5718f",
   "metadata": {},
   "source": [
    "### Assignment 1.1 (2 points)"
   ]
  },
  {
   "cell_type": "markdown",
   "id": "c0fcd7ca",
   "metadata": {},
   "source": [
    "In the TV show Big Bang Theory the well-known [rock, paper, scissors](https://en.wikipedia.org/wiki/Rock_paper_scissors) game was extended to include *lizard* and *Spock*. This [extended hand game](https://bigbangtheory.fandom.com/wiki/Rock,_Paper,_Scissors,_Lizard,_Spock) is played between two players, both simultaneously choosing one of the five shapes representing *rock*, *paper*, *scissors*, *lizard* and *Spock*. The winner is determined based on the pair of the chosen shapes using the following rules (for each pair, the first word represents the winning shape and the last word the loosing one):\n",
    "\n",
    "- Scissors cuts Paper.\n",
    "- Paper covers Rock.\n",
    "- Rock crushes Lizard.\n",
    "- Lizard poisons Spock.\n",
    "- Spock smashes Scissors.\n",
    "- Scissors decapitates Lizard.\n",
    "- Lizard eats Paper.\n",
    "- Paper disproves Spock.\n",
    "- Spock vaporizes Rock.\n",
    "- Rock crushes Scissors.\n",
    "\n",
    "If both players chose the same shape, there is no winner (a tie).\n",
    "\n",
    "Write a Python function that accepts shapes chosen by both players (as two parameters), and returns 1 if the first player wins, 2 if the second player wins, and 0 in the case of a tie. Shapes are represented by strings \"rock\", \"paper\", \"scissors\", \"lizard\" and \"Spock\".\n",
    "\n",
    "#### Sample input and return values\n",
    "\n",
    "```\n",
    "Arguments: \"scissors\", \"paper\"\n",
    "Returns: 1\n",
    "```\n",
    "```\n",
    "Arguments: \"scissors\", \"rock\"\n",
    "Returns: 2\n",
    "```\n",
    "```\n",
    "Arguments: \"Spock\", \"scissors\"\n",
    "Returns: 1\n",
    "```\n",
    "```\n",
    "Arguments: \"Spock\", \"Spock\"\n",
    "Returns: 0\n",
    "```"
   ]
  },
  {
   "cell_type": "code",
   "execution_count": 1,
   "id": "6ab27b7a",
   "metadata": {},
   "outputs": [
    {
     "name": "stdout",
     "output_type": "stream",
     "text": [
      "Test 1 passed: True\n",
      "Test 2 passed: True\n",
      "Test 3 passed: True\n",
      "Test 4 passed: True\n"
     ]
    }
   ],
   "source": [
    "# ANSWER CELL 1.1 (DO NOT REMOVE OR CHANGE THIS LINE)\n",
    "\n",
    "def game(shape1, shape2):\n",
    "    if shape1 == shape2:\n",
    "        return 0\n",
    "    if (shape1, shape2) in [\n",
    "        (\"scissors\", \"paper\"),\n",
    "        (\"paper\", \"rock\"),\n",
    "        (\"rock\", \"lizard\"),\n",
    "        (\"lizard\", \"Spock\"),\n",
    "        (\"Spock\", \"scissors\"),\n",
    "        (\"scissors\", \"lizard\"),\n",
    "        (\"lizard\", \"paper\"),\n",
    "        (\"paper\", \"Spock\"),\n",
    "        (\"Spock\", \"rock\"),\n",
    "        (\"rock\", \"scissors\") \n",
    "    ]:\n",
    "        return 1\n",
    "    return 2    \n",
    "\n",
    "# Note: the following tests cover only a few of the possible inputs.\n",
    "print(\"Test 1 passed:\", game(\"scissors\", \"paper\") == 1)\n",
    "print(\"Test 2 passed:\", game(\"scissors\", \"rock\") == 2)\n",
    "print(\"Test 3 passed:\", game(\"Spock\", \"scissors\") == 1)\n",
    "print(\"Test 4 passed:\", game(\"Spock\", \"Spock\") == 0)"
   ]
  },
  {
   "cell_type": "markdown",
   "id": "2d53197b",
   "metadata": {},
   "source": [
    "### Assignment 1.2 (2 points)"
   ]
  },
  {
   "cell_type": "markdown",
   "id": "d4b8f098",
   "metadata": {},
   "source": [
    "Write a Python function that accepts a list of words and punctuation marks, concatenates them together as described below, and returns the result.\n",
    "\n",
    "- If an element of the list is a punctuation mark, specifically `.`, `!`, `?` or `,`, it will be in the resulting text right after the previous word without any space.\n",
    "- Otherwise the element is a word and will follow the previous word with a single space (` `) between them. If the word is at the beginning of a sentence, that is, either the very first element in the list, or a word following `.`, `!` or `?`, it must be capitalized. (Do not change the case of other words.)\n",
    "- Returned text must not have any leading or trailing spaces.\n",
    "\n",
    "You can assume that there are at least two elements in the list, the first element in the list is a word, and the last element is a punctuation mark.\n",
    "\n",
    "#### Sample arguments and return values:\n",
    "```\n",
    "Argument: [\"hello\", \"!\", \"!\", \"!\"]\n",
    "Returns: \"Hello!!!\"\n",
    "```\n",
    "```\n",
    "Argument: [\"hi\", \",\", \"Ola\", \"!\", \"how\", \"are\", \"you\", \"doing\", \"?\"]\n",
    "Returns: \"Hi, Ola! How are you doing?\"\n",
    "```"
   ]
  },
  {
   "cell_type": "code",
   "execution_count": 2,
   "id": "c3998c1c",
   "metadata": {},
   "outputs": [
    {
     "name": "stdout",
     "output_type": "stream",
     "text": [
      "Test 1 passed: True\n",
      "Test 2 passed: True\n",
      "Test 3 passed: True\n",
      "Test 4 passed: True\n"
     ]
    }
   ],
   "source": [
    "# ANSWER CELL 1.2 (DO NOT REMOVE OR CHANGE THIS LINE)\n",
    "\n",
    "def concatenate(elements):\n",
    "    text = ''\n",
    "    sentence_beg = True\n",
    "    for element in elements:\n",
    "        if sentence_beg:\n",
    "            element = element.capitalize()\n",
    "            sentence_beg = False\n",
    "        if element in ['.', '!', '?']:\n",
    "            sentence_beg = True\n",
    "        elif element != ',' and text:\n",
    "            text += ' '\n",
    "        text += element\n",
    "    return text\n",
    "\n",
    "test1 = concatenate([\"hello\", \"!\", \"!\", \"!\"]) == \"Hello!!!\"\n",
    "print(\"Test 1 passed:\", test1)\n",
    "test2 = concatenate([\"hi\", \",\", \"Ola\", \"!\", \"how\", \"are\", \"you\", \"doing\", \"?\"]) == \"Hi, Ola! How are you doing?\"\n",
    "print(\"Test 2 passed:\", test2)\n",
    "\n",
    "# Tests added during grading:\n",
    "test3 = concatenate([\"hello\", \",\", \"hei\", \",\", \"hej\", \"!\"]) == \"Hello, hei, hej!\"\n",
    "print(\"Test 3 passed:\", test3)\n",
    "test4 = concatenate([\"hello\", \"and\", \"hello\", \".\"]) == \"Hello and hello.\"\n",
    "print(\"Test 4 passed:\", test4)"
   ]
  },
  {
   "cell_type": "markdown",
   "id": "04e21e87",
   "metadata": {},
   "source": [
    "### Assignment 1.3 (2 points)"
   ]
  },
  {
   "cell_type": "markdown",
   "id": "bbf81c89",
   "metadata": {},
   "source": [
    "Write a Python function that accepts a list and checks if all elements are distinct.\n",
    "\n",
    "#### Sample arguments and return values:\n",
    "\n",
    "```\n",
    "Argument: [1, 2, 3, 4, 5]\n",
    "Returns: True\n",
    "```\n",
    "```\n",
    "Argument: [1, 2, 3, 2, 5]\n",
    "Returns: False\n",
    "```"
   ]
  },
  {
   "cell_type": "code",
   "execution_count": 3,
   "id": "9b5b5661",
   "metadata": {},
   "outputs": [
    {
     "name": "stdout",
     "output_type": "stream",
     "text": [
      "Test 1 passed: True\n",
      "Test 2 passed: True\n"
     ]
    }
   ],
   "source": [
    "# ANSWER CELL 1.3 (DO NOT REMOVE OR CHANGE THIS LINE)\n",
    "\n",
    "def is_unique(alist):\n",
    "    # Alt. 1:\n",
    "    # return len(alist) == len(set(alist))\n",
    "    # Alt. 2:\n",
    "    for index, element in enumerate(alist):\n",
    "        if element in alist[:index]:\n",
    "            return False\n",
    "    return True\n",
    "\n",
    "print(\"Test 1 passed:\", is_unique([1, 2, 3, 4, 5]) == True)\n",
    "print(\"Test 2 passed:\", is_unique([1, 2, 3, 2, 5]) == False)"
   ]
  },
  {
   "cell_type": "markdown",
   "id": "c43b618f",
   "metadata": {},
   "source": [
    "### Assignment 1.4 (2 points + possibility for 1 bonus point)"
   ]
  },
  {
   "cell_type": "markdown",
   "id": "c01f16cf",
   "metadata": {},
   "source": [
    "Given a group of $n$ people, what is the probability that at least two people in the group will celebrate the birthday on the same day? It might sound surprising that even in a small group with $n=23$ people, the probability is over 50%. With $n=70$ people, the probability is close to 99.9%. This problem is known as the [birthday problem](https://en.wikipedia.org/wiki/Birthday_problem) or the birthday paradox.\n",
    "\n",
    "Write a Python function that accepts $n$ and estimates this probability for a group of $n$ people using the Monte Carlo method. Specifically:\n",
    "- Sample the birthdays of $n$ people uniformly at random and check if there are at least two people who have birthday the same day.\n",
    "- Repeat this experiment 100 000 times and estimate the probability as the number of how many times you found at least two people having birthday the same day divided by 100 000.\n",
    "\n",
    "#### Hints and tips\n",
    "\n",
    "- To sample a birthday you only need to sample the day number, i.e. an integer number between 1 and 365. You can do this by using [`random.randint`](https://docs.python.org/3/library/random.html#random.randint) (remember to import the `random` package) or [`numpy.random.randint`](https://numpy.org/doc/stable/reference/random/generated/numpy.random.randint.html) (remember to import the `numpy` pakage). Be careful with the arguments, the upper bound is inclusive in the former and exclusive in the latter.\n",
    "- To check if there are at least two people that have birthday on the same day you can use the `is_unique` function you have defined in the previous assignment.\n",
    "\n",
    "#### Bonus point challenge\n",
    "\n",
    "You will be awarded a bonus point if you are able to estimate the probability using a single expression.\n",
    "\n",
    "#### Sample arguments and return values:\n",
    "\n",
    "```\n",
    "Argument: 23\n",
    "Returns: value slightly above 0.5\n",
    "```\n",
    "```\n",
    "Argument: 70\n",
    "Returns: value around 0.999\n",
    "```"
   ]
  },
  {
   "cell_type": "code",
   "execution_count": 4,
   "id": "12190f26",
   "metadata": {},
   "outputs": [
    {
     "name": "stdout",
     "output_type": "stream",
     "text": [
      "n = 23: 0.51042 (should be slightly above 0.5)\n",
      "n = 70: 0.99913 (should be close to 0.999)\n"
     ]
    }
   ],
   "source": [
    "# ANSWER CELL 1.4 (DO NOT REMOVE OR CHANGE THIS LINE)\n",
    "\n",
    "# import numpy as np\n",
    "import random\n",
    "\n",
    "def birthday_probability(n):\n",
    "    # A single expression solution (with a bonus point):\n",
    "    # return sum([len(set(e)) != e.size for e in np.random.randint(1, 366, (100000, n))]) / 100000\n",
    "    # A solution with loops:\n",
    "    count_exps = 100000\n",
    "    count_succ = 0\n",
    "    for e in range(count_exps):\n",
    "        birthdays = []\n",
    "        for i in range(n):\n",
    "            birthday = random.randint(1, 365)\n",
    "            birthdays.append(birthday)\n",
    "        if not is_unique(birthdays):\n",
    "            count_succ += 1\n",
    "    return count_succ / count_exps\n",
    "\n",
    "\n",
    "print(\"n = 23: {:.5f} (should be slightly above 0.5)\".format(birthday_probability(23)))\n",
    "print(\"n = 70: {:.5f} (should be close to 0.999)\".format(birthday_probability(70)))"
   ]
  },
  {
   "cell_type": "markdown",
   "id": "31668e35",
   "metadata": {},
   "source": [
    "## 2. Pandas"
   ]
  },
  {
   "cell_type": "markdown",
   "id": "5403c0e8",
   "metadata": {},
   "source": [
    "In this section you are going to work with data related to the Covid 19 pandemic in EU/EEA (source of the data: ECDC). Note that all assignments in the section use the same data set, so read the following description very carefully!\n",
    "\n",
    "Files:\n",
    "\n",
    "- `covid_data.csv`\n",
    "\n",
    "  The file contains the number of confirmed cases and deaths registered each day since 1 March 2021 until (and including) 4 July 2021 in each country in EU/EEA.\n",
    "\n",
    "  Countries are identified by their two-letter codes.\n",
    "  \n",
    "  The data is sorted by country first, and then by the date in descending order.\n",
    "  \n",
    "  The last row for each country (corresponding to 28 February 2021 for Spain and to 1 March 2021 for all other countries) are not the number of confirmed cases and deaths on that day but rather the number of confirmed cases and deaths registered since the beginning of the pandemic until (and including) that day.\n",
    "\n",
    "  **Note also that the date format of the *dateRep* column is *dd/mm/yyyy* rather than *mm/dd/yyyy*, so you need to specify `dayfirst=True` when reading the file.**\n",
    "\n",
    "\n",
    "- `covid_countries.csv`\n",
    "\n",
    "  The file contains the complete name, the two- and three-letter codes, the population and the continent for each country in EU/EEA.\n",
    "\n",
    "Advice: Inspect the content of both files first. Then read all assignments in this section, and think about what operations you should do with the data before solving the assignments (e.g. how to merge the data, what to use as the index, you might want to add some columns and/or sort the data in a particular order, etc.)"
   ]
  },
  {
   "cell_type": "code",
   "execution_count": 5,
   "id": "fddd2f46",
   "metadata": {},
   "outputs": [
    {
     "name": "stderr",
     "output_type": "stream",
     "text": []
    }
   ],
   "source": [
    "import pandas as pd\n",
    "import matplotlib.pyplot as plt\n",
    "import seaborn as sns\n",
    "%matplotlib inline"
   ]
  },
  {
   "cell_type": "markdown",
   "id": "c3c1a8e6",
   "metadata": {},
   "source": [
    "You might read and pre-process the data frames in the following cells. Feel free to add extra cells if you need more of them."
   ]
  },
  {
   "cell_type": "code",
   "execution_count": 6,
   "id": "533c8b0a",
   "metadata": {},
   "outputs": [
    {
     "data": {
      "text/html": [
       "<div>\n",
       "<style scoped>\n",
       "    .dataframe tbody tr th:only-of-type {\n",
       "        vertical-align: middle;\n",
       "    }\n",
       "\n",
       "    .dataframe tbody tr th {\n",
       "        vertical-align: top;\n",
       "    }\n",
       "\n",
       "    .dataframe thead th {\n",
       "        text-align: right;\n",
       "    }\n",
       "</style>\n",
       "<table border=\"1\" class=\"dataframe\">\n",
       "  <thead>\n",
       "    <tr style=\"text-align: right;\">\n",
       "      <th></th>\n",
       "      <th>dateRep</th>\n",
       "      <th>day</th>\n",
       "      <th>month</th>\n",
       "      <th>year</th>\n",
       "      <th>cases</th>\n",
       "      <th>deaths</th>\n",
       "      <th>countryId</th>\n",
       "      <th>week</th>\n",
       "    </tr>\n",
       "  </thead>\n",
       "  <tbody>\n",
       "    <tr>\n",
       "      <th>125</th>\n",
       "      <td>2021-03-01</td>\n",
       "      <td>1</td>\n",
       "      <td>3</td>\n",
       "      <td>2021</td>\n",
       "      <td>456112</td>\n",
       "      <td>8414</td>\n",
       "      <td>AT</td>\n",
       "      <td>9</td>\n",
       "    </tr>\n",
       "    <tr>\n",
       "      <th>124</th>\n",
       "      <td>2021-03-02</td>\n",
       "      <td>2</td>\n",
       "      <td>3</td>\n",
       "      <td>2021</td>\n",
       "      <td>1148</td>\n",
       "      <td>25</td>\n",
       "      <td>AT</td>\n",
       "      <td>9</td>\n",
       "    </tr>\n",
       "    <tr>\n",
       "      <th>123</th>\n",
       "      <td>2021-03-03</td>\n",
       "      <td>3</td>\n",
       "      <td>3</td>\n",
       "      <td>2021</td>\n",
       "      <td>1926</td>\n",
       "      <td>17</td>\n",
       "      <td>AT</td>\n",
       "      <td>9</td>\n",
       "    </tr>\n",
       "    <tr>\n",
       "      <th>122</th>\n",
       "      <td>2021-03-04</td>\n",
       "      <td>4</td>\n",
       "      <td>3</td>\n",
       "      <td>2021</td>\n",
       "      <td>2497</td>\n",
       "      <td>14</td>\n",
       "      <td>AT</td>\n",
       "      <td>9</td>\n",
       "    </tr>\n",
       "    <tr>\n",
       "      <th>121</th>\n",
       "      <td>2021-03-05</td>\n",
       "      <td>5</td>\n",
       "      <td>3</td>\n",
       "      <td>2021</td>\n",
       "      <td>2691</td>\n",
       "      <td>19</td>\n",
       "      <td>AT</td>\n",
       "      <td>9</td>\n",
       "    </tr>\n",
       "    <tr>\n",
       "      <th>...</th>\n",
       "      <td>...</td>\n",
       "      <td>...</td>\n",
       "      <td>...</td>\n",
       "      <td>...</td>\n",
       "      <td>...</td>\n",
       "      <td>...</td>\n",
       "      <td>...</td>\n",
       "      <td>...</td>\n",
       "    </tr>\n",
       "    <tr>\n",
       "      <th>3280</th>\n",
       "      <td>2021-06-30</td>\n",
       "      <td>30</td>\n",
       "      <td>6</td>\n",
       "      <td>2021</td>\n",
       "      <td>157</td>\n",
       "      <td>1</td>\n",
       "      <td>SK</td>\n",
       "      <td>26</td>\n",
       "    </tr>\n",
       "    <tr>\n",
       "      <th>3279</th>\n",
       "      <td>2021-07-01</td>\n",
       "      <td>1</td>\n",
       "      <td>7</td>\n",
       "      <td>2021</td>\n",
       "      <td>35</td>\n",
       "      <td>1</td>\n",
       "      <td>SK</td>\n",
       "      <td>26</td>\n",
       "    </tr>\n",
       "    <tr>\n",
       "      <th>3278</th>\n",
       "      <td>2021-07-02</td>\n",
       "      <td>2</td>\n",
       "      <td>7</td>\n",
       "      <td>2021</td>\n",
       "      <td>0</td>\n",
       "      <td>0</td>\n",
       "      <td>SK</td>\n",
       "      <td>26</td>\n",
       "    </tr>\n",
       "    <tr>\n",
       "      <th>3277</th>\n",
       "      <td>2021-07-03</td>\n",
       "      <td>3</td>\n",
       "      <td>7</td>\n",
       "      <td>2021</td>\n",
       "      <td>27</td>\n",
       "      <td>0</td>\n",
       "      <td>SK</td>\n",
       "      <td>26</td>\n",
       "    </tr>\n",
       "    <tr>\n",
       "      <th>3276</th>\n",
       "      <td>2021-07-04</td>\n",
       "      <td>4</td>\n",
       "      <td>7</td>\n",
       "      <td>2021</td>\n",
       "      <td>31</td>\n",
       "      <td>2</td>\n",
       "      <td>SK</td>\n",
       "      <td>26</td>\n",
       "    </tr>\n",
       "  </tbody>\n",
       "</table>\n",
       "<p>3781 rows × 8 columns</p>\n",
       "</div>"
      ],
      "text/plain": [
       "        dateRep  day  month  year   cases  deaths countryId  week\n",
       "125  2021-03-01    1      3  2021  456112    8414        AT     9\n",
       "124  2021-03-02    2      3  2021    1148      25        AT     9\n",
       "123  2021-03-03    3      3  2021    1926      17        AT     9\n",
       "122  2021-03-04    4      3  2021    2497      14        AT     9\n",
       "121  2021-03-05    5      3  2021    2691      19        AT     9\n",
       "...         ...  ...    ...   ...     ...     ...       ...   ...\n",
       "3280 2021-06-30   30      6  2021     157       1        SK    26\n",
       "3279 2021-07-01    1      7  2021      35       1        SK    26\n",
       "3278 2021-07-02    2      7  2021       0       0        SK    26\n",
       "3277 2021-07-03    3      7  2021      27       0        SK    26\n",
       "3276 2021-07-04    4      7  2021      31       2        SK    26\n",
       "\n",
       "[3781 rows x 8 columns]"
      ]
     },
     "execution_count": 6,
     "metadata": {},
     "output_type": "execute_result"
    }
   ],
   "source": [
    "# Note: this is a part of sample solution.\n",
    "\n",
    "covid_df = pd.read_csv('covid_data.csv', parse_dates=['dateRep'], dayfirst=True)\n",
    "covid_df['week'] = covid_df['dateRep'].dt.isocalendar().week.astype('int')\n",
    "covid_df.sort_values(['countryId', 'dateRep'], inplace=True)\n",
    "covid_df"
   ]
  },
  {
   "cell_type": "code",
   "execution_count": 7,
   "id": "dc74d5db",
   "metadata": {},
   "outputs": [
    {
     "data": {
      "text/html": [
       "<div>\n",
       "<style scoped>\n",
       "    .dataframe tbody tr th:only-of-type {\n",
       "        vertical-align: middle;\n",
       "    }\n",
       "\n",
       "    .dataframe tbody tr th {\n",
       "        vertical-align: top;\n",
       "    }\n",
       "\n",
       "    .dataframe thead th {\n",
       "        text-align: right;\n",
       "    }\n",
       "</style>\n",
       "<table border=\"1\" class=\"dataframe\">\n",
       "  <thead>\n",
       "    <tr style=\"text-align: right;\">\n",
       "      <th></th>\n",
       "      <th>country</th>\n",
       "      <th>countryId</th>\n",
       "      <th>countryCode</th>\n",
       "      <th>popData2020</th>\n",
       "      <th>continent</th>\n",
       "    </tr>\n",
       "  </thead>\n",
       "  <tbody>\n",
       "    <tr>\n",
       "      <th>0</th>\n",
       "      <td>Austria</td>\n",
       "      <td>AT</td>\n",
       "      <td>AUT</td>\n",
       "      <td>8901064</td>\n",
       "      <td>Europe</td>\n",
       "    </tr>\n",
       "    <tr>\n",
       "      <th>1</th>\n",
       "      <td>Belgium</td>\n",
       "      <td>BE</td>\n",
       "      <td>BEL</td>\n",
       "      <td>11522440</td>\n",
       "      <td>Europe</td>\n",
       "    </tr>\n",
       "    <tr>\n",
       "      <th>2</th>\n",
       "      <td>Bulgaria</td>\n",
       "      <td>BG</td>\n",
       "      <td>BGR</td>\n",
       "      <td>6951482</td>\n",
       "      <td>Europe</td>\n",
       "    </tr>\n",
       "    <tr>\n",
       "      <th>3</th>\n",
       "      <td>Croatia</td>\n",
       "      <td>HR</td>\n",
       "      <td>HRV</td>\n",
       "      <td>4058165</td>\n",
       "      <td>Europe</td>\n",
       "    </tr>\n",
       "    <tr>\n",
       "      <th>4</th>\n",
       "      <td>Cyprus</td>\n",
       "      <td>CY</td>\n",
       "      <td>CYP</td>\n",
       "      <td>888005</td>\n",
       "      <td>Europe</td>\n",
       "    </tr>\n",
       "    <tr>\n",
       "      <th>5</th>\n",
       "      <td>Czechia</td>\n",
       "      <td>CZ</td>\n",
       "      <td>CZE</td>\n",
       "      <td>10693939</td>\n",
       "      <td>Europe</td>\n",
       "    </tr>\n",
       "    <tr>\n",
       "      <th>6</th>\n",
       "      <td>Denmark</td>\n",
       "      <td>DK</td>\n",
       "      <td>DNK</td>\n",
       "      <td>5822763</td>\n",
       "      <td>Europe</td>\n",
       "    </tr>\n",
       "    <tr>\n",
       "      <th>7</th>\n",
       "      <td>Estonia</td>\n",
       "      <td>EE</td>\n",
       "      <td>EST</td>\n",
       "      <td>1328976</td>\n",
       "      <td>Europe</td>\n",
       "    </tr>\n",
       "    <tr>\n",
       "      <th>8</th>\n",
       "      <td>Finland</td>\n",
       "      <td>FI</td>\n",
       "      <td>FIN</td>\n",
       "      <td>5525292</td>\n",
       "      <td>Europe</td>\n",
       "    </tr>\n",
       "    <tr>\n",
       "      <th>9</th>\n",
       "      <td>France</td>\n",
       "      <td>FR</td>\n",
       "      <td>FRA</td>\n",
       "      <td>67320216</td>\n",
       "      <td>Europe</td>\n",
       "    </tr>\n",
       "    <tr>\n",
       "      <th>10</th>\n",
       "      <td>Germany</td>\n",
       "      <td>DE</td>\n",
       "      <td>DEU</td>\n",
       "      <td>83166711</td>\n",
       "      <td>Europe</td>\n",
       "    </tr>\n",
       "    <tr>\n",
       "      <th>11</th>\n",
       "      <td>Greece</td>\n",
       "      <td>EL</td>\n",
       "      <td>GRC</td>\n",
       "      <td>10718565</td>\n",
       "      <td>Europe</td>\n",
       "    </tr>\n",
       "    <tr>\n",
       "      <th>12</th>\n",
       "      <td>Hungary</td>\n",
       "      <td>HU</td>\n",
       "      <td>HUN</td>\n",
       "      <td>9769526</td>\n",
       "      <td>Europe</td>\n",
       "    </tr>\n",
       "    <tr>\n",
       "      <th>13</th>\n",
       "      <td>Iceland</td>\n",
       "      <td>IS</td>\n",
       "      <td>ISL</td>\n",
       "      <td>364134</td>\n",
       "      <td>Europe</td>\n",
       "    </tr>\n",
       "    <tr>\n",
       "      <th>14</th>\n",
       "      <td>Ireland</td>\n",
       "      <td>IE</td>\n",
       "      <td>IRL</td>\n",
       "      <td>4964440</td>\n",
       "      <td>Europe</td>\n",
       "    </tr>\n",
       "    <tr>\n",
       "      <th>15</th>\n",
       "      <td>Italy</td>\n",
       "      <td>IT</td>\n",
       "      <td>ITA</td>\n",
       "      <td>59641488</td>\n",
       "      <td>Europe</td>\n",
       "    </tr>\n",
       "    <tr>\n",
       "      <th>16</th>\n",
       "      <td>Latvia</td>\n",
       "      <td>LV</td>\n",
       "      <td>LVA</td>\n",
       "      <td>1907675</td>\n",
       "      <td>Europe</td>\n",
       "    </tr>\n",
       "    <tr>\n",
       "      <th>17</th>\n",
       "      <td>Liechtenstein</td>\n",
       "      <td>LI</td>\n",
       "      <td>LIE</td>\n",
       "      <td>38747</td>\n",
       "      <td>Europe</td>\n",
       "    </tr>\n",
       "    <tr>\n",
       "      <th>18</th>\n",
       "      <td>Lithuania</td>\n",
       "      <td>LT</td>\n",
       "      <td>LTU</td>\n",
       "      <td>2794090</td>\n",
       "      <td>Europe</td>\n",
       "    </tr>\n",
       "    <tr>\n",
       "      <th>19</th>\n",
       "      <td>Luxembourg</td>\n",
       "      <td>LU</td>\n",
       "      <td>LUX</td>\n",
       "      <td>626108</td>\n",
       "      <td>Europe</td>\n",
       "    </tr>\n",
       "    <tr>\n",
       "      <th>20</th>\n",
       "      <td>Malta</td>\n",
       "      <td>MT</td>\n",
       "      <td>MLT</td>\n",
       "      <td>514564</td>\n",
       "      <td>Europe</td>\n",
       "    </tr>\n",
       "    <tr>\n",
       "      <th>21</th>\n",
       "      <td>Netherlands</td>\n",
       "      <td>NL</td>\n",
       "      <td>NLD</td>\n",
       "      <td>17407585</td>\n",
       "      <td>Europe</td>\n",
       "    </tr>\n",
       "    <tr>\n",
       "      <th>22</th>\n",
       "      <td>Norway</td>\n",
       "      <td>NO</td>\n",
       "      <td>NOR</td>\n",
       "      <td>5367580</td>\n",
       "      <td>Europe</td>\n",
       "    </tr>\n",
       "    <tr>\n",
       "      <th>23</th>\n",
       "      <td>Poland</td>\n",
       "      <td>PL</td>\n",
       "      <td>POL</td>\n",
       "      <td>37958138</td>\n",
       "      <td>Europe</td>\n",
       "    </tr>\n",
       "    <tr>\n",
       "      <th>24</th>\n",
       "      <td>Portugal</td>\n",
       "      <td>PT</td>\n",
       "      <td>PRT</td>\n",
       "      <td>10295909</td>\n",
       "      <td>Europe</td>\n",
       "    </tr>\n",
       "    <tr>\n",
       "      <th>25</th>\n",
       "      <td>Romania</td>\n",
       "      <td>RO</td>\n",
       "      <td>ROU</td>\n",
       "      <td>19328838</td>\n",
       "      <td>Europe</td>\n",
       "    </tr>\n",
       "    <tr>\n",
       "      <th>26</th>\n",
       "      <td>Slovakia</td>\n",
       "      <td>SK</td>\n",
       "      <td>SVK</td>\n",
       "      <td>5457873</td>\n",
       "      <td>Europe</td>\n",
       "    </tr>\n",
       "    <tr>\n",
       "      <th>27</th>\n",
       "      <td>Slovenia</td>\n",
       "      <td>SI</td>\n",
       "      <td>SVN</td>\n",
       "      <td>2095861</td>\n",
       "      <td>Europe</td>\n",
       "    </tr>\n",
       "    <tr>\n",
       "      <th>28</th>\n",
       "      <td>Spain</td>\n",
       "      <td>ES</td>\n",
       "      <td>ESP</td>\n",
       "      <td>47332614</td>\n",
       "      <td>Europe</td>\n",
       "    </tr>\n",
       "    <tr>\n",
       "      <th>29</th>\n",
       "      <td>Sweden</td>\n",
       "      <td>SE</td>\n",
       "      <td>SWE</td>\n",
       "      <td>10327589</td>\n",
       "      <td>Europe</td>\n",
       "    </tr>\n",
       "  </tbody>\n",
       "</table>\n",
       "</div>"
      ],
      "text/plain": [
       "          country countryId countryCode  popData2020 continent\n",
       "0         Austria        AT         AUT      8901064    Europe\n",
       "1         Belgium        BE         BEL     11522440    Europe\n",
       "2        Bulgaria        BG         BGR      6951482    Europe\n",
       "3         Croatia        HR         HRV      4058165    Europe\n",
       "4          Cyprus        CY         CYP       888005    Europe\n",
       "5         Czechia        CZ         CZE     10693939    Europe\n",
       "6         Denmark        DK         DNK      5822763    Europe\n",
       "7         Estonia        EE         EST      1328976    Europe\n",
       "8         Finland        FI         FIN      5525292    Europe\n",
       "9          France        FR         FRA     67320216    Europe\n",
       "10        Germany        DE         DEU     83166711    Europe\n",
       "11         Greece        EL         GRC     10718565    Europe\n",
       "12        Hungary        HU         HUN      9769526    Europe\n",
       "13        Iceland        IS         ISL       364134    Europe\n",
       "14        Ireland        IE         IRL      4964440    Europe\n",
       "15          Italy        IT         ITA     59641488    Europe\n",
       "16         Latvia        LV         LVA      1907675    Europe\n",
       "17  Liechtenstein        LI         LIE        38747    Europe\n",
       "18      Lithuania        LT         LTU      2794090    Europe\n",
       "19     Luxembourg        LU         LUX       626108    Europe\n",
       "20          Malta        MT         MLT       514564    Europe\n",
       "21    Netherlands        NL         NLD     17407585    Europe\n",
       "22         Norway        NO         NOR      5367580    Europe\n",
       "23         Poland        PL         POL     37958138    Europe\n",
       "24       Portugal        PT         PRT     10295909    Europe\n",
       "25        Romania        RO         ROU     19328838    Europe\n",
       "26       Slovakia        SK         SVK      5457873    Europe\n",
       "27       Slovenia        SI         SVN      2095861    Europe\n",
       "28          Spain        ES         ESP     47332614    Europe\n",
       "29         Sweden        SE         SWE     10327589    Europe"
      ]
     },
     "execution_count": 7,
     "metadata": {},
     "output_type": "execute_result"
    }
   ],
   "source": [
    "countries_df = pd.read_csv('covid_countries.csv')\n",
    "countries_df"
   ]
  },
  {
   "cell_type": "code",
   "execution_count": 8,
   "id": "84383ebb",
   "metadata": {},
   "outputs": [
    {
     "data": {
      "text/html": [
       "<div>\n",
       "<style scoped>\n",
       "    .dataframe tbody tr th:only-of-type {\n",
       "        vertical-align: middle;\n",
       "    }\n",
       "\n",
       "    .dataframe tbody tr th {\n",
       "        vertical-align: top;\n",
       "    }\n",
       "\n",
       "    .dataframe thead th {\n",
       "        text-align: right;\n",
       "    }\n",
       "</style>\n",
       "<table border=\"1\" class=\"dataframe\">\n",
       "  <thead>\n",
       "    <tr style=\"text-align: right;\">\n",
       "      <th></th>\n",
       "      <th></th>\n",
       "      <th>day</th>\n",
       "      <th>month</th>\n",
       "      <th>year</th>\n",
       "      <th>cases</th>\n",
       "      <th>deaths</th>\n",
       "      <th>countryId</th>\n",
       "      <th>week</th>\n",
       "      <th>countryCode</th>\n",
       "      <th>popData2020</th>\n",
       "      <th>continent</th>\n",
       "      <th>cases_per_100000</th>\n",
       "      <th>deaths_per_100000</th>\n",
       "    </tr>\n",
       "    <tr>\n",
       "      <th>country</th>\n",
       "      <th>dateRep</th>\n",
       "      <th></th>\n",
       "      <th></th>\n",
       "      <th></th>\n",
       "      <th></th>\n",
       "      <th></th>\n",
       "      <th></th>\n",
       "      <th></th>\n",
       "      <th></th>\n",
       "      <th></th>\n",
       "      <th></th>\n",
       "      <th></th>\n",
       "      <th></th>\n",
       "    </tr>\n",
       "  </thead>\n",
       "  <tbody>\n",
       "    <tr>\n",
       "      <th rowspan=\"5\" valign=\"top\">Austria</th>\n",
       "      <th>2021-03-01</th>\n",
       "      <td>1</td>\n",
       "      <td>3</td>\n",
       "      <td>2021</td>\n",
       "      <td>456112</td>\n",
       "      <td>8414</td>\n",
       "      <td>AT</td>\n",
       "      <td>9</td>\n",
       "      <td>AUT</td>\n",
       "      <td>8901064</td>\n",
       "      <td>Europe</td>\n",
       "      <td>5124.241327</td>\n",
       "      <td>94.528025</td>\n",
       "    </tr>\n",
       "    <tr>\n",
       "      <th>2021-03-02</th>\n",
       "      <td>2</td>\n",
       "      <td>3</td>\n",
       "      <td>2021</td>\n",
       "      <td>1148</td>\n",
       "      <td>25</td>\n",
       "      <td>AT</td>\n",
       "      <td>9</td>\n",
       "      <td>AUT</td>\n",
       "      <td>8901064</td>\n",
       "      <td>Europe</td>\n",
       "      <td>12.897335</td>\n",
       "      <td>0.280865</td>\n",
       "    </tr>\n",
       "    <tr>\n",
       "      <th>2021-03-03</th>\n",
       "      <td>3</td>\n",
       "      <td>3</td>\n",
       "      <td>2021</td>\n",
       "      <td>1926</td>\n",
       "      <td>17</td>\n",
       "      <td>AT</td>\n",
       "      <td>9</td>\n",
       "      <td>AUT</td>\n",
       "      <td>8901064</td>\n",
       "      <td>Europe</td>\n",
       "      <td>21.637863</td>\n",
       "      <td>0.190988</td>\n",
       "    </tr>\n",
       "    <tr>\n",
       "      <th>2021-03-04</th>\n",
       "      <td>4</td>\n",
       "      <td>3</td>\n",
       "      <td>2021</td>\n",
       "      <td>2497</td>\n",
       "      <td>14</td>\n",
       "      <td>AT</td>\n",
       "      <td>9</td>\n",
       "      <td>AUT</td>\n",
       "      <td>8901064</td>\n",
       "      <td>Europe</td>\n",
       "      <td>28.052826</td>\n",
       "      <td>0.157285</td>\n",
       "    </tr>\n",
       "    <tr>\n",
       "      <th>2021-03-05</th>\n",
       "      <td>5</td>\n",
       "      <td>3</td>\n",
       "      <td>2021</td>\n",
       "      <td>2691</td>\n",
       "      <td>19</td>\n",
       "      <td>AT</td>\n",
       "      <td>9</td>\n",
       "      <td>AUT</td>\n",
       "      <td>8901064</td>\n",
       "      <td>Europe</td>\n",
       "      <td>30.232341</td>\n",
       "      <td>0.213458</td>\n",
       "    </tr>\n",
       "  </tbody>\n",
       "</table>\n",
       "</div>"
      ],
      "text/plain": [
       "                    day  month  year   cases  deaths countryId  week  \\\n",
       "country dateRep                                                        \n",
       "Austria 2021-03-01    1      3  2021  456112    8414        AT     9   \n",
       "        2021-03-02    2      3  2021    1148      25        AT     9   \n",
       "        2021-03-03    3      3  2021    1926      17        AT     9   \n",
       "        2021-03-04    4      3  2021    2497      14        AT     9   \n",
       "        2021-03-05    5      3  2021    2691      19        AT     9   \n",
       "\n",
       "                   countryCode  popData2020 continent  cases_per_100000  \\\n",
       "country dateRep                                                           \n",
       "Austria 2021-03-01         AUT      8901064    Europe       5124.241327   \n",
       "        2021-03-02         AUT      8901064    Europe         12.897335   \n",
       "        2021-03-03         AUT      8901064    Europe         21.637863   \n",
       "        2021-03-04         AUT      8901064    Europe         28.052826   \n",
       "        2021-03-05         AUT      8901064    Europe         30.232341   \n",
       "\n",
       "                    deaths_per_100000  \n",
       "country dateRep                        \n",
       "Austria 2021-03-01          94.528025  \n",
       "        2021-03-02           0.280865  \n",
       "        2021-03-03           0.190988  \n",
       "        2021-03-04           0.157285  \n",
       "        2021-03-05           0.213458  "
      ]
     },
     "execution_count": 8,
     "metadata": {},
     "output_type": "execute_result"
    }
   ],
   "source": [
    "covid_df = pd.merge(covid_df, countries_df).set_index(['country', 'dateRep'])\n",
    "covid_df['cases_per_100000'] = covid_df['cases'] / covid_df['popData2020'] * 100000\n",
    "covid_df['deaths_per_100000'] = covid_df['deaths'] / covid_df['popData2020'] * 100000\n",
    "covid_df.head()"
   ]
  },
  {
   "cell_type": "markdown",
   "id": "8de44a01",
   "metadata": {},
   "source": [
    "### Assignment 2.1 (2 points)"
   ]
  },
  {
   "cell_type": "markdown",
   "id": "364a907a",
   "metadata": {},
   "source": [
    "Output the number of confirmed cases and deaths for Norway on 1 July 2021."
   ]
  },
  {
   "cell_type": "code",
   "execution_count": 9,
   "id": "997a547c",
   "metadata": {},
   "outputs": [
    {
     "data": {
      "text/plain": [
       "cases     224\n",
       "deaths      2\n",
       "Name: (Norway, 2021-07-01 00:00:00), dtype: object"
      ]
     },
     "execution_count": 9,
     "metadata": {},
     "output_type": "execute_result"
    }
   ],
   "source": [
    "# ANSWER CELL 2.1 (DO NOT REMOVE OR CHANGE THIS LINE)\n",
    "\n",
    "covid_df.loc[(\"Norway\", \"2021-07-01\")][['cases', 'deaths']]"
   ]
  },
  {
   "cell_type": "markdown",
   "id": "76438842",
   "metadata": {},
   "source": [
    "### Assignment 2.2 (2 points)"
   ]
  },
  {
   "cell_type": "markdown",
   "id": "d3b8937f",
   "metadata": {},
   "source": [
    "Output the total number of confirmed cases and deaths in whole EU/EEA (since the beginning of the pandemic)."
   ]
  },
  {
   "cell_type": "code",
   "execution_count": 10,
   "id": "1552e815",
   "metadata": {},
   "outputs": [
    {
     "data": {
      "text/plain": [
       "(33223215, 740713)"
      ]
     },
     "execution_count": 10,
     "metadata": {},
     "output_type": "execute_result"
    }
   ],
   "source": [
    "# ANSWER CELL 2.2 (DO NOT REMOVE OR CHANGE THIS LINE)\n",
    "\n",
    "covid_df['cases'].sum(), covid_df['deaths'].sum()"
   ]
  },
  {
   "cell_type": "markdown",
   "id": "7e272c2a",
   "metadata": {},
   "source": [
    "### Assignment 2.3 (2 points)"
   ]
  },
  {
   "cell_type": "markdown",
   "id": "04cdd197",
   "metadata": {},
   "source": [
    "Output a table showing the total number of confirmed cases and deaths for each country. Use the country names (not codes) as row labels. Sort the table by the number of deaths, from the highest to the lowest. Show the first 10 countries."
   ]
  },
  {
   "cell_type": "code",
   "execution_count": 11,
   "id": "35720720",
   "metadata": {},
   "outputs": [
    {
     "data": {
      "text/html": [
       "<div>\n",
       "<style scoped>\n",
       "    .dataframe tbody tr th:only-of-type {\n",
       "        vertical-align: middle;\n",
       "    }\n",
       "\n",
       "    .dataframe tbody tr th {\n",
       "        vertical-align: top;\n",
       "    }\n",
       "\n",
       "    .dataframe thead th {\n",
       "        text-align: right;\n",
       "    }\n",
       "</style>\n",
       "<table border=\"1\" class=\"dataframe\">\n",
       "  <thead>\n",
       "    <tr style=\"text-align: right;\">\n",
       "      <th></th>\n",
       "      <th>cases</th>\n",
       "      <th>deaths</th>\n",
       "    </tr>\n",
       "    <tr>\n",
       "      <th>country</th>\n",
       "      <th></th>\n",
       "      <th></th>\n",
       "    </tr>\n",
       "  </thead>\n",
       "  <tbody>\n",
       "    <tr>\n",
       "      <th>Italy</th>\n",
       "      <td>4262511</td>\n",
       "      <td>127637</td>\n",
       "    </tr>\n",
       "    <tr>\n",
       "      <th>France</th>\n",
       "      <td>5783654</td>\n",
       "      <td>111181</td>\n",
       "    </tr>\n",
       "    <tr>\n",
       "      <th>Germany</th>\n",
       "      <td>3730912</td>\n",
       "      <td>91030</td>\n",
       "    </tr>\n",
       "    <tr>\n",
       "      <th>Spain</th>\n",
       "      <td>3833868</td>\n",
       "      <td>80911</td>\n",
       "    </tr>\n",
       "    <tr>\n",
       "      <th>Poland</th>\n",
       "      <td>2880215</td>\n",
       "      <td>75083</td>\n",
       "    </tr>\n",
       "    <tr>\n",
       "      <th>Romania</th>\n",
       "      <td>1080918</td>\n",
       "      <td>33925</td>\n",
       "    </tr>\n",
       "    <tr>\n",
       "      <th>Czechia</th>\n",
       "      <td>1667935</td>\n",
       "      <td>30310</td>\n",
       "    </tr>\n",
       "    <tr>\n",
       "      <th>Hungary</th>\n",
       "      <td>808197</td>\n",
       "      <td>29992</td>\n",
       "    </tr>\n",
       "    <tr>\n",
       "      <th>Belgium</th>\n",
       "      <td>1088268</td>\n",
       "      <td>25190</td>\n",
       "    </tr>\n",
       "    <tr>\n",
       "      <th>Bulgaria</th>\n",
       "      <td>422034</td>\n",
       "      <td>18084</td>\n",
       "    </tr>\n",
       "  </tbody>\n",
       "</table>\n",
       "</div>"
      ],
      "text/plain": [
       "            cases  deaths\n",
       "country                  \n",
       "Italy     4262511  127637\n",
       "France    5783654  111181\n",
       "Germany   3730912   91030\n",
       "Spain     3833868   80911\n",
       "Poland    2880215   75083\n",
       "Romania   1080918   33925\n",
       "Czechia   1667935   30310\n",
       "Hungary    808197   29992\n",
       "Belgium   1088268   25190\n",
       "Bulgaria   422034   18084"
      ]
     },
     "execution_count": 11,
     "metadata": {},
     "output_type": "execute_result"
    }
   ],
   "source": [
    "# ANSWER CELL 2.3 (DO NOT REMOVE OR CHANGE THIS LINE)\n",
    "\n",
    "covid_df.groupby('country') \\\n",
    "        .agg(cases=('cases', 'sum'), deaths=('deaths', 'sum')) \\\n",
    "        .sort_values('deaths', ascending=False) \\\n",
    "        .head(10)"
   ]
  },
  {
   "cell_type": "markdown",
   "id": "0dd652b2",
   "metadata": {},
   "source": [
    "### Assignment 2.4 (2 points)"
   ]
  },
  {
   "cell_type": "markdown",
   "id": "9ec78ee0",
   "metadata": {},
   "source": [
    "Output a table showing the number of confirmed cases and deaths per 100 000 population in weeks 25 and 26 for each country. Again, use the country name as row labels. Sort the table by the number of cases per 100 000, from the lowest to the highest. Show the first 10 rows."
   ]
  },
  {
   "cell_type": "code",
   "execution_count": 12,
   "id": "0e949c07",
   "metadata": {},
   "outputs": [
    {
     "data": {
      "text/html": [
       "<div>\n",
       "<style scoped>\n",
       "    .dataframe tbody tr th:only-of-type {\n",
       "        vertical-align: middle;\n",
       "    }\n",
       "\n",
       "    .dataframe tbody tr th {\n",
       "        vertical-align: top;\n",
       "    }\n",
       "\n",
       "    .dataframe thead th {\n",
       "        text-align: right;\n",
       "    }\n",
       "</style>\n",
       "<table border=\"1\" class=\"dataframe\">\n",
       "  <thead>\n",
       "    <tr style=\"text-align: right;\">\n",
       "      <th></th>\n",
       "      <th>cases_per_100000</th>\n",
       "      <th>deaths_per_100000</th>\n",
       "    </tr>\n",
       "    <tr>\n",
       "      <th>country</th>\n",
       "      <th></th>\n",
       "      <th></th>\n",
       "    </tr>\n",
       "  </thead>\n",
       "  <tbody>\n",
       "    <tr>\n",
       "      <th>Romania</th>\n",
       "      <td>3.70</td>\n",
       "      <td>8.37</td>\n",
       "    </tr>\n",
       "    <tr>\n",
       "      <th>Poland</th>\n",
       "      <td>4.17</td>\n",
       "      <td>0.68</td>\n",
       "    </tr>\n",
       "    <tr>\n",
       "      <th>Iceland</th>\n",
       "      <td>7.41</td>\n",
       "      <td>0.00</td>\n",
       "    </tr>\n",
       "    <tr>\n",
       "      <th>Hungary</th>\n",
       "      <td>7.87</td>\n",
       "      <td>0.43</td>\n",
       "    </tr>\n",
       "    <tr>\n",
       "      <th>Malta</th>\n",
       "      <td>10.11</td>\n",
       "      <td>0.00</td>\n",
       "    </tr>\n",
       "    <tr>\n",
       "      <th>Germany</th>\n",
       "      <td>10.74</td>\n",
       "      <td>0.78</td>\n",
       "    </tr>\n",
       "    <tr>\n",
       "      <th>Slovakia</th>\n",
       "      <td>14.13</td>\n",
       "      <td>0.49</td>\n",
       "    </tr>\n",
       "    <tr>\n",
       "      <th>Bulgaria</th>\n",
       "      <td>14.80</td>\n",
       "      <td>1.37</td>\n",
       "    </tr>\n",
       "    <tr>\n",
       "      <th>Austria</th>\n",
       "      <td>16.20</td>\n",
       "      <td>0.84</td>\n",
       "    </tr>\n",
       "    <tr>\n",
       "      <th>Italy</th>\n",
       "      <td>17.46</td>\n",
       "      <td>0.64</td>\n",
       "    </tr>\n",
       "  </tbody>\n",
       "</table>\n",
       "</div>"
      ],
      "text/plain": [
       "          cases_per_100000  deaths_per_100000\n",
       "country                                      \n",
       "Romania               3.70               8.37\n",
       "Poland                4.17               0.68\n",
       "Iceland               7.41               0.00\n",
       "Hungary               7.87               0.43\n",
       "Malta                10.11               0.00\n",
       "Germany              10.74               0.78\n",
       "Slovakia             14.13               0.49\n",
       "Bulgaria             14.80               1.37\n",
       "Austria              16.20               0.84\n",
       "Italy                17.46               0.64"
      ]
     },
     "execution_count": 12,
     "metadata": {},
     "output_type": "execute_result"
    }
   ],
   "source": [
    "# ANSWER CELL 2.4 (DO NOT REMOVE OR CHANGE THIS LINE)\n",
    "\n",
    "covid_df.query('week in (25, 26)') \\\n",
    "        .groupby('country') \\\n",
    "        .agg(cases_per_100000=('cases_per_100000', 'sum'),\n",
    "             deaths_per_100000=('deaths_per_100000', 'sum')) \\\n",
    "        .sort_values('cases_per_100000') \\\n",
    "        .head(10) \\\n",
    "        .round(2)"
   ]
  },
  {
   "cell_type": "markdown",
   "id": "d57d17ed",
   "metadata": {},
   "source": [
    "### Assignment 2.5 (2 points)"
   ]
  },
  {
   "cell_type": "markdown",
   "id": "49f11c6d",
   "metadata": {},
   "source": [
    "Output a plot of confirmed cases in Sweden by date. Include 7 day rolling averages (for each day the average is based on the number of confirmed cases in the last 7 days).\n",
    "\n",
    "Hint: You can use the [`rolling`](https://pandas.pydata.org/docs/reference/api/pandas.DataFrame.rolling.html) method.\n",
    "\n",
    "To check if you have solved the assignment correctly, compare your graph with [this graph](https://en.wikipedia.org/wiki/COVID-19_pandemic_in_Sweden#Cases_per_day) for the relevant date span."
   ]
  },
  {
   "cell_type": "code",
   "execution_count": 13,
   "id": "4f7ff340",
   "metadata": {
    "scrolled": true
   },
   "outputs": [
    {
     "data": {
      "text/plain": [
       "<matplotlib.axes._subplots.AxesSubplot at 0x7ff3a3be3e50>"
      ]
     },
     "execution_count": 13,
     "metadata": {},
     "output_type": "execute_result"
    },
    {
     "data": {
      "image/png": "[encoded data removed]",
      "text/plain": [
       "<Figure size 640x480 with 1 Axes>"
      ]
     },
     "metadata": {},
     "output_type": "display_data"
    }
   ],
   "source": [
    "# ANSWER CELL 2.5 (DO NOT REMOVE OR CHANGE THIS LINE)\n",
    "\n",
    "covid_df.loc['Sweden'].iloc[1:]['cases'].plot()\n",
    "covid_df.loc['Sweden'].iloc[1:]['cases'].rolling(7).mean().plot()"
   ]
  },
  {
   "cell_type": "markdown",
   "id": "d27824d1",
   "metadata": {},
   "source": [
    "### Assignment 2.6 (2 points)"
   ]
  },
  {
   "cell_type": "markdown",
   "id": "6417e247",
   "metadata": {},
   "source": [
    "Output a plot of total confirmed cases in Norway and Sweden (both in the same graph) by date. Include the legend and make sure that the dates on the x-axis are readable (e.g. rotate the labels by 45 or 90 degrees).\n",
    "\n",
    "Hint: Look at the [`cumsum`](https://pandas.pydata.org/docs/reference/api/pandas.DataFrame.cumsum.html) method.\n",
    "\n",
    "To check if you solved the assignment correctly, compare your graph with [this graph](https://en.wikipedia.org/wiki/COVID-19_pandemic_in_Sweden#Total_cases) for Sweden and the first graph on [this page](https://www.worldometers.info/coronavirus/country/norway/) for Norway."
   ]
  },
  {
   "cell_type": "code",
   "execution_count": 14,
   "id": "76f5f432",
   "metadata": {},
   "outputs": [
    {
     "data": {
      "text/plain": [
       "(array([737850., 737864., 737881., 737895., 737911., 737925., 737942.,\n",
       "        737956., 737972.]),\n",
       " <a list of 9 Text xticklabel objects>)"
      ]
     },
     "execution_count": 14,
     "metadata": {},
     "output_type": "execute_result"
    },
    {
     "data": {
      "image/png": "[encoded data removed]",
      "text/plain": [
       "<Figure size 640x480 with 1 Axes>"
      ]
     },
     "metadata": {},
     "output_type": "display_data"
    }
   ],
   "source": [
    "# ANSWER CELL 2.6 (DO NOT REMOVE OR CHANGE THIS LINE)\n",
    "\n",
    "cases_cum = covid_df.loc[['Norway', 'Sweden']].groupby('country')['cases'].cumsum()\n",
    "plt.plot(cases_cum['Norway'])\n",
    "plt.plot(cases_cum['Sweden'])\n",
    "plt.legend(['Norway', 'Sweden'])\n",
    "plt.xticks(rotation=45)"
   ]
  },
  {
   "cell_type": "markdown",
   "id": "f4beffc1",
   "metadata": {},
   "source": [
    "## 3. Data management\n",
    "\n",
    "In this section you are going to use a small database for a digital media store. You can access the database in three different ways (see below), it is completely up to you which one you choose.\n",
    "\n",
    "To access the database, go to [https://73bits.com/sqlexplorer/exam-48f27b25](https://73bits.com/sqlexplorer/exam-48f27b25) and use the username *gra4142* and password *gra4142*.\n",
    "\n",
    "You are allowed to use other software that works with SQLite databases if you wish to do so (the file `exam.db` is attached to this exam), but only to execute SQL statements written by you. You are **NOT** allowed to use any wizards or other graphical user interface to prepare SQL statements.\n",
    "\n",
    "The database schema can be found in Appendix A. (You might need the schema to understand how the data is stored in the database.)"
   ]
  },
  {
   "cell_type": "code",
   "execution_count": 15,
   "id": "129ded01",
   "metadata": {},
   "outputs": [
    {
     "name": "stdout",
     "output_type": "stream",
     "text": [
      "Done!\n",
      "Done!\n"
     ]
    }
   ],
   "source": [
    "%load_ext isqlite3\n",
    "%sql_open exam.db"
   ]
  },
  {
   "cell_type": "markdown",
   "id": "171ab1e7",
   "metadata": {},
   "source": [
    "### Assignment 3.1 (2 points)"
   ]
  },
  {
   "cell_type": "markdown",
   "id": "b53e216a",
   "metadata": {},
   "source": [
    "Write an SQL query to return the number of all tracks in the store."
   ]
  },
  {
   "cell_type": "code",
   "execution_count": 16,
   "id": "3a883c95",
   "metadata": {},
   "outputs": [
    {
     "data": {
      "text/html": [
       "<table><thead><tr><th style=\"text-align: left\">COUNT(*)</th></tr></thead><tbody><tr><td style=\"text-align: right\">3503</td></tr></tbody></table>"
      ],
      "text/plain": [
       "<IPython.core.display.HTML object>"
      ]
     },
     "execution_count": 16,
     "metadata": {},
     "output_type": "execute_result"
    }
   ],
   "source": [
    "%%sql ANSWER CELL 3.1 (DO NOT REMOVE OR CHANGE THIS LINE)\n",
    "SELECT COUNT(*)\n",
    "FROM Track"
   ]
  },
  {
   "cell_type": "markdown",
   "id": "0538fd5f",
   "metadata": {},
   "source": [
    "### Assignment 3.2 (2 points)"
   ]
  },
  {
   "cell_type": "markdown",
   "id": "98b47022",
   "metadata": {},
   "source": [
    "Write an SQL query to return all artists whose name starts with K.\n",
    "\n",
    "Sort the result set by their name.\n",
    "\n",
    "Return the following columns in the result set: artist id, artist name."
   ]
  },
  {
   "cell_type": "code",
   "execution_count": 17,
   "id": "383931e9",
   "metadata": {},
   "outputs": [
    {
     "data": {
      "text/html": [
       "<table><thead><tr><th style=\"text-align: left\">ArtistId</th><th style=\"text-align: left\">Name</th></tr></thead><tbody><tr><td style=\"text-align: right\">199</td><td style=\"text-align: left\">Karsh Kale</td></tr><tr><td style=\"text-align: right\">264</td><td style=\"text-align: left\">Kent Nagano and Orchestre de l&#x27;Opéra de Lyon</td></tr><tr><td style=\"text-align: right\">44</td><td style=\"text-align: left\">Kid Abelha</td></tr><tr><td style=\"text-align: right\">52</td><td style=\"text-align: left\">Kiss</td></tr></tbody></table>"
      ],
      "text/plain": [
       "<IPython.core.display.HTML object>"
      ]
     },
     "execution_count": 17,
     "metadata": {},
     "output_type": "execute_result"
    }
   ],
   "source": [
    "%%sql ANSWER CELL 3.2 (DO NOT REMOVE OR CHANGE THIS LINE)\n",
    "SELECT ArtistId, Name\n",
    "FROM Artist\n",
    "WHERE Name LIKE \"K%\"\n",
    "ORDER BY Name"
   ]
  },
  {
   "cell_type": "markdown",
   "id": "99a36ee2",
   "metadata": {},
   "source": [
    "### Assignment 3.3 (2 points)"
   ]
  },
  {
   "cell_type": "markdown",
   "id": "d2f71ffd",
   "metadata": {},
   "source": [
    "Write an SQL query to return all track names, together with the name of the artist and the title of the album.\n",
    "\n",
    "Sort the result set by the artist name first, then by the album title.\n",
    "\n",
    "Return the following columns in the result set: track id, track name, artist name, album title"
   ]
  },
  {
   "cell_type": "code",
   "execution_count": 18,
   "id": "c277c434",
   "metadata": {},
   "outputs": [
    {
     "name": "stdout",
     "output_type": "stream",
     "text": [
      "Showing only the first 100 rows\n"
     ]
    },
    {
     "data": {
      "text/html": [
       "<table><thead><tr><th style=\"text-align: left\">TrackId</th><th style=\"text-align: left\">Track</th><th style=\"text-align: left\">Artist</th><th style=\"text-align: left\">Album</th></tr></thead><tbody><tr><td style=\"text-align: right\">1</td><td style=\"text-align: left\">For Those About To Rock (We Salute You)</td><td style=\"text-align: left\">AC/DC</td><td style=\"text-align: left\">For Those About To Rock We Salute You</td></tr><tr><td style=\"text-align: right\">6</td><td style=\"text-align: left\">Put The Finger On You</td><td style=\"text-align: left\">AC/DC</td><td style=\"text-align: left\">For Those About To Rock We Salute You</td></tr><tr><td style=\"text-align: right\">7</td><td style=\"text-align: left\">Let&#x27;s Get It Up</td><td style=\"text-align: left\">AC/DC</td><td style=\"text-align: left\">For Those About To Rock We Salute You</td></tr><tr><td style=\"text-align: right\">8</td><td style=\"text-align: left\">Inject The Venom</td><td style=\"text-align: left\">AC/DC</td><td style=\"text-align: left\">For Those About To Rock We Salute You</td></tr><tr><td style=\"text-align: right\">9</td><td style=\"text-align: left\">Snowballed</td><td style=\"text-align: left\">AC/DC</td><td style=\"text-align: left\">For Those About To Rock We Salute You</td></tr><tr><td style=\"text-align: right\">10</td><td style=\"text-align: left\">Evil Walks</td><td style=\"text-align: left\">AC/DC</td><td style=\"text-align: left\">For Those About To Rock We Salute You</td></tr><tr><td style=\"text-align: right\">11</td><td style=\"text-align: left\">C.O.D.</td><td style=\"text-align: left\">AC/DC</td><td style=\"text-align: left\">For Those About To Rock We Salute You</td></tr><tr><td style=\"text-align: right\">12</td><td style=\"text-align: left\">Breaking The Rules</td><td style=\"text-align: left\">AC/DC</td><td style=\"text-align: left\">For Those About To Rock We Salute You</td></tr><tr><td style=\"text-align: right\">13</td><td style=\"text-align: left\">Night Of The Long Knives</td><td style=\"text-align: left\">AC/DC</td><td style=\"text-align: left\">For Those About To Rock We Salute You</td></tr><tr><td style=\"text-align: right\">14</td><td style=\"text-align: left\">Spellbound</td><td style=\"text-align: left\">AC/DC</td><td style=\"text-align: left\">For Those About To Rock We Salute You</td></tr><tr><td style=\"text-align: right\">15</td><td style=\"text-align: left\">Go Down</td><td style=\"text-align: left\">AC/DC</td><td style=\"text-align: left\">Let There Be Rock</td></tr><tr><td style=\"text-align: right\">16</td><td style=\"text-align: left\">Dog Eat Dog</td><td style=\"text-align: left\">AC/DC</td><td style=\"text-align: left\">Let There Be Rock</td></tr><tr><td style=\"text-align: right\">17</td><td style=\"text-align: left\">Let There Be Rock</td><td style=\"text-align: left\">AC/DC</td><td style=\"text-align: left\">Let There Be Rock</td></tr><tr><td style=\"text-align: right\">18</td><td style=\"text-align: left\">Bad Boy Boogie</td><td style=\"text-align: left\">AC/DC</td><td style=\"text-align: left\">Let There Be Rock</td></tr><tr><td style=\"text-align: right\">19</td><td style=\"text-align: left\">Problem Child</td><td style=\"text-align: left\">AC/DC</td><td style=\"text-align: left\">Let There Be Rock</td></tr><tr><td style=\"text-align: right\">20</td><td style=\"text-align: left\">Overdose</td><td style=\"text-align: left\">AC/DC</td><td style=\"text-align: left\">Let There Be Rock</td></tr><tr><td style=\"text-align: right\">21</td><td style=\"text-align: left\">Hell Ain&#x27;t A Bad Place To Be</td><td style=\"text-align: left\">AC/DC</td><td style=\"text-align: left\">Let There Be Rock</td></tr><tr><td style=\"text-align: right\">22</td><td style=\"text-align: left\">Whole Lotta Rosie</td><td style=\"text-align: left\">AC/DC</td><td style=\"text-align: left\">Let There Be Rock</td></tr><tr><td style=\"text-align: right\">3427</td><td style=\"text-align: left\">Fanfare for the Common Man</td><td style=\"text-align: left\">Aaron Copland &amp; London Symphony Orchestra</td><td style=\"text-align: left\">A Copland Celebration, Vol. I</td></tr><tr><td style=\"text-align: right\">3357</td><td style=\"text-align: left\">OAM&#x27;s Blues</td><td style=\"text-align: left\">Aaron Goldberg</td><td style=\"text-align: left\">Worlds</td></tr><tr><td style=\"text-align: right\">3411</td><td style=\"text-align: left\">Solomon HWV 67: The Arrival of the Queen of Sheba</td><td style=\"text-align: left\">Academy of St. Martin in the Fields &amp; Sir Neville Marriner</td><td style=\"text-align: left\">The World of Classical Favourites</td></tr><tr><td style=\"text-align: right\">3438</td><td style=\"text-align: left\">Fantasia On Greensleeves</td><td style=\"text-align: left\">Academy of St. Martin in the Fields &amp; Sir Neville Marriner</td><td style=\"text-align: left\">The World of Classical Favourites</td></tr><tr><td style=\"text-align: right\">3412</td><td style=\"text-align: left\">&quot;Eine Kleine Nachtmusik&quot; Serenade In G, K. 525: I. Allegro</td><td style=\"text-align: left\">Academy of St. Martin in the Fields Chamber Ensemble &amp; Sir Neville Marriner</td><td style=\"text-align: left\">Sir Neville Marriner: A Celebration</td></tr><tr><td style=\"text-align: right\">3419</td><td style=\"text-align: left\">Requiem, Op.48: 4. Pie Jesu</td><td style=\"text-align: left\">Academy of St. Martin in the Fields, John Birch, Sir Neville Marriner &amp; Sylvia McNair</td><td style=\"text-align: left\">Fauré: Requiem, Ravel: Pavane &amp; Others</td></tr><tr><td style=\"text-align: right\">3482</td><td style=\"text-align: left\">Suite No. 3 in D, BWV 1068: III. Gavotte I &amp; II</td><td style=\"text-align: left\">Academy of St. Martin in the Fields, Sir Neville Marriner &amp; Thurston Dart</td><td style=\"text-align: left\">Bach: Orchestral Suites Nos. 1 - 4</td></tr><tr><td style=\"text-align: right\">2</td><td style=\"text-align: left\">Balls to the Wall</td><td style=\"text-align: left\">Accept</td><td style=\"text-align: left\">Balls to the Wall</td></tr><tr><td style=\"text-align: right\">3</td><td style=\"text-align: left\">Fast As a Shark</td><td style=\"text-align: left\">Accept</td><td style=\"text-align: left\">Restless and Wild</td></tr><tr><td style=\"text-align: right\">4</td><td style=\"text-align: left\">Restless and Wild</td><td style=\"text-align: left\">Accept</td><td style=\"text-align: left\">Restless and Wild</td></tr><tr><td style=\"text-align: right\">5</td><td style=\"text-align: left\">Princess of the Dawn</td><td style=\"text-align: left\">Accept</td><td style=\"text-align: left\">Restless and Wild</td></tr><tr><td style=\"text-align: right\">3485</td><td style=\"text-align: left\">Symphony No. 3 Op. 36 for Orchestra and Soprano &quot;Symfonia Piesni Zalosnych&quot; \\ Lento E Largo - Tranquillissimo</td><td style=\"text-align: left\">Adrian Leaper &amp; Doreen de Feis</td><td style=\"text-align: left\">Górecki: Symphony No. 3</td></tr><tr><td style=\"text-align: right\">23</td><td style=\"text-align: left\">Walk On Water</td><td style=\"text-align: left\">Aerosmith</td><td style=\"text-align: left\">Big Ones</td></tr><tr><td style=\"text-align: right\">24</td><td style=\"text-align: left\">Love In An Elevator</td><td style=\"text-align: left\">Aerosmith</td><td style=\"text-align: left\">Big Ones</td></tr><tr><td style=\"text-align: right\">25</td><td style=\"text-align: left\">Rag Doll</td><td style=\"text-align: left\">Aerosmith</td><td style=\"text-align: left\">Big Ones</td></tr><tr><td style=\"text-align: right\">26</td><td style=\"text-align: left\">What It Takes</td><td style=\"text-align: left\">Aerosmith</td><td style=\"text-align: left\">Big Ones</td></tr><tr><td style=\"text-align: right\">27</td><td style=\"text-align: left\">Dude (Looks Like A Lady)</td><td style=\"text-align: left\">Aerosmith</td><td style=\"text-align: left\">Big Ones</td></tr><tr><td style=\"text-align: right\">28</td><td style=\"text-align: left\">Janie&#x27;s Got A Gun</td><td style=\"text-align: left\">Aerosmith</td><td style=\"text-align: left\">Big Ones</td></tr><tr><td style=\"text-align: right\">29</td><td style=\"text-align: left\">Cryin&#x27;</td><td style=\"text-align: left\">Aerosmith</td><td style=\"text-align: left\">Big Ones</td></tr><tr><td style=\"text-align: right\">30</td><td style=\"text-align: left\">Amazing</td><td style=\"text-align: left\">Aerosmith</td><td style=\"text-align: left\">Big Ones</td></tr><tr><td style=\"text-align: right\">31</td><td style=\"text-align: left\">Blind Man</td><td style=\"text-align: left\">Aerosmith</td><td style=\"text-align: left\">Big Ones</td></tr><tr><td style=\"text-align: right\">32</td><td style=\"text-align: left\">Deuces Are Wild</td><td style=\"text-align: left\">Aerosmith</td><td style=\"text-align: left\">Big Ones</td></tr><tr><td style=\"text-align: right\">33</td><td style=\"text-align: left\">The Other Side</td><td style=\"text-align: left\">Aerosmith</td><td style=\"text-align: left\">Big Ones</td></tr><tr><td style=\"text-align: right\">34</td><td style=\"text-align: left\">Crazy</td><td style=\"text-align: left\">Aerosmith</td><td style=\"text-align: left\">Big Ones</td></tr><tr><td style=\"text-align: right\">35</td><td style=\"text-align: left\">Eat The Rich</td><td style=\"text-align: left\">Aerosmith</td><td style=\"text-align: left\">Big Ones</td></tr><tr><td style=\"text-align: right\">36</td><td style=\"text-align: left\">Angel</td><td style=\"text-align: left\">Aerosmith</td><td style=\"text-align: left\">Big Ones</td></tr><tr><td style=\"text-align: right\">37</td><td style=\"text-align: left\">Livin&#x27; On The Edge</td><td style=\"text-align: left\">Aerosmith</td><td style=\"text-align: left\">Big Ones</td></tr><tr><td style=\"text-align: right\">3349</td><td style=\"text-align: left\">Amanda</td><td style=\"text-align: left\">Aisha Duo</td><td style=\"text-align: left\">Quiet Songs</td></tr><tr><td style=\"text-align: right\">3350</td><td style=\"text-align: left\">Despertar</td><td style=\"text-align: left\">Aisha Duo</td><td style=\"text-align: left\">Quiet Songs</td></tr><tr><td style=\"text-align: right\">38</td><td style=\"text-align: left\">All I Really Want</td><td style=\"text-align: left\">Alanis Morissette</td><td style=\"text-align: left\">Jagged Little Pill</td></tr><tr><td style=\"text-align: right\">39</td><td style=\"text-align: left\">You Oughta Know</td><td style=\"text-align: left\">Alanis Morissette</td><td style=\"text-align: left\">Jagged Little Pill</td></tr><tr><td style=\"text-align: right\">40</td><td style=\"text-align: left\">Perfect</td><td style=\"text-align: left\">Alanis Morissette</td><td style=\"text-align: left\">Jagged Little Pill</td></tr><tr><td style=\"text-align: right\">41</td><td style=\"text-align: left\">Hand In My Pocket</td><td style=\"text-align: left\">Alanis Morissette</td><td style=\"text-align: left\">Jagged Little Pill</td></tr><tr><td style=\"text-align: right\">42</td><td style=\"text-align: left\">Right Through You</td><td style=\"text-align: left\">Alanis Morissette</td><td style=\"text-align: left\">Jagged Little Pill</td></tr><tr><td style=\"text-align: right\">43</td><td style=\"text-align: left\">Forgiven</td><td style=\"text-align: left\">Alanis Morissette</td><td style=\"text-align: left\">Jagged Little Pill</td></tr><tr><td style=\"text-align: right\">44</td><td style=\"text-align: left\">You Learn</td><td style=\"text-align: left\">Alanis Morissette</td><td style=\"text-align: left\">Jagged Little Pill</td></tr><tr><td style=\"text-align: right\">45</td><td style=\"text-align: left\">Head Over Feet</td><td style=\"text-align: left\">Alanis Morissette</td><td style=\"text-align: left\">Jagged Little Pill</td></tr><tr><td style=\"text-align: right\">46</td><td style=\"text-align: left\">Mary Jane</td><td style=\"text-align: left\">Alanis Morissette</td><td style=\"text-align: left\">Jagged Little Pill</td></tr><tr><td style=\"text-align: right\">47</td><td style=\"text-align: left\">Ironic</td><td style=\"text-align: left\">Alanis Morissette</td><td style=\"text-align: left\">Jagged Little Pill</td></tr><tr><td style=\"text-align: right\">48</td><td style=\"text-align: left\">Not The Doctor</td><td style=\"text-align: left\">Alanis Morissette</td><td style=\"text-align: left\">Jagged Little Pill</td></tr><tr><td style=\"text-align: right\">49</td><td style=\"text-align: left\">Wake Up</td><td style=\"text-align: left\">Alanis Morissette</td><td style=\"text-align: left\">Jagged Little Pill</td></tr><tr><td style=\"text-align: right\">50</td><td style=\"text-align: left\">You Oughta Know (Alternate)</td><td style=\"text-align: left\">Alanis Morissette</td><td style=\"text-align: left\">Jagged Little Pill</td></tr><tr><td style=\"text-align: right\">3403</td><td style=\"text-align: left\">Intoitus: Adorate Deum</td><td style=\"text-align: left\">Alberto Turco &amp; Nova Schola Gregoriana</td><td style=\"text-align: left\">Adorate Deum: Gregorian Chant from the Proper of the Mass</td></tr><tr><td style=\"text-align: right\">51</td><td style=\"text-align: left\">We Die Young</td><td style=\"text-align: left\">Alice In Chains</td><td style=\"text-align: left\">Facelift</td></tr><tr><td style=\"text-align: right\">52</td><td style=\"text-align: left\">Man In The Box</td><td style=\"text-align: left\">Alice In Chains</td><td style=\"text-align: left\">Facelift</td></tr><tr><td style=\"text-align: right\">53</td><td style=\"text-align: left\">Sea Of Sorrow</td><td style=\"text-align: left\">Alice In Chains</td><td style=\"text-align: left\">Facelift</td></tr><tr><td style=\"text-align: right\">54</td><td style=\"text-align: left\">Bleed The Freak</td><td style=\"text-align: left\">Alice In Chains</td><td style=\"text-align: left\">Facelift</td></tr><tr><td style=\"text-align: right\">55</td><td style=\"text-align: left\">I Can&#x27;t Remember</td><td style=\"text-align: left\">Alice In Chains</td><td style=\"text-align: left\">Facelift</td></tr><tr><td style=\"text-align: right\">56</td><td style=\"text-align: left\">Love, Hate, Love</td><td style=\"text-align: left\">Alice In Chains</td><td style=\"text-align: left\">Facelift</td></tr><tr><td style=\"text-align: right\">57</td><td style=\"text-align: left\">It Ain&#x27;t Like That</td><td style=\"text-align: left\">Alice In Chains</td><td style=\"text-align: left\">Facelift</td></tr><tr><td style=\"text-align: right\">58</td><td style=\"text-align: left\">Sunshine</td><td style=\"text-align: left\">Alice In Chains</td><td style=\"text-align: left\">Facelift</td></tr><tr><td style=\"text-align: right\">59</td><td style=\"text-align: left\">Put You Down</td><td style=\"text-align: left\">Alice In Chains</td><td style=\"text-align: left\">Facelift</td></tr><tr><td style=\"text-align: right\">60</td><td style=\"text-align: left\">Confusion</td><td style=\"text-align: left\">Alice In Chains</td><td style=\"text-align: left\">Facelift</td></tr><tr><td style=\"text-align: right\">61</td><td style=\"text-align: left\">I Know Somethin (Bout You)</td><td style=\"text-align: left\">Alice In Chains</td><td style=\"text-align: left\">Facelift</td></tr><tr><td style=\"text-align: right\">62</td><td style=\"text-align: left\">Real Thing</td><td style=\"text-align: left\">Alice In Chains</td><td style=\"text-align: left\">Facelift</td></tr><tr><td style=\"text-align: right\">3455</td><td style=\"text-align: left\">Rehab</td><td style=\"text-align: left\">Amy Winehouse</td><td style=\"text-align: left\">Back to Black</td></tr><tr><td style=\"text-align: right\">3456</td><td style=\"text-align: left\">You Know I&#x27;m No Good</td><td style=\"text-align: left\">Amy Winehouse</td><td style=\"text-align: left\">Back to Black</td></tr><tr><td style=\"text-align: right\">3457</td><td style=\"text-align: left\">Me &amp; Mr. Jones</td><td style=\"text-align: left\">Amy Winehouse</td><td style=\"text-align: left\">Back to Black</td></tr><tr><td style=\"text-align: right\">3458</td><td style=\"text-align: left\">Just Friends</td><td style=\"text-align: left\">Amy Winehouse</td><td style=\"text-align: left\">Back to Black</td></tr><tr><td style=\"text-align: right\">3459</td><td style=\"text-align: left\">Back to Black</td><td style=\"text-align: left\">Amy Winehouse</td><td style=\"text-align: left\">Back to Black</td></tr><tr><td style=\"text-align: right\">3460</td><td style=\"text-align: left\">Love Is a Losing Game</td><td style=\"text-align: left\">Amy Winehouse</td><td style=\"text-align: left\">Back to Black</td></tr><tr><td style=\"text-align: right\">3461</td><td style=\"text-align: left\">Tears Dry On Their Own</td><td style=\"text-align: left\">Amy Winehouse</td><td style=\"text-align: left\">Back to Black</td></tr><tr><td style=\"text-align: right\">3462</td><td style=\"text-align: left\">Wake Up Alone</td><td style=\"text-align: left\">Amy Winehouse</td><td style=\"text-align: left\">Back to Black</td></tr><tr><td style=\"text-align: right\">3463</td><td style=\"text-align: left\">Some Unholy War</td><td style=\"text-align: left\">Amy Winehouse</td><td style=\"text-align: left\">Back to Black</td></tr><tr><td style=\"text-align: right\">3464</td><td style=\"text-align: left\">He Can Only Hold Her</td><td style=\"text-align: left\">Amy Winehouse</td><td style=\"text-align: left\">Back to Black</td></tr><tr><td style=\"text-align: right\">3465</td><td style=\"text-align: left\">You Know I&#x27;m No Good (feat. Ghostface Killah)</td><td style=\"text-align: left\">Amy Winehouse</td><td style=\"text-align: left\">Back to Black</td></tr><tr><td style=\"text-align: right\">3466</td><td style=\"text-align: left\">Rehab (Hot Chip Remix)</td><td style=\"text-align: left\">Amy Winehouse</td><td style=\"text-align: left\">Back to Black</td></tr><tr><td style=\"text-align: right\">3467</td><td style=\"text-align: left\">Intro / Stronger Than Me</td><td style=\"text-align: left\">Amy Winehouse</td><td style=\"text-align: left\">Frank</td></tr><tr><td style=\"text-align: right\">3468</td><td style=\"text-align: left\">You Sent Me Flying / Cherry</td><td style=\"text-align: left\">Amy Winehouse</td><td style=\"text-align: left\">Frank</td></tr><tr><td style=\"text-align: right\">3469</td><td style=\"text-align: left\">F**k Me Pumps</td><td style=\"text-align: left\">Amy Winehouse</td><td style=\"text-align: left\">Frank</td></tr><tr><td style=\"text-align: right\">3470</td><td style=\"text-align: left\">I Heard Love Is Blind</td><td style=\"text-align: left\">Amy Winehouse</td><td style=\"text-align: left\">Frank</td></tr><tr><td style=\"text-align: right\">3471</td><td style=\"text-align: left\">(There Is) No Greater Love (Teo Licks)</td><td style=\"text-align: left\">Amy Winehouse</td><td style=\"text-align: left\">Frank</td></tr><tr><td style=\"text-align: right\">3472</td><td style=\"text-align: left\">In My Bed</td><td style=\"text-align: left\">Amy Winehouse</td><td style=\"text-align: left\">Frank</td></tr><tr><td style=\"text-align: right\">3473</td><td style=\"text-align: left\">Take the Box</td><td style=\"text-align: left\">Amy Winehouse</td><td style=\"text-align: left\">Frank</td></tr><tr><td style=\"text-align: right\">3474</td><td style=\"text-align: left\">October Song</td><td style=\"text-align: left\">Amy Winehouse</td><td style=\"text-align: left\">Frank</td></tr><tr><td style=\"text-align: right\">3475</td><td style=\"text-align: left\">What Is It About Men</td><td style=\"text-align: left\">Amy Winehouse</td><td style=\"text-align: left\">Frank</td></tr><tr><td style=\"text-align: right\">3476</td><td style=\"text-align: left\">Help Yourself</td><td style=\"text-align: left\">Amy Winehouse</td><td style=\"text-align: left\">Frank</td></tr><tr><td style=\"text-align: right\">3477</td><td style=\"text-align: left\">Amy Amy Amy (Outro)</td><td style=\"text-align: left\">Amy Winehouse</td><td style=\"text-align: left\">Frank</td></tr><tr><td style=\"text-align: right\">3406</td><td style=\"text-align: left\">Concerto No. 1 in E Major, RV 269 &quot;Spring&quot;: I. Allegro</td><td style=\"text-align: left\">Anne-Sophie Mutter, Herbert Von Karajan &amp; Wiener Philharmoniker</td><td style=\"text-align: left\">Vivaldi: The Four Seasons</td></tr><tr><td style=\"text-align: right\">3442</td><td style=\"text-align: left\">Wellington&#x27;s Victory or the Battle Symphony, Op.91: 2. Symphony of Triumph</td><td style=\"text-align: left\">Antal Doráti &amp; London Symphony Orchestra</td><td style=\"text-align: left\">Tchaikovsky: 1812 Festival Overture, Op.49, Capriccio Italien &amp; Beethoven: Wellington&#x27;s Victory</td></tr><tr><td style=\"text-align: right\">391</td><td style=\"text-align: left\">Garota De Ipanema</td><td style=\"text-align: left\">Antônio Carlos Jobim</td><td style=\"text-align: left\">Chill: Brazil (Disc 2)</td></tr><tr><td style=\"text-align: right\">392</td><td style=\"text-align: left\">Tim Tim Por Tim Tim</td><td style=\"text-align: left\">Antônio Carlos Jobim</td><td style=\"text-align: left\">Chill: Brazil (Disc 2)</td></tr></tbody></table>"
      ],
      "text/plain": [
       "<IPython.core.display.HTML object>"
      ]
     },
     "execution_count": 18,
     "metadata": {},
     "output_type": "execute_result"
    }
   ],
   "source": [
    "%%sql ANSWER CELL 3.3 (DO NOT REMOVE OR CHANGE THIS LINE)\n",
    "SELECT Track.TrackId, Track.Name AS Track, Artist.Name AS Artist, Album.Title AS Album\n",
    "FROM Track, Album, Artist\n",
    "WHERE Album.AlbumId = Track.AlbumId\n",
    "  AND Album.ArtistId = Artist.ArtistId\n",
    "ORDER BY Artist.Name, Album.Title"
   ]
  },
  {
   "cell_type": "markdown",
   "id": "fe7c02d8",
   "metadata": {},
   "source": [
    "### Assignment 3.4 (2 points)"
   ]
  },
  {
   "cell_type": "markdown",
   "id": "d4146686",
   "metadata": {},
   "source": [
    "Write an SQL query to return all tracks with their revenue (i.e. how much customers paid for each track; for tracks that were never sold you can use either NULL or 0).\n",
    "\n",
    "Sort the result set by the revenue in the descending order.\n",
    "\n",
    "Return the following columns in the result set: track id, track name and the revenue.\n",
    "\n",
    "Hint: The parameter of any aggregate function might also be an arithmetic expression involving several columns."
   ]
  },
  {
   "cell_type": "code",
   "execution_count": 19,
   "id": "4ab5f6e8",
   "metadata": {},
   "outputs": [
    {
     "name": "stdout",
     "output_type": "stream",
     "text": [
      "Showing only the first 100 rows\n"
     ]
    },
    {
     "data": {
      "text/html": [
       "<table><thead><tr><th style=\"text-align: left\">TrackId</th><th style=\"text-align: left\">Name</th><th style=\"text-align: left\">Revenue</th></tr></thead><tbody><tr><td style=\"text-align: right\">2832</td><td style=\"text-align: left\">The Woman King</td><td style=\"text-align: right\">3.98</td></tr><tr><td style=\"text-align: right\">2850</td><td style=\"text-align: left\">The Fix</td><td style=\"text-align: right\">3.98</td></tr><tr><td style=\"text-align: right\">2868</td><td style=\"text-align: left\">Walkabout</td><td style=\"text-align: right\">3.98</td></tr><tr><td style=\"text-align: right\">3177</td><td style=\"text-align: left\">Hot Girl</td><td style=\"text-align: right\">3.98</td></tr><tr><td style=\"text-align: right\">3200</td><td style=\"text-align: left\">Gay Witch Hunt</td><td style=\"text-align: right\">3.98</td></tr><tr><td style=\"text-align: right\">3214</td><td style=\"text-align: left\">Phyllis&#x27;s Wedding</td><td style=\"text-align: right\">3.98</td></tr><tr><td style=\"text-align: right\">3223</td><td style=\"text-align: left\">How to Stop an Exploding Man</td><td style=\"text-align: right\">3.98</td></tr><tr><td style=\"text-align: right\">3250</td><td style=\"text-align: left\">Pilot</td><td style=\"text-align: right\">3.98</td></tr><tr><td style=\"text-align: right\">2820</td><td style=\"text-align: left\">Occupation / Precipice</td><td style=\"text-align: right\">1.99</td></tr><tr><td style=\"text-align: right\">2821</td><td style=\"text-align: left\">Exodus, Pt. 1</td><td style=\"text-align: right\">1.99</td></tr><tr><td style=\"text-align: right\">2822</td><td style=\"text-align: left\">Exodus, Pt. 2</td><td style=\"text-align: right\">1.99</td></tr><tr><td style=\"text-align: right\">2823</td><td style=\"text-align: left\">Collaborators</td><td style=\"text-align: right\">1.99</td></tr><tr><td style=\"text-align: right\">2826</td><td style=\"text-align: left\">Hero</td><td style=\"text-align: right\">1.99</td></tr><tr><td style=\"text-align: right\">2827</td><td style=\"text-align: left\">Unfinished Business</td><td style=\"text-align: right\">1.99</td></tr><tr><td style=\"text-align: right\">2828</td><td style=\"text-align: left\">The Passage</td><td style=\"text-align: right\">1.99</td></tr><tr><td style=\"text-align: right\">2833</td><td style=\"text-align: left\">A Day In the Life</td><td style=\"text-align: right\">1.99</td></tr><tr><td style=\"text-align: right\">2837</td><td style=\"text-align: left\">Crossroads, Pt. 1</td><td style=\"text-align: right\">1.99</td></tr><tr><td style=\"text-align: right\">2838</td><td style=\"text-align: left\">Crossroads, Pt. 2</td><td style=\"text-align: right\">1.99</td></tr><tr><td style=\"text-align: right\">2839</td><td style=\"text-align: left\">Genesis</td><td style=\"text-align: right\">1.99</td></tr><tr><td style=\"text-align: right\">2841</td><td style=\"text-align: left\">One Giant Leap</td><td style=\"text-align: right\">1.99</td></tr><tr><td style=\"text-align: right\">2844</td><td style=\"text-align: left\">Better Halves</td><td style=\"text-align: right\">1.99</td></tr><tr><td style=\"text-align: right\">2845</td><td style=\"text-align: left\">Nothing to Hide</td><td style=\"text-align: right\">1.99</td></tr><tr><td style=\"text-align: right\">2846</td><td style=\"text-align: left\">Seven Minutes to Midnight</td><td style=\"text-align: right\">1.99</td></tr><tr><td style=\"text-align: right\">2851</td><td style=\"text-align: left\">Distractions</td><td style=\"text-align: right\">1.99</td></tr><tr><td style=\"text-align: right\">2855</td><td style=\"text-align: left\">Company Man</td><td style=\"text-align: right\">1.99</td></tr><tr><td style=\"text-align: right\">2856</td><td style=\"text-align: left\">Parasite</td><td style=\"text-align: right\">1.99</td></tr><tr><td style=\"text-align: right\">2859</td><td style=\"text-align: left\">Man of Science, Man of Faith (Premiere)</td><td style=\"text-align: right\">1.99</td></tr><tr><td style=\"text-align: right\">2860</td><td style=\"text-align: left\">Adrift</td><td style=\"text-align: right\">1.99</td></tr><tr><td style=\"text-align: right\">2862</td><td style=\"text-align: left\">The Glass Ballerina</td><td style=\"text-align: right\">1.99</td></tr><tr><td style=\"text-align: right\">2864</td><td style=\"text-align: left\">Orientation</td><td style=\"text-align: right\">1.99</td></tr><tr><td style=\"text-align: right\">2869</td><td style=\"text-align: left\">...And Found</td><td style=\"text-align: right\">1.99</td></tr><tr><td style=\"text-align: right\">2873</td><td style=\"text-align: left\">House of the Rising Sun</td><td style=\"text-align: right\">1.99</td></tr><tr><td style=\"text-align: right\">2874</td><td style=\"text-align: left\">I Do</td><td style=\"text-align: right\">1.99</td></tr><tr><td style=\"text-align: right\">2877</td><td style=\"text-align: left\">The Moth</td><td style=\"text-align: right\">1.99</td></tr><tr><td style=\"text-align: right\">2878</td><td style=\"text-align: left\">The Other 48 Days</td><td style=\"text-align: right\">1.99</td></tr><tr><td style=\"text-align: right\">2882</td><td style=\"text-align: left\">Lost Survival Guide</td><td style=\"text-align: right\">1.99</td></tr><tr><td style=\"text-align: right\">2883</td><td style=\"text-align: left\">Solitary</td><td style=\"text-align: right\">1.99</td></tr><tr><td style=\"text-align: right\">2886</td><td style=\"text-align: left\">Stranger In a Strange Land</td><td style=\"text-align: right\">1.99</td></tr><tr><td style=\"text-align: right\">2887</td><td style=\"text-align: left\">The 23rd Psalm</td><td style=\"text-align: right\">1.99</td></tr><tr><td style=\"text-align: right\">2891</td><td style=\"text-align: left\">Enter 77</td><td style=\"text-align: right\">1.99</td></tr><tr><td style=\"text-align: right\">2892</td><td style=\"text-align: left\">Fire + Water</td><td style=\"text-align: right\">1.99</td></tr><tr><td style=\"text-align: right\">2895</td><td style=\"text-align: left\">Par Avion</td><td style=\"text-align: right\">1.99</td></tr><tr><td style=\"text-align: right\">2896</td><td style=\"text-align: left\">The Long Con</td><td style=\"text-align: right\">1.99</td></tr><tr><td style=\"text-align: right\">2900</td><td style=\"text-align: left\">Exposé</td><td style=\"text-align: right\">1.99</td></tr><tr><td style=\"text-align: right\">2901</td><td style=\"text-align: left\">Homecoming</td><td style=\"text-align: right\">1.99</td></tr><tr><td style=\"text-align: right\">2904</td><td style=\"text-align: left\">Outlaws</td><td style=\"text-align: right\">1.99</td></tr><tr><td style=\"text-align: right\">2905</td><td style=\"text-align: left\">The Whole Truth</td><td style=\"text-align: right\">1.99</td></tr><tr><td style=\"text-align: right\">2909</td><td style=\"text-align: left\">Catch-22</td><td style=\"text-align: right\">1.99</td></tr><tr><td style=\"text-align: right\">2910</td><td style=\"text-align: left\">Dave</td><td style=\"text-align: right\">1.99</td></tr><tr><td style=\"text-align: right\">2913</td><td style=\"text-align: left\">Deus Ex Machina</td><td style=\"text-align: right\">1.99</td></tr><tr><td style=\"text-align: right\">2914</td><td style=\"text-align: left\">S.O.S.</td><td style=\"text-align: right\">1.99</td></tr><tr><td style=\"text-align: right\">2918</td><td style=\"text-align: left\">&quot;?&quot;</td><td style=\"text-align: right\">1.99</td></tr><tr><td style=\"text-align: right\">2919</td><td style=\"text-align: left\">Born to Run</td><td style=\"text-align: right\">1.99</td></tr><tr><td style=\"text-align: right\">2922</td><td style=\"text-align: left\">Live Together, Die Alone, Pt. 1</td><td style=\"text-align: right\">1.99</td></tr><tr><td style=\"text-align: right\">2923</td><td style=\"text-align: left\">Exodus (Part 2) [Season Finale]</td><td style=\"text-align: right\">1.99</td></tr><tr><td style=\"text-align: right\">3168</td><td style=\"text-align: left\">The Hard Part</td><td style=\"text-align: right\">1.99</td></tr><tr><td style=\"text-align: right\">3169</td><td style=\"text-align: left\">The Man Behind the Curtain</td><td style=\"text-align: right\">1.99</td></tr><tr><td style=\"text-align: right\">3173</td><td style=\"text-align: left\">Diversity Day</td><td style=\"text-align: right\">1.99</td></tr><tr><td style=\"text-align: right\">3178</td><td style=\"text-align: left\">The Dundies</td><td style=\"text-align: right\">1.99</td></tr><tr><td style=\"text-align: right\">3182</td><td style=\"text-align: left\">Halloween</td><td style=\"text-align: right\">1.99</td></tr><tr><td style=\"text-align: right\">3186</td><td style=\"text-align: left\">Email Surveillance</td><td style=\"text-align: right\">1.99</td></tr><tr><td style=\"text-align: right\">3187</td><td style=\"text-align: left\">Christmas Party</td><td style=\"text-align: right\">1.99</td></tr><tr><td style=\"text-align: right\">3191</td><td style=\"text-align: left\">The Carpet</td><td style=\"text-align: right\">1.99</td></tr><tr><td style=\"text-align: right\">3196</td><td style=\"text-align: left\">Michael&#x27;s Birthday</td><td style=\"text-align: right\">1.99</td></tr><tr><td style=\"text-align: right\">3201</td><td style=\"text-align: left\">The Convention</td><td style=\"text-align: right\">1.99</td></tr><tr><td style=\"text-align: right\">3202</td><td style=\"text-align: left\">The Coup</td><td style=\"text-align: right\">1.99</td></tr><tr><td style=\"text-align: right\">3204</td><td style=\"text-align: left\">The Initiation</td><td style=\"text-align: right\">1.99</td></tr><tr><td style=\"text-align: right\">3205</td><td style=\"text-align: left\">Diwali</td><td style=\"text-align: right\">1.99</td></tr><tr><td style=\"text-align: right\">3206</td><td style=\"text-align: left\">Branch Closing</td><td style=\"text-align: right\">1.99</td></tr><tr><td style=\"text-align: right\">3208</td><td style=\"text-align: left\">The Convict</td><td style=\"text-align: right\">1.99</td></tr><tr><td style=\"text-align: right\">3209</td><td style=\"text-align: left\">A Benihana Christmas, Pts. 1 &amp; 2</td><td style=\"text-align: right\">1.99</td></tr><tr><td style=\"text-align: right\">3210</td><td style=\"text-align: left\">Back from Vacation</td><td style=\"text-align: right\">1.99</td></tr><tr><td style=\"text-align: right\">3212</td><td style=\"text-align: left\">Producer&#x27;s Cut: The Return</td><td style=\"text-align: right\">1.99</td></tr><tr><td style=\"text-align: right\">3218</td><td style=\"text-align: left\">Safety Training</td><td style=\"text-align: right\">1.99</td></tr><tr><td style=\"text-align: right\">3222</td><td style=\"text-align: left\">The Job</td><td style=\"text-align: right\">1.99</td></tr><tr><td style=\"text-align: right\">3224</td><td style=\"text-align: left\">Through a Looking Glass</td><td style=\"text-align: right\">1.99</td></tr><tr><td style=\"text-align: right\">3226</td><td style=\"text-align: left\">Battlestar Galactica, Pt. 1</td><td style=\"text-align: right\">1.99</td></tr><tr><td style=\"text-align: right\">3227</td><td style=\"text-align: left\">Battlestar Galactica, Pt. 2</td><td style=\"text-align: right\">1.99</td></tr><tr><td style=\"text-align: right\">3229</td><td style=\"text-align: left\">Lost Planet of the Gods, Pt. 1</td><td style=\"text-align: right\">1.99</td></tr><tr><td style=\"text-align: right\">3230</td><td style=\"text-align: left\">Lost Planet of the Gods, Pt. 2</td><td style=\"text-align: right\">1.99</td></tr><tr><td style=\"text-align: right\">3231</td><td style=\"text-align: left\">The Lost Warrior</td><td style=\"text-align: right\">1.99</td></tr><tr><td style=\"text-align: right\">3232</td><td style=\"text-align: left\">The Long Patrol</td><td style=\"text-align: right\">1.99</td></tr><tr><td style=\"text-align: right\">3233</td><td style=\"text-align: left\">The Gun On Ice Planet Zero, Pt. 1</td><td style=\"text-align: right\">1.99</td></tr><tr><td style=\"text-align: right\">3234</td><td style=\"text-align: left\">The Gun On Ice Planet Zero, Pt. 2</td><td style=\"text-align: right\">1.99</td></tr><tr><td style=\"text-align: right\">3235</td><td style=\"text-align: left\">The Magnificent Warriors</td><td style=\"text-align: right\">1.99</td></tr><tr><td style=\"text-align: right\">3237</td><td style=\"text-align: left\">The Living Legend, Pt. 1</td><td style=\"text-align: right\">1.99</td></tr><tr><td style=\"text-align: right\">3238</td><td style=\"text-align: left\">The Living Legend, Pt. 2</td><td style=\"text-align: right\">1.99</td></tr><tr><td style=\"text-align: right\">3241</td><td style=\"text-align: left\">War of the Gods, Pt. 2</td><td style=\"text-align: right\">1.99</td></tr><tr><td style=\"text-align: right\">3244</td><td style=\"text-align: left\">Greetings from Earth, Pt. 1</td><td style=\"text-align: right\">1.99</td></tr><tr><td style=\"text-align: right\">3245</td><td style=\"text-align: left\">Greetings from Earth, Pt. 2</td><td style=\"text-align: right\">1.99</td></tr><tr><td style=\"text-align: right\">3246</td><td style=\"text-align: left\">Baltar&#x27;s Escape</td><td style=\"text-align: right\">1.99</td></tr><tr><td style=\"text-align: right\">3247</td><td style=\"text-align: left\">Experiment In Terra</td><td style=\"text-align: right\">1.99</td></tr><tr><td style=\"text-align: right\">3248</td><td style=\"text-align: left\">Take the Celestra</td><td style=\"text-align: right\">1.99</td></tr><tr><td style=\"text-align: right\">3249</td><td style=\"text-align: left\">The Hand of God</td><td style=\"text-align: right\">1.99</td></tr><tr><td style=\"text-align: right\">3252</td><td style=\"text-align: left\">Through the Looking Glass, Pt. 1</td><td style=\"text-align: right\">1.99</td></tr><tr><td style=\"text-align: right\">3337</td><td style=\"text-align: left\">Past, Present, and Future</td><td style=\"text-align: right\">1.99</td></tr><tr><td style=\"text-align: right\">3338</td><td style=\"text-align: left\">The Beginning of the End</td><td style=\"text-align: right\">1.99</td></tr><tr><td style=\"text-align: right\">3342</td><td style=\"text-align: left\">The Economist</td><td style=\"text-align: right\">1.99</td></tr><tr><td style=\"text-align: right\">3346</td><td style=\"text-align: left\">Ji Yeon</td><td style=\"text-align: right\">1.99</td></tr><tr><td style=\"text-align: right\">3347</td><td style=\"text-align: left\">Meet Kevin Johnson</td><td style=\"text-align: right\">1.99</td></tr></tbody></table>"
      ],
      "text/plain": [
       "<IPython.core.display.HTML object>"
      ]
     },
     "execution_count": 19,
     "metadata": {},
     "output_type": "execute_result"
    }
   ],
   "source": [
    "%%sql ANSWER CELL 3.4 (DO NOT REMOVE OR CHANGE THIS LINE)\n",
    "SELECT Track.TrackId, Track.Name, SUM(InvoiceLine.Quantity*InvoiceLine.UnitPrice) AS Revenue\n",
    "FROM Track\n",
    "LEFT JOIN InvoiceLine ON InvoiceLine.TrackId = Track.TrackId\n",
    "GROUP BY Track.TrackId\n",
    "ORDER BY Revenue DESC"
   ]
  },
  {
   "cell_type": "markdown",
   "id": "c7b1b2a2",
   "metadata": {},
   "source": [
    "### Assignment 3.5 (2 points)"
   ]
  },
  {
   "cell_type": "markdown",
   "id": "651f3167",
   "metadata": {},
   "source": [
    "Write an SQL query to return tracks that were never sold. \n",
    "\n",
    "Return the following columns in the result set: track id and track name.\n",
    "\n",
    "Hint: You can use a nested query that returns tracks that were sold at least once."
   ]
  },
  {
   "cell_type": "code",
   "execution_count": 20,
   "id": "9da263c7",
   "metadata": {},
   "outputs": [
    {
     "name": "stdout",
     "output_type": "stream",
     "text": [
      "Showing only the first 100 rows\n"
     ]
    },
    {
     "data": {
      "text/html": [
       "<table><thead><tr><th style=\"text-align: left\">TrackId</th><th style=\"text-align: left\">Name</th></tr></thead><tbody><tr><td style=\"text-align: right\">7</td><td style=\"text-align: left\">Let&#x27;s Get It Up</td></tr><tr><td style=\"text-align: right\">11</td><td style=\"text-align: left\">C.O.D.</td></tr><tr><td style=\"text-align: right\">17</td><td style=\"text-align: left\">Let There Be Rock</td></tr><tr><td style=\"text-align: right\">18</td><td style=\"text-align: left\">Bad Boy Boogie</td></tr><tr><td style=\"text-align: right\">22</td><td style=\"text-align: left\">Whole Lotta Rosie</td></tr><tr><td style=\"text-align: right\">23</td><td style=\"text-align: left\">Walk On Water</td></tr><tr><td style=\"text-align: right\">27</td><td style=\"text-align: left\">Dude (Looks Like A Lady)</td></tr><tr><td style=\"text-align: right\">29</td><td style=\"text-align: left\">Cryin&#x27;</td></tr><tr><td style=\"text-align: right\">33</td><td style=\"text-align: left\">The Other Side</td></tr><tr><td style=\"text-align: right\">34</td><td style=\"text-align: left\">Crazy</td></tr><tr><td style=\"text-align: right\">35</td><td style=\"text-align: left\">Eat The Rich</td></tr><tr><td style=\"text-align: right\">40</td><td style=\"text-align: left\">Perfect</td></tr><tr><td style=\"text-align: right\">41</td><td style=\"text-align: left\">Hand In My Pocket</td></tr><tr><td style=\"text-align: right\">45</td><td style=\"text-align: left\">Head Over Feet</td></tr><tr><td style=\"text-align: right\">46</td><td style=\"text-align: left\">Mary Jane</td></tr><tr><td style=\"text-align: right\">47</td><td style=\"text-align: left\">Ironic</td></tr><tr><td style=\"text-align: right\">50</td><td style=\"text-align: left\">You Oughta Know (Alternate)</td></tr><tr><td style=\"text-align: right\">51</td><td style=\"text-align: left\">We Die Young</td></tr><tr><td style=\"text-align: right\">52</td><td style=\"text-align: left\">Man In The Box</td></tr><tr><td style=\"text-align: right\">56</td><td style=\"text-align: left\">Love, Hate, Love</td></tr><tr><td style=\"text-align: right\">58</td><td style=\"text-align: left\">Sunshine</td></tr><tr><td style=\"text-align: right\">59</td><td style=\"text-align: left\">Put You Down</td></tr><tr><td style=\"text-align: right\">63</td><td style=\"text-align: left\">Desafinado</td></tr><tr><td style=\"text-align: right\">64</td><td style=\"text-align: left\">Garota De Ipanema</td></tr><tr><td style=\"text-align: right\">65</td><td style=\"text-align: left\">Samba De Uma Nota Só (One Note Samba)</td></tr><tr><td style=\"text-align: right\">68</td><td style=\"text-align: left\">Fotografia</td></tr><tr><td style=\"text-align: right\">69</td><td style=\"text-align: left\">Dindi (Dindi)</td></tr><tr><td style=\"text-align: right\">70</td><td style=\"text-align: left\">Se Todos Fossem Iguais A Você (Instrumental)</td></tr><tr><td style=\"text-align: right\">73</td><td style=\"text-align: left\">Corcovado (Quiet Nights Of Quiet Stars)</td></tr><tr><td style=\"text-align: right\">74</td><td style=\"text-align: left\">Outra Vez</td></tr><tr><td style=\"text-align: right\">77</td><td style=\"text-align: left\">Enter Sandman</td></tr><tr><td style=\"text-align: right\">79</td><td style=\"text-align: left\">Harvester Of Sorrow</td></tr><tr><td style=\"text-align: right\">81</td><td style=\"text-align: left\">Sad But True</td></tr><tr><td style=\"text-align: right\">82</td><td style=\"text-align: left\">Creeping Death</td></tr><tr><td style=\"text-align: right\">83</td><td style=\"text-align: left\">Wherever I May Roam</td></tr><tr><td style=\"text-align: right\">86</td><td style=\"text-align: left\">Show Me How to Live</td></tr><tr><td style=\"text-align: right\">87</td><td style=\"text-align: left\">Gasoline</td></tr><tr><td style=\"text-align: right\">88</td><td style=\"text-align: left\">What You Are</td></tr><tr><td style=\"text-align: right\">91</td><td style=\"text-align: left\">Shadow on the Sun</td></tr><tr><td style=\"text-align: right\">92</td><td style=\"text-align: left\">I am the Highway</td></tr><tr><td style=\"text-align: right\">95</td><td style=\"text-align: left\">Bring&#x27;em Back Alive</td></tr><tr><td style=\"text-align: right\">96</td><td style=\"text-align: left\">Light My Way</td></tr><tr><td style=\"text-align: right\">97</td><td style=\"text-align: left\">Getaway Car</td></tr><tr><td style=\"text-align: right\">100</td><td style=\"text-align: left\">Out Of Exile</td></tr><tr><td style=\"text-align: right\">101</td><td style=\"text-align: left\">Be Yourself</td></tr><tr><td style=\"text-align: right\">104</td><td style=\"text-align: left\">Heaven&#x27;s Dead</td></tr><tr><td style=\"text-align: right\">105</td><td style=\"text-align: left\">The Worm</td></tr><tr><td style=\"text-align: right\">106</td><td style=\"text-align: left\">Man Or Animal</td></tr><tr><td style=\"text-align: right\">109</td><td style=\"text-align: left\">#1 Zero</td></tr><tr><td style=\"text-align: right\">110</td><td style=\"text-align: left\">The Curse</td></tr><tr><td style=\"text-align: right\">113</td><td style=\"text-align: left\">Bad Boy</td></tr><tr><td style=\"text-align: right\">114</td><td style=\"text-align: left\">Twist And Shout</td></tr><tr><td style=\"text-align: right\">115</td><td style=\"text-align: left\">Please Mr. Postman</td></tr><tr><td style=\"text-align: right\">118</td><td style=\"text-align: left\">Slow Down</td></tr><tr><td style=\"text-align: right\">119</td><td style=\"text-align: left\">Roadrunner</td></tr><tr><td style=\"text-align: right\">122</td><td style=\"text-align: left\">20 Flight Rock</td></tr><tr><td style=\"text-align: right\">123</td><td style=\"text-align: left\">Quadrant</td></tr><tr><td style=\"text-align: right\">124</td><td style=\"text-align: left\">Snoopy&#x27;s search-Red baron</td></tr><tr><td style=\"text-align: right\">127</td><td style=\"text-align: left\">Stratus</td></tr><tr><td style=\"text-align: right\">128</td><td style=\"text-align: left\">The pleasant pheasant</td></tr><tr><td style=\"text-align: right\">131</td><td style=\"text-align: left\">Intro/ Low Down</td></tr><tr><td style=\"text-align: right\">132</td><td style=\"text-align: left\">13 Years Of Grief</td></tr><tr><td style=\"text-align: right\">133</td><td style=\"text-align: left\">Stronger Than Death</td></tr><tr><td style=\"text-align: right\">136</td><td style=\"text-align: left\">Phoney Smile Fake Hellos</td></tr><tr><td style=\"text-align: right\">137</td><td style=\"text-align: left\">Lost My Better Half</td></tr><tr><td style=\"text-align: right\">140</td><td style=\"text-align: left\">Born To Booze</td></tr><tr><td style=\"text-align: right\">141</td><td style=\"text-align: left\">World Of Trouble</td></tr><tr><td style=\"text-align: right\">142</td><td style=\"text-align: left\">No More Tears</td></tr><tr><td style=\"text-align: right\">145</td><td style=\"text-align: left\">Snowblind</td></tr><tr><td style=\"text-align: right\">146</td><td style=\"text-align: left\">Like A Bird</td></tr><tr><td style=\"text-align: right\">149</td><td style=\"text-align: left\">Black Sabbath</td></tr><tr><td style=\"text-align: right\">150</td><td style=\"text-align: left\">The Wizard</td></tr><tr><td style=\"text-align: right\">151</td><td style=\"text-align: left\">Behind The Wall Of Sleep</td></tr><tr><td style=\"text-align: right\">154</td><td style=\"text-align: left\">Sleeping Village</td></tr><tr><td style=\"text-align: right\">155</td><td style=\"text-align: left\">Warning</td></tr><tr><td style=\"text-align: right\">156</td><td style=\"text-align: left\">Wheels Of Confusion / The Straightener</td></tr><tr><td style=\"text-align: right\">158</td><td style=\"text-align: left\">Changes</td></tr><tr><td style=\"text-align: right\">159</td><td style=\"text-align: left\">FX</td></tr><tr><td style=\"text-align: right\">160</td><td style=\"text-align: left\">Supernaut</td></tr><tr><td style=\"text-align: right\">164</td><td style=\"text-align: left\">St. Vitus Dance</td></tr><tr><td style=\"text-align: right\">168</td><td style=\"text-align: left\">Now Sports</td></tr><tr><td style=\"text-align: right\">172</td><td style=\"text-align: left\">The Real Problem</td></tr><tr><td style=\"text-align: right\">174</td><td style=\"text-align: left\">D Note</td></tr><tr><td style=\"text-align: right\">176</td><td style=\"text-align: left\">The Winner Loses</td></tr><tr><td style=\"text-align: right\">177</td><td style=\"text-align: left\">There Goes The Neighborhood</td></tr><tr><td style=\"text-align: right\">178</td><td style=\"text-align: left\">Oprah</td></tr><tr><td style=\"text-align: right\">181</td><td style=\"text-align: left\">Momma&#x27;s Gotta Die Tonight</td></tr><tr><td style=\"text-align: right\">182</td><td style=\"text-align: left\">Freedom Of Speech</td></tr><tr><td style=\"text-align: right\">197</td><td style=\"text-align: left\">Pretty Baby</td></tr><tr><td style=\"text-align: right\">200</td><td style=\"text-align: left\">She Suits Me To A Tee</td></tr><tr><td style=\"text-align: right\">201</td><td style=\"text-align: left\">Keep It To Myself (Aka Keep It To Yourself)</td></tr><tr><td style=\"text-align: right\">203</td><td style=\"text-align: left\">Too Many Ways (Alternate)</td></tr><tr><td style=\"text-align: right\">204</td><td style=\"text-align: left\">Talkin&#x27; &#x27;Bout Women Obviously</td></tr><tr><td style=\"text-align: right\">212</td><td style=\"text-align: left\">Drão</td></tr><tr><td style=\"text-align: right\">220</td><td style=\"text-align: left\">A Luz De Tieta</td></tr><tr><td style=\"text-align: right\">224</td><td style=\"text-align: left\">Sozinho (Hitmakers Classic Radio Edit)</td></tr><tr><td style=\"text-align: right\">226</td><td style=\"text-align: left\">Carolina</td></tr><tr><td style=\"text-align: right\">227</td><td style=\"text-align: left\">Essa Moça Ta Diferente</td></tr><tr><td style=\"text-align: right\">239</td><td style=\"text-align: left\">Brejo Da Cruz</td></tr><tr><td style=\"text-align: right\">243</td><td style=\"text-align: left\">Vai Trabalhar Vagabundo</td></tr></tbody></table>"
      ],
      "text/plain": [
       "<IPython.core.display.HTML object>"
      ]
     },
     "execution_count": 20,
     "metadata": {},
     "output_type": "execute_result"
    }
   ],
   "source": [
    "%%sql ANSWER CELL 3.5 (DO NOT REMOVE OR CHANGE THIS LINE)\n",
    "SELECT TrackId, Name\n",
    "FROM Track\n",
    "WHERE TrackId NOT IN (SELECT TrackId FROM InvoiceLine)"
   ]
  },
  {
   "cell_type": "markdown",
   "id": "c6c13f49",
   "metadata": {},
   "source": [
    "### Assignment 3.6 (2 points)"
   ]
  },
  {
   "cell_type": "markdown",
   "id": "da57ec82",
   "metadata": {},
   "source": [
    "Write an SQL query to return all genres with at least 100 tracks in the store. Include the number of tracks for each genre.\n",
    "\n",
    "Return the following columns in the result set: genre id, genre name and the number of tracks."
   ]
  },
  {
   "cell_type": "code",
   "execution_count": 21,
   "id": "12e1ee18",
   "metadata": {},
   "outputs": [
    {
     "data": {
      "text/html": [
       "<table><thead><tr><th style=\"text-align: left\">GenreId</th><th style=\"text-align: left\">Name</th><th style=\"text-align: left\">TrackCount</th></tr></thead><tbody><tr><td style=\"text-align: right\">1</td><td style=\"text-align: left\">Rock</td><td style=\"text-align: right\">1297</td></tr><tr><td style=\"text-align: right\">2</td><td style=\"text-align: left\">Jazz</td><td style=\"text-align: right\">130</td></tr><tr><td style=\"text-align: right\">3</td><td style=\"text-align: left\">Metal</td><td style=\"text-align: right\">374</td></tr><tr><td style=\"text-align: right\">4</td><td style=\"text-align: left\">Alternative &amp; Punk</td><td style=\"text-align: right\">332</td></tr><tr><td style=\"text-align: right\">7</td><td style=\"text-align: left\">Latin</td><td style=\"text-align: right\">579</td></tr></tbody></table>"
      ],
      "text/plain": [
       "<IPython.core.display.HTML object>"
      ]
     },
     "execution_count": 21,
     "metadata": {},
     "output_type": "execute_result"
    }
   ],
   "source": [
    "%%sql ANSWER CELL 3.6 (DO NOT REMOVE OR CHANGE THIS LINE)\n",
    "SELECT Genre.GenreId, Genre.Name, COUNT(Track.TrackId) AS TrackCount\n",
    "FROM Genre, Track\n",
    "WHERE Track.GenreId = Genre.GenreId\n",
    "GROUP BY Genre.GenreId\n",
    "HAVING TrackCount >= 100"
   ]
  },
  {
   "cell_type": "markdown",
   "id": "48492e1f",
   "metadata": {},
   "source": [
    "### Assignment 3.7 (2 points)"
   ]
  },
  {
   "cell_type": "markdown",
   "id": "8650a88d",
   "metadata": {},
   "source": [
    "Write SQL statements that insert a new invoice with the id 413 to the database. The invoice was issued today to the customer with the id 7 for buying a track with the id 77. The customer paid 0.99. (You do not need to insert any values for the NOT NULL fields.)\n",
    "\n",
    "Note: in the web interface you will need to run the statements one by one (you will not be able to write all statements separated by semicolons and then run them together). In the answer cell, include all statements and separate them by semicolons."
   ]
  },
  {
   "cell_type": "code",
   "execution_count": 22,
   "id": "36af3a6d",
   "metadata": {},
   "outputs": [
    {
     "name": "stdout",
     "output_type": "stream",
     "text": [
      "Done!\n"
     ]
    }
   ],
   "source": [
    "%%sql_script \n",
    "-- ANSWER CELL 3.7 (DO NOT REMOVE OR CHANGE THIS LINE)\n",
    "\n",
    "INSERT INTO Invoice(InvoiceId, CustomerId, InvoiceDate, Total) VALUES (413, 7, '2021-07-15', 0.99);\n",
    "INSERT INTO InvoiceLine(InvoiceLineId, InvoiceId, TrackId, UnitPrice, Quantity) VALUES (2241, 413, 77, 0.99, 1)"
   ]
  },
  {
   "cell_type": "markdown",
   "id": "63b9194b",
   "metadata": {},
   "source": [
    "### Assignment 3.8 (2 points)"
   ]
  },
  {
   "cell_type": "markdown",
   "id": "7fdfa68c",
   "metadata": {},
   "source": [
    "Related to the previous task, we need to guarantee that either all statements get executed as a unit (and both the invoice and all of its invoice lines get stored), or none does (e.g. in case of a software or hardware failure after processing the first statement). Explain what we need to do in SQL to guarantee this. What ACID property is related to this?\n",
    "\n",
    "Note: this is a theoretical question, you are not expected to write or run SQL statements. (In fact, the web interface does not support the feature you need to use.)"
   ]
  },
  {
   "cell_type": "raw",
   "id": "66811c87",
   "metadata": {},
   "source": [
    "-- ANSWER CELL 3.8 (DO NOT REMOVE OR CHANGE THIS LINE)\n",
    "\n",
    "We need to run the statements in a \"transaction\".\n",
    "\n",
    "In SQL we add BEGIN (or START TRANSACTION) at the beginning of the transaction and COMMIT at the end (to commit all changes).\n",
    "\n",
    "The related property is \"atomicity\".\n",
    "\n",
    "Including all statements was not required, but well done if you did:\n",
    "\n",
    "BEGIN;\n",
    "INSERT INTO Invoice(InvoiceId, CustomerId, InvoiceDate, Total) VALUES (413, 7, '2021-07-15', 0.99);\n",
    "INSERT INTO InvoiceLine(InvoiceLineId, InvoiceId, TrackId, UnitPrice, Quantity) VALUES (2241, 413, 77, 0.99, 1);\n",
    "COMMIT"
   ]
  },
  {
   "cell_type": "markdown",
   "id": "06a5c703",
   "metadata": {},
   "source": [
    "### Assignment 3.9 (2 points)"
   ]
  },
  {
   "cell_type": "markdown",
   "id": "727f7af9",
   "metadata": {},
   "source": [
    "Every time a customer logs in to the online store (using their email as the username), the following query is executed to find out the name of the customer:\n",
    "```sql\n",
    "SELECT FirstName, LastName FROM Customer WHERE Email = ?\n",
    "```\n",
    "(The question mark represents a placeholder that is replaced by the customer’s email address.) The database server needs to go through all records in the Customer table to answer the query. What can we do to avoid this and significantly reduce the execution time? Include an SQL statement in your answer."
   ]
  },
  {
   "cell_type": "code",
   "execution_count": 23,
   "id": "7aad7003",
   "metadata": {},
   "outputs": [
    {
     "name": "stdout",
     "output_type": "stream",
     "text": [
      "Done!\n"
     ]
    }
   ],
   "source": [
    "%%sql ANSWER CELL 3.9 (DO NOT REMOVE OR CHANGE THIS LINE)\n",
    "\n",
    "-- We need to index the Email column in the Customer table:\n",
    "\n",
    "CREATE INDEX Customer_Email ON Customer(Email)"
   ]
  },
  {
   "cell_type": "markdown",
   "id": "902030e9",
   "metadata": {},
   "source": [
    "### Assignment 3.10 (2 points)"
   ]
  },
  {
   "cell_type": "markdown",
   "id": "fb1d69ad",
   "metadata": {},
   "source": [
    "The store owner wants to add a new feature to rate tracks. A customer can rate any track by giving it between 1 and 10 stars. The rating can be accompanied by an optional review (that can be a longer text). The same customer can rate the same track only once.\n",
    "\n",
    "Extend the database by adding a new table or tables to support this feature. You don't need to explain your reasoning, only include the SQL statement(s) to create the new table(s). Remember to include NOT NULL constraints and constraints for the primary and foreign keys."
   ]
  },
  {
   "cell_type": "code",
   "execution_count": 24,
   "id": "1f7afdf1",
   "metadata": {},
   "outputs": [
    {
     "name": "stdout",
     "output_type": "stream",
     "text": [
      "Done!\n"
     ]
    }
   ],
   "source": [
    "%%sql ANSWER CELL 3.10 (DO NOT REMOVE OR CHANGE THIS LINE)\n",
    "\n",
    "CREATE TABLE Rating\n",
    "(\n",
    "    CustomerId INTEGER NOT NULL,\n",
    "    TrackId INTEGER NOT NULL,\n",
    "    Rating INTEGER NOT NULL,\n",
    "    Review TEXT,\n",
    "    PRIMARY KEY (CustomerId, TrackId),\n",
    "    FOREIGN KEY (CustomerId) REFERENCES Customer(CustomerId),\n",
    "    FOREIGN KEY (TrackId) REFERENCES Track(TrackId)\n",
    ")\n",
    "\n",
    "-- If you also added a CHECK constraint, well done!"
   ]
  },
  {
   "cell_type": "markdown",
   "id": "0ec1bcf2",
   "metadata": {},
   "source": [
    "## Appendix A. Database schema\n",
    "\n",
    "Note: `NVARCHAR`, `INTEGER` and `NUMERIC` are synonymous with `VARCHAR`, `INT` and `DECIMAL`.\n",
    "\n",
    "```sql\n",
    "CREATE TABLE Album\n",
    "(\n",
    "   AlbumId INTEGER NOT NULL,\n",
    "   Title NVARCHAR(160) NOT NULL,\n",
    "   ArtistId INTEGER NOT NULL,\n",
    "   PRIMARY KEY (AlbumId),\n",
    "   FOREIGN KEY (ArtistId) REFERENCES Artist (ArtistId)\n",
    ");\n",
    "CREATE TABLE Artist\n",
    "(\n",
    "   ArtistId INTEGER NOT NULL,\n",
    "   Name NVARCHAR(120),\n",
    "   PRIMARY KEY (ArtistId)\n",
    ");\n",
    "CREATE TABLE Customer\n",
    "(\n",
    "   CustomerId INTEGER NOT NULL,\n",
    "   FirstName NVARCHAR(40) NOT NULL,\n",
    "   LastName NVARCHAR(20) NOT NULL,\n",
    "   Company NVARCHAR(80),\n",
    "   Address NVARCHAR(70),\n",
    "   City NVARCHAR(40),\n",
    "   State NVARCHAR(40),\n",
    "   Country NVARCHAR(40),\n",
    "   PostalCode NVARCHAR(10),\n",
    "   Phone NVARCHAR(24),\n",
    "   Fax NVARCHAR(24),\n",
    "   Email NVARCHAR(60) NOT NULL,\n",
    "   SupportRepId INTEGER,\n",
    "   PRIMARY KEY (CustomerId),\n",
    "   FOREIGN KEY (SupportRepId) REFERENCES Employee (EmployeeId)\n",
    ");\n",
    "CREATE TABLE Employee\n",
    "(\n",
    "   EmployeeId INTEGER NOT NULL,\n",
    "   LastName NVARCHAR(20) NOT NULL,\n",
    "   FirstName NVARCHAR(20) NOT NULL,\n",
    "   Title NVARCHAR(30),\n",
    "   ReportsTo INTEGER,\n",
    "   BirthDate DATETIME,\n",
    "   HireDate DATETIME,\n",
    "   Address NVARCHAR(70),\n",
    "   City NVARCHAR(40),\n",
    "   State NVARCHAR(40),\n",
    "   Country NVARCHAR(40),\n",
    "   PostalCode NVARCHAR(10),\n",
    "   Phone NVARCHAR(24),\n",
    "   Fax NVARCHAR(24),\n",
    "   Email NVARCHAR(60),\n",
    "   PRIMARY KEY (EmployeeId),\n",
    "   FOREIGN KEY (ReportsTo) REFERENCES Employee (EmployeeId)\n",
    ");\n",
    "CREATE TABLE Genre\n",
    "(\n",
    "   GenreId INTEGER NOT NULL,\n",
    "   Name NVARCHAR(120),\n",
    "   PRIMARY KEY (GenreId)\n",
    ");\n",
    "5\n",
    "CREATE TABLE Invoice\n",
    "(\n",
    "   InvoiceId INTEGER NOT NULL,\n",
    "   CustomerId INTEGER NOT NULL,\n",
    "   InvoiceDate DATETIME NOT NULL,\n",
    "   BillingAddress NVARCHAR(70),\n",
    "   BillingCity NVARCHAR(40),\n",
    "   BillingState NVARCHAR(40),\n",
    "   BillingCountry NVARCHAR(40),\n",
    "   BillingPostalCode NVARCHAR(10),\n",
    "   Total NUMERIC(10,2) NOT NULL,\n",
    "   PRIMARY KEY (InvoiceId),\n",
    "   FOREIGN KEY (CustomerId) REFERENCES Customer (CustomerId)\n",
    ");\n",
    "CREATE TABLE InvoiceLine\n",
    "(\n",
    "   InvoiceLineId INTEGER NOT NULL,\n",
    "   InvoiceId INTEGER NOT NULL,\n",
    "   TrackId INTEGER NOT NULL,\n",
    "   UnitPrice NUMERIC(10,2) NOT NULL,\n",
    "   Quantity INTEGER NOT NULL,\n",
    "   PRIMARY KEY (InvoiceLineId),\n",
    "   FOREIGN KEY (InvoiceId) REFERENCES Invoice (InvoiceId),\n",
    "   FOREIGN KEY (TrackId) REFERENCES Track (TrackId)\n",
    ");\n",
    "CREATE TABLE MediaType\n",
    "(\n",
    "   MediaTypeId INTEGER NOT NULL,\n",
    "   Name NVARCHAR(120),\n",
    "   PRIMARY KEY (MediaTypeId)\n",
    ");\n",
    "CREATE TABLE Playlist\n",
    "(\n",
    "   PlaylistId INTEGER NOT NULL,\n",
    "   Name NVARCHAR(120),\n",
    "   PRIMARY KEY (PlaylistId)\n",
    ");\n",
    "CREATE TABLE PlaylistTrack\n",
    "(\n",
    "   PlaylistId INTEGER NOT NULL,\n",
    "   TrackId INTEGER NOT NULL,\n",
    "   PRIMARY KEY (PlaylistId, TrackId),\n",
    "   FOREIGN KEY (PlaylistId) REFERENCES Playlist (PlaylistId),\n",
    "   FOREIGN KEY (TrackId) REFERENCES Track (TrackId)\n",
    ");\n",
    "CREATE TABLE Track\n",
    "(\n",
    "   TrackId INTEGER NOT NULL,\n",
    "   Name NVARCHAR(200) NOT NULL,\n",
    "   AlbumId INTEGER,\n",
    "   MediaTypeId INTEGER NOT NULL,\n",
    "   GenreId INTEGER,\n",
    "   Composer NVARCHAR(220),\n",
    "   Milliseconds INTEGER NOT NULL,\n",
    "   Bytes INTEGER,\n",
    "   UnitPrice NUMERIC(10,2) NOT NULL,\n",
    "   PRIMARY KEY (TrackId),\n",
    "   FOREIGN KEY (AlbumId) REFERENCES Album (AlbumId),\n",
    "   FOREIGN KEY (GenreId) REFERENCES Genre (GenreId),\n",
    "   FOREIGN KEY (MediaTypeId) REFERENCES MediaType (MediaTypeId)\n",
    ");\n",
    "```"
   ]
  },
  {
   "cell_type": "markdown",
   "id": "7bc57acc",
   "metadata": {},
   "source": [
    "# Exam in GRA 4142 Data Management and Python Programming\n",
    "\n",
    "#### 29 November 2021 noon – 30 November 2021 noon (Fall 2021)\n",
    "\n",
    "### Instructions\n",
    "\n",
    "Download all files attached to this exam, place them in the same directory, and open the Python notebook file (exam-fall-2021.ipynb).\n",
    "\n",
    "**Your solutions must be given in the notebook's answer cells marked with \"ANSWER CELL\" on the first line. Do not remove these markings. If you are asked to implement a Python function, do not change the function name or its parameters that are already filled out in the cell.** You are allowed to add additional cells if you have need for them but you are not allowed to remove any cells you have not added yourself.\n",
    "\n",
    "The assignments are divided into three sections:\n",
    "1. Python programming (4 assignments, 8 points + possibility for 1 bonus point)\n",
    "2. Pandas (6 assignments, 12 points + possibility for 1 bonus point)\n",
    "3. SQL (10 assignments, 20 points + possibility for 1 bonus point)\n",
    "\n",
    "There are additional instructions for *Pandas* and *SQL* at the beginning of these sections.\n",
    "\n",
    "Read all assignments before you start solving them. If you believe that some assignments need further clarification, send an email to Jan Kudlicka (jan.kudlicka@bi.no) as soon as possible.\n",
    "\n",
    "Remember to save and back up the notebook periodically.\n",
    "\n",
    "### Allowed aids\n",
    "\n",
    "- You are allowed to use all course material and your notes.\n",
    "- You are allowed to use resources on Internet but you need to **list the URLs of all used resources in the corresponding resources cell** at the end of each section.\n",
    "- You are **NOT** allowed to get help from other people to solve the assignments.\n",
    "\n",
    "### Submission\n",
    "\n",
    "Submit the notebook (the ipynb file) with your solutions filled in to WISEflow before the deadline. Remember that the deadline is sharp, so do not wait until the very last minute to do so.\n",
    "\n",
    "**Make sure to fill out your student ID below!**\n",
    "\n",
    "### Preliminary grading criteria\n",
    "\n",
    "To pass the exam you need to gain at least:\n",
    "- 4 points in the Python programming section, and\n",
    "- 6 points in the Pandas section, and\n",
    "- 10 points in the SQL section, and\n",
    "- 25 points in total.\n",
    "\n",
    "Failing to meet either of these criteria means failing the exam (i.e. grade F).\n",
    "\n",
    "If you fulfill all criteria, your grade will be determined by the total number of points:\n",
    "\n",
    "| Points   | Grade |\n",
    "|----------|-------|\n",
    "| >= 25    |     E |\n",
    "| >= 28    |     D |\n",
    "| >= 31    |     C |\n",
    "| >= 34    |     B |\n",
    "| >= 37    |     A |"
   ]
  },
  {
   "cell_type": "markdown",
   "id": "9e43f7b0",
   "metadata": {},
   "source": [
    "## Your student ID"
   ]
  },
  {
   "cell_type": "raw",
   "id": "cf3297bc",
   "metadata": {},
   "source": []
  },
  {
   "cell_type": "code",
   "execution_count": 1,
   "id": "399b844a",
   "metadata": {},
   "outputs": [
    {
     "name": "stderr",
     "output_type": "stream",
     "text": []
    }
   ],
   "source": [
    "import numpy as np\n",
    "import pandas as pd\n",
    "import matplotlib.pyplot as plt\n",
    "import seaborn as sns\n",
    "\n",
    "pd.set_option(\"display.max_columns\", None)  # Do not hide any columns in data frames\n",
    "\n",
    "%matplotlib inline\n",
    "plt.rcParams[\"figure.figsize\"] = (15, 5)    # Default width and height for figures\n",
    "sns.set_theme(style=\"darkgrid\")"
   ]
  },
  {
   "cell_type": "markdown",
   "id": "a0d90d98",
   "metadata": {},
   "source": [
    "## 1. Python programming"
   ]
  },
  {
   "cell_type": "markdown",
   "id": "9b1348f3",
   "metadata": {},
   "source": [
    "### Assignment 1.1 (2 points)\n",
    "\n",
    "Write a program to print all 4-digit numbers that:\n",
    "\n",
    "- are divisible by 7, and\n",
    "- their digits form a strictly increasing sequence.\n",
    "\n",
    "Print each number on a separate line.\n",
    "\n",
    "For example, 1239 is one of these numbers, as it is divisible by 7 (1239 = 177 * 7) and 1 < 2 < 3 < 9, but not 1234 nor 1253, as the former is not divisible by 7 and the latter's digits (1, 2, 5, 3) do not form a strictly increasing sequence (3 is not greater than 5).\n",
    "\n",
    "(There are 18 such numbers.)"
   ]
  },
  {
   "cell_type": "code",
   "execution_count": 2,
   "id": "d9780c50",
   "metadata": {},
   "outputs": [
    {
     "name": "stdout",
     "output_type": "stream",
     "text": [
      "1239\n",
      "1246\n",
      "1267\n",
      "1358\n",
      "1379\n",
      "1456\n",
      "1568\n",
      "1589\n",
      "2345\n",
      "2359\n",
      "2457\n",
      "2478\n",
      "2569\n",
      "3458\n",
      "3479\n",
      "3689\n",
      "4578\n",
      "5789\n"
     ]
    }
   ],
   "source": [
    "# ANSWER CELL 1.1 (DO NOT REMOVE OR CHANGE THIS LINE)\n",
    "\n",
    "for number in range(1000, 10000):\n",
    "    number_str = str(number)\n",
    "    if number % 7 == 0 and number_str[0] < number_str[1] < number_str[2] < number_str[3]:\n",
    "        print(number)"
   ]
  },
  {
   "cell_type": "markdown",
   "id": "4015e684",
   "metadata": {},
   "source": [
    "### Assignment 1.2 (2 points)\n",
    "\n",
    "Write a function `max_words` that accepts a list of strings representing lines in a text file, and returns the maximum number of words on a single line. If the list is empty, the function must return 0. Use the string method `split` (without specifying the separator) to split a line into a list of words.\n",
    "\n",
    "#### Sample arguments and return values\n",
    "\n",
    "```\n",
    "Argument: [\"A B, C!\", \"\", \"  'A B!', C D E. \"]\n",
    "Returns: 5\n",
    "```\n",
    "```\n",
    "Argument: Lines of the file \"shakespeare_sonnets.txt\" (as a list of string)\n",
    "Returns: 10\n",
    "```\n",
    "```\n",
    "Argument: []\n",
    "Returns: 0\n",
    "```"
   ]
  },
  {
   "cell_type": "code",
   "execution_count": 3,
   "id": "012caf4a",
   "metadata": {},
   "outputs": [
    {
     "name": "stdout",
     "output_type": "stream",
     "text": [
      "Test 1 passed: True\n",
      "Test 2 passed: True\n",
      "Test 3 passed: True\n"
     ]
    }
   ],
   "source": [
    "# ANSWER CELL 1.2 (DO NOT REMOVE OR CHANGE THIS LINE)\n",
    "\n",
    "def max_words(lines):\n",
    "    pass\n",
    "    # Add your code here.\n",
    "    if not lines:\n",
    "        return 0\n",
    "    return max(len(line.split()) for line in lines)\n",
    "\n",
    "\n",
    "print(\"Test 1 passed:\", max_words([\"A B, C!\", \"\", \"  'A B!', C D E. \"]) == 5)\n",
    "print(\"Test 2 passed:\", max_words(list(open(\"shakespeare_sonnets.txt\").readlines())) == 10)\n",
    "print(\"Test 3 passed:\", max_words([]) == 0)"
   ]
  },
  {
   "cell_type": "markdown",
   "id": "da2b3a86",
   "metadata": {},
   "source": [
    "### Assignment 1.3 (2 points + possibility for 1 bonus point)\n",
    "\n",
    "Write a function `intersection` that accepts two lists and returns their *intersection*, that is, a list of all unique elements of the first list that are also present in the second list. The order of elements in the returned list is not important. You are **not** allowed to use sets and set operations in your implementation.\n",
    "\n",
    "#### Sample arguments and return values\n",
    "\n",
    "```\n",
    "Arguments: [2, 1, 5, 3, 4] and [7, 6, 5, 4, 3]\n",
    "Returns: [3, 4, 5] (in any order)\n",
    "```\n",
    "```\n",
    "Arguments: [8, 1, 2, 3, 3, 3] and [2, 2, 3, 3, 4, 4]\n",
    "Returns: [2, 3] (in any order)\n",
    "```\n",
    "\n",
    "#### Bonus point challenge (optional)\n",
    "\n",
    "In addition to the function described above, write a function `intersection_dict` that accepts two lists and returns their intersection as a dictionary. The keys of this dictionary are the elements that are present in both lists (you can assume that the elements are immutable and can be used as keys), and the value for each key is the minimum of the occurrence counts of the key in both lists. (You are not allowed to use sets and set operations in your implementation.)\n",
    "\n",
    "#### Sample arguments and return values\n",
    "\n",
    "```\n",
    "Arguments: [8, 1, 2, 3, 3, 3] and [2, 2, 3, 3, 4, 4]\n",
    "Returns: {2: 1, 3: 2}\n",
    "```"
   ]
  },
  {
   "cell_type": "code",
   "execution_count": 4,
   "id": "718b4090",
   "metadata": {},
   "outputs": [
    {
     "name": "stdout",
     "output_type": "stream",
     "text": [
      "Test 1 passed: True\n",
      "Test 2 passed: True\n",
      "Bonus point challenge:\n",
      "Test 1 passed: True\n",
      "Test 2 passed: True\n"
     ]
    }
   ],
   "source": [
    "# ANSWER CELL 1.3 (DO NOT REMOVE OR CHANGE THIS LINE)\n",
    "\n",
    "def intersection(a, b):\n",
    "    pass\n",
    "    # Add your code here\n",
    "    res = []\n",
    "    for element in a:\n",
    "        if element in b and element not in res:\n",
    "            res.append(element)\n",
    "    return res\n",
    "\n",
    "\n",
    "print(\"Test 1 passed:\", sorted(intersection([2, 1, 5, 3, 4], [7, 6, 5, 4, 3])) == [3, 4, 5])\n",
    "print(\"Test 2 passed:\", sorted(intersection([8, 1, 2, 3, 3, 3], [2, 2, 3, 3, 4, 4])) == [2, 3])\n",
    "\n",
    "# OPTIONAL BONUS POINT CHALLENGE\n",
    "\n",
    "def intersection_dict(a, b):\n",
    "    pass\n",
    "    # Add your code here\n",
    "    res = {}\n",
    "    for element in a:\n",
    "        if element in b and element not in res:\n",
    "            res[element] = min(a.count(element), b.count(element))\n",
    "    return res\n",
    "\n",
    "\n",
    "print(\"Bonus point challenge:\")\n",
    "print(\"Test 1 passed:\", intersection_dict([2, 1, 5, 3, 4], [7, 6, 5, 4, 3]) == {3: 1, 4: 1, 5: 1})\n",
    "print(\"Test 2 passed:\", intersection_dict([8, 1, 2, 3, 3, 3], [2, 2, 3, 3, 4, 4]) == {2: 1, 3: 2})"
   ]
  },
  {
   "cell_type": "markdown",
   "id": "7194632e",
   "metadata": {},
   "source": [
    "### Assignment 1.4 (2 points)\n",
    "\n",
    "Let \n",
    "\n",
    "$$ X_1 \\sim N(\\mu_1, \\sigma^2_1) $$\n",
    "\n",
    "denote a normal random variable with mean $\\mu_1$ and variance $\\sigma_1^2$, and \n",
    "\n",
    "$$ X_2 \\sim N(\\mu_2, \\sigma^2_2) $$\n",
    "\n",
    "another and independent normal random variable with mean $\\mu_2$ and variance $\\sigma_2^2$.\n",
    "\n",
    "You probably know that their sum, $X = X_1 + X_2$, is also normally distributed with mean $\\mu = \\mu_1 + \\mu_2$ and variance $\\sigma^2 = \\sigma^2_1 + \\sigma^2_2$, i.e.\n",
    "\n",
    "$$ X = X_1 + X_2 \\sim N(\\mu_1 + \\mu_2, \\sigma^2_1 + \\sigma^2_2). $$\n",
    "\n",
    "Write a Python program to do the following experiment:\n",
    "\n",
    "- Draw 1 000 000 samples of $X_1$ from a normal distribution with mean $\\mu_1 = 1$ and standard deviation $\\sigma_1 = 3$. (Tip: you can use `np.random.normal` and specify the mean, standard deviation and the number of samples you want to draw as arguments.)\n",
    "- Draw 1 000 000 samples of $X_2$ from a normal distribution with mean $\\mu_2 = 2$ and standard deviation $\\sigma_2 = 4$.\n",
    "- Calculate $X = X_1 + X_2$ and\n",
    "  - print out the mean, standard deviation and variance,\n",
    "  - plot the histogram of the values of $X$ (tip: you can use `sns.histplot`).\n",
    "\n",
    "Feel free to import and use any package(s) you find useful."
   ]
  },
  {
   "cell_type": "code",
   "execution_count": 5,
   "id": "d221179e",
   "metadata": {},
   "outputs": [
    {
     "name": "stdout",
     "output_type": "stream",
     "text": [
      "Mean: 2.991521411891662\n",
      "Std. deviation: 4.9997055692249655\n",
      "Variance: 24.997055778939135\n"
     ]
    },
    {
     "data": {
      "text/plain": [
       "<matplotlib.axes._subplots.AxesSubplot at 0x7fc6e8d22d60>"
      ]
     },
     "execution_count": 5,
     "metadata": {},
     "output_type": "execute_result"
    },
    {
     "data": {
      "image/png": "[encoded data removed]",
      "text/plain": [
       "<Figure size 1500x500 with 1 Axes>"
      ]
     },
     "metadata": {},
     "output_type": "display_data"
    }
   ],
   "source": [
    "# ANSWER CELL 1.4 (DO NOT REMOVE OR CHANGE THIS LINE)\n",
    "\n",
    "X_1 = np.random.normal(1, 3, 1_000_000)\n",
    "X_2 = np.random.normal(2, 4, X_1.shape)\n",
    "X = X_1 + X_2\n",
    "\n",
    "print(\"Mean:\", X.mean())\n",
    "print(\"Std. deviation:\", X.std())\n",
    "print(\"Variance:\", X.var())\n",
    "\n",
    "sns.histplot(X, stat=\"density\")"
   ]
  },
  {
   "cell_type": "markdown",
   "id": "d1639caf",
   "metadata": {},
   "source": [
    "### Used resources\n",
    "\n",
    "Include URLs of online resources that you have used to solve the exercises in this section:"
   ]
  },
  {
   "cell_type": "raw",
   "id": "25894cac",
   "metadata": {},
   "source": [
    "\n",
    "\n",
    "\n",
    "\n"
   ]
  },
  {
   "cell_type": "markdown",
   "id": "9ad060d1",
   "metadata": {},
   "source": [
    "## 2. Pandas"
   ]
  },
  {
   "cell_type": "markdown",
   "id": "aa21b956",
   "metadata": {},
   "source": [
    "All assignments in the *Pandas* section use the same data, so read the following description very carefully!\n",
    "\n",
    "The CSV file `daily_tv_viewing_time.csv` contains the average daily viewing time in minutes for Norwegian TV channels for each of the last three years (2018, 2019 and 2020). The data for each year is broken down by age groups:\n",
    "\n",
    "- 10-19 years\n",
    "- 20-34 years\n",
    "- 35-44 years\n",
    "- 45-54 years\n",
    "- 55-64 years\n",
    "- 65-79 years\n",
    "- 10-79 years\n",
    "\n",
    "Note that the last age group (10-79 years) summarizes the viewing time for all consumers independently on their age.\n",
    "\n",
    "The data set contains the following columns:\n",
    "\n",
    "- `Year`: the year (2018, 2019 or 2020).\n",
    "- `AgeGroup`: the age group, as described above (the word \"years\" is omitted from the values).\n",
    "- Remaining columns: average daily viewing time in minutes for individual TV channels identified by the column name (e.g. `NRK1`). The last column (`Others`) is not related to a specific channel but summarizes the time spent watching other TV channels.\n",
    "\n",
    "There are four big media groups in Norway: *NRK*, *TV 2*, *Discovery* and *NENT*. The CSV file `media_groups.csv` contains an overview of what channels are owned by each of these groups. Note that some channels are owned by smaller media groups and **not** included in the overview.\n",
    "\n",
    "**Each task must be solved programmatically, i.e. you need to write Python code that uses the data files and calculates an answer. You are not allowed to change the contents of the data files.**\n",
    "\n",
    "Tips:\n",
    "- First inspect the content of both files. Then read all assignments in this section, and think about what operations you should do with the data before solving the assignments (e.g. how to merge the data, what to use as the index, you might want to add some columns and/or sort the data in a particular order, etc.)\n",
    "- Pay attention to how missing values are specified in the data files.\n",
    "\n",
    "<small>Source of data: Kantar TNS and medianorway (Department of Information Science and Media Studies, University of Bergen).</small>"
   ]
  },
  {
   "cell_type": "markdown",
   "id": "93a076ea",
   "metadata": {},
   "source": [
    "You might read and pre-process the data in the following cell. Feel free to add extra cells if you need them."
   ]
  },
  {
   "cell_type": "code",
   "execution_count": 6,
   "id": "9c1ec362",
   "metadata": {},
   "outputs": [
    {
     "data": {
      "text/html": [
       "<div>\n",
       "<style scoped>\n",
       "    .dataframe tbody tr th:only-of-type {\n",
       "        vertical-align: middle;\n",
       "    }\n",
       "\n",
       "    .dataframe tbody tr th {\n",
       "        vertical-align: top;\n",
       "    }\n",
       "\n",
       "    .dataframe thead th {\n",
       "        text-align: right;\n",
       "    }\n",
       "</style>\n",
       "<table border=\"1\" class=\"dataframe\">\n",
       "  <thead>\n",
       "    <tr style=\"text-align: right;\">\n",
       "      <th></th>\n",
       "      <th></th>\n",
       "      <th>NRK1</th>\n",
       "      <th>NRK2</th>\n",
       "      <th>NRK3/Super</th>\n",
       "      <th>TV 2</th>\n",
       "      <th>TV 2 Zebra</th>\n",
       "      <th>TV 2 Nyhetskanalen</th>\n",
       "      <th>TV 2 Humor</th>\n",
       "      <th>TV 2 Livsstil</th>\n",
       "      <th>TV 2 Sportskanalen</th>\n",
       "      <th>TV 2 Sport 1</th>\n",
       "      <th>TV 2 Sport 2</th>\n",
       "      <th>TV 2 Sport Premium 1</th>\n",
       "      <th>TV 2 Sport Premium 2</th>\n",
       "      <th>TVNorge</th>\n",
       "      <th>FEM</th>\n",
       "      <th>MAX</th>\n",
       "      <th>VOX</th>\n",
       "      <th>Eurosport Norge</th>\n",
       "      <th>TV3</th>\n",
       "      <th>V4</th>\n",
       "      <th>TV6</th>\n",
       "      <th>Matkanalen</th>\n",
       "      <th>Others</th>\n",
       "    </tr>\n",
       "    <tr>\n",
       "      <th>Year</th>\n",
       "      <th>AgeGroup</th>\n",
       "      <th></th>\n",
       "      <th></th>\n",
       "      <th></th>\n",
       "      <th></th>\n",
       "      <th></th>\n",
       "      <th></th>\n",
       "      <th></th>\n",
       "      <th></th>\n",
       "      <th></th>\n",
       "      <th></th>\n",
       "      <th></th>\n",
       "      <th></th>\n",
       "      <th></th>\n",
       "      <th></th>\n",
       "      <th></th>\n",
       "      <th></th>\n",
       "      <th></th>\n",
       "      <th></th>\n",
       "      <th></th>\n",
       "      <th></th>\n",
       "      <th></th>\n",
       "      <th></th>\n",
       "      <th></th>\n",
       "    </tr>\n",
       "  </thead>\n",
       "  <tbody>\n",
       "    <tr>\n",
       "      <th rowspan=\"7\" valign=\"top\">2020</th>\n",
       "      <th>10-19</th>\n",
       "      <td>7.10</td>\n",
       "      <td>0.86</td>\n",
       "      <td>0.97</td>\n",
       "      <td>5.02</td>\n",
       "      <td>0.59</td>\n",
       "      <td>0.86</td>\n",
       "      <td>NaN</td>\n",
       "      <td>0.27</td>\n",
       "      <td>NaN</td>\n",
       "      <td>0.32</td>\n",
       "      <td>0.16</td>\n",
       "      <td>0.51</td>\n",
       "      <td>0.05</td>\n",
       "      <td>2.00</td>\n",
       "      <td>0.49</td>\n",
       "      <td>0.68</td>\n",
       "      <td>0.38</td>\n",
       "      <td>0.24</td>\n",
       "      <td>1.57</td>\n",
       "      <td>0.59</td>\n",
       "      <td>0.32</td>\n",
       "      <td>0.03</td>\n",
       "      <td>3.97</td>\n",
       "    </tr>\n",
       "    <tr>\n",
       "      <th>20-34</th>\n",
       "      <td>7.81</td>\n",
       "      <td>1.04</td>\n",
       "      <td>1.92</td>\n",
       "      <td>6.66</td>\n",
       "      <td>0.93</td>\n",
       "      <td>1.26</td>\n",
       "      <td>NaN</td>\n",
       "      <td>0.70</td>\n",
       "      <td>NaN</td>\n",
       "      <td>0.33</td>\n",
       "      <td>0.30</td>\n",
       "      <td>0.78</td>\n",
       "      <td>0.07</td>\n",
       "      <td>3.40</td>\n",
       "      <td>0.93</td>\n",
       "      <td>1.07</td>\n",
       "      <td>0.74</td>\n",
       "      <td>0.41</td>\n",
       "      <td>2.29</td>\n",
       "      <td>1.30</td>\n",
       "      <td>0.44</td>\n",
       "      <td>0.04</td>\n",
       "      <td>4.55</td>\n",
       "    </tr>\n",
       "    <tr>\n",
       "      <th>35-44</th>\n",
       "      <td>16.49</td>\n",
       "      <td>2.28</td>\n",
       "      <td>2.89</td>\n",
       "      <td>14.06</td>\n",
       "      <td>1.90</td>\n",
       "      <td>3.95</td>\n",
       "      <td>NaN</td>\n",
       "      <td>1.06</td>\n",
       "      <td>NaN</td>\n",
       "      <td>0.53</td>\n",
       "      <td>0.38</td>\n",
       "      <td>0.84</td>\n",
       "      <td>0.08</td>\n",
       "      <td>6.23</td>\n",
       "      <td>1.98</td>\n",
       "      <td>2.58</td>\n",
       "      <td>1.37</td>\n",
       "      <td>0.68</td>\n",
       "      <td>4.56</td>\n",
       "      <td>1.90</td>\n",
       "      <td>1.22</td>\n",
       "      <td>0.15</td>\n",
       "      <td>10.79</td>\n",
       "    </tr>\n",
       "    <tr>\n",
       "      <th>45-54</th>\n",
       "      <td>38.66</td>\n",
       "      <td>5.73</td>\n",
       "      <td>2.65</td>\n",
       "      <td>26.31</td>\n",
       "      <td>3.38</td>\n",
       "      <td>6.62</td>\n",
       "      <td>NaN</td>\n",
       "      <td>1.91</td>\n",
       "      <td>NaN</td>\n",
       "      <td>1.03</td>\n",
       "      <td>1.03</td>\n",
       "      <td>1.47</td>\n",
       "      <td>0.15</td>\n",
       "      <td>9.85</td>\n",
       "      <td>3.68</td>\n",
       "      <td>5.29</td>\n",
       "      <td>3.97</td>\n",
       "      <td>1.32</td>\n",
       "      <td>7.94</td>\n",
       "      <td>3.53</td>\n",
       "      <td>2.35</td>\n",
       "      <td>0.44</td>\n",
       "      <td>19.85</td>\n",
       "    </tr>\n",
       "    <tr>\n",
       "      <th>55-64</th>\n",
       "      <td>75.47</td>\n",
       "      <td>10.73</td>\n",
       "      <td>2.34</td>\n",
       "      <td>35.10</td>\n",
       "      <td>2.73</td>\n",
       "      <td>7.61</td>\n",
       "      <td>NaN</td>\n",
       "      <td>1.76</td>\n",
       "      <td>NaN</td>\n",
       "      <td>0.78</td>\n",
       "      <td>0.98</td>\n",
       "      <td>1.17</td>\n",
       "      <td>0.00</td>\n",
       "      <td>8.00</td>\n",
       "      <td>3.71</td>\n",
       "      <td>3.71</td>\n",
       "      <td>5.66</td>\n",
       "      <td>1.17</td>\n",
       "      <td>7.80</td>\n",
       "      <td>2.93</td>\n",
       "      <td>2.73</td>\n",
       "      <td>0.20</td>\n",
       "      <td>20.09</td>\n",
       "    </tr>\n",
       "    <tr>\n",
       "      <th>65-79</th>\n",
       "      <td>126.50</td>\n",
       "      <td>18.49</td>\n",
       "      <td>2.41</td>\n",
       "      <td>39.66</td>\n",
       "      <td>2.41</td>\n",
       "      <td>12.33</td>\n",
       "      <td>NaN</td>\n",
       "      <td>1.34</td>\n",
       "      <td>NaN</td>\n",
       "      <td>1.34</td>\n",
       "      <td>1.07</td>\n",
       "      <td>1.07</td>\n",
       "      <td>0.27</td>\n",
       "      <td>8.58</td>\n",
       "      <td>3.48</td>\n",
       "      <td>3.22</td>\n",
       "      <td>5.90</td>\n",
       "      <td>2.95</td>\n",
       "      <td>6.43</td>\n",
       "      <td>1.88</td>\n",
       "      <td>2.95</td>\n",
       "      <td>0.54</td>\n",
       "      <td>25.46</td>\n",
       "    </tr>\n",
       "    <tr>\n",
       "      <th>10-79</th>\n",
       "      <td>42.13</td>\n",
       "      <td>6.02</td>\n",
       "      <td>2.24</td>\n",
       "      <td>19.94</td>\n",
       "      <td>1.89</td>\n",
       "      <td>5.07</td>\n",
       "      <td>NaN</td>\n",
       "      <td>1.18</td>\n",
       "      <td>NaN</td>\n",
       "      <td>0.71</td>\n",
       "      <td>0.59</td>\n",
       "      <td>0.94</td>\n",
       "      <td>0.12</td>\n",
       "      <td>6.14</td>\n",
       "      <td>2.24</td>\n",
       "      <td>2.71</td>\n",
       "      <td>2.83</td>\n",
       "      <td>1.06</td>\n",
       "      <td>4.84</td>\n",
       "      <td>2.01</td>\n",
       "      <td>1.53</td>\n",
       "      <td>0.24</td>\n",
       "      <td>13.45</td>\n",
       "    </tr>\n",
       "    <tr>\n",
       "      <th rowspan=\"7\" valign=\"top\">2019</th>\n",
       "      <th>10-19</th>\n",
       "      <td>7.81</td>\n",
       "      <td>0.99</td>\n",
       "      <td>1.06</td>\n",
       "      <td>6.37</td>\n",
       "      <td>0.67</td>\n",
       "      <td>0.48</td>\n",
       "      <td>0.29</td>\n",
       "      <td>0.45</td>\n",
       "      <td>NaN</td>\n",
       "      <td>0.32</td>\n",
       "      <td>0.32</td>\n",
       "      <td>0.45</td>\n",
       "      <td>0.03</td>\n",
       "      <td>2.34</td>\n",
       "      <td>0.67</td>\n",
       "      <td>0.96</td>\n",
       "      <td>0.58</td>\n",
       "      <td>0.22</td>\n",
       "      <td>1.63</td>\n",
       "      <td>0.83</td>\n",
       "      <td>0.38</td>\n",
       "      <td>0.03</td>\n",
       "      <td>5.12</td>\n",
       "    </tr>\n",
       "    <tr>\n",
       "      <th>20-34</th>\n",
       "      <td>8.30</td>\n",
       "      <td>1.44</td>\n",
       "      <td>2.59</td>\n",
       "      <td>8.69</td>\n",
       "      <td>1.01</td>\n",
       "      <td>1.01</td>\n",
       "      <td>0.86</td>\n",
       "      <td>1.15</td>\n",
       "      <td>NaN</td>\n",
       "      <td>0.38</td>\n",
       "      <td>0.43</td>\n",
       "      <td>1.06</td>\n",
       "      <td>0.10</td>\n",
       "      <td>4.75</td>\n",
       "      <td>1.39</td>\n",
       "      <td>1.68</td>\n",
       "      <td>0.77</td>\n",
       "      <td>0.48</td>\n",
       "      <td>2.93</td>\n",
       "      <td>2.16</td>\n",
       "      <td>0.62</td>\n",
       "      <td>0.05</td>\n",
       "      <td>6.14</td>\n",
       "    </tr>\n",
       "    <tr>\n",
       "      <th>35-44</th>\n",
       "      <td>17.63</td>\n",
       "      <td>2.87</td>\n",
       "      <td>3.20</td>\n",
       "      <td>15.66</td>\n",
       "      <td>2.13</td>\n",
       "      <td>2.46</td>\n",
       "      <td>0.90</td>\n",
       "      <td>1.23</td>\n",
       "      <td>NaN</td>\n",
       "      <td>0.57</td>\n",
       "      <td>0.66</td>\n",
       "      <td>0.90</td>\n",
       "      <td>0.08</td>\n",
       "      <td>6.40</td>\n",
       "      <td>2.21</td>\n",
       "      <td>3.20</td>\n",
       "      <td>1.72</td>\n",
       "      <td>0.74</td>\n",
       "      <td>4.43</td>\n",
       "      <td>2.30</td>\n",
       "      <td>1.31</td>\n",
       "      <td>0.16</td>\n",
       "      <td>11.23</td>\n",
       "    </tr>\n",
       "    <tr>\n",
       "      <th>45-54</th>\n",
       "      <td>36.00</td>\n",
       "      <td>6.00</td>\n",
       "      <td>2.85</td>\n",
       "      <td>30.00</td>\n",
       "      <td>3.75</td>\n",
       "      <td>4.50</td>\n",
       "      <td>1.05</td>\n",
       "      <td>2.40</td>\n",
       "      <td>NaN</td>\n",
       "      <td>0.90</td>\n",
       "      <td>1.20</td>\n",
       "      <td>1.50</td>\n",
       "      <td>0.15</td>\n",
       "      <td>10.95</td>\n",
       "      <td>4.20</td>\n",
       "      <td>5.85</td>\n",
       "      <td>4.05</td>\n",
       "      <td>1.35</td>\n",
       "      <td>7.80</td>\n",
       "      <td>3.75</td>\n",
       "      <td>3.00</td>\n",
       "      <td>0.30</td>\n",
       "      <td>18.30</td>\n",
       "    </tr>\n",
       "    <tr>\n",
       "      <th>55-64</th>\n",
       "      <td>68.82</td>\n",
       "      <td>10.66</td>\n",
       "      <td>2.81</td>\n",
       "      <td>37.21</td>\n",
       "      <td>3.55</td>\n",
       "      <td>5.42</td>\n",
       "      <td>0.56</td>\n",
       "      <td>1.87</td>\n",
       "      <td>NaN</td>\n",
       "      <td>0.94</td>\n",
       "      <td>0.94</td>\n",
       "      <td>1.12</td>\n",
       "      <td>0.00</td>\n",
       "      <td>8.42</td>\n",
       "      <td>3.93</td>\n",
       "      <td>3.74</td>\n",
       "      <td>5.24</td>\n",
       "      <td>1.12</td>\n",
       "      <td>7.29</td>\n",
       "      <td>2.81</td>\n",
       "      <td>2.81</td>\n",
       "      <td>0.56</td>\n",
       "      <td>17.20</td>\n",
       "    </tr>\n",
       "    <tr>\n",
       "      <th>65-79</th>\n",
       "      <td>103.44</td>\n",
       "      <td>18.48</td>\n",
       "      <td>2.64</td>\n",
       "      <td>40.32</td>\n",
       "      <td>2.64</td>\n",
       "      <td>12.00</td>\n",
       "      <td>0.24</td>\n",
       "      <td>1.20</td>\n",
       "      <td>NaN</td>\n",
       "      <td>1.44</td>\n",
       "      <td>1.44</td>\n",
       "      <td>1.20</td>\n",
       "      <td>0.00</td>\n",
       "      <td>7.20</td>\n",
       "      <td>3.12</td>\n",
       "      <td>3.36</td>\n",
       "      <td>5.76</td>\n",
       "      <td>2.88</td>\n",
       "      <td>6.00</td>\n",
       "      <td>1.68</td>\n",
       "      <td>2.88</td>\n",
       "      <td>0.24</td>\n",
       "      <td>21.84</td>\n",
       "    </tr>\n",
       "    <tr>\n",
       "      <th>10-79</th>\n",
       "      <td>37.32</td>\n",
       "      <td>6.20</td>\n",
       "      <td>2.57</td>\n",
       "      <td>21.88</td>\n",
       "      <td>2.22</td>\n",
       "      <td>4.10</td>\n",
       "      <td>0.70</td>\n",
       "      <td>1.40</td>\n",
       "      <td>NaN</td>\n",
       "      <td>0.70</td>\n",
       "      <td>0.82</td>\n",
       "      <td>1.05</td>\n",
       "      <td>0.12</td>\n",
       "      <td>6.55</td>\n",
       "      <td>2.46</td>\n",
       "      <td>3.04</td>\n",
       "      <td>2.81</td>\n",
       "      <td>1.05</td>\n",
       "      <td>4.91</td>\n",
       "      <td>2.22</td>\n",
       "      <td>1.76</td>\n",
       "      <td>0.23</td>\n",
       "      <td>12.75</td>\n",
       "    </tr>\n",
       "    <tr>\n",
       "      <th rowspan=\"7\" valign=\"top\">2018</th>\n",
       "      <th>10-19</th>\n",
       "      <td>8.62</td>\n",
       "      <td>0.94</td>\n",
       "      <td>1.72</td>\n",
       "      <td>8.70</td>\n",
       "      <td>0.82</td>\n",
       "      <td>0.59</td>\n",
       "      <td>0.35</td>\n",
       "      <td>0.62</td>\n",
       "      <td>0.20</td>\n",
       "      <td>0.08</td>\n",
       "      <td>0.08</td>\n",
       "      <td>NaN</td>\n",
       "      <td>NaN</td>\n",
       "      <td>3.78</td>\n",
       "      <td>0.74</td>\n",
       "      <td>1.21</td>\n",
       "      <td>0.51</td>\n",
       "      <td>0.35</td>\n",
       "      <td>1.79</td>\n",
       "      <td>1.17</td>\n",
       "      <td>0.47</td>\n",
       "      <td>0.04</td>\n",
       "      <td>6.20</td>\n",
       "    </tr>\n",
       "    <tr>\n",
       "      <th>20-34</th>\n",
       "      <td>9.51</td>\n",
       "      <td>1.68</td>\n",
       "      <td>2.55</td>\n",
       "      <td>10.50</td>\n",
       "      <td>1.16</td>\n",
       "      <td>1.33</td>\n",
       "      <td>0.99</td>\n",
       "      <td>1.33</td>\n",
       "      <td>0.29</td>\n",
       "      <td>0.06</td>\n",
       "      <td>0.12</td>\n",
       "      <td>NaN</td>\n",
       "      <td>NaN</td>\n",
       "      <td>6.90</td>\n",
       "      <td>1.68</td>\n",
       "      <td>2.73</td>\n",
       "      <td>0.81</td>\n",
       "      <td>0.58</td>\n",
       "      <td>3.60</td>\n",
       "      <td>2.15</td>\n",
       "      <td>0.81</td>\n",
       "      <td>0.12</td>\n",
       "      <td>9.11</td>\n",
       "    </tr>\n",
       "    <tr>\n",
       "      <th>35-44</th>\n",
       "      <td>19.50</td>\n",
       "      <td>3.50</td>\n",
       "      <td>3.86</td>\n",
       "      <td>18.40</td>\n",
       "      <td>2.02</td>\n",
       "      <td>2.30</td>\n",
       "      <td>0.83</td>\n",
       "      <td>1.01</td>\n",
       "      <td>0.46</td>\n",
       "      <td>0.09</td>\n",
       "      <td>0.09</td>\n",
       "      <td>NaN</td>\n",
       "      <td>NaN</td>\n",
       "      <td>8.74</td>\n",
       "      <td>2.21</td>\n",
       "      <td>3.86</td>\n",
       "      <td>1.84</td>\n",
       "      <td>0.83</td>\n",
       "      <td>4.60</td>\n",
       "      <td>2.58</td>\n",
       "      <td>1.38</td>\n",
       "      <td>0.18</td>\n",
       "      <td>13.80</td>\n",
       "    </tr>\n",
       "    <tr>\n",
       "      <th>45-54</th>\n",
       "      <td>37.84</td>\n",
       "      <td>5.81</td>\n",
       "      <td>3.77</td>\n",
       "      <td>32.81</td>\n",
       "      <td>3.45</td>\n",
       "      <td>5.65</td>\n",
       "      <td>0.94</td>\n",
       "      <td>2.04</td>\n",
       "      <td>0.79</td>\n",
       "      <td>0.16</td>\n",
       "      <td>0.31</td>\n",
       "      <td>NaN</td>\n",
       "      <td>NaN</td>\n",
       "      <td>15.23</td>\n",
       "      <td>4.08</td>\n",
       "      <td>5.65</td>\n",
       "      <td>3.93</td>\n",
       "      <td>1.41</td>\n",
       "      <td>7.69</td>\n",
       "      <td>3.61</td>\n",
       "      <td>2.98</td>\n",
       "      <td>0.31</td>\n",
       "      <td>18.84</td>\n",
       "    </tr>\n",
       "    <tr>\n",
       "      <th>55-64</th>\n",
       "      <td>72.72</td>\n",
       "      <td>10.51</td>\n",
       "      <td>3.30</td>\n",
       "      <td>41.61</td>\n",
       "      <td>3.30</td>\n",
       "      <td>6.59</td>\n",
       "      <td>0.62</td>\n",
       "      <td>1.65</td>\n",
       "      <td>0.62</td>\n",
       "      <td>0.21</td>\n",
       "      <td>0.21</td>\n",
       "      <td>NaN</td>\n",
       "      <td>NaN</td>\n",
       "      <td>14.01</td>\n",
       "      <td>3.50</td>\n",
       "      <td>4.74</td>\n",
       "      <td>4.94</td>\n",
       "      <td>1.44</td>\n",
       "      <td>7.21</td>\n",
       "      <td>3.09</td>\n",
       "      <td>3.50</td>\n",
       "      <td>0.62</td>\n",
       "      <td>21.84</td>\n",
       "    </tr>\n",
       "    <tr>\n",
       "      <th>65-79</th>\n",
       "      <td>105.16</td>\n",
       "      <td>18.80</td>\n",
       "      <td>2.79</td>\n",
       "      <td>41.66</td>\n",
       "      <td>2.29</td>\n",
       "      <td>13.97</td>\n",
       "      <td>0.25</td>\n",
       "      <td>1.27</td>\n",
       "      <td>1.02</td>\n",
       "      <td>0.25</td>\n",
       "      <td>0.25</td>\n",
       "      <td>NaN</td>\n",
       "      <td>NaN</td>\n",
       "      <td>13.21</td>\n",
       "      <td>3.30</td>\n",
       "      <td>4.06</td>\n",
       "      <td>5.08</td>\n",
       "      <td>3.05</td>\n",
       "      <td>5.59</td>\n",
       "      <td>2.29</td>\n",
       "      <td>3.81</td>\n",
       "      <td>0.25</td>\n",
       "      <td>25.91</td>\n",
       "    </tr>\n",
       "    <tr>\n",
       "      <th>10-79</th>\n",
       "      <td>38.74</td>\n",
       "      <td>6.35</td>\n",
       "      <td>3.05</td>\n",
       "      <td>24.13</td>\n",
       "      <td>2.03</td>\n",
       "      <td>4.70</td>\n",
       "      <td>0.76</td>\n",
       "      <td>1.27</td>\n",
       "      <td>0.51</td>\n",
       "      <td>0.13</td>\n",
       "      <td>0.25</td>\n",
       "      <td>NaN</td>\n",
       "      <td>NaN</td>\n",
       "      <td>10.03</td>\n",
       "      <td>2.54</td>\n",
       "      <td>3.68</td>\n",
       "      <td>2.67</td>\n",
       "      <td>1.27</td>\n",
       "      <td>4.95</td>\n",
       "      <td>2.41</td>\n",
       "      <td>2.03</td>\n",
       "      <td>0.25</td>\n",
       "      <td>15.37</td>\n",
       "    </tr>\n",
       "  </tbody>\n",
       "</table>\n",
       "</div>"
      ],
      "text/plain": [
       "                 NRK1   NRK2  NRK3/Super   TV 2  TV 2 Zebra  \\\n",
       "Year AgeGroup                                                 \n",
       "2020 10-19       7.10   0.86        0.97   5.02        0.59   \n",
       "     20-34       7.81   1.04        1.92   6.66        0.93   \n",
       "     35-44      16.49   2.28        2.89  14.06        1.90   \n",
       "     45-54      38.66   5.73        2.65  26.31        3.38   \n",
       "     55-64      75.47  10.73        2.34  35.10        2.73   \n",
       "     65-79     126.50  18.49        2.41  39.66        2.41   \n",
       "     10-79      42.13   6.02        2.24  19.94        1.89   \n",
       "2019 10-19       7.81   0.99        1.06   6.37        0.67   \n",
       "     20-34       8.30   1.44        2.59   8.69        1.01   \n",
       "     35-44      17.63   2.87        3.20  15.66        2.13   \n",
       "     45-54      36.00   6.00        2.85  30.00        3.75   \n",
       "     55-64      68.82  10.66        2.81  37.21        3.55   \n",
       "     65-79     103.44  18.48        2.64  40.32        2.64   \n",
       "     10-79      37.32   6.20        2.57  21.88        2.22   \n",
       "2018 10-19       8.62   0.94        1.72   8.70        0.82   \n",
       "     20-34       9.51   1.68        2.55  10.50        1.16   \n",
       "     35-44      19.50   3.50        3.86  18.40        2.02   \n",
       "     45-54      37.84   5.81        3.77  32.81        3.45   \n",
       "     55-64      72.72  10.51        3.30  41.61        3.30   \n",
       "     65-79     105.16  18.80        2.79  41.66        2.29   \n",
       "     10-79      38.74   6.35        3.05  24.13        2.03   \n",
       "\n",
       "               TV 2 Nyhetskanalen  TV 2 Humor  TV 2 Livsstil  \\\n",
       "Year AgeGroup                                                  \n",
       "2020 10-19                   0.86         NaN           0.27   \n",
       "     20-34                   1.26         NaN           0.70   \n",
       "     35-44                   3.95         NaN           1.06   \n",
       "     45-54                   6.62         NaN           1.91   \n",
       "     55-64                   7.61         NaN           1.76   \n",
       "     65-79                  12.33         NaN           1.34   \n",
       "     10-79                   5.07         NaN           1.18   \n",
       "2019 10-19                   0.48        0.29           0.45   \n",
       "     20-34                   1.01        0.86           1.15   \n",
       "     35-44                   2.46        0.90           1.23   \n",
       "     45-54                   4.50        1.05           2.40   \n",
       "     55-64                   5.42        0.56           1.87   \n",
       "     65-79                  12.00        0.24           1.20   \n",
       "     10-79                   4.10        0.70           1.40   \n",
       "2018 10-19                   0.59        0.35           0.62   \n",
       "     20-34                   1.33        0.99           1.33   \n",
       "     35-44                   2.30        0.83           1.01   \n",
       "     45-54                   5.65        0.94           2.04   \n",
       "     55-64                   6.59        0.62           1.65   \n",
       "     65-79                  13.97        0.25           1.27   \n",
       "     10-79                   4.70        0.76           1.27   \n",
       "\n",
       "               TV 2 Sportskanalen  TV 2 Sport 1  TV 2 Sport 2  \\\n",
       "Year AgeGroup                                                   \n",
       "2020 10-19                    NaN          0.32          0.16   \n",
       "     20-34                    NaN          0.33          0.30   \n",
       "     35-44                    NaN          0.53          0.38   \n",
       "     45-54                    NaN          1.03          1.03   \n",
       "     55-64                    NaN          0.78          0.98   \n",
       "     65-79                    NaN          1.34          1.07   \n",
       "     10-79                    NaN          0.71          0.59   \n",
       "2019 10-19                    NaN          0.32          0.32   \n",
       "     20-34                    NaN          0.38          0.43   \n",
       "     35-44                    NaN          0.57          0.66   \n",
       "     45-54                    NaN          0.90          1.20   \n",
       "     55-64                    NaN          0.94          0.94   \n",
       "     65-79                    NaN          1.44          1.44   \n",
       "     10-79                    NaN          0.70          0.82   \n",
       "2018 10-19                   0.20          0.08          0.08   \n",
       "     20-34                   0.29          0.06          0.12   \n",
       "     35-44                   0.46          0.09          0.09   \n",
       "     45-54                   0.79          0.16          0.31   \n",
       "     55-64                   0.62          0.21          0.21   \n",
       "     65-79                   1.02          0.25          0.25   \n",
       "     10-79                   0.51          0.13          0.25   \n",
       "\n",
       "               TV 2 Sport Premium 1  TV 2 Sport Premium 2  TVNorge   FEM  \\\n",
       "Year AgeGroup                                                              \n",
       "2020 10-19                     0.51                  0.05     2.00  0.49   \n",
       "     20-34                     0.78                  0.07     3.40  0.93   \n",
       "     35-44                     0.84                  0.08     6.23  1.98   \n",
       "     45-54                     1.47                  0.15     9.85  3.68   \n",
       "     55-64                     1.17                  0.00     8.00  3.71   \n",
       "     65-79                     1.07                  0.27     8.58  3.48   \n",
       "     10-79                     0.94                  0.12     6.14  2.24   \n",
       "2019 10-19                     0.45                  0.03     2.34  0.67   \n",
       "     20-34                     1.06                  0.10     4.75  1.39   \n",
       "     35-44                     0.90                  0.08     6.40  2.21   \n",
       "     45-54                     1.50                  0.15    10.95  4.20   \n",
       "     55-64                     1.12                  0.00     8.42  3.93   \n",
       "     65-79                     1.20                  0.00     7.20  3.12   \n",
       "     10-79                     1.05                  0.12     6.55  2.46   \n",
       "2018 10-19                      NaN                   NaN     3.78  0.74   \n",
       "     20-34                      NaN                   NaN     6.90  1.68   \n",
       "     35-44                      NaN                   NaN     8.74  2.21   \n",
       "     45-54                      NaN                   NaN    15.23  4.08   \n",
       "     55-64                      NaN                   NaN    14.01  3.50   \n",
       "     65-79                      NaN                   NaN    13.21  3.30   \n",
       "     10-79                      NaN                   NaN    10.03  2.54   \n",
       "\n",
       "                MAX   VOX  Eurosport Norge   TV3    V4   TV6  Matkanalen  \\\n",
       "Year AgeGroup                                                              \n",
       "2020 10-19     0.68  0.38             0.24  1.57  0.59  0.32        0.03   \n",
       "     20-34     1.07  0.74             0.41  2.29  1.30  0.44        0.04   \n",
       "     35-44     2.58  1.37             0.68  4.56  1.90  1.22        0.15   \n",
       "     45-54     5.29  3.97             1.32  7.94  3.53  2.35        0.44   \n",
       "     55-64     3.71  5.66             1.17  7.80  2.93  2.73        0.20   \n",
       "     65-79     3.22  5.90             2.95  6.43  1.88  2.95        0.54   \n",
       "     10-79     2.71  2.83             1.06  4.84  2.01  1.53        0.24   \n",
       "2019 10-19     0.96  0.58             0.22  1.63  0.83  0.38        0.03   \n",
       "     20-34     1.68  0.77             0.48  2.93  2.16  0.62        0.05   \n",
       "     35-44     3.20  1.72             0.74  4.43  2.30  1.31        0.16   \n",
       "     45-54     5.85  4.05             1.35  7.80  3.75  3.00        0.30   \n",
       "     55-64     3.74  5.24             1.12  7.29  2.81  2.81        0.56   \n",
       "     65-79     3.36  5.76             2.88  6.00  1.68  2.88        0.24   \n",
       "     10-79     3.04  2.81             1.05  4.91  2.22  1.76        0.23   \n",
       "2018 10-19     1.21  0.51             0.35  1.79  1.17  0.47        0.04   \n",
       "     20-34     2.73  0.81             0.58  3.60  2.15  0.81        0.12   \n",
       "     35-44     3.86  1.84             0.83  4.60  2.58  1.38        0.18   \n",
       "     45-54     5.65  3.93             1.41  7.69  3.61  2.98        0.31   \n",
       "     55-64     4.74  4.94             1.44  7.21  3.09  3.50        0.62   \n",
       "     65-79     4.06  5.08             3.05  5.59  2.29  3.81        0.25   \n",
       "     10-79     3.68  2.67             1.27  4.95  2.41  2.03        0.25   \n",
       "\n",
       "               Others  \n",
       "Year AgeGroup          \n",
       "2020 10-19       3.97  \n",
       "     20-34       4.55  \n",
       "     35-44      10.79  \n",
       "     45-54      19.85  \n",
       "     55-64      20.09  \n",
       "     65-79      25.46  \n",
       "     10-79      13.45  \n",
       "2019 10-19       5.12  \n",
       "     20-34       6.14  \n",
       "     35-44      11.23  \n",
       "     45-54      18.30  \n",
       "     55-64      17.20  \n",
       "     65-79      21.84  \n",
       "     10-79      12.75  \n",
       "2018 10-19       6.20  \n",
       "     20-34       9.11  \n",
       "     35-44      13.80  \n",
       "     45-54      18.84  \n",
       "     55-64      21.84  \n",
       "     65-79      25.91  \n",
       "     10-79      15.37  "
      ]
     },
     "execution_count": 6,
     "metadata": {},
     "output_type": "execute_result"
    }
   ],
   "source": [
    "# Note: this is a part of sample solution.\n",
    "\n",
    "df = pd.read_csv(\"daily_tv_viewing_time.csv\", delimiter=\";\", na_values='-', index_col=('Year', 'AgeGroup'))\n",
    "df"
   ]
  },
  {
   "cell_type": "markdown",
   "id": "652bf835",
   "metadata": {},
   "source": [
    "### Assignment 2.1 (2 points)\n",
    "\n",
    "How much time did an average consumer (in the age group 10-79 years) spend watching TV every day in 2020? Round the result to whole minutes and display it in the form \"H hr MM min\"."
   ]
  },
  {
   "cell_type": "code",
   "execution_count": 7,
   "id": "cf22a563",
   "metadata": {},
   "outputs": [
    {
     "name": "stdout",
     "output_type": "stream",
     "text": [
      "1 hr 58 min\n"
     ]
    }
   ],
   "source": [
    "# ANSWER CELL 2.1 (DO NOT REMOVE OR CHANGE THIS LINE)\n",
    "\n",
    "time = int(df.loc[(2020, '10-79')].sum().round())\n",
    "print(\"{} hr {:02} min\".format(time // 60, time % 60))"
   ]
  },
  {
   "cell_type": "markdown",
   "id": "37d0516c",
   "metadata": {},
   "source": [
    "### Assignment 2.2 (2 points)\n",
    "\n",
    "What was the most popular TV channel in the age group 20-34 years in 2019?"
   ]
  },
  {
   "cell_type": "code",
   "execution_count": 8,
   "id": "e16e42d3",
   "metadata": {},
   "outputs": [
    {
     "data": {
      "text/plain": [
       "'TV 2'"
      ]
     },
     "execution_count": 8,
     "metadata": {},
     "output_type": "execute_result"
    }
   ],
   "source": [
    "# ANSWER CELL 2.2 (DO NOT REMOVE OR CHANGE THIS LINE)\n",
    "\n",
    "df.loc[(2019, '20-34')].idxmax()"
   ]
  },
  {
   "cell_type": "markdown",
   "id": "5e6f1335",
   "metadata": {},
   "source": [
    "### Assignment 2.3 (2 points)\n",
    "\n",
    "How much time (in minutes) did an average consumer in each age group spend watching TV every day in 2020? (Do not include the 10-79 group.)\n",
    "\n",
    "Present the results in the tabular form and as a horizontal bar plot."
   ]
  },
  {
   "cell_type": "code",
   "execution_count": 9,
   "id": "0fbf6719",
   "metadata": {},
   "outputs": [
    {
     "data": {
      "text/html": [
       "<div>\n",
       "<style scoped>\n",
       "    .dataframe tbody tr th:only-of-type {\n",
       "        vertical-align: middle;\n",
       "    }\n",
       "\n",
       "    .dataframe tbody tr th {\n",
       "        vertical-align: top;\n",
       "    }\n",
       "\n",
       "    .dataframe thead th {\n",
       "        text-align: right;\n",
       "    }\n",
       "</style>\n",
       "<table border=\"1\" class=\"dataframe\">\n",
       "  <thead>\n",
       "    <tr style=\"text-align: right;\">\n",
       "      <th></th>\n",
       "      <th>Time</th>\n",
       "    </tr>\n",
       "    <tr>\n",
       "      <th>AgeGroup</th>\n",
       "      <th></th>\n",
       "    </tr>\n",
       "  </thead>\n",
       "  <tbody>\n",
       "    <tr>\n",
       "      <th>10-19</th>\n",
       "      <td>26.98</td>\n",
       "    </tr>\n",
       "    <tr>\n",
       "      <th>20-34</th>\n",
       "      <td>36.97</td>\n",
       "    </tr>\n",
       "    <tr>\n",
       "      <th>35-44</th>\n",
       "      <td>75.92</td>\n",
       "    </tr>\n",
       "    <tr>\n",
       "      <th>45-54</th>\n",
       "      <td>147.16</td>\n",
       "    </tr>\n",
       "    <tr>\n",
       "      <th>55-64</th>\n",
       "      <td>194.67</td>\n",
       "    </tr>\n",
       "    <tr>\n",
       "      <th>65-79</th>\n",
       "      <td>268.28</td>\n",
       "    </tr>\n",
       "  </tbody>\n",
       "</table>\n",
       "</div>"
      ],
      "text/plain": [
       "            Time\n",
       "AgeGroup        \n",
       "10-19      26.98\n",
       "20-34      36.97\n",
       "35-44      75.92\n",
       "45-54     147.16\n",
       "55-64     194.67\n",
       "65-79     268.28"
      ]
     },
     "metadata": {},
     "output_type": "display_data"
    },
    {
     "data": {
      "text/plain": [
       "<matplotlib.axes._subplots.AxesSubplot at 0x7fc6cef81e50>"
      ]
     },
     "execution_count": 9,
     "metadata": {},
     "output_type": "execute_result"
    },
    {
     "data": {
      "image/png": "[encoded data removed]",
      "text/plain": [
       "<Figure size 1500x500 with 1 Axes>"
      ]
     },
     "metadata": {},
     "output_type": "display_data"
    }
   ],
   "source": [
    "# ANSWER CELL 2.3 (DO NOT REMOVE OR CHANGE THIS LINE)\n",
    "\n",
    "summary = df.loc[2020].drop('10-79').sum(axis=1)\n",
    "display(summary.to_frame('Time'))\n",
    "summary.plot.barh()"
   ]
  },
  {
   "cell_type": "markdown",
   "id": "12c7fca5",
   "metadata": {},
   "source": [
    "### Assignment 2.4 (2 points)\n",
    "\n",
    "Calculate the market shares of all channels in each year.\n",
    "\n",
    "Market share of a channel is the channel's average viewing time (in the age group 10-79 years) divided by the sum of the average viewing times for all channels, and converted to percents.\n",
    "\n",
    "Hint: If you need to perform element-wise division of all columns of a dataframe by a series, you can use the [div](https://pandas.pydata.org/docs/reference/api/pandas.DataFrame.div.html) method with `axis=0`.\n",
    "\n",
    "What was the market share of NRK1 in 2020?"
   ]
  },
  {
   "cell_type": "code",
   "execution_count": 10,
   "id": "9ccf35d2",
   "metadata": {},
   "outputs": [
    {
     "data": {
      "text/html": [
       "<div>\n",
       "<style scoped>\n",
       "    .dataframe tbody tr th:only-of-type {\n",
       "        vertical-align: middle;\n",
       "    }\n",
       "\n",
       "    .dataframe tbody tr th {\n",
       "        vertical-align: top;\n",
       "    }\n",
       "\n",
       "    .dataframe thead th {\n",
       "        text-align: right;\n",
       "    }\n",
       "</style>\n",
       "<table border=\"1\" class=\"dataframe\">\n",
       "  <thead>\n",
       "    <tr style=\"text-align: right;\">\n",
       "      <th></th>\n",
       "      <th>NRK1</th>\n",
       "      <th>NRK2</th>\n",
       "      <th>NRK3/Super</th>\n",
       "      <th>TV 2</th>\n",
       "      <th>TV 2 Zebra</th>\n",
       "      <th>TV 2 Nyhetskanalen</th>\n",
       "      <th>TV 2 Humor</th>\n",
       "      <th>TV 2 Livsstil</th>\n",
       "      <th>TV 2 Sportskanalen</th>\n",
       "      <th>TV 2 Sport 1</th>\n",
       "      <th>TV 2 Sport 2</th>\n",
       "      <th>TV 2 Sport Premium 1</th>\n",
       "      <th>TV 2 Sport Premium 2</th>\n",
       "      <th>TVNorge</th>\n",
       "      <th>FEM</th>\n",
       "      <th>MAX</th>\n",
       "      <th>VOX</th>\n",
       "      <th>Eurosport Norge</th>\n",
       "      <th>TV3</th>\n",
       "      <th>V4</th>\n",
       "      <th>TV6</th>\n",
       "      <th>Matkanalen</th>\n",
       "      <th>Others</th>\n",
       "    </tr>\n",
       "    <tr>\n",
       "      <th>Year</th>\n",
       "      <th></th>\n",
       "      <th></th>\n",
       "      <th></th>\n",
       "      <th></th>\n",
       "      <th></th>\n",
       "      <th></th>\n",
       "      <th></th>\n",
       "      <th></th>\n",
       "      <th></th>\n",
       "      <th></th>\n",
       "      <th></th>\n",
       "      <th></th>\n",
       "      <th></th>\n",
       "      <th></th>\n",
       "      <th></th>\n",
       "      <th></th>\n",
       "      <th></th>\n",
       "      <th></th>\n",
       "      <th></th>\n",
       "      <th></th>\n",
       "      <th></th>\n",
       "      <th></th>\n",
       "      <th></th>\n",
       "    </tr>\n",
       "  </thead>\n",
       "  <tbody>\n",
       "    <tr>\n",
       "      <th>2020</th>\n",
       "      <td>35.74</td>\n",
       "      <td>5.11</td>\n",
       "      <td>1.9</td>\n",
       "      <td>16.92</td>\n",
       "      <td>1.6</td>\n",
       "      <td>4.30</td>\n",
       "      <td>NaN</td>\n",
       "      <td>1.0</td>\n",
       "      <td>NaN</td>\n",
       "      <td>0.6</td>\n",
       "      <td>0.5</td>\n",
       "      <td>0.8</td>\n",
       "      <td>0.1</td>\n",
       "      <td>5.21</td>\n",
       "      <td>1.90</td>\n",
       "      <td>2.30</td>\n",
       "      <td>2.4</td>\n",
       "      <td>0.9</td>\n",
       "      <td>4.11</td>\n",
       "      <td>1.71</td>\n",
       "      <td>1.30</td>\n",
       "      <td>0.2</td>\n",
       "      <td>11.41</td>\n",
       "    </tr>\n",
       "    <tr>\n",
       "      <th>2019</th>\n",
       "      <td>31.94</td>\n",
       "      <td>5.31</td>\n",
       "      <td>2.2</td>\n",
       "      <td>18.72</td>\n",
       "      <td>1.9</td>\n",
       "      <td>3.51</td>\n",
       "      <td>0.6</td>\n",
       "      <td>1.2</td>\n",
       "      <td>NaN</td>\n",
       "      <td>0.6</td>\n",
       "      <td>0.7</td>\n",
       "      <td>0.9</td>\n",
       "      <td>0.1</td>\n",
       "      <td>5.60</td>\n",
       "      <td>2.11</td>\n",
       "      <td>2.60</td>\n",
       "      <td>2.4</td>\n",
       "      <td>0.9</td>\n",
       "      <td>4.20</td>\n",
       "      <td>1.90</td>\n",
       "      <td>1.51</td>\n",
       "      <td>0.2</td>\n",
       "      <td>10.91</td>\n",
       "    </tr>\n",
       "    <tr>\n",
       "      <th>2018</th>\n",
       "      <td>30.48</td>\n",
       "      <td>5.00</td>\n",
       "      <td>2.4</td>\n",
       "      <td>18.98</td>\n",
       "      <td>1.6</td>\n",
       "      <td>3.70</td>\n",
       "      <td>0.6</td>\n",
       "      <td>1.0</td>\n",
       "      <td>0.4</td>\n",
       "      <td>0.1</td>\n",
       "      <td>0.2</td>\n",
       "      <td>NaN</td>\n",
       "      <td>NaN</td>\n",
       "      <td>7.89</td>\n",
       "      <td>2.00</td>\n",
       "      <td>2.89</td>\n",
       "      <td>2.1</td>\n",
       "      <td>1.0</td>\n",
       "      <td>3.89</td>\n",
       "      <td>1.90</td>\n",
       "      <td>1.60</td>\n",
       "      <td>0.2</td>\n",
       "      <td>12.09</td>\n",
       "    </tr>\n",
       "  </tbody>\n",
       "</table>\n",
       "</div>"
      ],
      "text/plain": [
       "       NRK1  NRK2  NRK3/Super   TV 2  TV 2 Zebra  TV 2 Nyhetskanalen  \\\n",
       "Year                                                                   \n",
       "2020  35.74  5.11         1.9  16.92         1.6                4.30   \n",
       "2019  31.94  5.31         2.2  18.72         1.9                3.51   \n",
       "2018  30.48  5.00         2.4  18.98         1.6                3.70   \n",
       "\n",
       "      TV 2 Humor  TV 2 Livsstil  TV 2 Sportskanalen  TV 2 Sport 1  \\\n",
       "Year                                                                \n",
       "2020         NaN            1.0                 NaN           0.6   \n",
       "2019         0.6            1.2                 NaN           0.6   \n",
       "2018         0.6            1.0                 0.4           0.1   \n",
       "\n",
       "      TV 2 Sport 2  TV 2 Sport Premium 1  TV 2 Sport Premium 2  TVNorge   FEM  \\\n",
       "Year                                                                            \n",
       "2020           0.5                   0.8                   0.1     5.21  1.90   \n",
       "2019           0.7                   0.9                   0.1     5.60  2.11   \n",
       "2018           0.2                   NaN                   NaN     7.89  2.00   \n",
       "\n",
       "       MAX  VOX  Eurosport Norge   TV3    V4   TV6  Matkanalen  Others  \n",
       "Year                                                                    \n",
       "2020  2.30  2.4              0.9  4.11  1.71  1.30         0.2   11.41  \n",
       "2019  2.60  2.4              0.9  4.20  1.90  1.51         0.2   10.91  \n",
       "2018  2.89  2.1              1.0  3.89  1.90  1.60         0.2   12.09  "
      ]
     },
     "metadata": {},
     "output_type": "display_data"
    },
    {
     "name": "stdout",
     "output_type": "stream",
     "text": [
      "35.74%\n"
     ]
    }
   ],
   "source": [
    "# ANSWER CELL 2.4 (DO NOT REMOVE OR CHANGE THIS LINE)\n",
    "\n",
    "whole_pop_df = df.loc(axis=0)[:, '10-79'].reset_index(1, drop=True)\n",
    "channel_shares_df =  100 * whole_pop_df.div(whole_pop_df.sum(axis=1), axis=0)\n",
    "\n",
    "display(channel_shares_df.round(2))\n",
    "\n",
    "print(\"{:.2f}%\".format(channel_shares_df.loc[2020, 'NRK1']))"
   ]
  },
  {
   "cell_type": "markdown",
   "id": "b7505c47",
   "metadata": {},
   "source": [
    "### Assignment 2.5 (2 points + possibility for 1 bonus point)\n",
    "\n",
    "Visualize the market shares you calculated in the previous assignment in a bar plot. Rotate the labels by 90 degrees and add a suitable title for the figure.\n",
    "\n",
    "Your plot should be similar to the plot depicted below. Note that the y-axis labels and the grid have been removed in order not to reveal the answer to the previous assignment. Your plot must include the y-axis labels. You might use any order of channels on the x-axis (unless you are attempting to solve the bonus point challenge) as well as any colors representing different years.\n",
    "\n",
    "![](channel_shares.png)\n",
    "\n",
    "Hint: Check out the `hue` parameter of [`sns.barplot`](https://seaborn.pydata.org/generated/seaborn.barplot.html).\n",
    "\n",
    "#### Bonus point challenge (optional)\n",
    "\n",
    "Sort the channels in the figure by their market shares in 2020 (in the descending order) with the exception of *Others*, that must be placed at the end, as shown in the figure above."
   ]
  },
  {
   "cell_type": "code",
   "execution_count": 11,
   "id": "eb3562df",
   "metadata": {
    "scrolled": true
   },
   "outputs": [
    {
     "data": {
      "text/plain": [
       "<matplotlib.legend.Legend at 0x7fc6cf603ee0>"
      ]
     },
     "execution_count": 11,
     "metadata": {},
     "output_type": "execute_result"
    },
    {
     "data": {
      "image/png": "[encoded data removed]",
      "text/plain": [
       "<Figure size 1500x500 with 1 Axes>"
      ]
     },
     "metadata": {},
     "output_type": "display_data"
    }
   ],
   "source": [
    "# ANSWER CELL 2.5 (DO NOT REMOVE OR CHANGE THIS LINE)\n",
    "\n",
    "order = None\n",
    "\n",
    "# Determining the order for the bonus point challenge:\n",
    "order = channel_shares_df.loc[2020].sort_values(ascending=False).index.tolist()\n",
    "order.remove('Others')\n",
    "order.append('Others')\n",
    "# ------\n",
    "\n",
    "plot_data_df = channel_shares_df.unstack().reset_index()\n",
    "plot_data_df.columns = ['Channel', 'Year', 'Share']\n",
    "sns.barplot(data=plot_data_df, x='Channel', y='Share', hue='Year', palette='Blues', order=order)\n",
    "plt.xticks(rotation=90)\n",
    "plt.title('Market shares')\n",
    "plt.legend(loc='upper right')"
   ]
  },
  {
   "cell_type": "markdown",
   "id": "b1b2bf25",
   "metadata": {},
   "source": [
    "### Assignment 2.6 (2 points)\n",
    "\n",
    "Calculate the market shares for all media groups for each year and present them in a tabular form using rows for the years and columns for the groups.\n",
    "\n",
    "The dataset with viewing times and the dataset with groups must be merged programmatically; your code must work even if the CSV files contain data for TV channels and media groups from other countries.\n",
    "\n",
    "Remember that some TV channels do not belong to any of the four main media groups in Norway. Use a special group named *Others* for these channels."
   ]
  },
  {
   "cell_type": "code",
   "execution_count": 12,
   "id": "1cdef97c",
   "metadata": {},
   "outputs": [
    {
     "data": {
      "text/html": [
       "<div>\n",
       "<style scoped>\n",
       "    .dataframe tbody tr th:only-of-type {\n",
       "        vertical-align: middle;\n",
       "    }\n",
       "\n",
       "    .dataframe tbody tr th {\n",
       "        vertical-align: top;\n",
       "    }\n",
       "\n",
       "    .dataframe thead th {\n",
       "        text-align: right;\n",
       "    }\n",
       "</style>\n",
       "<table border=\"1\" class=\"dataframe\">\n",
       "  <thead>\n",
       "    <tr style=\"text-align: right;\">\n",
       "      <th>Group</th>\n",
       "      <th>Discovery</th>\n",
       "      <th>NENT</th>\n",
       "      <th>NRK</th>\n",
       "      <th>Others</th>\n",
       "      <th>TV 2</th>\n",
       "    </tr>\n",
       "    <tr>\n",
       "      <th>Year</th>\n",
       "      <th></th>\n",
       "      <th></th>\n",
       "      <th></th>\n",
       "      <th></th>\n",
       "      <th></th>\n",
       "    </tr>\n",
       "  </thead>\n",
       "  <tbody>\n",
       "    <tr>\n",
       "      <th>2018</th>\n",
       "      <td>15.88</td>\n",
       "      <td>7.39</td>\n",
       "      <td>37.87</td>\n",
       "      <td>12.29</td>\n",
       "      <td>26.57</td>\n",
       "    </tr>\n",
       "    <tr>\n",
       "      <th>2019</th>\n",
       "      <td>13.61</td>\n",
       "      <td>7.61</td>\n",
       "      <td>39.44</td>\n",
       "      <td>11.11</td>\n",
       "      <td>28.23</td>\n",
       "    </tr>\n",
       "    <tr>\n",
       "      <th>2020</th>\n",
       "      <td>12.71</td>\n",
       "      <td>7.11</td>\n",
       "      <td>42.75</td>\n",
       "      <td>11.61</td>\n",
       "      <td>25.82</td>\n",
       "    </tr>\n",
       "  </tbody>\n",
       "</table>\n",
       "</div>"
      ],
      "text/plain": [
       "Group  Discovery  NENT    NRK  Others   TV 2\n",
       "Year                                        \n",
       "2018       15.88  7.39  37.87   12.29  26.57\n",
       "2019       13.61  7.61  39.44   11.11  28.23\n",
       "2020       12.71  7.11  42.75   11.61  25.82"
      ]
     },
     "execution_count": 12,
     "metadata": {},
     "output_type": "execute_result"
    }
   ],
   "source": [
    "# ANSWER CELL 2.6 (DO NOT REMOVE OR CHANGE THIS LINE)\n",
    "\n",
    "media_groups_df = pd.read_csv(\"media_groups.csv\", delimiter=\";\")\n",
    "df = pd.merge(plot_data_df, media_groups_df, how='left')\n",
    "df['Group'].fillna('Others', inplace=True)\n",
    "group_shares_df = df.groupby(['Year', 'Group']).Share.sum().unstack()\n",
    "group_shares_df.round(2)"
   ]
  },
  {
   "cell_type": "markdown",
   "id": "666f76e9",
   "metadata": {},
   "source": [
    "### Used resources\n",
    "\n",
    "Include URLs of online resources that you have used to solve the exercises in this section:"
   ]
  },
  {
   "cell_type": "raw",
   "id": "1c444351",
   "metadata": {},
   "source": [
    "\n",
    "\n",
    "\n",
    "\n"
   ]
  },
  {
   "cell_type": "markdown",
   "id": "ad2bfbd6",
   "metadata": {},
   "source": [
    "## 3. SQL\n",
    "\n",
    "In this section you are going to use a small database for a digital media store. You can access the database in three different ways, it is completely up to you which one you choose:\n",
    "\n",
    "1. (Recommended) Go to [https://73bits.com/sqlexplorer/exam-48f27b25](https://73bits.com/sqlexplorer/exam-48f27b25) and use the username *gra4142* and password *gra4142*.\n",
    "2. You can use the `isqlite3` extension and execute SQL in the notebook.\n",
    "3. You can use any software that works with SQLite3 databases (the SQLite3 database is stored in `exam.db`), but only to execute SQL written by you. You are **NOT** allowed to use any wizards or other graphical user interface to prepare SQL statements.\n",
    "\n",
    "If you choose the first or third option, **remember to copy and paste your solutions in the corresponding answer cells in this notebook!**\n",
    "\n",
    "The database schema is shown below and the CREATE TABLE statements can be found in Appendix A.\n",
    "\n",
    "![](database.svg)"
   ]
  },
  {
   "cell_type": "code",
   "execution_count": 13,
   "id": "e92bff17",
   "metadata": {},
   "outputs": [
    {
     "name": "stdout",
     "output_type": "stream",
     "text": [
      "Done!\n",
      "Done!\n"
     ]
    }
   ],
   "source": [
    "%load_ext isqlite3\n",
    "%sql_open exam.db"
   ]
  },
  {
   "cell_type": "markdown",
   "id": "4265747a",
   "metadata": {},
   "source": [
    "### Assignment 3.1 (2 points)"
   ]
  },
  {
   "cell_type": "markdown",
   "id": "5bda6763",
   "metadata": {},
   "source": [
    "Write an SQL query to return all customers from USA.\n",
    "\n",
    "Sort the result set by the last name and then by the first name.\n",
    "\n",
    "Columns in the result set: all columns in the relevant table."
   ]
  },
  {
   "cell_type": "code",
   "execution_count": 14,
   "id": "7851d9a6",
   "metadata": {},
   "outputs": [
    {
     "data": {
      "text/html": [
       "<table><thead><tr><th style=\"text-align: left\">CustomerId</th><th style=\"text-align: left\">FirstName</th><th style=\"text-align: left\">LastName</th><th style=\"text-align: left\">Company</th><th style=\"text-align: left\">Address</th><th style=\"text-align: left\">City</th><th style=\"text-align: left\">State</th><th style=\"text-align: left\">Country</th><th style=\"text-align: left\">PostalCode</th><th style=\"text-align: left\">Phone</th><th style=\"text-align: left\">Fax</th><th style=\"text-align: left\">Email</th><th style=\"text-align: left\">SupportRepId</th></tr></thead><tbody><tr><td style=\"text-align: right\">28</td><td style=\"text-align: left\">Julia</td><td style=\"text-align: left\">Barnett</td><td></td><td style=\"text-align: left\">302 S 700 E</td><td style=\"text-align: left\">Salt Lake City</td><td style=\"text-align: left\">UT</td><td style=\"text-align: left\">USA</td><td style=\"text-align: left\">84102</td><td style=\"text-align: left\">+1 (801) 531-7272</td><td></td><td style=\"text-align: left\">jubarnett@gmail.com</td><td style=\"text-align: right\">5</td></tr><tr><td style=\"text-align: right\">18</td><td style=\"text-align: left\">Michelle</td><td style=\"text-align: left\">Brooks</td><td></td><td style=\"text-align: left\">627 Broadway</td><td style=\"text-align: left\">New York</td><td style=\"text-align: left\">NY</td><td style=\"text-align: left\">USA</td><td style=\"text-align: left\">10012-2612</td><td style=\"text-align: left\">+1 (212) 221-3546</td><td style=\"text-align: left\">+1 (212) 221-4679</td><td style=\"text-align: left\">michelleb@aol.com</td><td style=\"text-align: right\">3</td></tr><tr><td style=\"text-align: right\">21</td><td style=\"text-align: left\">Kathy</td><td style=\"text-align: left\">Chase</td><td></td><td style=\"text-align: left\">801 W 4th Street</td><td style=\"text-align: left\">Reno</td><td style=\"text-align: left\">NV</td><td style=\"text-align: left\">USA</td><td style=\"text-align: left\">89503</td><td style=\"text-align: left\">+1 (775) 223-7665</td><td></td><td style=\"text-align: left\">kachase@hotmail.com</td><td style=\"text-align: right\">5</td></tr><tr><td style=\"text-align: right\">26</td><td style=\"text-align: left\">Richard</td><td style=\"text-align: left\">Cunningham</td><td></td><td style=\"text-align: left\">2211 W Berry Street</td><td style=\"text-align: left\">Fort Worth</td><td style=\"text-align: left\">TX</td><td style=\"text-align: left\">USA</td><td style=\"text-align: left\">76110</td><td style=\"text-align: left\">+1 (817) 924-7272</td><td></td><td style=\"text-align: left\">ricunningham@hotmail.com</td><td style=\"text-align: right\">4</td></tr><tr><td style=\"text-align: right\">23</td><td style=\"text-align: left\">John</td><td style=\"text-align: left\">Gordon</td><td></td><td style=\"text-align: left\">69 Salem Street</td><td style=\"text-align: left\">Boston</td><td style=\"text-align: left\">MA</td><td style=\"text-align: left\">USA</td><td style=\"text-align: left\">2113</td><td style=\"text-align: left\">+1 (617) 522-1333</td><td></td><td style=\"text-align: left\">johngordon22@yahoo.com</td><td style=\"text-align: right\">4</td></tr><tr><td style=\"text-align: right\">19</td><td style=\"text-align: left\">Tim</td><td style=\"text-align: left\">Goyer</td><td style=\"text-align: left\">Apple Inc.</td><td style=\"text-align: left\">1 Infinite Loop</td><td style=\"text-align: left\">Cupertino</td><td style=\"text-align: left\">CA</td><td style=\"text-align: left\">USA</td><td style=\"text-align: left\">95014</td><td style=\"text-align: left\">+1 (408) 996-1010</td><td style=\"text-align: left\">+1 (408) 996-1011</td><td style=\"text-align: left\">tgoyer@apple.com</td><td style=\"text-align: right\">3</td></tr><tr><td style=\"text-align: right\">27</td><td style=\"text-align: left\">Patrick</td><td style=\"text-align: left\">Gray</td><td></td><td style=\"text-align: left\">1033 N Park Ave</td><td style=\"text-align: left\">Tucson</td><td style=\"text-align: left\">AZ</td><td style=\"text-align: left\">USA</td><td style=\"text-align: left\">85719</td><td style=\"text-align: left\">+1 (520) 622-4200</td><td></td><td style=\"text-align: left\">patrick.gray@aol.com</td><td style=\"text-align: right\">4</td></tr><tr><td style=\"text-align: right\">16</td><td style=\"text-align: left\">Frank</td><td style=\"text-align: left\">Harris</td><td style=\"text-align: left\">Google Inc.</td><td style=\"text-align: left\">1600 Amphitheatre Parkway</td><td style=\"text-align: left\">Mountain View</td><td style=\"text-align: left\">CA</td><td style=\"text-align: left\">USA</td><td style=\"text-align: left\">94043-1351</td><td style=\"text-align: left\">+1 (650) 253-0000</td><td style=\"text-align: left\">+1 (650) 253-0000</td><td style=\"text-align: left\">fharris@google.com</td><td style=\"text-align: right\">4</td></tr><tr><td style=\"text-align: right\">22</td><td style=\"text-align: left\">Heather</td><td style=\"text-align: left\">Leacock</td><td></td><td style=\"text-align: left\">120 S Orange Ave</td><td style=\"text-align: left\">Orlando</td><td style=\"text-align: left\">FL</td><td style=\"text-align: left\">USA</td><td style=\"text-align: left\">32801</td><td style=\"text-align: left\">+1 (407) 999-7788</td><td></td><td style=\"text-align: left\">hleacock@gmail.com</td><td style=\"text-align: right\">4</td></tr><tr><td style=\"text-align: right\">20</td><td style=\"text-align: left\">Dan</td><td style=\"text-align: left\">Miller</td><td></td><td style=\"text-align: left\">541 Del Medio Avenue</td><td style=\"text-align: left\">Mountain View</td><td style=\"text-align: left\">CA</td><td style=\"text-align: left\">USA</td><td style=\"text-align: left\">94040-111</td><td style=\"text-align: left\">+1 (650) 644-3358</td><td></td><td style=\"text-align: left\">dmiller@comcast.com</td><td style=\"text-align: right\">4</td></tr><tr><td style=\"text-align: right\">24</td><td style=\"text-align: left\">Frank</td><td style=\"text-align: left\">Ralston</td><td></td><td style=\"text-align: left\">162 E Superior Street</td><td style=\"text-align: left\">Chicago</td><td style=\"text-align: left\">IL</td><td style=\"text-align: left\">USA</td><td style=\"text-align: left\">60611</td><td style=\"text-align: left\">+1 (312) 332-3232</td><td></td><td style=\"text-align: left\">fralston@gmail.com</td><td style=\"text-align: right\">3</td></tr><tr><td style=\"text-align: right\">17</td><td style=\"text-align: left\">Jack</td><td style=\"text-align: left\">Smith</td><td style=\"text-align: left\">Microsoft Corporation</td><td style=\"text-align: left\">1 Microsoft Way</td><td style=\"text-align: left\">Redmond</td><td style=\"text-align: left\">WA</td><td style=\"text-align: left\">USA</td><td style=\"text-align: left\">98052-8300</td><td style=\"text-align: left\">+1 (425) 882-8080</td><td style=\"text-align: left\">+1 (425) 882-8081</td><td style=\"text-align: left\">jacksmith@microsoft.com</td><td style=\"text-align: right\">5</td></tr><tr><td style=\"text-align: right\">25</td><td style=\"text-align: left\">Victor</td><td style=\"text-align: left\">Stevens</td><td></td><td style=\"text-align: left\">319 N. Frances Street</td><td style=\"text-align: left\">Madison</td><td style=\"text-align: left\">WI</td><td style=\"text-align: left\">USA</td><td style=\"text-align: left\">53703</td><td style=\"text-align: left\">+1 (608) 257-0597</td><td></td><td style=\"text-align: left\">vstevens@yahoo.com</td><td style=\"text-align: right\">5</td></tr></tbody></table>"
      ],
      "text/plain": [
       "<IPython.core.display.HTML object>"
      ]
     },
     "execution_count": 14,
     "metadata": {},
     "output_type": "execute_result"
    }
   ],
   "source": [
    "%%sql ANSWER CELL 3.1 (DO NOT REMOVE OR CHANGE THIS LINE)\n",
    "SELECT * \n",
    "FROM Customer\n",
    "WHERE Country = 'USA'\n",
    "ORDER BY LastName, FirstName"
   ]
  },
  {
   "cell_type": "markdown",
   "id": "ca233de2",
   "metadata": {},
   "source": [
    "### Assignment 3.2 (2 points)"
   ]
  },
  {
   "cell_type": "markdown",
   "id": "f5e3e3aa",
   "metadata": {},
   "source": [
    "Write an SQL query to return the number of how many artists have their name starting with `A`. (Only consider `A` at the beginning of the whole name, e.g. *Alice in Chains* is one of these artists, but *Pedro Luis & A Parede* is not.)"
   ]
  },
  {
   "cell_type": "code",
   "execution_count": 15,
   "id": "9a9d1e1d",
   "metadata": {},
   "outputs": [
    {
     "data": {
      "text/html": [
       "<table><thead><tr><th style=\"text-align: left\">count(*)</th></tr></thead><tbody><tr><td style=\"text-align: right\">26</td></tr></tbody></table>"
      ],
      "text/plain": [
       "<IPython.core.display.HTML object>"
      ]
     },
     "execution_count": 15,
     "metadata": {},
     "output_type": "execute_result"
    }
   ],
   "source": [
    "%%sql ANSWER CELL 3.2 (DO NOT REMOVE OR CHANGE THIS LINE)\n",
    "SELECT count(*)\n",
    "FROM Artist\n",
    "WHERE Name LIKE 'A%'"
   ]
  },
  {
   "cell_type": "markdown",
   "id": "262b15fc",
   "metadata": {},
   "source": [
    "### Assignment 3.3 (2 points)"
   ]
  },
  {
   "cell_type": "markdown",
   "id": "7784ee15",
   "metadata": {},
   "source": [
    "Write an SQL query to return the title of all albums together with the artist's name.\n",
    "\n",
    "Sort the result set by the artist's name first, then by the album's title.\n",
    "\n",
    "Columns in the result set: artist's name, album's title."
   ]
  },
  {
   "cell_type": "code",
   "execution_count": 16,
   "id": "89ed3bef",
   "metadata": {},
   "outputs": [
    {
     "name": "stdout",
     "output_type": "stream",
     "text": [
      "Showing only the first 100 rows\n"
     ]
    },
    {
     "data": {
      "text/html": [
       "<table><thead><tr><th style=\"text-align: left\">Name</th><th style=\"text-align: left\">Title</th></tr></thead><tbody><tr><td style=\"text-align: left\">AC/DC</td><td style=\"text-align: left\">For Those About To Rock We Salute You</td></tr><tr><td style=\"text-align: left\">AC/DC</td><td style=\"text-align: left\">Let There Be Rock</td></tr><tr><td style=\"text-align: left\">Aaron Copland &amp; London Symphony Orchestra</td><td style=\"text-align: left\">A Copland Celebration, Vol. I</td></tr><tr><td style=\"text-align: left\">Aaron Goldberg</td><td style=\"text-align: left\">Worlds</td></tr><tr><td style=\"text-align: left\">Academy of St. Martin in the Fields &amp; Sir Neville Marriner</td><td style=\"text-align: left\">The World of Classical Favourites</td></tr><tr><td style=\"text-align: left\">Academy of St. Martin in the Fields Chamber Ensemble &amp; Sir Neville Marriner</td><td style=\"text-align: left\">Sir Neville Marriner: A Celebration</td></tr><tr><td style=\"text-align: left\">Academy of St. Martin in the Fields, John Birch, Sir Neville Marriner &amp; Sylvia McNair</td><td style=\"text-align: left\">Fauré: Requiem, Ravel: Pavane &amp; Others</td></tr><tr><td style=\"text-align: left\">Academy of St. Martin in the Fields, Sir Neville Marriner &amp; Thurston Dart</td><td style=\"text-align: left\">Bach: Orchestral Suites Nos. 1 - 4</td></tr><tr><td style=\"text-align: left\">Accept</td><td style=\"text-align: left\">Balls to the Wall</td></tr><tr><td style=\"text-align: left\">Accept</td><td style=\"text-align: left\">Restless and Wild</td></tr><tr><td style=\"text-align: left\">Adrian Leaper &amp; Doreen de Feis</td><td style=\"text-align: left\">Górecki: Symphony No. 3</td></tr><tr><td style=\"text-align: left\">Aerosmith</td><td style=\"text-align: left\">Big Ones</td></tr><tr><td style=\"text-align: left\">Aisha Duo</td><td style=\"text-align: left\">Quiet Songs</td></tr><tr><td style=\"text-align: left\">Alanis Morissette</td><td style=\"text-align: left\">Jagged Little Pill</td></tr><tr><td style=\"text-align: left\">Alberto Turco &amp; Nova Schola Gregoriana</td><td style=\"text-align: left\">Adorate Deum: Gregorian Chant from the Proper of the Mass</td></tr><tr><td style=\"text-align: left\">Alice In Chains</td><td style=\"text-align: left\">Facelift</td></tr><tr><td style=\"text-align: left\">Amy Winehouse</td><td style=\"text-align: left\">Back to Black</td></tr><tr><td style=\"text-align: left\">Amy Winehouse</td><td style=\"text-align: left\">Frank</td></tr><tr><td style=\"text-align: left\">Anne-Sophie Mutter, Herbert Von Karajan &amp; Wiener Philharmoniker</td><td style=\"text-align: left\">Vivaldi: The Four Seasons</td></tr><tr><td style=\"text-align: left\">Antal Doráti &amp; London Symphony Orchestra</td><td style=\"text-align: left\">Tchaikovsky: 1812 Festival Overture, Op.49, Capriccio Italien &amp; Beethoven: Wellington&#x27;s Victory</td></tr><tr><td style=\"text-align: left\">Antônio Carlos Jobim</td><td style=\"text-align: left\">Chill: Brazil (Disc 2)</td></tr><tr><td style=\"text-align: left\">Antônio Carlos Jobim</td><td style=\"text-align: left\">Warner 25 Anos</td></tr><tr><td style=\"text-align: left\">Apocalyptica</td><td style=\"text-align: left\">Plays Metallica By Four Cellos</td></tr><tr><td style=\"text-align: left\">Aquaman</td><td style=\"text-align: left\">Aquaman</td></tr><tr><td style=\"text-align: left\">Audioslave</td><td style=\"text-align: left\">Audioslave</td></tr><tr><td style=\"text-align: left\">Audioslave</td><td style=\"text-align: left\">Out Of Exile</td></tr><tr><td style=\"text-align: left\">Audioslave</td><td style=\"text-align: left\">Revelations</td></tr><tr><td style=\"text-align: left\">BackBeat</td><td style=\"text-align: left\">BackBeat Soundtrack</td></tr><tr><td style=\"text-align: left\">Barry Wordsworth &amp; BBC Concert Orchestra</td><td style=\"text-align: left\">The Last Night of the Proms</td></tr><tr><td style=\"text-align: left\">Battlestar Galactica</td><td style=\"text-align: left\">Battlestar Galactica, Season 3</td></tr><tr><td style=\"text-align: left\">Battlestar Galactica</td><td style=\"text-align: left\">Battlestar Galactica: The Story So Far</td></tr><tr><td style=\"text-align: left\">Battlestar Galactica (Classic)</td><td style=\"text-align: left\">Battlestar Galactica (Classic), Season 1</td></tr><tr><td style=\"text-align: left\">Berliner Philharmoniker &amp; Hans Rosbaud</td><td style=\"text-align: left\">Sibelius: Finlandia</td></tr><tr><td style=\"text-align: left\">Berliner Philharmoniker &amp; Herbert Von Karajan</td><td style=\"text-align: left\">Grieg: Peer Gynt Suites &amp; Sibelius: Pelléas et Mélisande</td></tr><tr><td style=\"text-align: left\">Berliner Philharmoniker &amp; Herbert Von Karajan</td><td style=\"text-align: left\">Mozart: Symphonies Nos. 40 &amp; 41</td></tr><tr><td style=\"text-align: left\">Berliner Philharmoniker &amp; Herbert Von Karajan</td><td style=\"text-align: left\">Prokofiev: Symphony No.5 &amp; Stravinksy: Le Sacre Du Printemps</td></tr><tr><td style=\"text-align: left\">Berliner Philharmoniker, Claudio Abbado &amp; Sabine Meyer</td><td style=\"text-align: left\">Mozart: Wind Concertos</td></tr><tr><td style=\"text-align: left\">Billy Cobham</td><td style=\"text-align: left\">The Best Of Billy Cobham</td></tr><tr><td style=\"text-align: left\">Black Label Society</td><td style=\"text-align: left\">Alcohol Fueled Brewtality Live! [Disc 1]</td></tr><tr><td style=\"text-align: left\">Black Label Society</td><td style=\"text-align: left\">Alcohol Fueled Brewtality Live! [Disc 2]</td></tr><tr><td style=\"text-align: left\">Black Sabbath</td><td style=\"text-align: left\">Black Sabbath</td></tr><tr><td style=\"text-align: left\">Black Sabbath</td><td style=\"text-align: left\">Black Sabbath Vol. 4 (Remaster)</td></tr><tr><td style=\"text-align: left\">Body Count</td><td style=\"text-align: left\">Body Count</td></tr><tr><td style=\"text-align: left\">Boston Symphony Orchestra &amp; Seiji Ozawa</td><td style=\"text-align: left\">Carmina Burana</td></tr><tr><td style=\"text-align: left\">Britten Sinfonia, Ivor Bolton &amp; Lesley Garrett</td><td style=\"text-align: left\">A Soprano Inspired</td></tr><tr><td style=\"text-align: left\">Bruce Dickinson</td><td style=\"text-align: left\">Chemical Wedding</td></tr><tr><td style=\"text-align: left\">Buddy Guy</td><td style=\"text-align: left\">The Best Of Buddy Guy - The Millenium Collection</td></tr><tr><td style=\"text-align: left\">C. Monteverdi, Nigel Rogers - Chiaroscuro; London Baroque; London Cornett &amp; Sackbu</td><td style=\"text-align: left\">Monteverdi: L&#x27;Orfeo</td></tr><tr><td style=\"text-align: left\">Caetano Veloso</td><td style=\"text-align: left\">Prenda Minha</td></tr><tr><td style=\"text-align: left\">Caetano Veloso</td><td style=\"text-align: left\">Sozinho Remix Ao Vivo</td></tr><tr><td style=\"text-align: left\">Cake</td><td style=\"text-align: left\">Cake: B-Sides and Rarities</td></tr><tr><td style=\"text-align: left\">Calexico</td><td style=\"text-align: left\">Carried to Dust (Bonus Track Version)</td></tr><tr><td style=\"text-align: left\">Charles Dutoit &amp; L&#x27;Orchestre Symphonique de Montréal</td><td style=\"text-align: left\">The Ultimate Relexation Album</td></tr><tr><td style=\"text-align: left\">Chicago Symphony Chorus, Chicago Symphony Orchestra &amp; Sir Georg Solti</td><td style=\"text-align: left\">Great Opera Choruses</td></tr><tr><td style=\"text-align: left\">Chicago Symphony Orchestra &amp; Fritz Reiner</td><td style=\"text-align: left\">Scheherazade</td></tr><tr><td style=\"text-align: left\">Chico Buarque</td><td style=\"text-align: left\">Minha Historia</td></tr><tr><td style=\"text-align: left\">Chico Science &amp; Nação Zumbi</td><td style=\"text-align: left\">Afrociberdelia</td></tr><tr><td style=\"text-align: left\">Chico Science &amp; Nação Zumbi</td><td style=\"text-align: left\">Da Lama Ao Caos</td></tr><tr><td style=\"text-align: left\">Choir Of Westminster Abbey &amp; Simon Preston</td><td style=\"text-align: left\">Palestrina: Missa Papae Marcelli &amp; Allegri: Miserere</td></tr><tr><td style=\"text-align: left\">Chor der Wiener Staatsoper, Herbert Von Karajan &amp; Wiener Philharmoniker</td><td style=\"text-align: left\">Bizet: Carmen Highlights</td></tr><tr><td style=\"text-align: left\">Chris Cornell</td><td style=\"text-align: left\">Carry On</td></tr><tr><td style=\"text-align: left\">Christopher O&#x27;Riley</td><td style=\"text-align: left\">SCRIABIN: Vers la flamme</td></tr><tr><td style=\"text-align: left\">Cidade Negra</td><td style=\"text-align: left\">Acústico MTV [Live]</td></tr><tr><td style=\"text-align: left\">Cidade Negra</td><td style=\"text-align: left\">Cidade Negra - Hits</td></tr><tr><td style=\"text-align: left\">Cláudio Zoli</td><td style=\"text-align: left\">Na Pista</td></tr><tr><td style=\"text-align: left\">Creedence Clearwater Revival</td><td style=\"text-align: left\">Chronicle, Vol. 1</td></tr><tr><td style=\"text-align: left\">Creedence Clearwater Revival</td><td style=\"text-align: left\">Chronicle, Vol. 2</td></tr><tr><td style=\"text-align: left\">Cássia Eller</td><td style=\"text-align: left\">Cássia Eller - Coleção Sem Limite [Disc 2]</td></tr><tr><td style=\"text-align: left\">Cássia Eller</td><td style=\"text-align: left\">Cássia Eller - Sem Limite [Disc 1]</td></tr><tr><td style=\"text-align: left\">David Coverdale</td><td style=\"text-align: left\">Into The Light</td></tr><tr><td style=\"text-align: left\">Deep Purple</td><td style=\"text-align: left\">Come Taste The Band</td></tr><tr><td style=\"text-align: left\">Deep Purple</td><td style=\"text-align: left\">Deep Purple In Rock</td></tr><tr><td style=\"text-align: left\">Deep Purple</td><td style=\"text-align: left\">Fireball</td></tr><tr><td style=\"text-align: left\">Deep Purple</td><td style=\"text-align: left\">Knocking at Your Back Door: The Best Of Deep Purple in the 80&#x27;s</td></tr><tr><td style=\"text-align: left\">Deep Purple</td><td style=\"text-align: left\">MK III The Final Concerts [Disc 1]</td></tr><tr><td style=\"text-align: left\">Deep Purple</td><td style=\"text-align: left\">Machine Head</td></tr><tr><td style=\"text-align: left\">Deep Purple</td><td style=\"text-align: left\">Purpendicular</td></tr><tr><td style=\"text-align: left\">Deep Purple</td><td style=\"text-align: left\">Slaves And Masters</td></tr><tr><td style=\"text-align: left\">Deep Purple</td><td style=\"text-align: left\">Stormbringer</td></tr><tr><td style=\"text-align: left\">Deep Purple</td><td style=\"text-align: left\">The Battle Rages On</td></tr><tr><td style=\"text-align: left\">Deep Purple</td><td style=\"text-align: left\">The Final Concerts (Disc 2)</td></tr><tr><td style=\"text-align: left\">Def Leppard</td><td style=\"text-align: left\">Vault: Def Leppard&#x27;s Greatest Hits</td></tr><tr><td style=\"text-align: left\">Dennis Chambers</td><td style=\"text-align: left\">Outbreak</td></tr><tr><td style=\"text-align: left\">Djavan</td><td style=\"text-align: left\">Djavan Ao Vivo - Vol. 02</td></tr><tr><td style=\"text-align: left\">Djavan</td><td style=\"text-align: left\">Djavan Ao Vivo - Vol. 1</td></tr><tr><td style=\"text-align: left\">Dread Zeppelin</td><td style=\"text-align: left\">Un-Led-Ed</td></tr><tr><td style=\"text-align: left\">Ed Motta</td><td style=\"text-align: left\">The Best of Ed Motta</td></tr><tr><td style=\"text-align: left\">Edo de Waart &amp; San Francisco Symphony</td><td style=\"text-align: left\">Adams, John: The Chairman Dances</td></tr><tr><td style=\"text-align: left\">Elis Regina</td><td style=\"text-align: left\">Elis Regina-Minha História</td></tr><tr><td style=\"text-align: left\">Emanuel Ax, Eugene Ormandy &amp; Philadelphia Orchestra</td><td style=\"text-align: left\">Chopin: Piano Concertos Nos. 1 &amp; 2</td></tr><tr><td style=\"text-align: left\">Emerson String Quartet</td><td style=\"text-align: left\">Schubert: The Late String Quartets &amp; String Quintet (3 CD&#x27;s)</td></tr><tr><td style=\"text-align: left\">English Concert &amp; Trevor Pinnock</td><td style=\"text-align: left\">Handel: Music for the Royal Fireworks (Original Version 1749)</td></tr><tr><td style=\"text-align: left\">English Concert &amp; Trevor Pinnock</td><td style=\"text-align: left\">Pachelbel: Canon &amp; Gigue</td></tr><tr><td style=\"text-align: left\">Equale Brass Ensemble, John Eliot Gardiner &amp; Munich Monteverdi Orchestra and Choir</td><td style=\"text-align: left\">Purcell: Music for the Queen Mary</td></tr><tr><td style=\"text-align: left\">Eric Clapton</td><td style=\"text-align: left\">The Cream Of Clapton</td></tr><tr><td style=\"text-align: left\">Eric Clapton</td><td style=\"text-align: left\">Unplugged</td></tr><tr><td style=\"text-align: left\">Eugene Ormandy</td><td style=\"text-align: left\">Holst: The Planets, Op. 32 &amp; Vaughan Williams: Fantasies</td></tr><tr><td style=\"text-align: left\">Eugene Ormandy</td><td style=\"text-align: left\">Respighi:Pines of Rome</td></tr><tr><td style=\"text-align: left\">Eugene Ormandy</td><td style=\"text-align: left\">Strauss: Waltzes</td></tr><tr><td style=\"text-align: left\">Faith No More</td><td style=\"text-align: left\">Album Of The Year</td></tr></tbody></table>"
      ],
      "text/plain": [
       "<IPython.core.display.HTML object>"
      ]
     },
     "execution_count": 16,
     "metadata": {},
     "output_type": "execute_result"
    }
   ],
   "source": [
    "%%sql ANSWER CELL 3.3 (DO NOT REMOVE OR CHANGE THIS LINE)\n",
    "SELECT Artist.Name, Album.Title\n",
    "FROM Album\n",
    "JOIN Artist ON Album.ArtistID = Artist.ArtistID\n",
    "ORDER BY Artist.Name, Album.Title"
   ]
  },
  {
   "cell_type": "markdown",
   "id": "0fc7f311",
   "metadata": {},
   "source": [
    "### Assignment 3.4 (2 points + possibility for 1 bonus point)"
   ]
  },
  {
   "cell_type": "markdown",
   "id": "d0ce21ed",
   "metadata": {},
   "source": [
    "Write an SQL query to return the last name and the title of all employees, together with the last name and the title of their supervisor (i.e. the person they report to).\n",
    "\n",
    "The list must include all employees, also those that do not have any supervisor.\n",
    "\n",
    "Columns in the result set: employee's last name, employee's title, supervisor's last name, supervisor's ~~first name~~ title.\n",
    "\n",
    "#### Bonus point challenge\n",
    "\n",
    "Add another column in the result set that shows employees' depth in the organizational hierarchy. Employees that do not have any supervisor are at level 1, employees reporting to them are at level 2, etc."
   ]
  },
  {
   "cell_type": "code",
   "execution_count": 17,
   "id": "3ec05072",
   "metadata": {},
   "outputs": [
    {
     "data": {
      "text/html": [
       "<table><thead><tr><th style=\"text-align: left\">LastName</th><th style=\"text-align: left\">Title</th><th style=\"text-align: left\">SupervisorLastName</th><th style=\"text-align: left\">SupervisorTitle</th></tr></thead><tbody><tr><td style=\"text-align: left\">Adams</td><td style=\"text-align: left\">General Manager</td><td></td><td></td></tr><tr><td style=\"text-align: left\">Edwards</td><td style=\"text-align: left\">Sales Manager</td><td style=\"text-align: left\">Adams</td><td style=\"text-align: left\">General Manager</td></tr><tr><td style=\"text-align: left\">Peacock</td><td style=\"text-align: left\">Sales Support Agent</td><td style=\"text-align: left\">Edwards</td><td style=\"text-align: left\">Sales Manager</td></tr><tr><td style=\"text-align: left\">Park</td><td style=\"text-align: left\">Sales Support Agent</td><td style=\"text-align: left\">Edwards</td><td style=\"text-align: left\">Sales Manager</td></tr><tr><td style=\"text-align: left\">Johnson</td><td style=\"text-align: left\">Sales Support Agent</td><td style=\"text-align: left\">Edwards</td><td style=\"text-align: left\">Sales Manager</td></tr><tr><td style=\"text-align: left\">Mitchell</td><td style=\"text-align: left\">IT Manager</td><td style=\"text-align: left\">Adams</td><td style=\"text-align: left\">General Manager</td></tr><tr><td style=\"text-align: left\">King</td><td style=\"text-align: left\">IT Staff</td><td style=\"text-align: left\">Mitchell</td><td style=\"text-align: left\">IT Manager</td></tr><tr><td style=\"text-align: left\">Callahan</td><td style=\"text-align: left\">IT Staff</td><td style=\"text-align: left\">Mitchell</td><td style=\"text-align: left\">IT Manager</td></tr></tbody></table>"
      ],
      "text/plain": [
       "<IPython.core.display.HTML object>"
      ]
     },
     "execution_count": 17,
     "metadata": {},
     "output_type": "execute_result"
    }
   ],
   "source": [
    "%%sql ANSWER CELL 3.4 (DO NOT REMOVE OR CHANGE THIS LINE)\n",
    "\n",
    "--# There will be no score reduction if you used supervisor's first name instead of the title.\n",
    "\n",
    "SELECT E.LastName, E.Title, S.LastName AS SupervisorLastName, S.Title AS SupervisorTitle\n",
    "FROM Employee E\n",
    "LEFT JOIN Employee S ON E.ReportsTo = S.EmployeeID"
   ]
  },
  {
   "cell_type": "code",
   "execution_count": 18,
   "id": "95975526",
   "metadata": {},
   "outputs": [
    {
     "data": {
      "text/html": [
       "<table><thead><tr><th style=\"text-align: left\">LastName</th><th style=\"text-align: left\">Title</th><th style=\"text-align: left\">SupervisorLastName</th><th style=\"text-align: left\">SupervisorTitle</th><th style=\"text-align: left\">Level</th></tr></thead><tbody><tr><td style=\"text-align: left\">Adams</td><td style=\"text-align: left\">General Manager</td><td></td><td></td><td style=\"text-align: right\">1</td></tr><tr><td style=\"text-align: left\">Edwards</td><td style=\"text-align: left\">Sales Manager</td><td style=\"text-align: left\">Adams</td><td style=\"text-align: left\">General Manager</td><td style=\"text-align: right\">2</td></tr><tr><td style=\"text-align: left\">Mitchell</td><td style=\"text-align: left\">IT Manager</td><td style=\"text-align: left\">Adams</td><td style=\"text-align: left\">General Manager</td><td style=\"text-align: right\">2</td></tr><tr><td style=\"text-align: left\">Peacock</td><td style=\"text-align: left\">Sales Support Agent</td><td style=\"text-align: left\">Edwards</td><td style=\"text-align: left\">Sales Manager</td><td style=\"text-align: right\">3</td></tr><tr><td style=\"text-align: left\">Park</td><td style=\"text-align: left\">Sales Support Agent</td><td style=\"text-align: left\">Edwards</td><td style=\"text-align: left\">Sales Manager</td><td style=\"text-align: right\">3</td></tr><tr><td style=\"text-align: left\">Johnson</td><td style=\"text-align: left\">Sales Support Agent</td><td style=\"text-align: left\">Edwards</td><td style=\"text-align: left\">Sales Manager</td><td style=\"text-align: right\">3</td></tr><tr><td style=\"text-align: left\">King</td><td style=\"text-align: left\">IT Staff</td><td style=\"text-align: left\">Mitchell</td><td style=\"text-align: left\">IT Manager</td><td style=\"text-align: right\">3</td></tr><tr><td style=\"text-align: left\">Callahan</td><td style=\"text-align: left\">IT Staff</td><td style=\"text-align: left\">Mitchell</td><td style=\"text-align: left\">IT Manager</td><td style=\"text-align: right\">3</td></tr></tbody></table>"
      ],
      "text/plain": [
       "<IPython.core.display.HTML object>"
      ]
     },
     "execution_count": 18,
     "metadata": {},
     "output_type": "execute_result"
    }
   ],
   "source": [
    "%%sql\n",
    "\n",
    "--# Bonus point challenge answer\n",
    "\n",
    "WITH RECURSIVE Cte AS (\n",
    "    SELECT EmployeeId, LastName, Title, NULL AS SupervisorLastName, NULL AS SupervisorTitle, 1 AS Level\n",
    "    FROM Employee\n",
    "    WHERE ReportsTo IS NULL\n",
    "    UNION ALL\n",
    "    SELECT Employee.EmployeeId, Employee.LastName, Employee.Title, Cte.LastName, Cte.Title, Cte.Level + 1\n",
    "    FROM Employee\n",
    "    JOIN Cte ON Employee.ReportsTo = Cte.EmployeeId\n",
    ")\n",
    "SELECT LastName, Title, SupervisorLastName, SupervisorTitle, Level\n",
    "FROM Cte"
   ]
  },
  {
   "cell_type": "markdown",
   "id": "2b326ccc",
   "metadata": {},
   "source": [
    "### Assignment 3.5 (2 points)"
   ]
  },
  {
   "cell_type": "markdown",
   "id": "950ff8ea",
   "metadata": {},
   "source": [
    "Write an SQL query to return the ID, the last name and the title of all employees that do not support any customers.\n",
    "\n",
    "Return the following columns in the result set: employee ID, last name, title."
   ]
  },
  {
   "cell_type": "code",
   "execution_count": 19,
   "id": "f2d9cbff",
   "metadata": {},
   "outputs": [
    {
     "data": {
      "text/html": [
       "<table><thead><tr><th style=\"text-align: left\">EmployeeId</th><th style=\"text-align: left\">LastName</th><th style=\"text-align: left\">Title</th></tr></thead><tbody><tr><td style=\"text-align: right\">1</td><td style=\"text-align: left\">Adams</td><td style=\"text-align: left\">General Manager</td></tr><tr><td style=\"text-align: right\">2</td><td style=\"text-align: left\">Edwards</td><td style=\"text-align: left\">Sales Manager</td></tr><tr><td style=\"text-align: right\">6</td><td style=\"text-align: left\">Mitchell</td><td style=\"text-align: left\">IT Manager</td></tr><tr><td style=\"text-align: right\">7</td><td style=\"text-align: left\">King</td><td style=\"text-align: left\">IT Staff</td></tr><tr><td style=\"text-align: right\">8</td><td style=\"text-align: left\">Callahan</td><td style=\"text-align: left\">IT Staff</td></tr></tbody></table>"
      ],
      "text/plain": [
       "<IPython.core.display.HTML object>"
      ]
     },
     "execution_count": 19,
     "metadata": {},
     "output_type": "execute_result"
    }
   ],
   "source": [
    "%%sql ANSWER CELL 3.5 (DO NOT REMOVE OR CHANGE THIS LINE)\n",
    "SELECT EmployeeId, LastName, Title\n",
    "FROM Employee\n",
    "WHERE EmployeeId NOT IN (\n",
    "    SELECT SupportRepId FROM Customer\n",
    ")"
   ]
  },
  {
   "cell_type": "markdown",
   "id": "338ea597",
   "metadata": {},
   "source": [
    "### Assignment 3.6 (2 points)"
   ]
  },
  {
   "cell_type": "markdown",
   "id": "f87ed4f0",
   "metadata": {},
   "source": [
    "Write an SQL query to return the ID, the first and last name of all customers that have purchased at least one track in the store, together with the total amount they have spent (for all their purchases). \n",
    "\n",
    "Columns in the result set: customer ID, first name, last name, total amount."
   ]
  },
  {
   "cell_type": "code",
   "execution_count": 20,
   "id": "6af5b257",
   "metadata": {},
   "outputs": [
    {
     "data": {
      "text/html": [
       "<table><thead><tr><th style=\"text-align: left\">CustomerId</th><th style=\"text-align: left\">FirstName</th><th style=\"text-align: left\">LastName</th><th style=\"text-align: left\">Amount</th></tr></thead><tbody><tr><td style=\"text-align: right\">1</td><td style=\"text-align: left\">Luís</td><td style=\"text-align: left\">Gonçalves</td><td style=\"text-align: right\">39.62</td></tr><tr><td style=\"text-align: right\">2</td><td style=\"text-align: left\">Leonie</td><td style=\"text-align: left\">Köhler</td><td style=\"text-align: right\">37.620000000000005</td></tr><tr><td style=\"text-align: right\">3</td><td style=\"text-align: left\">François</td><td style=\"text-align: left\">Tremblay</td><td style=\"text-align: right\">39.62</td></tr><tr><td style=\"text-align: right\">4</td><td style=\"text-align: left\">Bjørn</td><td style=\"text-align: left\">Hansen</td><td style=\"text-align: right\">39.62</td></tr><tr><td style=\"text-align: right\">5</td><td style=\"text-align: left\">František</td><td style=\"text-align: left\">Wichterlová</td><td style=\"text-align: right\">40.620000000000005</td></tr><tr><td style=\"text-align: right\">6</td><td style=\"text-align: left\">Helena</td><td style=\"text-align: left\">Holý</td><td style=\"text-align: right\">49.620000000000005</td></tr><tr><td style=\"text-align: right\">7</td><td style=\"text-align: left\">Astrid</td><td style=\"text-align: left\">Gruber</td><td style=\"text-align: right\">42.62</td></tr><tr><td style=\"text-align: right\">8</td><td style=\"text-align: left\">Daan</td><td style=\"text-align: left\">Peeters</td><td style=\"text-align: right\">37.62</td></tr><tr><td style=\"text-align: right\">9</td><td style=\"text-align: left\">Kara</td><td style=\"text-align: left\">Nielsen</td><td style=\"text-align: right\">37.620000000000005</td></tr><tr><td style=\"text-align: right\">10</td><td style=\"text-align: left\">Eduardo</td><td style=\"text-align: left\">Martins</td><td style=\"text-align: right\">37.620000000000005</td></tr><tr><td style=\"text-align: right\">11</td><td style=\"text-align: left\">Alexandre</td><td style=\"text-align: left\">Rocha</td><td style=\"text-align: right\">37.620000000000005</td></tr><tr><td style=\"text-align: right\">12</td><td style=\"text-align: left\">Roberto</td><td style=\"text-align: left\">Almeida</td><td style=\"text-align: right\">37.62</td></tr><tr><td style=\"text-align: right\">13</td><td style=\"text-align: left\">Fernanda</td><td style=\"text-align: left\">Ramos</td><td style=\"text-align: right\">37.620000000000005</td></tr><tr><td style=\"text-align: right\">14</td><td style=\"text-align: left\">Mark</td><td style=\"text-align: left\">Philips</td><td style=\"text-align: right\">37.620000000000005</td></tr><tr><td style=\"text-align: right\">15</td><td style=\"text-align: left\">Jennifer</td><td style=\"text-align: left\">Peterson</td><td style=\"text-align: right\">38.620000000000005</td></tr><tr><td style=\"text-align: right\">16</td><td style=\"text-align: left\">Frank</td><td style=\"text-align: left\">Harris</td><td style=\"text-align: right\">37.62</td></tr><tr><td style=\"text-align: right\">17</td><td style=\"text-align: left\">Jack</td><td style=\"text-align: left\">Smith</td><td style=\"text-align: right\">39.620000000000005</td></tr><tr><td style=\"text-align: right\">18</td><td style=\"text-align: left\">Michelle</td><td style=\"text-align: left\">Brooks</td><td style=\"text-align: right\">37.620000000000005</td></tr><tr><td style=\"text-align: right\">19</td><td style=\"text-align: left\">Tim</td><td style=\"text-align: left\">Goyer</td><td style=\"text-align: right\">38.620000000000005</td></tr><tr><td style=\"text-align: right\">20</td><td style=\"text-align: left\">Dan</td><td style=\"text-align: left\">Miller</td><td style=\"text-align: right\">39.62</td></tr><tr><td style=\"text-align: right\">21</td><td style=\"text-align: left\">Kathy</td><td style=\"text-align: left\">Chase</td><td style=\"text-align: right\">37.62</td></tr><tr><td style=\"text-align: right\">22</td><td style=\"text-align: left\">Heather</td><td style=\"text-align: left\">Leacock</td><td style=\"text-align: right\">39.62</td></tr><tr><td style=\"text-align: right\">23</td><td style=\"text-align: left\">John</td><td style=\"text-align: left\">Gordon</td><td style=\"text-align: right\">37.62</td></tr><tr><td style=\"text-align: right\">24</td><td style=\"text-align: left\">Frank</td><td style=\"text-align: left\">Ralston</td><td style=\"text-align: right\">43.62</td></tr><tr><td style=\"text-align: right\">25</td><td style=\"text-align: left\">Victor</td><td style=\"text-align: left\">Stevens</td><td style=\"text-align: right\">42.62</td></tr><tr><td style=\"text-align: right\">26</td><td style=\"text-align: left\">Richard</td><td style=\"text-align: left\">Cunningham</td><td style=\"text-align: right\">47.620000000000005</td></tr><tr><td style=\"text-align: right\">27</td><td style=\"text-align: left\">Patrick</td><td style=\"text-align: left\">Gray</td><td style=\"text-align: right\">37.620000000000005</td></tr><tr><td style=\"text-align: right\">28</td><td style=\"text-align: left\">Julia</td><td style=\"text-align: left\">Barnett</td><td style=\"text-align: right\">43.620000000000005</td></tr><tr><td style=\"text-align: right\">29</td><td style=\"text-align: left\">Robert</td><td style=\"text-align: left\">Brown</td><td style=\"text-align: right\">37.62</td></tr><tr><td style=\"text-align: right\">30</td><td style=\"text-align: left\">Edward</td><td style=\"text-align: left\">Francis</td><td style=\"text-align: right\">37.620000000000005</td></tr><tr><td style=\"text-align: right\">31</td><td style=\"text-align: left\">Martha</td><td style=\"text-align: left\">Silk</td><td style=\"text-align: right\">37.620000000000005</td></tr><tr><td style=\"text-align: right\">32</td><td style=\"text-align: left\">Aaron</td><td style=\"text-align: left\">Mitchell</td><td style=\"text-align: right\">37.620000000000005</td></tr><tr><td style=\"text-align: right\">33</td><td style=\"text-align: left\">Ellie</td><td style=\"text-align: left\">Sullivan</td><td style=\"text-align: right\">37.62</td></tr><tr><td style=\"text-align: right\">34</td><td style=\"text-align: left\">João</td><td style=\"text-align: left\">Fernandes</td><td style=\"text-align: right\">39.620000000000005</td></tr><tr><td style=\"text-align: right\">35</td><td style=\"text-align: left\">Madalena</td><td style=\"text-align: left\">Sampaio</td><td style=\"text-align: right\">37.620000000000005</td></tr><tr><td style=\"text-align: right\">36</td><td style=\"text-align: left\">Hannah</td><td style=\"text-align: left\">Schneider</td><td style=\"text-align: right\">37.620000000000005</td></tr><tr><td style=\"text-align: right\">37</td><td style=\"text-align: left\">Fynn</td><td style=\"text-align: left\">Zimmermann</td><td style=\"text-align: right\">43.62</td></tr><tr><td style=\"text-align: right\">38</td><td style=\"text-align: left\">Niklas</td><td style=\"text-align: left\">Schröder</td><td style=\"text-align: right\">37.620000000000005</td></tr><tr><td style=\"text-align: right\">39</td><td style=\"text-align: left\">Camille</td><td style=\"text-align: left\">Bernard</td><td style=\"text-align: right\">38.620000000000005</td></tr><tr><td style=\"text-align: right\">40</td><td style=\"text-align: left\">Dominique</td><td style=\"text-align: left\">Lefebvre</td><td style=\"text-align: right\">38.620000000000005</td></tr><tr><td style=\"text-align: right\">41</td><td style=\"text-align: left\">Marc</td><td style=\"text-align: left\">Dubois</td><td style=\"text-align: right\">37.620000000000005</td></tr><tr><td style=\"text-align: right\">42</td><td style=\"text-align: left\">Wyatt</td><td style=\"text-align: left\">Girard</td><td style=\"text-align: right\">39.62</td></tr><tr><td style=\"text-align: right\">43</td><td style=\"text-align: left\">Isabelle</td><td style=\"text-align: left\">Mercier</td><td style=\"text-align: right\">40.620000000000005</td></tr><tr><td style=\"text-align: right\">44</td><td style=\"text-align: left\">Terhi</td><td style=\"text-align: left\">Hämäläinen</td><td style=\"text-align: right\">41.620000000000005</td></tr><tr><td style=\"text-align: right\">45</td><td style=\"text-align: left\">Ladislav</td><td style=\"text-align: left\">Kovács</td><td style=\"text-align: right\">45.62</td></tr><tr><td style=\"text-align: right\">46</td><td style=\"text-align: left\">Hugh</td><td style=\"text-align: left\">O&#x27;Reilly</td><td style=\"text-align: right\">45.62</td></tr><tr><td style=\"text-align: right\">47</td><td style=\"text-align: left\">Lucas</td><td style=\"text-align: left\">Mancini</td><td style=\"text-align: right\">37.620000000000005</td></tr><tr><td style=\"text-align: right\">48</td><td style=\"text-align: left\">Johannes</td><td style=\"text-align: left\">Van der Berg</td><td style=\"text-align: right\">40.62</td></tr><tr><td style=\"text-align: right\">49</td><td style=\"text-align: left\">Stanisław</td><td style=\"text-align: left\">Wójcik</td><td style=\"text-align: right\">37.620000000000005</td></tr><tr><td style=\"text-align: right\">50</td><td style=\"text-align: left\">Enrique</td><td style=\"text-align: left\">Muñoz</td><td style=\"text-align: right\">37.62</td></tr><tr><td style=\"text-align: right\">51</td><td style=\"text-align: left\">Joakim</td><td style=\"text-align: left\">Johansson</td><td style=\"text-align: right\">38.620000000000005</td></tr><tr><td style=\"text-align: right\">52</td><td style=\"text-align: left\">Emma</td><td style=\"text-align: left\">Jones</td><td style=\"text-align: right\">37.620000000000005</td></tr><tr><td style=\"text-align: right\">53</td><td style=\"text-align: left\">Phil</td><td style=\"text-align: left\">Hughes</td><td style=\"text-align: right\">37.620000000000005</td></tr><tr><td style=\"text-align: right\">54</td><td style=\"text-align: left\">Steve</td><td style=\"text-align: left\">Murray</td><td style=\"text-align: right\">37.62</td></tr><tr><td style=\"text-align: right\">55</td><td style=\"text-align: left\">Mark</td><td style=\"text-align: left\">Taylor</td><td style=\"text-align: right\">37.620000000000005</td></tr><tr><td style=\"text-align: right\">56</td><td style=\"text-align: left\">Diego</td><td style=\"text-align: left\">Gutiérrez</td><td style=\"text-align: right\">37.620000000000005</td></tr><tr><td style=\"text-align: right\">57</td><td style=\"text-align: left\">Luis</td><td style=\"text-align: left\">Rojas</td><td style=\"text-align: right\">46.62</td></tr><tr><td style=\"text-align: right\">58</td><td style=\"text-align: left\">Manoj</td><td style=\"text-align: left\">Pareek</td><td style=\"text-align: right\">38.620000000000005</td></tr><tr><td style=\"text-align: right\">59</td><td style=\"text-align: left\">Puja</td><td style=\"text-align: left\">Srivastava</td><td style=\"text-align: right\">36.64</td></tr></tbody></table>"
      ],
      "text/plain": [
       "<IPython.core.display.HTML object>"
      ]
     },
     "execution_count": 20,
     "metadata": {},
     "output_type": "execute_result"
    }
   ],
   "source": [
    "%%sql ANSWER CELL 3.6 (DO NOT REMOVE OR CHANGE THIS LINE)\n",
    "SELECT Customer.CustomerId, Customer.FirstName, Customer.LastName, SUM(Invoice.Total) AS Amount\n",
    "FROM Customer\n",
    "JOIN Invoice ON Customer.CustomerId = Invoice.CustomerId\n",
    "GROUP BY Customer.CustomerId"
   ]
  },
  {
   "cell_type": "markdown",
   "id": "6118bac8",
   "metadata": {},
   "source": [
    "### Assignment 3.7 (2 points)"
   ]
  },
  {
   "cell_type": "markdown",
   "id": "fa773416",
   "metadata": {},
   "source": [
    "Write an SQL query to select the ID and the name of playlists, together with their total duration in minutes.\n",
    "\n",
    "Do not include playlists shorter than 120 minutes.\n",
    "\n",
    "Sort the playlists by the duration in the descending order.\n",
    "\n",
    "Columns in the result set: playlist ID, name, duration."
   ]
  },
  {
   "cell_type": "code",
   "execution_count": 21,
   "id": "f1853caf",
   "metadata": {},
   "outputs": [
    {
     "data": {
      "text/html": [
       "<table><thead><tr><th style=\"text-align: left\">PlaylistId</th><th style=\"text-align: left\">Name</th><th style=\"text-align: left\">Duration</th></tr></thead><tbody><tr><td style=\"text-align: right\">8</td><td style=\"text-align: left\">Music</td><td style=\"text-align: right\">14628.051383333333</td></tr><tr><td style=\"text-align: right\">1</td><td style=\"text-align: left\">Music</td><td style=\"text-align: right\">14628.051383333333</td></tr><tr><td style=\"text-align: right\">10</td><td style=\"text-align: left\">TV Shows</td><td style=\"text-align: right\">8351.582616666667</td></tr><tr><td style=\"text-align: right\">3</td><td style=\"text-align: left\">TV Shows</td><td style=\"text-align: right\">8351.582616666667</td></tr><tr><td style=\"text-align: right\">5</td><td style=\"text-align: left\">90’s Music</td><td style=\"text-align: right\">6645.085883333333</td></tr><tr><td style=\"text-align: right\">12</td><td style=\"text-align: left\">Classical</td><td style=\"text-align: right\">362.8432</td></tr><tr><td style=\"text-align: right\">11</td><td style=\"text-align: left\">Brazilian Music</td><td style=\"text-align: right\">158.10931666666664</td></tr><tr><td style=\"text-align: right\">17</td><td style=\"text-align: left\">Heavy Metal Classic</td><td style=\"text-align: right\">136.77186666666665</td></tr><tr><td style=\"text-align: right\">14</td><td style=\"text-align: left\">Classical 101 - Next Steps</td><td style=\"text-align: right\">126.25085</td></tr><tr><td style=\"text-align: right\">15</td><td style=\"text-align: left\">Classical 101 - The Basics</td><td style=\"text-align: right\">123.99685</td></tr></tbody></table>"
      ],
      "text/plain": [
       "<IPython.core.display.HTML object>"
      ]
     },
     "execution_count": 21,
     "metadata": {},
     "output_type": "execute_result"
    }
   ],
   "source": [
    "%%sql ANSWER CELL 3.7 (DO NOT REMOVE OR CHANGE THIS LINE)\n",
    "\n",
    "SELECT P.PlaylistId, P.Name, SUM(Milliseconds) / 1000. / 60 AS Duration\n",
    "FROM Playlist P\n",
    "JOIN PlaylistTrack PT ON PT.PlaylistId = P.PlaylistId\n",
    "JOIN Track T ON PT.TrackID = T.TrackID\n",
    "GROUP BY P.PlaylistId\n",
    "HAVING Duration >= 120\n",
    "ORDER BY Duration DESC"
   ]
  },
  {
   "cell_type": "markdown",
   "id": "50ca444e",
   "metadata": {},
   "source": [
    "### Assignment 3.8 (2 points)"
   ]
  },
  {
   "cell_type": "markdown",
   "id": "1e105d2f",
   "metadata": {},
   "source": [
    "As you might have noticed in the result set of the previous task, some of the playlists do not have unique names. Write an SQL query to select the ID and the title of all playlists that do not have unique names.\n",
    "\n",
    "Columns to select: all columns in the playlist table."
   ]
  },
  {
   "cell_type": "code",
   "execution_count": 22,
   "id": "5cdcbbf1",
   "metadata": {},
   "outputs": [
    {
     "data": {
      "text/html": [
       "<table><thead><tr><th style=\"text-align: left\">PlaylistId</th><th style=\"text-align: left\">Name</th></tr></thead><tbody><tr><td style=\"text-align: right\">4</td><td style=\"text-align: left\">Audiobooks</td></tr><tr><td style=\"text-align: right\">6</td><td style=\"text-align: left\">Audiobooks</td></tr><tr><td style=\"text-align: right\">2</td><td style=\"text-align: left\">Movies</td></tr><tr><td style=\"text-align: right\">7</td><td style=\"text-align: left\">Movies</td></tr><tr><td style=\"text-align: right\">1</td><td style=\"text-align: left\">Music</td></tr><tr><td style=\"text-align: right\">8</td><td style=\"text-align: left\">Music</td></tr><tr><td style=\"text-align: right\">3</td><td style=\"text-align: left\">TV Shows</td></tr><tr><td style=\"text-align: right\">10</td><td style=\"text-align: left\">TV Shows</td></tr></tbody></table>"
      ],
      "text/plain": [
       "<IPython.core.display.HTML object>"
      ]
     },
     "execution_count": 22,
     "metadata": {},
     "output_type": "execute_result"
    }
   ],
   "source": [
    "%%sql ANSWER CELL 3.8 (DO NOT REMOVE OR CHANGE THIS LINE)\n",
    "\n",
    "SELECT *\n",
    "FROM Playlist\n",
    "WHERE Name IN (\n",
    "    SELECT Name FROM Playlist\n",
    "    GROUP BY Name\n",
    "    HAVING count(*) > 1\n",
    ")\n",
    "ORDER BY Name"
   ]
  },
  {
   "cell_type": "markdown",
   "id": "7754d160",
   "metadata": {},
   "source": [
    "### Assignment 3.9 (2 points)"
   ]
  },
  {
   "cell_type": "markdown",
   "id": "8a14467a",
   "metadata": {},
   "source": [
    "Write an SQL query to return the name of a city (or cities if there are several of them) where most of the employees live, together with the number of employees living there.\n",
    "\n",
    "Columns in the result set: city, the number of employees living there."
   ]
  },
  {
   "cell_type": "code",
   "execution_count": 23,
   "id": "6dca4328",
   "metadata": {
    "scrolled": true
   },
   "outputs": [
    {
     "data": {
      "text/html": [
       "<table><thead><tr><th style=\"text-align: left\">City</th><th style=\"text-align: left\">Count</th></tr></thead><tbody><tr><td style=\"text-align: left\">Calgary</td><td style=\"text-align: right\">5</td></tr></tbody></table>"
      ],
      "text/plain": [
       "<IPython.core.display.HTML object>"
      ]
     },
     "execution_count": 23,
     "metadata": {},
     "output_type": "execute_result"
    }
   ],
   "source": [
    "%%sql ANSWER CELL 3.9 (DO NOT REMOVE OR CHANGE THIS LINE)\n",
    "\n",
    "WITH Cities AS (\n",
    "    SELECT City, count(*) AS Count\n",
    "    FROM Employee\n",
    "    GROUP BY City\n",
    ")\n",
    "SELECT City, Count\n",
    "FROM Cities\n",
    "WHERE Count = (SELECT max(Count) FROM Cities)"
   ]
  },
  {
   "cell_type": "markdown",
   "id": "5a3ad927",
   "metadata": {},
   "source": [
    "### Assignment 3.10 (2 points)"
   ]
  },
  {
   "cell_type": "markdown",
   "id": "325a407f",
   "metadata": {},
   "source": [
    "a) Write an INSERT statement that fails due to the referential integrity.  \n",
    "b) Using your example, explain what referential integrity means and why the statement failed."
   ]
  },
  {
   "cell_type": "code",
   "execution_count": 24,
   "id": "f01e6904",
   "metadata": {
    "scrolled": true
   },
   "outputs": [
    {
     "name": "stdout",
     "output_type": "stream",
     "text": [
      "\u001b[31mError: FOREIGN KEY constraint failed\u001b[0m\n"
     ]
    }
   ],
   "source": [
    "%%sql ANSWER CELL 3.10a (DO NOT REMOVE OR CHANGE THIS LINE)\n",
    "\n",
    "INSERT INTO Album VALUES (348, 'My Album', 276)"
   ]
  },
  {
   "cell_type": "raw",
   "id": "e0f1cc08",
   "metadata": {},
   "source": [
    "-- ANSWER CELL 3.10b (DO NOT REMOVE OR CHANGE THIS LINE)\n",
    "\n",
    "Add your explanation below:\n",
    "\n",
    "Referential integrity means that each foreign key value (unless NULL) must reference an existing row in the referenced table (by using the primary key value in that row). In the example above, we try to refer to the artist with PK 276, but there is not such artist."
   ]
  },
  {
   "cell_type": "markdown",
   "id": "32d6d68e",
   "metadata": {},
   "source": [
    "### Used resources\n",
    "\n",
    "Include URLs of online resources that you have used to solve the exercises in this section:"
   ]
  },
  {
   "cell_type": "raw",
   "id": "2873756c",
   "metadata": {},
   "source": [
    "\n",
    "\n",
    "\n",
    "\n"
   ]
  },
  {
   "cell_type": "markdown",
   "id": "de4f5fc1",
   "metadata": {},
   "source": [
    "## Appendix A. Database schema\n",
    "\n",
    "Note: `NVARCHAR`, `INTEGER` and `NUMERIC` are synonymous with `VARCHAR`, `INT` and `DECIMAL`.\n",
    "\n",
    "```sql\n",
    "CREATE TABLE Album\n",
    "(\n",
    "   AlbumId INTEGER NOT NULL,\n",
    "   Title NVARCHAR(160) NOT NULL,\n",
    "   ArtistId INTEGER NOT NULL,\n",
    "   PRIMARY KEY (AlbumId),\n",
    "   FOREIGN KEY (ArtistId) REFERENCES Artist (ArtistId)\n",
    ");\n",
    "CREATE TABLE Artist\n",
    "(\n",
    "   ArtistId INTEGER NOT NULL,\n",
    "   Name NVARCHAR(120),\n",
    "   PRIMARY KEY (ArtistId)\n",
    ");\n",
    "CREATE TABLE Customer\n",
    "(\n",
    "   CustomerId INTEGER NOT NULL,\n",
    "   FirstName NVARCHAR(40) NOT NULL,\n",
    "   LastName NVARCHAR(20) NOT NULL,\n",
    "   Company NVARCHAR(80),\n",
    "   Address NVARCHAR(70),\n",
    "   City NVARCHAR(40),\n",
    "   State NVARCHAR(40),\n",
    "   Country NVARCHAR(40),\n",
    "   PostalCode NVARCHAR(10),\n",
    "   Phone NVARCHAR(24),\n",
    "   Fax NVARCHAR(24),\n",
    "   Email NVARCHAR(60) NOT NULL,\n",
    "   SupportRepId INTEGER,\n",
    "   PRIMARY KEY (CustomerId),\n",
    "   FOREIGN KEY (SupportRepId) REFERENCES Employee (EmployeeId)\n",
    ");\n",
    "CREATE TABLE Employee\n",
    "(\n",
    "   EmployeeId INTEGER NOT NULL,\n",
    "   LastName NVARCHAR(20) NOT NULL,\n",
    "   FirstName NVARCHAR(20) NOT NULL,\n",
    "   Title NVARCHAR(30),\n",
    "   ReportsTo INTEGER,\n",
    "   BirthDate DATETIME,\n",
    "   HireDate DATETIME,\n",
    "   Address NVARCHAR(70),\n",
    "   City NVARCHAR(40),\n",
    "   State NVARCHAR(40),\n",
    "   Country NVARCHAR(40),\n",
    "   PostalCode NVARCHAR(10),\n",
    "   Phone NVARCHAR(24),\n",
    "   Fax NVARCHAR(24),\n",
    "   Email NVARCHAR(60),\n",
    "   PRIMARY KEY (EmployeeId),\n",
    "   FOREIGN KEY (ReportsTo) REFERENCES Employee (EmployeeId)\n",
    ");\n",
    "CREATE TABLE Genre\n",
    "(\n",
    "   GenreId INTEGER NOT NULL,\n",
    "   Name NVARCHAR(120),\n",
    "   PRIMARY KEY (GenreId)\n",
    ");\n",
    "5\n",
    "CREATE TABLE Invoice\n",
    "(\n",
    "   InvoiceId INTEGER NOT NULL,\n",
    "   CustomerId INTEGER NOT NULL,\n",
    "   InvoiceDate DATETIME NOT NULL,\n",
    "   BillingAddress NVARCHAR(70),\n",
    "   BillingCity NVARCHAR(40),\n",
    "   BillingState NVARCHAR(40),\n",
    "   BillingCountry NVARCHAR(40),\n",
    "   BillingPostalCode NVARCHAR(10),\n",
    "   Total NUMERIC(10,2) NOT NULL,\n",
    "   PRIMARY KEY (InvoiceId),\n",
    "   FOREIGN KEY (CustomerId) REFERENCES Customer (CustomerId)\n",
    ");\n",
    "CREATE TABLE InvoiceLine\n",
    "(\n",
    "   InvoiceLineId INTEGER NOT NULL,\n",
    "   InvoiceId INTEGER NOT NULL,\n",
    "   TrackId INTEGER NOT NULL,\n",
    "   UnitPrice NUMERIC(10,2) NOT NULL,\n",
    "   Quantity INTEGER NOT NULL,\n",
    "   PRIMARY KEY (InvoiceLineId),\n",
    "   FOREIGN KEY (InvoiceId) REFERENCES Invoice (InvoiceId),\n",
    "   FOREIGN KEY (TrackId) REFERENCES Track (TrackId)\n",
    ");\n",
    "CREATE TABLE MediaType\n",
    "(\n",
    "   MediaTypeId INTEGER NOT NULL,\n",
    "   Name NVARCHAR(120),\n",
    "   PRIMARY KEY (MediaTypeId)\n",
    ");\n",
    "CREATE TABLE Playlist\n",
    "(\n",
    "   PlaylistId INTEGER NOT NULL,\n",
    "   Name NVARCHAR(120),\n",
    "   PRIMARY KEY (PlaylistId)\n",
    ");\n",
    "CREATE TABLE PlaylistTrack\n",
    "(\n",
    "   PlaylistId INTEGER NOT NULL,\n",
    "   TrackId INTEGER NOT NULL,\n",
    "   PRIMARY KEY (PlaylistId, TrackId),\n",
    "   FOREIGN KEY (PlaylistId) REFERENCES Playlist (PlaylistId),\n",
    "   FOREIGN KEY (TrackId) REFERENCES Track (TrackId)\n",
    ");\n",
    "CREATE TABLE Track\n",
    "(\n",
    "   TrackId INTEGER NOT NULL,\n",
    "   Name NVARCHAR(200) NOT NULL,\n",
    "   AlbumId INTEGER,\n",
    "   MediaTypeId INTEGER NOT NULL,\n",
    "   GenreId INTEGER,\n",
    "   Composer NVARCHAR(220),\n",
    "   Milliseconds INTEGER NOT NULL,\n",
    "   Bytes INTEGER,\n",
    "   UnitPrice NUMERIC(10,2) NOT NULL,\n",
    "   PRIMARY KEY (TrackId),\n",
    "   FOREIGN KEY (AlbumId) REFERENCES Album (AlbumId),\n",
    "   FOREIGN KEY (GenreId) REFERENCES Genre (GenreId),\n",
    "   FOREIGN KEY (MediaTypeId) REFERENCES MediaType (MediaTypeId)\n",
    ");\n",
    "```"
   ]
  }
 ],
 "metadata": {
  "kernelspec": {
   "display_name": "Python 3 (ipykernel)",
   "language": "python",
   "name": "python3"
  },
  "language_info": {
   "codemirror_mode": {
    "name": "ipython",
    "version": 3
   },
   "file_extension": ".py",
   "mimetype": "text/x-python",
   "name": "python",
   "nbconvert_exporter": "python",
   "pygments_lexer": "ipython3",
   "version": "3.8.13"
  }
 },
 "nbformat": 4,
 "nbformat_minor": 5
}
